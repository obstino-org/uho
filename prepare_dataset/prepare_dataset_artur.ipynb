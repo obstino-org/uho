{
 "cells": [
  {
   "cell_type": "code",
   "execution_count": 45,
   "metadata": {},
   "outputs": [
    {
     "name": "stdout",
     "output_type": "stream",
     "text": [
      "Importing libraries\n"
     ]
    }
   ],
   "source": [
    "print(\"Importing libraries\")\n",
    "import datasets\n",
    "from datasets import load_dataset, DatasetDict\n",
    "from huggingface_hub import login\n",
    "from transformers import WhisperFeatureExtractor\n",
    "from transformers import WhisperTokenizer\n",
    "#from transformers import WhisperProcessor\n",
    "from datasets import Audio\n",
    "\n",
    "from datasets import Dataset, DatasetDict\n",
    "import pandas as pd\n",
    "import gc\n",
    "\n",
    "#import librosa\n",
    "import os\n",
    "import tokenize\n",
    "import re\n",
    "import random\n",
    "from datasets.arrow_writer import ArrowWriter\n",
    "\n",
    "import numpy as np\n",
    "from pydub import AudioSegment\n",
    "\n",
    "whisper_model_string = \"whisper-base\"\n",
    "#model_repo_dir = \"./whisper-base-sl-artur-fulltest\"\n",
    "\n",
    "train_proportion = 0.90\n",
    "valid_proportion = 0.10\n",
    "#test_proportion = 0.05\n",
    "\n",
    "num_map_threads = 1\n",
    "samples_per_shard = 500    # number of processed audio samples (log-Mel + labels) per dataset file\n",
    "\n",
    "cache_base_path = \"/mnt/e/datasets/Artur_1_0_full/cache/\"\n",
    "train_cache_path = \"/mnt/e/datasets/Artur_1_0_full/cache/train_cache.tmp\"\n",
    "valid_cache_path = \"/mnt/e/datasets/Artur_1_0_full/cache/valid_cache.tmp\"\n",
    "test_cache_path = \"/mnt/e/datasets/Artur_1_0_full/cache/test_cache.tmp\"\n",
    "\n",
    "dataset_save_path = \"/mnt/e/datasets/Artur_1_0_full/processed_dataset/\"\n",
    "train_dataset_save_path = os.path.join(dataset_save_path, \"train\")\n",
    "valid_dataset_save_path = os.path.join(dataset_save_path, \"valid\")\n",
    "test_dataset_save_path = os.path.join(dataset_save_path, \"test\")\n",
    "\n",
    "feature_extractor = WhisperFeatureExtractor.from_pretrained(\"openai/\" + whisper_model_string)\n",
    "tokenizer = WhisperTokenizer.from_pretrained(\"openai/\" + whisper_model_string, language=\"Slovenian\", task=\"transcribe\", predict_timestamps=True)\n",
    "#processor = WhisperProcessor.from_pretrained(\"openai/\" + whisper_model_string, language=\"Slovenian\", task=\"transcribe\")"
   ]
  },
  {
   "cell_type": "code",
   "execution_count": 46,
   "metadata": {},
   "outputs": [],
   "source": [
    "def to_timestamp_token(time):\n",
    "    time = np.clip(time, a_min=0.0, a_max=30.0)\n",
    "    time = np.floor(time/0.02) * 0.02   # make timestamp token be in increments of 0.02 second\n",
    "    token = \"<|{:.2f}|>\".format(time)\n",
    "    return token\n",
    "\n",
    "def prepare_dataset(batch):\n",
    "    # load and resample audio data from 48 to 16kHz\n",
    "    audio = batch[\"audio\"]\n",
    "    # compute log-Mel input features from input audio array\n",
    "    batch[\"input_features\"] = feature_extractor(audio[\"array\"], sampling_rate=audio[\"sampling_rate\"]).input_features[0]\n",
    "    # encode target text to label ids\n",
    "    batch[\"labels\"] = tokenizer(batch[\"sentence\"]).input_ids\n",
    "    del batch[\"audio\"]\n",
    "\n",
    "    return batch\n",
    "\n",
    "def resample_and_normalize_audio(file_path, target_sr=16000):\n",
    "    # Load the audio file using pydub\n",
    "    audio = AudioSegment.from_file(file_path)\n",
    "    # Resample the audio to the target sampling rate (target_sr)\n",
    "    audio = audio.set_frame_rate(target_sr)\n",
    "    # Extract the NumPy array of audio samples\n",
    "    audio_array = audio.get_array_of_samples()\n",
    "    # Normalize the audio to the range [-1, 1]\n",
    "    audio_array = np.array(audio.get_array_of_samples())\n",
    "    # Normalize the audio to the range [-1, 1]\n",
    "    audio_array = audio_array.astype('float32') / 32768.0\n",
    "    return audio_array\n",
    "\n",
    "def process(audio_samples, test=False):\n",
    "    # receives as an input a batch of {'audio': {'array': audio_data, 'sampling_rate': sr}, 'sentence': sentence}\n",
    "    # returns a batch of {'input_features': log_mel_features, 'labels': input_ids}\n",
    "\n",
    "    \"\"\"\n",
    "    num_train = int(len(audio_samples) * train_proportion)\n",
    "    num_valid = int(len(audio_samples) * valid_proportion)\n",
    "    num_test = len(audio_samples) - num_train - num_valid\n",
    "    \"\"\"\n",
    "    \n",
    "    if test==True:\n",
    "        num_test = len(audio_samples)\n",
    "    else:\n",
    "        num_train = int(len(audio_samples) * train_proportion)\n",
    "        num_valid = len(audio_samples) - num_train\n",
    "    \n",
    "    tmp_dataset = DatasetDict()\n",
    "    \"\"\"\n",
    "    tmp_dataset[\"train\"] = Dataset.from_pandas(pd.DataFrame(audio_samples[0:num_train]))\n",
    "    tmp_dataset[\"valid\"] = Dataset.from_pandas(pd.DataFrame(audio_samples[num_train:num_train+num_valid]))\n",
    "    tmp_dataset[\"test\"] = Dataset.from_pandas(pd.DataFrame(audio_samples[(num_train+num_valid):]))\n",
    "    out_dataset = tmp_dataset.map(prepare_dataset, remove_columns=tmp_dataset[\"train\"].column_names, num_proc=num_map_threads, cache_file_names={\"train\":train_cache_path, \"valid\":valid_cache_path, \"test\":test_cache_path})\n",
    "    \"\"\"\n",
    "    if test == True:\n",
    "        tmp_dataset[\"test\"] = Dataset.from_pandas(pd.DataFrame(audio_samples[0:num_test]))\n",
    "        out_dataset = tmp_dataset.map(prepare_dataset, remove_columns=tmp_dataset[\"test\"].column_names, num_proc=num_map_threads, cache_file_names={\"test\":test_cache_path})\n",
    "    else:\n",
    "        tmp_dataset[\"train\"] = Dataset.from_pandas(pd.DataFrame(audio_samples[0:num_train]))\n",
    "        tmp_dataset[\"valid\"] = Dataset.from_pandas(pd.DataFrame(audio_samples[num_train:]))\n",
    "        out_dataset = tmp_dataset.map(prepare_dataset, remove_columns=tmp_dataset[\"train\"].column_names, num_proc=num_map_threads, cache_file_names={\"train\":train_cache_path, \"valid\":valid_cache_path})\n",
    "    \n",
    "    [os.remove(os.path.join(cache_base_path, file_name)) for file_name in os.listdir(cache_base_path)]\n",
    "    return out_dataset\n",
    "\n",
    "    \n",
    "def create_audio_sample(audio_samples, sampling_rate, sentence):\n",
    "    return {\n",
    "        'audio': {\n",
    "            'array': audio_samples,\n",
    "            'sampling_rate': sampling_rate,\n",
    "        },\n",
    "        'sentence': sentence,\n",
    "    }\n",
    "\n",
    "def find_time_transcript(tr_path):\n",
    "    with open(tr_path, 'r') as file:\n",
    "        tr_content = file.read()\n",
    "\n",
    "    time_transcript_dict = dict({\"time1\": [], \"time2\": [], \"transcript\": [], \"len\": 0})\n",
    "\n",
    "    match = re.search(r\"startTime=\\\"0\\\" endTime=\\\"([^\\\"]+)\\\"\", tr_content)\n",
    "    if match == None:\n",
    "        return time_transcript_dict\n",
    "    first_end_time = float(match.group(1))\n",
    "\n",
    "    found_second_time = True\n",
    "\n",
    "    while True:\n",
    "        match1 = re.search(\"<Sync time=\\\"([^\\\"]+)\\\"/>\\n(.+)\", tr_content)\n",
    "        if match1 == None:\n",
    "            break\n",
    "\n",
    "        # We make use of \"<Background time\" tag which is often followed by text\n",
    "        match1_bg = re.search(\"<Background time=\\\"([^\\\"]+)\\\".*\\n(.+)\", tr_content)\n",
    "        \n",
    "        if match1_bg != None:\n",
    "            time1_bg = float(match1_bg.group(1))\n",
    "            transcript_bg = match1_bg.group(2)\n",
    "        \n",
    "        time1 = float(match1.group(1))\n",
    "        transcript = match1.group(2)\n",
    "\n",
    "        if match1_bg != None:\n",
    "            if time1_bg < time1:\n",
    "                time1 = time1_bg\n",
    "                match1 = match1_bg\n",
    "                transcript = transcript_bg\n",
    "\n",
    "        # Continue normally forward\n",
    "\n",
    "        if transcript[0] == \"<\":\n",
    "            tr_content = tr_content[match1.end(2):]\n",
    "            continue\n",
    "\n",
    "        tr_content = tr_content[match1.end(2):]\n",
    "        if len(tr_content) == 0:\n",
    "            break\n",
    "        \n",
    "        match2 = re.search(\"<Sync time=\\\"([^\\\"]+)\\\"/>\", tr_content)\n",
    "        if match2 == None:\n",
    "            if time1 == 0.0:\n",
    "                time2 = first_end_time\n",
    "                found_second_time = False\n",
    "        else:\n",
    "            time2 = float(match2.group(1))\n",
    "            #tr_content = tr_content[match2.end(1):]\n",
    "            #if len(tr_content) == 0:\n",
    "            #    break\n",
    "        \n",
    "        time_transcript_dict[\"time1\"].append(time1)\n",
    "        time_transcript_dict[\"time2\"].append(time2)\n",
    "        time_transcript_dict[\"transcript\"].append(transcript)\n",
    "        time_transcript_dict[\"len\"] += 1\n",
    "\n",
    "        if found_second_time == False:\n",
    "            break\n",
    "    \n",
    "    return time_transcript_dict\n",
    "\n",
    "def convert_time_transcript_to_max_30s_segments(trs_path):\n",
    "    out_dict = dict({\"time1\": [], \"time2\": [], \"transcript\": [], \"len\": 0 })\n",
    "    time_transcript_dict = find_time_transcript(trs_path)\n",
    "\n",
    "    idx = 0\n",
    "    time1 = 0.0\n",
    "    transcript_startindex = 0\n",
    "\n",
    "    while idx < time_transcript_dict[\"len\"]:\n",
    "        time2 = time_transcript_dict[\"time2\"][idx]\n",
    "        transcript = \"\"\n",
    "        transcript_startindex = idx\n",
    "\n",
    "        if (time2 - time1) > 30.0:\n",
    "            # if the segment is longer than 30 seconds, we dispose it\n",
    "            time1 = time2   # change to new time from which we will look for shorter-than-30s-segments\n",
    "            idx += 1\n",
    "            if idx >= time_transcript_dict[\"len\"]:\n",
    "                break\n",
    "            time2 = time_transcript_dict[\"time2\"][idx]\n",
    "        else:\n",
    "            # segment was shorter than 30 seconds, try add segments while possible\n",
    "            idx += 1\n",
    "            transcript_endindex = transcript_startindex\n",
    "            \n",
    "            if idx < time_transcript_dict[\"len\"]:\n",
    "                tmp_time2 = time_transcript_dict[\"time2\"][idx]\n",
    "                while (tmp_time2 - time1) < 30.0:\n",
    "                    time2 = tmp_time2\n",
    "                    transcript_endindex += 1\n",
    "                    idx +=1\n",
    "                    if idx >= time_transcript_dict[\"len\"]:\n",
    "                        break\n",
    "                    tmp_time2 = time_transcript_dict[\"time2\"][idx]\n",
    "            \n",
    "            #transcript = \"\".join(time_transcript_dict[\"transcript\"][transcript_startindex:transcript_endindex+1])\n",
    "            \n",
    "            # add space character if last character in previous part of transcript was a question mark or a dot, etc.\n",
    "            need_space_chars = \"?.,!;:\"\n",
    "            transcript = \"\"\n",
    "            for k in range(transcript_startindex, transcript_endindex+1):\n",
    "                k_tr = time_transcript_dict[\"transcript\"][k]\n",
    "                if k_tr[-1] in need_space_chars:\n",
    "                    k_tr += \" \"\n",
    "                transcript += k_tr\n",
    "\n",
    "            out_dict[\"time1\"].append(time1)\n",
    "            out_dict[\"time2\"].append(time2)\n",
    "            out_dict[\"transcript\"].append(transcript)\n",
    "            out_dict[\"len\"] += 1\n",
    "            \n",
    "            time1 = time2\n",
    "        \n",
    "    return out_dict\n",
    "\n",
    "#convert_time_transcript_to_max_30s_segments\n",
    "def get_list_of_transcript_wav_pairs(test=False):\n",
    "    dataset_path = \"/mnt/e/datasets/Artur_1_0_full\"\n",
    "    out_pairs = {\"wavpath\": [], \"trspath\": []}\n",
    "    wav1_base_paths = [os.path.join(dataset_path, \"Artur.wav/Artur-B/Artur-B-Brani\"),\n",
    "                       os.path.join(dataset_path, \"Artur.wav/Artur-B/Artur-B-Crkovani\")]\n",
    "    \n",
    "    trs1_base_paths = [os.path.join(dataset_path, \"Artur-TRS/Artur-B/Artur-B-Brani\"),\n",
    "                       os.path.join(dataset_path, \"Artur-TRS/Artur-B/Artur-B-Crkovani\")]\n",
    "\n",
    "    wav2_base_paths = [os.path.join(dataset_path, \"Artur.wav/Artur-J/Artur-J-Splosni-RT\"),\n",
    "                       os.path.join(dataset_path, \"Artur.wav/Artur-N/Artur-N-Obrazi-RT\"),\n",
    "                       os.path.join(dataset_path, \"Artur.wav/Artur-N/Artur-N-PDom-RT\"),\n",
    "                       os.path.join(dataset_path, \"Artur.wav/Artur-N/Artur-N-Prosti-RT\"),\n",
    "                       os.path.join(dataset_path, \"Artur.wav/Artur-P/Artur-P-SejeDZ\")]\n",
    "    \n",
    "    trs2_base_paths = [os.path.join(dataset_path, \"Artur-TRS/Artur-J/Artur-J-Splosni-RT\"),\n",
    "                       os.path.join(dataset_path, \"Artur-TRS/Artur-N/Artur-N-Obrazi-RT\"),\n",
    "                       os.path.join(dataset_path, \"Artur-TRS/Artur-N/Artur-N-PDom-RT\"),\n",
    "                       os.path.join(dataset_path, \"Artur-TRS/Artur-N/Artur-N-Prosti-RT\"),\n",
    "                       os.path.join(dataset_path, \"Artur-TRS/Artur-P/Artur-P-SejeDZ\")]\n",
    "    \n",
    "    wav_test_base_path = os.path.join(dataset_path, \"Artur.wav/Artur-Test\")\n",
    "    trs_test_base_path = os.path.join(dataset_path, \"Artur-TRS/Artur-Test\")\n",
    "    \n",
    "    if test == True:\n",
    "        for wav_test_file_name in os.listdir(wav_test_base_path):\n",
    "            wav_test_file_path = os.path.join(wav_test_base_path, wav_test_file_name)\n",
    "\n",
    "            split = wav_test_file_name.split(\"-\")\n",
    "            trs_test_file_name = split[0] + \"-\" + split[1] + \"-\" + split[2] + \"-\" + split[3] + \"-std.trs\"\n",
    "\n",
    "            trs_test_file_path = os.path.join(trs_test_base_path, trs_test_file_name)\n",
    "\n",
    "            out_pairs[\"wavpath\"].append(wav_test_file_path)\n",
    "            out_pairs[\"trspath\"].append(trs_test_file_path)\n",
    "        return out_pairs\n",
    "\n",
    "    for i in range(len(wav1_base_paths)):\n",
    "        wav1_base_path = wav1_base_paths[i]\n",
    "        trs1_base_path = trs1_base_paths[i]\n",
    "\n",
    "        for wav_folder1_name in os.listdir(wav1_base_path):\n",
    "            wav_folder1_path = os.path.join(wav1_base_path, wav_folder1_name)\n",
    "            trs_folder1_path = os.path.join(trs1_base_path, wav_folder1_name)\n",
    "\n",
    "            for wav_file1_name in os.listdir(wav_folder1_path):\n",
    "                wav_file1_path = os.path.join(wav_folder1_path, wav_file1_name)\n",
    "\n",
    "                split = wav_file1_name.split(\"-\")\n",
    "                trs_file1_name = split[0] + \"-\" + split[1] + \"-\" + split[2] + \"-\" + split[3] + \"-std.trs\"\n",
    "\n",
    "                trs_file1_path = os.path.join(trs_folder1_path, trs_file1_name)\n",
    "\n",
    "                out_pairs[\"wavpath\"].append(wav_file1_path)\n",
    "                out_pairs[\"trspath\"].append(trs_file1_path)\n",
    "\n",
    "    for i in range(len(wav2_base_paths)):\n",
    "        wav2_base_path = wav2_base_paths[i]\n",
    "        trs2_base_path = trs2_base_paths[i]\n",
    "\n",
    "        for wav2_file_name in os.listdir(wav2_base_path):\n",
    "            wav2_file_path = os.path.join(wav2_base_path, wav2_file_name)\n",
    "\n",
    "            split = wav2_file_name.split(\"-\")\n",
    "            trs2_file_name = split[0] + \"-\" + split[1] + \"-\" + split[2] + \"-\" + split[3] + \"-std.trs\"\n",
    "\n",
    "            trs2_file_path = os.path.join(trs2_base_path, trs2_file_name)\n",
    "\n",
    "            out_pairs[\"wavpath\"].append(wav2_file_path)\n",
    "            out_pairs[\"trspath\"].append(trs2_file_path)\n",
    "\n",
    "    return out_pairs\n",
    "\n",
    "import scipy.io.wavfile\n",
    "\n",
    "def dataset_generator_v2(test=False):\n",
    "    audio_samples = []\n",
    "    sample_rate = 16000\n",
    "    count = 0\n",
    "\n",
    "    path_pairs = get_list_of_transcript_wav_pairs(test)\n",
    "    # we shuffle the paths\n",
    "    pairs = list(zip(path_pairs[\"wavpath\"], path_pairs[\"trspath\"]))\n",
    "    random.seed(123)\n",
    "    random.shuffle(pairs)\n",
    "    path_pairs[\"wavpath\"], path_pairs[\"trspath\"] = zip(*pairs)\n",
    "    \n",
    "    for i in range(len(path_pairs[\"trspath\"])):\n",
    "        wav_path = path_pairs[\"wavpath\"][i]\n",
    "        trs_path = path_pairs[\"trspath\"][i]\n",
    "\n",
    "        # print(trs_path)\n",
    "        times_transcript_dict = convert_time_transcript_to_max_30s_segments(trs_path)\n",
    "        y = resample_and_normalize_audio(wav_path)\n",
    "        max_n = y.shape[0]\n",
    "        for j in range(times_transcript_dict[\"len\"]):\n",
    "            t1 = times_transcript_dict[\"time1\"][j]\n",
    "            t2 = times_transcript_dict[\"time2\"][j]\n",
    "            n1 = int(t1 * sample_rate)\n",
    "            n2 = int(t2 * sample_rate)\n",
    "            # clip values to valid range\n",
    "            n1 = np.clip(n1, a_min=0, a_max=max_n - 1)\n",
    "            n2 = np.clip(n2, a_min=0, a_max=max_n - 1)\n",
    "            \n",
    "            # temporary bug fix (because of unknown end-of-recording sync time)\n",
    "            n2_try = max_n\n",
    "            if (n2_try - n1)/16000.0 < 30.0:\n",
    "                n2 = n2_try\n",
    "                t2 = n2/16000.0\n",
    "            \n",
    "            derived_y = y[n1:n2]\n",
    "            transcript = times_transcript_dict[\"transcript\"][j] + to_timestamp_token(t2-t1)\n",
    "\n",
    "            # debug wav writeout\n",
    "            #scipy.io.wavfile.write(\"test{}.wav\".format(j), 16000, derived_y)\n",
    "            #print(j, wav_path, t1, t2, transcript)\n",
    "\n",
    "            sample = create_audio_sample(derived_y, 16000, transcript)\n",
    "            audio_samples.append(sample)\n",
    "            if len(audio_samples) >= samples_per_shard:\n",
    "                count += 1\n",
    "                print(\"count: {} x 500 = {}\".format(count, count*500))\n",
    "                new_dataset = process(audio_samples, test)\n",
    "                yield new_dataset\n",
    "                \n",
    "                del audio_samples\n",
    "                gc.collect()\n",
    "                audio_samples = []\n",
    "        \n",
    "        #(debug only)\n",
    "        #if i == 6:\n",
    "        #    break\n",
    "    \n",
    "    if (test and len(audio_samples) >= 1) or (not test and len(audio_samples) >= 2):\n",
    "        count += 1\n",
    "        print(\"count: {} x 500 = {}\".format(count, count*500))\n",
    "        new_dataset = process(audio_samples, test)\n",
    "        yield new_dataset"
   ]
  },
  {
   "cell_type": "markdown",
   "metadata": {},
   "source": [
    "# Dataset preparation"
   ]
  },
  {
   "cell_type": "code",
   "execution_count": 47,
   "metadata": {},
   "outputs": [
    {
     "name": "stdout",
     "output_type": "stream",
     "text": [
      "count: 1 x 500 = 500\n"
     ]
    },
    {
     "name": "stderr",
     "output_type": "stream",
     "text": [
      "Map: 100%|██████████| 450/450 [00:30<00:00, 14.96 examples/s]\n",
      "Map: 100%|██████████| 50/50 [00:02<00:00, 20.37 examples/s]\n",
      "Creating parquet from Arrow format: 100%|██████████| 1/1 [00:11<00:00, 11.11s/ba]\n",
      "Creating parquet from Arrow format: 100%|██████████| 1/1 [00:01<00:00,  1.23s/ba]\n"
     ]
    },
    {
     "name": "stdout",
     "output_type": "stream",
     "text": [
      "count: 2 x 500 = 1000\n"
     ]
    },
    {
     "name": "stderr",
     "output_type": "stream",
     "text": [
      "Map: 100%|██████████| 450/450 [00:29<00:00, 15.44 examples/s]\n",
      "Map: 100%|██████████| 50/50 [00:03<00:00, 12.55 examples/s]\n",
      "Creating parquet from Arrow format: 100%|██████████| 1/1 [00:11<00:00, 11.09s/ba]\n",
      "Creating parquet from Arrow format: 100%|██████████| 1/1 [00:01<00:00,  1.43s/ba]\n"
     ]
    },
    {
     "name": "stdout",
     "output_type": "stream",
     "text": [
      "count: 3 x 500 = 1500\n"
     ]
    },
    {
     "name": "stderr",
     "output_type": "stream",
     "text": [
      "Map: 100%|██████████| 450/450 [00:45<00:00,  9.89 examples/s]\n",
      "Map: 100%|██████████| 50/50 [00:03<00:00, 15.48 examples/s]\n",
      "Creating parquet from Arrow format: 100%|██████████| 1/1 [00:11<00:00, 11.30s/ba]\n",
      "Creating parquet from Arrow format: 100%|██████████| 1/1 [00:01<00:00,  1.25s/ba]\n"
     ]
    },
    {
     "name": "stdout",
     "output_type": "stream",
     "text": [
      "count: 4 x 500 = 2000\n"
     ]
    },
    {
     "name": "stderr",
     "output_type": "stream",
     "text": [
      "Map: 100%|██████████| 450/450 [00:35<00:00, 12.83 examples/s]\n",
      "Map: 100%|██████████| 50/50 [00:03<00:00, 15.13 examples/s]\n",
      "Creating parquet from Arrow format: 100%|██████████| 1/1 [00:11<00:00, 11.19s/ba]\n",
      "Creating parquet from Arrow format: 100%|██████████| 1/1 [00:01<00:00,  1.24s/ba]\n"
     ]
    },
    {
     "name": "stdout",
     "output_type": "stream",
     "text": [
      "count: 5 x 500 = 2500\n"
     ]
    },
    {
     "name": "stderr",
     "output_type": "stream",
     "text": [
      "Map: 100%|██████████| 450/450 [00:33<00:00, 13.52 examples/s]\n",
      "Map: 100%|██████████| 50/50 [00:08<00:00,  6.23 examples/s]\n",
      "Creating parquet from Arrow format: 100%|██████████| 1/1 [00:10<00:00, 10.99s/ba]\n",
      "Creating parquet from Arrow format: 100%|██████████| 1/1 [00:01<00:00,  1.32s/ba]\n"
     ]
    },
    {
     "name": "stdout",
     "output_type": "stream",
     "text": [
      "count: 6 x 500 = 3000\n"
     ]
    },
    {
     "name": "stderr",
     "output_type": "stream",
     "text": [
      "Map: 100%|██████████| 450/450 [00:29<00:00, 15.32 examples/s]\n",
      "Map: 100%|██████████| 50/50 [00:05<00:00,  8.37 examples/s]\n",
      "Creating parquet from Arrow format: 100%|██████████| 1/1 [00:10<00:00, 10.85s/ba]\n",
      "Creating parquet from Arrow format: 100%|██████████| 1/1 [00:01<00:00,  1.40s/ba]\n"
     ]
    },
    {
     "name": "stdout",
     "output_type": "stream",
     "text": [
      "count: 7 x 500 = 3500\n"
     ]
    },
    {
     "name": "stderr",
     "output_type": "stream",
     "text": [
      "Map: 100%|██████████| 450/450 [00:36<00:00, 12.22 examples/s]\n",
      "Map: 100%|██████████| 50/50 [00:04<00:00, 12.01 examples/s]\n",
      "Creating parquet from Arrow format: 100%|██████████| 1/1 [00:12<00:00, 12.81s/ba]\n",
      "Creating parquet from Arrow format: 100%|██████████| 1/1 [00:01<00:00,  1.42s/ba]\n"
     ]
    },
    {
     "name": "stdout",
     "output_type": "stream",
     "text": [
      "count: 8 x 500 = 4000\n"
     ]
    },
    {
     "name": "stderr",
     "output_type": "stream",
     "text": [
      "Map: 100%|██████████| 450/450 [00:32<00:00, 13.88 examples/s]\n",
      "Map: 100%|██████████| 50/50 [00:04<00:00, 12.30 examples/s]\n",
      "Creating parquet from Arrow format: 100%|██████████| 1/1 [00:11<00:00, 11.90s/ba]\n",
      "Creating parquet from Arrow format: 100%|██████████| 1/1 [00:01<00:00,  1.38s/ba]\n"
     ]
    },
    {
     "name": "stdout",
     "output_type": "stream",
     "text": [
      "count: 9 x 500 = 4500\n"
     ]
    },
    {
     "name": "stderr",
     "output_type": "stream",
     "text": [
      "Map: 100%|██████████| 450/450 [00:32<00:00, 14.05 examples/s]\n",
      "Map: 100%|██████████| 50/50 [00:03<00:00, 14.40 examples/s]\n",
      "Creating parquet from Arrow format: 100%|██████████| 1/1 [00:11<00:00, 11.61s/ba]\n",
      "Creating parquet from Arrow format: 100%|██████████| 1/1 [00:01<00:00,  1.36s/ba]\n"
     ]
    },
    {
     "name": "stdout",
     "output_type": "stream",
     "text": [
      "count: 10 x 500 = 5000\n"
     ]
    },
    {
     "name": "stderr",
     "output_type": "stream",
     "text": [
      "Map: 100%|██████████| 450/450 [00:29<00:00, 15.05 examples/s]\n",
      "Map: 100%|██████████| 50/50 [00:03<00:00, 13.46 examples/s]\n",
      "Creating parquet from Arrow format: 100%|██████████| 1/1 [00:11<00:00, 11.48s/ba]\n",
      "Creating parquet from Arrow format: 100%|██████████| 1/1 [00:01<00:00,  1.36s/ba]\n"
     ]
    },
    {
     "name": "stdout",
     "output_type": "stream",
     "text": [
      "count: 11 x 500 = 5500\n"
     ]
    },
    {
     "name": "stderr",
     "output_type": "stream",
     "text": [
      "Map: 100%|██████████| 450/450 [00:38<00:00, 11.62 examples/s]\n",
      "Map: 100%|██████████| 50/50 [00:02<00:00, 17.88 examples/s]\n",
      "Creating parquet from Arrow format: 100%|██████████| 1/1 [00:11<00:00, 11.67s/ba]\n",
      "Creating parquet from Arrow format: 100%|██████████| 1/1 [00:01<00:00,  1.28s/ba]\n"
     ]
    },
    {
     "name": "stdout",
     "output_type": "stream",
     "text": [
      "count: 12 x 500 = 6000\n"
     ]
    },
    {
     "name": "stderr",
     "output_type": "stream",
     "text": [
      "Map: 100%|██████████| 450/450 [00:28<00:00, 15.53 examples/s]\n",
      "Map: 100%|██████████| 50/50 [00:02<00:00, 18.01 examples/s]\n",
      "Creating parquet from Arrow format: 100%|██████████| 1/1 [00:11<00:00, 11.69s/ba]\n",
      "Creating parquet from Arrow format: 100%|██████████| 1/1 [00:01<00:00,  1.19s/ba]\n"
     ]
    },
    {
     "name": "stdout",
     "output_type": "stream",
     "text": [
      "count: 13 x 500 = 6500\n"
     ]
    },
    {
     "name": "stderr",
     "output_type": "stream",
     "text": [
      "Map: 100%|██████████| 450/450 [00:37<00:00, 12.16 examples/s]\n",
      "Map: 100%|██████████| 50/50 [00:04<00:00, 10.99 examples/s]\n",
      "Creating parquet from Arrow format: 100%|██████████| 1/1 [00:12<00:00, 12.11s/ba]\n",
      "Creating parquet from Arrow format: 100%|██████████| 1/1 [00:01<00:00,  1.32s/ba]\n"
     ]
    },
    {
     "name": "stdout",
     "output_type": "stream",
     "text": [
      "count: 14 x 500 = 7000\n"
     ]
    },
    {
     "name": "stderr",
     "output_type": "stream",
     "text": [
      "Map: 100%|██████████| 450/450 [00:26<00:00, 17.30 examples/s]\n",
      "Map: 100%|██████████| 50/50 [00:02<00:00, 19.52 examples/s]\n",
      "Creating parquet from Arrow format: 100%|██████████| 1/1 [00:11<00:00, 11.48s/ba]\n",
      "Creating parquet from Arrow format: 100%|██████████| 1/1 [00:01<00:00,  1.22s/ba]\n"
     ]
    },
    {
     "name": "stdout",
     "output_type": "stream",
     "text": [
      "count: 15 x 500 = 7500\n"
     ]
    },
    {
     "name": "stderr",
     "output_type": "stream",
     "text": [
      "Map: 100%|██████████| 450/450 [00:28<00:00, 15.56 examples/s]\n",
      "Map: 100%|██████████| 50/50 [00:02<00:00, 18.11 examples/s]\n",
      "Creating parquet from Arrow format: 100%|██████████| 1/1 [00:10<00:00, 10.93s/ba]\n",
      "Creating parquet from Arrow format: 100%|██████████| 1/1 [00:01<00:00,  1.19s/ba]\n"
     ]
    },
    {
     "name": "stdout",
     "output_type": "stream",
     "text": [
      "count: 16 x 500 = 8000\n"
     ]
    },
    {
     "name": "stderr",
     "output_type": "stream",
     "text": [
      "Map: 100%|██████████| 450/450 [00:26<00:00, 17.28 examples/s]\n",
      "Map: 100%|██████████| 50/50 [00:02<00:00, 16.96 examples/s]\n",
      "Creating parquet from Arrow format: 100%|██████████| 1/1 [00:11<00:00, 11.19s/ba]\n",
      "Creating parquet from Arrow format: 100%|██████████| 1/1 [00:01<00:00,  1.33s/ba]\n"
     ]
    },
    {
     "name": "stdout",
     "output_type": "stream",
     "text": [
      "count: 17 x 500 = 8500\n"
     ]
    },
    {
     "name": "stderr",
     "output_type": "stream",
     "text": [
      "Map: 100%|██████████| 450/450 [00:35<00:00, 12.60 examples/s]\n",
      "Map: 100%|██████████| 50/50 [00:07<00:00,  6.67 examples/s]\n",
      "Creating parquet from Arrow format: 100%|██████████| 1/1 [00:11<00:00, 11.20s/ba]\n",
      "Creating parquet from Arrow format: 100%|██████████| 1/1 [00:01<00:00,  1.44s/ba]\n"
     ]
    },
    {
     "name": "stdout",
     "output_type": "stream",
     "text": [
      "count: 18 x 500 = 9000\n"
     ]
    },
    {
     "name": "stderr",
     "output_type": "stream",
     "text": [
      "Map: 100%|██████████| 450/450 [00:43<00:00, 10.28 examples/s]\n",
      "Map: 100%|██████████| 50/50 [00:04<00:00, 12.00 examples/s]\n",
      "Creating parquet from Arrow format: 100%|██████████| 1/1 [00:10<00:00, 10.93s/ba]\n",
      "Creating parquet from Arrow format: 100%|██████████| 1/1 [00:01<00:00,  1.27s/ba]\n"
     ]
    },
    {
     "name": "stdout",
     "output_type": "stream",
     "text": [
      "count: 19 x 500 = 9500\n"
     ]
    },
    {
     "name": "stderr",
     "output_type": "stream",
     "text": [
      "Map: 100%|██████████| 450/450 [00:35<00:00, 12.82 examples/s]\n",
      "Map: 100%|██████████| 50/50 [00:03<00:00, 14.82 examples/s]\n",
      "Creating parquet from Arrow format: 100%|██████████| 1/1 [00:11<00:00, 11.14s/ba]\n",
      "Creating parquet from Arrow format: 100%|██████████| 1/1 [00:01<00:00,  1.20s/ba]\n"
     ]
    },
    {
     "name": "stdout",
     "output_type": "stream",
     "text": [
      "count: 20 x 500 = 10000\n"
     ]
    },
    {
     "name": "stderr",
     "output_type": "stream",
     "text": [
      "Map: 100%|██████████| 450/450 [00:34<00:00, 13.19 examples/s]\n",
      "Map: 100%|██████████| 50/50 [00:02<00:00, 20.01 examples/s]\n",
      "Creating parquet from Arrow format: 100%|██████████| 1/1 [00:10<00:00, 10.68s/ba]\n",
      "Creating parquet from Arrow format: 100%|██████████| 1/1 [00:01<00:00,  1.17s/ba]\n"
     ]
    },
    {
     "name": "stdout",
     "output_type": "stream",
     "text": [
      "count: 21 x 500 = 10500\n"
     ]
    },
    {
     "name": "stderr",
     "output_type": "stream",
     "text": [
      "Map: 100%|██████████| 450/450 [00:25<00:00, 17.44 examples/s]\n",
      "Map: 100%|██████████| 50/50 [00:04<00:00, 12.39 examples/s]\n",
      "Creating parquet from Arrow format: 100%|██████████| 1/1 [00:10<00:00, 10.90s/ba]\n",
      "Creating parquet from Arrow format: 100%|██████████| 1/1 [00:01<00:00,  1.24s/ba]\n"
     ]
    },
    {
     "name": "stdout",
     "output_type": "stream",
     "text": [
      "count: 22 x 500 = 11000\n"
     ]
    },
    {
     "name": "stderr",
     "output_type": "stream",
     "text": [
      "Map: 100%|██████████| 450/450 [00:29<00:00, 15.23 examples/s]\n",
      "Map: 100%|██████████| 50/50 [00:03<00:00, 15.95 examples/s]\n",
      "Creating parquet from Arrow format: 100%|██████████| 1/1 [00:11<00:00, 11.55s/ba]\n",
      "Creating parquet from Arrow format: 100%|██████████| 1/1 [00:01<00:00,  1.22s/ba]\n"
     ]
    },
    {
     "name": "stdout",
     "output_type": "stream",
     "text": [
      "count: 23 x 500 = 11500\n"
     ]
    },
    {
     "name": "stderr",
     "output_type": "stream",
     "text": [
      "Map: 100%|██████████| 450/450 [00:33<00:00, 13.35 examples/s]\n",
      "Map: 100%|██████████| 50/50 [00:02<00:00, 17.67 examples/s]\n",
      "Creating parquet from Arrow format: 100%|██████████| 1/1 [00:11<00:00, 11.69s/ba]\n",
      "Creating parquet from Arrow format: 100%|██████████| 1/1 [00:01<00:00,  1.28s/ba]\n"
     ]
    },
    {
     "name": "stdout",
     "output_type": "stream",
     "text": [
      "count: 24 x 500 = 12000\n"
     ]
    },
    {
     "name": "stderr",
     "output_type": "stream",
     "text": [
      "Map: 100%|██████████| 450/450 [00:38<00:00, 11.71 examples/s]\n",
      "Map: 100%|██████████| 50/50 [00:02<00:00, 19.51 examples/s]\n",
      "Creating parquet from Arrow format: 100%|██████████| 1/1 [00:11<00:00, 11.47s/ba]\n",
      "Creating parquet from Arrow format: 100%|██████████| 1/1 [00:01<00:00,  1.26s/ba]\n"
     ]
    },
    {
     "name": "stdout",
     "output_type": "stream",
     "text": [
      "count: 25 x 500 = 12500\n"
     ]
    },
    {
     "name": "stderr",
     "output_type": "stream",
     "text": [
      "Map: 100%|██████████| 450/450 [00:33<00:00, 13.56 examples/s]\n",
      "Map: 100%|██████████| 50/50 [00:03<00:00, 14.49 examples/s]\n",
      "Creating parquet from Arrow format: 100%|██████████| 1/1 [00:11<00:00, 11.38s/ba]\n",
      "Creating parquet from Arrow format: 100%|██████████| 1/1 [00:01<00:00,  1.22s/ba]\n"
     ]
    },
    {
     "name": "stdout",
     "output_type": "stream",
     "text": [
      "count: 26 x 500 = 13000\n"
     ]
    },
    {
     "name": "stderr",
     "output_type": "stream",
     "text": [
      "Map: 100%|██████████| 450/450 [00:27<00:00, 16.44 examples/s]\n",
      "Map: 100%|██████████| 50/50 [00:03<00:00, 13.00 examples/s]\n",
      "Creating parquet from Arrow format: 100%|██████████| 1/1 [00:10<00:00, 10.65s/ba]\n",
      "Creating parquet from Arrow format: 100%|██████████| 1/1 [00:01<00:00,  1.22s/ba]\n"
     ]
    },
    {
     "name": "stdout",
     "output_type": "stream",
     "text": [
      "count: 27 x 500 = 13500\n"
     ]
    },
    {
     "name": "stderr",
     "output_type": "stream",
     "text": [
      "Map: 100%|██████████| 450/450 [00:26<00:00, 16.75 examples/s]\n",
      "Map: 100%|██████████| 50/50 [00:02<00:00, 16.94 examples/s]\n",
      "Creating parquet from Arrow format: 100%|██████████| 1/1 [00:11<00:00, 11.41s/ba]\n",
      "Creating parquet from Arrow format: 100%|██████████| 1/1 [00:01<00:00,  1.20s/ba]\n"
     ]
    },
    {
     "name": "stdout",
     "output_type": "stream",
     "text": [
      "count: 28 x 500 = 14000\n"
     ]
    },
    {
     "name": "stderr",
     "output_type": "stream",
     "text": [
      "Map: 100%|██████████| 450/450 [00:35<00:00, 12.81 examples/s]\n",
      "Map: 100%|██████████| 50/50 [00:03<00:00, 16.29 examples/s]\n",
      "Creating parquet from Arrow format: 100%|██████████| 1/1 [00:11<00:00, 11.21s/ba]\n",
      "Creating parquet from Arrow format: 100%|██████████| 1/1 [00:01<00:00,  1.23s/ba]\n"
     ]
    },
    {
     "name": "stdout",
     "output_type": "stream",
     "text": [
      "count: 29 x 500 = 14500\n"
     ]
    },
    {
     "name": "stderr",
     "output_type": "stream",
     "text": [
      "Map: 100%|██████████| 450/450 [00:36<00:00, 12.39 examples/s]\n",
      "Map: 100%|██████████| 50/50 [00:03<00:00, 16.56 examples/s]\n",
      "Creating parquet from Arrow format: 100%|██████████| 1/1 [00:11<00:00, 11.60s/ba]\n",
      "Creating parquet from Arrow format: 100%|██████████| 1/1 [00:01<00:00,  1.26s/ba]\n"
     ]
    },
    {
     "name": "stdout",
     "output_type": "stream",
     "text": [
      "count: 30 x 500 = 15000\n"
     ]
    },
    {
     "name": "stderr",
     "output_type": "stream",
     "text": [
      "Map: 100%|██████████| 450/450 [00:36<00:00, 12.47 examples/s]\n",
      "Map: 100%|██████████| 50/50 [00:02<00:00, 18.63 examples/s]\n",
      "Creating parquet from Arrow format: 100%|██████████| 1/1 [00:12<00:00, 12.01s/ba]\n",
      "Creating parquet from Arrow format: 100%|██████████| 1/1 [00:01<00:00,  1.24s/ba]\n"
     ]
    },
    {
     "name": "stdout",
     "output_type": "stream",
     "text": [
      "count: 31 x 500 = 15500\n"
     ]
    },
    {
     "name": "stderr",
     "output_type": "stream",
     "text": [
      "Map: 100%|██████████| 450/450 [00:29<00:00, 15.45 examples/s]\n",
      "Map: 100%|██████████| 50/50 [00:06<00:00,  7.97 examples/s]\n",
      "Creating parquet from Arrow format: 100%|██████████| 1/1 [00:11<00:00, 11.27s/ba]\n",
      "Creating parquet from Arrow format: 100%|██████████| 1/1 [00:01<00:00,  1.30s/ba]\n"
     ]
    },
    {
     "name": "stdout",
     "output_type": "stream",
     "text": [
      "count: 32 x 500 = 16000\n"
     ]
    },
    {
     "name": "stderr",
     "output_type": "stream",
     "text": [
      "Map: 100%|██████████| 450/450 [00:42<00:00, 10.68 examples/s]\n",
      "Map: 100%|██████████| 50/50 [00:03<00:00, 16.58 examples/s]\n",
      "Creating parquet from Arrow format: 100%|██████████| 1/1 [00:11<00:00, 11.84s/ba]\n",
      "Creating parquet from Arrow format: 100%|██████████| 1/1 [00:01<00:00,  1.24s/ba]\n"
     ]
    },
    {
     "name": "stdout",
     "output_type": "stream",
     "text": [
      "count: 33 x 500 = 16500\n"
     ]
    },
    {
     "name": "stderr",
     "output_type": "stream",
     "text": [
      "Map: 100%|██████████| 450/450 [00:26<00:00, 16.98 examples/s]\n",
      "Map: 100%|██████████| 50/50 [00:02<00:00, 18.67 examples/s]\n",
      "Creating parquet from Arrow format: 100%|██████████| 1/1 [00:10<00:00, 10.63s/ba]\n",
      "Creating parquet from Arrow format: 100%|██████████| 1/1 [00:01<00:00,  1.19s/ba]\n"
     ]
    },
    {
     "name": "stdout",
     "output_type": "stream",
     "text": [
      "count: 34 x 500 = 17000\n"
     ]
    },
    {
     "name": "stderr",
     "output_type": "stream",
     "text": [
      "Map: 100%|██████████| 450/450 [00:35<00:00, 12.76 examples/s]\n",
      "Map: 100%|██████████| 50/50 [00:03<00:00, 16.13 examples/s]\n",
      "Creating parquet from Arrow format: 100%|██████████| 1/1 [00:11<00:00, 11.42s/ba]\n",
      "Creating parquet from Arrow format: 100%|██████████| 1/1 [00:01<00:00,  1.21s/ba]\n"
     ]
    },
    {
     "name": "stdout",
     "output_type": "stream",
     "text": [
      "count: 35 x 500 = 17500\n"
     ]
    },
    {
     "name": "stderr",
     "output_type": "stream",
     "text": [
      "Map: 100%|██████████| 450/450 [00:27<00:00, 16.22 examples/s]\n",
      "Map: 100%|██████████| 50/50 [00:03<00:00, 14.05 examples/s]\n",
      "Creating parquet from Arrow format: 100%|██████████| 1/1 [00:11<00:00, 11.75s/ba]\n",
      "Creating parquet from Arrow format: 100%|██████████| 1/1 [00:01<00:00,  1.22s/ba]\n"
     ]
    },
    {
     "name": "stdout",
     "output_type": "stream",
     "text": [
      "count: 36 x 500 = 18000\n"
     ]
    },
    {
     "name": "stderr",
     "output_type": "stream",
     "text": [
      "Map: 100%|██████████| 450/450 [00:34<00:00, 13.09 examples/s]\n",
      "Map: 100%|██████████| 50/50 [00:05<00:00,  8.78 examples/s]\n",
      "Creating parquet from Arrow format: 100%|██████████| 1/1 [00:10<00:00, 10.97s/ba]\n",
      "Creating parquet from Arrow format: 100%|██████████| 1/1 [00:01<00:00,  1.24s/ba]\n"
     ]
    },
    {
     "name": "stdout",
     "output_type": "stream",
     "text": [
      "count: 37 x 500 = 18500\n"
     ]
    },
    {
     "name": "stderr",
     "output_type": "stream",
     "text": [
      "Map: 100%|██████████| 450/450 [00:27<00:00, 16.48 examples/s]\n",
      "Map: 100%|██████████| 50/50 [00:02<00:00, 17.77 examples/s]\n",
      "Creating parquet from Arrow format: 100%|██████████| 1/1 [00:11<00:00, 11.08s/ba]\n",
      "Creating parquet from Arrow format: 100%|██████████| 1/1 [00:01<00:00,  1.29s/ba]\n"
     ]
    },
    {
     "name": "stdout",
     "output_type": "stream",
     "text": [
      "count: 38 x 500 = 19000\n"
     ]
    },
    {
     "name": "stderr",
     "output_type": "stream",
     "text": [
      "Map: 100%|██████████| 450/450 [00:31<00:00, 14.21 examples/s]\n",
      "Map: 100%|██████████| 50/50 [00:02<00:00, 16.78 examples/s]\n",
      "Creating parquet from Arrow format: 100%|██████████| 1/1 [00:10<00:00, 10.96s/ba]\n",
      "Creating parquet from Arrow format: 100%|██████████| 1/1 [00:01<00:00,  1.25s/ba]\n"
     ]
    },
    {
     "name": "stdout",
     "output_type": "stream",
     "text": [
      "count: 39 x 500 = 19500\n"
     ]
    },
    {
     "name": "stderr",
     "output_type": "stream",
     "text": [
      "Map: 100%|██████████| 450/450 [00:27<00:00, 16.13 examples/s]\n",
      "Map: 100%|██████████| 50/50 [00:04<00:00, 10.74 examples/s]\n",
      "Creating parquet from Arrow format: 100%|██████████| 1/1 [00:11<00:00, 11.75s/ba]\n",
      "Creating parquet from Arrow format: 100%|██████████| 1/1 [00:01<00:00,  1.29s/ba]\n"
     ]
    },
    {
     "name": "stdout",
     "output_type": "stream",
     "text": [
      "count: 40 x 500 = 20000\n"
     ]
    },
    {
     "name": "stderr",
     "output_type": "stream",
     "text": [
      "Map: 100%|██████████| 450/450 [00:28<00:00, 15.56 examples/s]\n",
      "Map: 100%|██████████| 50/50 [00:02<00:00, 19.74 examples/s]\n",
      "Creating parquet from Arrow format: 100%|██████████| 1/1 [00:11<00:00, 11.40s/ba]\n",
      "Creating parquet from Arrow format: 100%|██████████| 1/1 [00:01<00:00,  1.22s/ba]\n"
     ]
    },
    {
     "name": "stdout",
     "output_type": "stream",
     "text": [
      "count: 41 x 500 = 20500\n"
     ]
    },
    {
     "name": "stderr",
     "output_type": "stream",
     "text": [
      "Map: 100%|██████████| 450/450 [00:36<00:00, 12.21 examples/s]\n",
      "Map: 100%|██████████| 50/50 [00:02<00:00, 18.68 examples/s]\n",
      "Creating parquet from Arrow format: 100%|██████████| 1/1 [00:11<00:00, 11.21s/ba]\n",
      "Creating parquet from Arrow format: 100%|██████████| 1/1 [00:01<00:00,  1.21s/ba]\n"
     ]
    },
    {
     "name": "stdout",
     "output_type": "stream",
     "text": [
      "count: 42 x 500 = 21000\n"
     ]
    },
    {
     "name": "stderr",
     "output_type": "stream",
     "text": [
      "Map: 100%|██████████| 450/450 [00:29<00:00, 15.06 examples/s]\n",
      "Map: 100%|██████████| 50/50 [00:02<00:00, 16.93 examples/s]\n",
      "Creating parquet from Arrow format: 100%|██████████| 1/1 [00:11<00:00, 11.21s/ba]\n",
      "Creating parquet from Arrow format: 100%|██████████| 1/1 [00:01<00:00,  1.29s/ba]\n"
     ]
    },
    {
     "name": "stdout",
     "output_type": "stream",
     "text": [
      "count: 43 x 500 = 21500\n"
     ]
    },
    {
     "name": "stderr",
     "output_type": "stream",
     "text": [
      "Map: 100%|██████████| 450/450 [00:32<00:00, 13.93 examples/s]\n",
      "Map: 100%|██████████| 50/50 [00:02<00:00, 20.23 examples/s]\n",
      "Creating parquet from Arrow format: 100%|██████████| 1/1 [00:11<00:00, 11.62s/ba]\n",
      "Creating parquet from Arrow format: 100%|██████████| 1/1 [00:01<00:00,  1.21s/ba]\n"
     ]
    },
    {
     "name": "stdout",
     "output_type": "stream",
     "text": [
      "count: 44 x 500 = 22000\n"
     ]
    },
    {
     "name": "stderr",
     "output_type": "stream",
     "text": [
      "Map: 100%|██████████| 450/450 [00:25<00:00, 17.56 examples/s]\n",
      "Map: 100%|██████████| 50/50 [00:03<00:00, 15.31 examples/s]\n",
      "Creating parquet from Arrow format: 100%|██████████| 1/1 [00:11<00:00, 11.59s/ba]\n",
      "Creating parquet from Arrow format: 100%|██████████| 1/1 [00:01<00:00,  1.26s/ba]\n"
     ]
    },
    {
     "name": "stdout",
     "output_type": "stream",
     "text": [
      "count: 45 x 500 = 22500\n"
     ]
    },
    {
     "name": "stderr",
     "output_type": "stream",
     "text": [
      "Map: 100%|██████████| 450/450 [00:33<00:00, 13.25 examples/s]\n",
      "Map: 100%|██████████| 50/50 [00:04<00:00, 11.29 examples/s]\n",
      "Creating parquet from Arrow format: 100%|██████████| 1/1 [00:11<00:00, 11.89s/ba]\n",
      "Creating parquet from Arrow format: 100%|██████████| 1/1 [00:01<00:00,  1.24s/ba]\n"
     ]
    },
    {
     "name": "stdout",
     "output_type": "stream",
     "text": [
      "count: 46 x 500 = 23000\n"
     ]
    },
    {
     "name": "stderr",
     "output_type": "stream",
     "text": [
      "Map: 100%|██████████| 450/450 [00:37<00:00, 11.93 examples/s]\n",
      "Map: 100%|██████████| 50/50 [00:02<00:00, 19.23 examples/s]\n",
      "Creating parquet from Arrow format: 100%|██████████| 1/1 [00:11<00:00, 11.70s/ba]\n",
      "Creating parquet from Arrow format: 100%|██████████| 1/1 [00:01<00:00,  1.24s/ba]\n"
     ]
    },
    {
     "name": "stdout",
     "output_type": "stream",
     "text": [
      "count: 47 x 500 = 23500\n"
     ]
    },
    {
     "name": "stderr",
     "output_type": "stream",
     "text": [
      "Map: 100%|██████████| 450/450 [00:34<00:00, 12.92 examples/s]\n",
      "Map: 100%|██████████| 50/50 [00:02<00:00, 16.99 examples/s]\n",
      "Creating parquet from Arrow format: 100%|██████████| 1/1 [00:11<00:00, 11.18s/ba]\n",
      "Creating parquet from Arrow format: 100%|██████████| 1/1 [00:01<00:00,  1.20s/ba]\n"
     ]
    },
    {
     "name": "stdout",
     "output_type": "stream",
     "text": [
      "count: 48 x 500 = 24000\n"
     ]
    },
    {
     "name": "stderr",
     "output_type": "stream",
     "text": [
      "Map: 100%|██████████| 450/450 [00:35<00:00, 12.73 examples/s]\n",
      "Map: 100%|██████████| 50/50 [00:02<00:00, 17.47 examples/s]\n",
      "Creating parquet from Arrow format: 100%|██████████| 1/1 [00:11<00:00, 11.61s/ba]\n",
      "Creating parquet from Arrow format: 100%|██████████| 1/1 [00:01<00:00,  1.16s/ba]\n"
     ]
    },
    {
     "name": "stdout",
     "output_type": "stream",
     "text": [
      "count: 49 x 500 = 24500\n"
     ]
    },
    {
     "name": "stderr",
     "output_type": "stream",
     "text": [
      "Map: 100%|██████████| 450/450 [00:32<00:00, 13.95 examples/s]\n",
      "Map: 100%|██████████| 50/50 [00:02<00:00, 19.02 examples/s]\n",
      "Creating parquet from Arrow format: 100%|██████████| 1/1 [00:11<00:00, 11.15s/ba]\n",
      "Creating parquet from Arrow format: 100%|██████████| 1/1 [00:01<00:00,  1.21s/ba]\n"
     ]
    },
    {
     "name": "stdout",
     "output_type": "stream",
     "text": [
      "count: 50 x 500 = 25000\n"
     ]
    },
    {
     "name": "stderr",
     "output_type": "stream",
     "text": [
      "Map: 100%|██████████| 450/450 [00:33<00:00, 13.57 examples/s]\n",
      "Map: 100%|██████████| 50/50 [00:04<00:00, 10.14 examples/s]\n",
      "Creating parquet from Arrow format: 100%|██████████| 1/1 [00:11<00:00, 11.12s/ba]\n",
      "Creating parquet from Arrow format: 100%|██████████| 1/1 [00:01<00:00,  1.28s/ba]\n"
     ]
    },
    {
     "name": "stdout",
     "output_type": "stream",
     "text": [
      "count: 51 x 500 = 25500\n"
     ]
    },
    {
     "name": "stderr",
     "output_type": "stream",
     "text": [
      "Map: 100%|██████████| 450/450 [00:31<00:00, 14.49 examples/s]\n",
      "Map: 100%|██████████| 50/50 [00:08<00:00,  5.98 examples/s]\n",
      "Creating parquet from Arrow format: 100%|██████████| 1/1 [00:11<00:00, 11.32s/ba]\n",
      "Creating parquet from Arrow format: 100%|██████████| 1/1 [00:01<00:00,  1.30s/ba]\n"
     ]
    },
    {
     "name": "stdout",
     "output_type": "stream",
     "text": [
      "count: 52 x 500 = 26000\n"
     ]
    },
    {
     "name": "stderr",
     "output_type": "stream",
     "text": [
      "Map: 100%|██████████| 450/450 [00:39<00:00, 11.32 examples/s]\n",
      "Map: 100%|██████████| 50/50 [00:02<00:00, 17.10 examples/s]\n",
      "Creating parquet from Arrow format: 100%|██████████| 1/1 [00:11<00:00, 11.49s/ba]\n",
      "Creating parquet from Arrow format: 100%|██████████| 1/1 [00:01<00:00,  1.35s/ba]\n"
     ]
    },
    {
     "name": "stdout",
     "output_type": "stream",
     "text": [
      "count: 53 x 500 = 26500\n"
     ]
    },
    {
     "name": "stderr",
     "output_type": "stream",
     "text": [
      "Map: 100%|██████████| 450/450 [00:36<00:00, 12.29 examples/s]\n",
      "Map: 100%|██████████| 50/50 [00:02<00:00, 17.36 examples/s]\n",
      "Creating parquet from Arrow format: 100%|██████████| 1/1 [00:12<00:00, 12.32s/ba]\n",
      "Creating parquet from Arrow format: 100%|██████████| 1/1 [00:01<00:00,  1.36s/ba]\n"
     ]
    },
    {
     "name": "stdout",
     "output_type": "stream",
     "text": [
      "count: 54 x 500 = 27000\n"
     ]
    },
    {
     "name": "stderr",
     "output_type": "stream",
     "text": [
      "Map: 100%|██████████| 450/450 [00:27<00:00, 16.40 examples/s]\n",
      "Map: 100%|██████████| 50/50 [00:02<00:00, 17.60 examples/s]\n",
      "Creating parquet from Arrow format: 100%|██████████| 1/1 [00:11<00:00, 11.03s/ba]\n",
      "Creating parquet from Arrow format: 100%|██████████| 1/1 [00:01<00:00,  1.21s/ba]\n"
     ]
    },
    {
     "name": "stdout",
     "output_type": "stream",
     "text": [
      "count: 55 x 500 = 27500\n"
     ]
    },
    {
     "name": "stderr",
     "output_type": "stream",
     "text": [
      "Map: 100%|██████████| 450/450 [00:38<00:00, 11.82 examples/s]\n",
      "Map: 100%|██████████| 50/50 [00:04<00:00, 11.74 examples/s]\n",
      "Creating parquet from Arrow format: 100%|██████████| 1/1 [00:11<00:00, 11.15s/ba]\n",
      "Creating parquet from Arrow format: 100%|██████████| 1/1 [00:01<00:00,  1.25s/ba]\n"
     ]
    },
    {
     "name": "stdout",
     "output_type": "stream",
     "text": [
      "count: 56 x 500 = 28000\n"
     ]
    },
    {
     "name": "stderr",
     "output_type": "stream",
     "text": [
      "Map: 100%|██████████| 450/450 [00:29<00:00, 15.33 examples/s]\n",
      "Map: 100%|██████████| 50/50 [00:03<00:00, 16.15 examples/s]\n",
      "Creating parquet from Arrow format: 100%|██████████| 1/1 [00:10<00:00, 10.77s/ba]\n",
      "Creating parquet from Arrow format: 100%|██████████| 1/1 [00:01<00:00,  1.22s/ba]\n"
     ]
    },
    {
     "name": "stdout",
     "output_type": "stream",
     "text": [
      "count: 57 x 500 = 28500\n"
     ]
    },
    {
     "name": "stderr",
     "output_type": "stream",
     "text": [
      "Map: 100%|██████████| 450/450 [00:26<00:00, 16.73 examples/s]\n",
      "Map: 100%|██████████| 50/50 [00:02<00:00, 18.90 examples/s]\n",
      "Creating parquet from Arrow format: 100%|██████████| 1/1 [00:11<00:00, 11.04s/ba]\n",
      "Creating parquet from Arrow format: 100%|██████████| 1/1 [00:01<00:00,  1.19s/ba]\n"
     ]
    },
    {
     "name": "stdout",
     "output_type": "stream",
     "text": [
      "count: 58 x 500 = 29000\n"
     ]
    },
    {
     "name": "stderr",
     "output_type": "stream",
     "text": [
      "Map: 100%|██████████| 450/450 [00:28<00:00, 15.62 examples/s]\n",
      "Map: 100%|██████████| 50/50 [00:02<00:00, 17.39 examples/s]\n",
      "Creating parquet from Arrow format: 100%|██████████| 1/1 [00:10<00:00, 10.86s/ba]\n",
      "Creating parquet from Arrow format: 100%|██████████| 1/1 [00:01<00:00,  1.22s/ba]\n"
     ]
    },
    {
     "name": "stdout",
     "output_type": "stream",
     "text": [
      "count: 59 x 500 = 29500\n"
     ]
    },
    {
     "name": "stderr",
     "output_type": "stream",
     "text": [
      "Map: 100%|██████████| 450/450 [00:30<00:00, 14.54 examples/s]\n",
      "Map: 100%|██████████| 50/50 [00:02<00:00, 19.60 examples/s]\n",
      "Creating parquet from Arrow format: 100%|██████████| 1/1 [00:10<00:00, 10.98s/ba]\n",
      "Creating parquet from Arrow format: 100%|██████████| 1/1 [00:01<00:00,  1.22s/ba]\n"
     ]
    },
    {
     "name": "stdout",
     "output_type": "stream",
     "text": [
      "count: 60 x 500 = 30000\n"
     ]
    },
    {
     "name": "stderr",
     "output_type": "stream",
     "text": [
      "Map: 100%|██████████| 450/450 [00:31<00:00, 14.34 examples/s]\n",
      "Map: 100%|██████████| 50/50 [00:03<00:00, 16.07 examples/s]\n",
      "Creating parquet from Arrow format: 100%|██████████| 1/1 [00:11<00:00, 11.03s/ba]\n",
      "Creating parquet from Arrow format: 100%|██████████| 1/1 [00:01<00:00,  1.22s/ba]\n"
     ]
    },
    {
     "name": "stdout",
     "output_type": "stream",
     "text": [
      "count: 61 x 500 = 30500\n"
     ]
    },
    {
     "name": "stderr",
     "output_type": "stream",
     "text": [
      "Map: 100%|██████████| 450/450 [00:25<00:00, 17.55 examples/s]\n",
      "Map: 100%|██████████| 50/50 [00:02<00:00, 18.22 examples/s]\n",
      "Creating parquet from Arrow format: 100%|██████████| 1/1 [00:10<00:00, 10.72s/ba]\n",
      "Creating parquet from Arrow format: 100%|██████████| 1/1 [00:01<00:00,  1.40s/ba]\n"
     ]
    },
    {
     "name": "stdout",
     "output_type": "stream",
     "text": [
      "count: 62 x 500 = 31000\n"
     ]
    },
    {
     "name": "stderr",
     "output_type": "stream",
     "text": [
      "Map: 100%|██████████| 450/450 [00:28<00:00, 15.89 examples/s]\n",
      "Map: 100%|██████████| 50/50 [00:02<00:00, 17.81 examples/s]\n",
      "Creating parquet from Arrow format: 100%|██████████| 1/1 [00:11<00:00, 11.56s/ba]\n",
      "Creating parquet from Arrow format: 100%|██████████| 1/1 [00:01<00:00,  1.22s/ba]\n"
     ]
    },
    {
     "name": "stdout",
     "output_type": "stream",
     "text": [
      "count: 63 x 500 = 31500\n"
     ]
    },
    {
     "name": "stderr",
     "output_type": "stream",
     "text": [
      "Map: 100%|██████████| 450/450 [00:28<00:00, 15.58 examples/s]\n",
      "Map: 100%|██████████| 50/50 [00:04<00:00, 12.04 examples/s]\n",
      "Creating parquet from Arrow format: 100%|██████████| 1/1 [00:11<00:00, 11.53s/ba]\n",
      "Creating parquet from Arrow format: 100%|██████████| 1/1 [00:01<00:00,  1.30s/ba]\n"
     ]
    },
    {
     "name": "stdout",
     "output_type": "stream",
     "text": [
      "count: 64 x 500 = 32000\n"
     ]
    },
    {
     "name": "stderr",
     "output_type": "stream",
     "text": [
      "Map: 100%|██████████| 450/450 [00:28<00:00, 15.54 examples/s]\n",
      "Map: 100%|██████████| 50/50 [00:02<00:00, 20.50 examples/s]\n",
      "Creating parquet from Arrow format: 100%|██████████| 1/1 [00:10<00:00, 10.83s/ba]\n",
      "Creating parquet from Arrow format: 100%|██████████| 1/1 [00:01<00:00,  1.23s/ba]\n"
     ]
    },
    {
     "name": "stdout",
     "output_type": "stream",
     "text": [
      "count: 65 x 500 = 32500\n"
     ]
    },
    {
     "name": "stderr",
     "output_type": "stream",
     "text": [
      "Map: 100%|██████████| 450/450 [00:31<00:00, 14.41 examples/s]\n",
      "Map: 100%|██████████| 50/50 [00:06<00:00,  8.19 examples/s]\n",
      "Creating parquet from Arrow format: 100%|██████████| 1/1 [00:11<00:00, 11.15s/ba]\n",
      "Creating parquet from Arrow format: 100%|██████████| 1/1 [00:01<00:00,  1.36s/ba]\n"
     ]
    },
    {
     "name": "stdout",
     "output_type": "stream",
     "text": [
      "count: 66 x 500 = 33000\n"
     ]
    },
    {
     "name": "stderr",
     "output_type": "stream",
     "text": [
      "Map: 100%|██████████| 450/450 [00:27<00:00, 16.61 examples/s]\n",
      "Map: 100%|██████████| 50/50 [00:04<00:00, 11.40 examples/s]\n",
      "Creating parquet from Arrow format: 100%|██████████| 1/1 [00:11<00:00, 11.45s/ba]\n",
      "Creating parquet from Arrow format: 100%|██████████| 1/1 [00:01<00:00,  1.23s/ba]\n"
     ]
    },
    {
     "name": "stdout",
     "output_type": "stream",
     "text": [
      "count: 67 x 500 = 33500\n"
     ]
    },
    {
     "name": "stderr",
     "output_type": "stream",
     "text": [
      "Map: 100%|██████████| 450/450 [00:28<00:00, 15.90 examples/s]\n",
      "Map: 100%|██████████| 50/50 [00:03<00:00, 13.78 examples/s]\n",
      "Creating parquet from Arrow format: 100%|██████████| 1/1 [00:11<00:00, 11.06s/ba]\n",
      "Creating parquet from Arrow format: 100%|██████████| 1/1 [00:01<00:00,  1.26s/ba]\n"
     ]
    },
    {
     "name": "stdout",
     "output_type": "stream",
     "text": [
      "count: 68 x 500 = 34000\n"
     ]
    },
    {
     "name": "stderr",
     "output_type": "stream",
     "text": [
      "Map: 100%|██████████| 450/450 [00:38<00:00, 11.59 examples/s]\n",
      "Map: 100%|██████████| 50/50 [00:03<00:00, 14.69 examples/s]\n",
      "Creating parquet from Arrow format: 100%|██████████| 1/1 [00:11<00:00, 11.85s/ba]\n",
      "Creating parquet from Arrow format: 100%|██████████| 1/1 [00:01<00:00,  1.27s/ba]\n"
     ]
    },
    {
     "name": "stdout",
     "output_type": "stream",
     "text": [
      "count: 69 x 500 = 34500\n"
     ]
    },
    {
     "name": "stderr",
     "output_type": "stream",
     "text": [
      "Map: 100%|██████████| 450/450 [00:31<00:00, 14.42 examples/s]\n",
      "Map: 100%|██████████| 50/50 [00:06<00:00,  7.19 examples/s]\n",
      "Creating parquet from Arrow format: 100%|██████████| 1/1 [00:11<00:00, 11.01s/ba]\n",
      "Creating parquet from Arrow format: 100%|██████████| 1/1 [00:01<00:00,  1.26s/ba]\n"
     ]
    },
    {
     "name": "stdout",
     "output_type": "stream",
     "text": [
      "count: 70 x 500 = 35000\n"
     ]
    },
    {
     "name": "stderr",
     "output_type": "stream",
     "text": [
      "Map: 100%|██████████| 450/450 [00:32<00:00, 13.98 examples/s]\n",
      "Map: 100%|██████████| 50/50 [00:03<00:00, 14.49 examples/s]\n",
      "Creating parquet from Arrow format: 100%|██████████| 1/1 [00:11<00:00, 11.34s/ba]\n",
      "Creating parquet from Arrow format: 100%|██████████| 1/1 [00:01<00:00,  1.33s/ba]\n"
     ]
    },
    {
     "name": "stdout",
     "output_type": "stream",
     "text": [
      "count: 71 x 500 = 35500\n"
     ]
    },
    {
     "name": "stderr",
     "output_type": "stream",
     "text": [
      "Map: 100%|██████████| 450/450 [00:30<00:00, 14.82 examples/s]\n",
      "Map: 100%|██████████| 50/50 [00:02<00:00, 17.34 examples/s]\n",
      "Creating parquet from Arrow format: 100%|██████████| 1/1 [00:10<00:00, 10.49s/ba]\n",
      "Creating parquet from Arrow format: 100%|██████████| 1/1 [00:01<00:00,  1.26s/ba]\n"
     ]
    },
    {
     "name": "stdout",
     "output_type": "stream",
     "text": [
      "count: 72 x 500 = 36000\n"
     ]
    },
    {
     "name": "stderr",
     "output_type": "stream",
     "text": [
      "Map: 100%|██████████| 450/450 [00:29<00:00, 15.13 examples/s]\n",
      "Map: 100%|██████████| 50/50 [00:03<00:00, 13.30 examples/s]\n",
      "Creating parquet from Arrow format: 100%|██████████| 1/1 [00:10<00:00, 10.65s/ba]\n",
      "Creating parquet from Arrow format: 100%|██████████| 1/1 [00:01<00:00,  1.35s/ba]\n"
     ]
    },
    {
     "name": "stdout",
     "output_type": "stream",
     "text": [
      "count: 73 x 500 = 36500\n"
     ]
    },
    {
     "name": "stderr",
     "output_type": "stream",
     "text": [
      "Map: 100%|██████████| 450/450 [00:31<00:00, 14.31 examples/s]\n",
      "Map: 100%|██████████| 50/50 [00:03<00:00, 16.06 examples/s]\n",
      "Creating parquet from Arrow format: 100%|██████████| 1/1 [00:11<00:00, 11.26s/ba]\n",
      "Creating parquet from Arrow format: 100%|██████████| 1/1 [00:01<00:00,  1.21s/ba]\n"
     ]
    },
    {
     "name": "stdout",
     "output_type": "stream",
     "text": [
      "count: 74 x 500 = 37000\n"
     ]
    },
    {
     "name": "stderr",
     "output_type": "stream",
     "text": [
      "Map: 100%|██████████| 450/450 [00:29<00:00, 15.21 examples/s]\n",
      "Map: 100%|██████████| 50/50 [00:03<00:00, 13.77 examples/s]\n",
      "Creating parquet from Arrow format: 100%|██████████| 1/1 [00:11<00:00, 11.23s/ba]\n",
      "Creating parquet from Arrow format: 100%|██████████| 1/1 [00:01<00:00,  1.18s/ba]\n"
     ]
    },
    {
     "name": "stdout",
     "output_type": "stream",
     "text": [
      "count: 75 x 500 = 37500\n"
     ]
    },
    {
     "name": "stderr",
     "output_type": "stream",
     "text": [
      "Map: 100%|██████████| 450/450 [00:34<00:00, 12.97 examples/s]\n",
      "Map: 100%|██████████| 50/50 [00:05<00:00,  9.83 examples/s]\n",
      "Creating parquet from Arrow format: 100%|██████████| 1/1 [00:12<00:00, 12.18s/ba]\n",
      "Creating parquet from Arrow format: 100%|██████████| 1/1 [00:01<00:00,  1.29s/ba]\n"
     ]
    },
    {
     "name": "stdout",
     "output_type": "stream",
     "text": [
      "count: 76 x 500 = 38000\n"
     ]
    },
    {
     "name": "stderr",
     "output_type": "stream",
     "text": [
      "Map: 100%|██████████| 450/450 [00:30<00:00, 14.88 examples/s]\n",
      "Map: 100%|██████████| 50/50 [00:03<00:00, 13.79 examples/s]\n",
      "Creating parquet from Arrow format: 100%|██████████| 1/1 [00:11<00:00, 11.12s/ba]\n",
      "Creating parquet from Arrow format: 100%|██████████| 1/1 [00:01<00:00,  1.24s/ba]\n"
     ]
    },
    {
     "name": "stdout",
     "output_type": "stream",
     "text": [
      "count: 77 x 500 = 38500\n"
     ]
    },
    {
     "name": "stderr",
     "output_type": "stream",
     "text": [
      "Map: 100%|██████████| 450/450 [00:28<00:00, 15.59 examples/s]\n",
      "Map: 100%|██████████| 50/50 [00:03<00:00, 16.03 examples/s]\n",
      "Creating parquet from Arrow format: 100%|██████████| 1/1 [00:11<00:00, 11.26s/ba]\n",
      "Creating parquet from Arrow format: 100%|██████████| 1/1 [00:01<00:00,  1.19s/ba]\n"
     ]
    },
    {
     "name": "stdout",
     "output_type": "stream",
     "text": [
      "count: 78 x 500 = 39000\n"
     ]
    },
    {
     "name": "stderr",
     "output_type": "stream",
     "text": [
      "Map: 100%|██████████| 450/450 [00:35<00:00, 12.63 examples/s]\n",
      "Map: 100%|██████████| 50/50 [00:03<00:00, 16.11 examples/s]\n",
      "Creating parquet from Arrow format: 100%|██████████| 1/1 [00:11<00:00, 12.00s/ba]\n",
      "Creating parquet from Arrow format: 100%|██████████| 1/1 [00:01<00:00,  1.16s/ba]\n"
     ]
    },
    {
     "name": "stdout",
     "output_type": "stream",
     "text": [
      "count: 79 x 500 = 39500\n"
     ]
    },
    {
     "name": "stderr",
     "output_type": "stream",
     "text": [
      "Map: 100%|██████████| 450/450 [00:29<00:00, 15.48 examples/s]\n",
      "Map: 100%|██████████| 50/50 [00:03<00:00, 14.53 examples/s]\n",
      "Creating parquet from Arrow format: 100%|██████████| 1/1 [00:11<00:00, 11.83s/ba]\n",
      "Creating parquet from Arrow format: 100%|██████████| 1/1 [00:01<00:00,  1.28s/ba]\n"
     ]
    },
    {
     "name": "stdout",
     "output_type": "stream",
     "text": [
      "count: 80 x 500 = 40000\n"
     ]
    },
    {
     "name": "stderr",
     "output_type": "stream",
     "text": [
      "Map: 100%|██████████| 450/450 [00:28<00:00, 15.76 examples/s]\n",
      "Map: 100%|██████████| 50/50 [00:02<00:00, 18.73 examples/s]\n",
      "Creating parquet from Arrow format: 100%|██████████| 1/1 [00:10<00:00, 10.68s/ba]\n",
      "Creating parquet from Arrow format: 100%|██████████| 1/1 [00:01<00:00,  1.19s/ba]\n"
     ]
    },
    {
     "name": "stdout",
     "output_type": "stream",
     "text": [
      "count: 81 x 500 = 40500\n"
     ]
    },
    {
     "name": "stderr",
     "output_type": "stream",
     "text": [
      "Map: 100%|██████████| 450/450 [00:33<00:00, 13.27 examples/s]\n",
      "Map: 100%|██████████| 50/50 [00:03<00:00, 15.91 examples/s]\n",
      "Creating parquet from Arrow format: 100%|██████████| 1/1 [00:10<00:00, 10.79s/ba]\n",
      "Creating parquet from Arrow format: 100%|██████████| 1/1 [00:01<00:00,  1.22s/ba]\n"
     ]
    },
    {
     "name": "stdout",
     "output_type": "stream",
     "text": [
      "count: 82 x 500 = 41000\n"
     ]
    },
    {
     "name": "stderr",
     "output_type": "stream",
     "text": [
      "Map: 100%|██████████| 450/450 [00:29<00:00, 15.08 examples/s]\n",
      "Map: 100%|██████████| 50/50 [00:02<00:00, 21.71 examples/s]\n",
      "Creating parquet from Arrow format: 100%|██████████| 1/1 [00:11<00:00, 11.12s/ba]\n",
      "Creating parquet from Arrow format: 100%|██████████| 1/1 [00:01<00:00,  1.22s/ba]\n"
     ]
    },
    {
     "name": "stdout",
     "output_type": "stream",
     "text": [
      "count: 83 x 500 = 41500\n"
     ]
    },
    {
     "name": "stderr",
     "output_type": "stream",
     "text": [
      "Map: 100%|██████████| 450/450 [00:33<00:00, 13.62 examples/s]\n",
      "Map: 100%|██████████| 50/50 [00:02<00:00, 17.18 examples/s]\n",
      "Creating parquet from Arrow format: 100%|██████████| 1/1 [00:11<00:00, 11.05s/ba]\n",
      "Creating parquet from Arrow format: 100%|██████████| 1/1 [00:01<00:00,  1.17s/ba]\n"
     ]
    },
    {
     "name": "stdout",
     "output_type": "stream",
     "text": [
      "count: 84 x 500 = 42000\n"
     ]
    },
    {
     "name": "stderr",
     "output_type": "stream",
     "text": [
      "Map: 100%|██████████| 450/450 [00:26<00:00, 16.73 examples/s]\n",
      "Map: 100%|██████████| 50/50 [00:04<00:00, 10.65 examples/s]\n",
      "Creating parquet from Arrow format: 100%|██████████| 1/1 [00:12<00:00, 12.05s/ba]\n",
      "Creating parquet from Arrow format: 100%|██████████| 1/1 [00:01<00:00,  1.24s/ba]\n"
     ]
    },
    {
     "name": "stdout",
     "output_type": "stream",
     "text": [
      "count: 85 x 500 = 42500\n"
     ]
    },
    {
     "name": "stderr",
     "output_type": "stream",
     "text": [
      "Map: 100%|██████████| 450/450 [00:31<00:00, 14.14 examples/s]\n",
      "Map: 100%|██████████| 50/50 [00:04<00:00, 10.01 examples/s]\n",
      "Creating parquet from Arrow format: 100%|██████████| 1/1 [00:10<00:00, 10.94s/ba]\n",
      "Creating parquet from Arrow format: 100%|██████████| 1/1 [00:01<00:00,  1.27s/ba]\n"
     ]
    },
    {
     "name": "stdout",
     "output_type": "stream",
     "text": [
      "count: 86 x 500 = 43000\n"
     ]
    },
    {
     "name": "stderr",
     "output_type": "stream",
     "text": [
      "Map: 100%|██████████| 450/450 [00:39<00:00, 11.26 examples/s]\n",
      "Map: 100%|██████████| 50/50 [00:07<00:00,  6.37 examples/s]\n",
      "Creating parquet from Arrow format: 100%|██████████| 1/1 [00:11<00:00, 11.35s/ba]\n",
      "Creating parquet from Arrow format: 100%|██████████| 1/1 [00:01<00:00,  1.38s/ba]\n"
     ]
    },
    {
     "name": "stdout",
     "output_type": "stream",
     "text": [
      "count: 87 x 500 = 43500\n"
     ]
    },
    {
     "name": "stderr",
     "output_type": "stream",
     "text": [
      "Map: 100%|██████████| 450/450 [00:31<00:00, 14.22 examples/s]\n",
      "Map: 100%|██████████| 50/50 [00:04<00:00, 11.64 examples/s]\n",
      "Creating parquet from Arrow format: 100%|██████████| 1/1 [00:12<00:00, 12.40s/ba]\n",
      "Creating parquet from Arrow format: 100%|██████████| 1/1 [00:01<00:00,  1.29s/ba]\n"
     ]
    },
    {
     "name": "stdout",
     "output_type": "stream",
     "text": [
      "count: 88 x 500 = 44000\n"
     ]
    },
    {
     "name": "stderr",
     "output_type": "stream",
     "text": [
      "Map: 100%|██████████| 450/450 [00:27<00:00, 16.48 examples/s]\n",
      "Map: 100%|██████████| 50/50 [00:02<00:00, 19.77 examples/s]\n",
      "Creating parquet from Arrow format: 100%|██████████| 1/1 [00:10<00:00, 10.88s/ba]\n",
      "Creating parquet from Arrow format: 100%|██████████| 1/1 [00:01<00:00,  1.23s/ba]\n"
     ]
    },
    {
     "name": "stdout",
     "output_type": "stream",
     "text": [
      "count: 89 x 500 = 44500\n"
     ]
    },
    {
     "name": "stderr",
     "output_type": "stream",
     "text": [
      "Map: 100%|██████████| 450/450 [00:26<00:00, 16.80 examples/s]\n",
      "Map: 100%|██████████| 50/50 [00:05<00:00,  8.92 examples/s]\n",
      "Creating parquet from Arrow format: 100%|██████████| 1/1 [00:11<00:00, 11.07s/ba]\n",
      "Creating parquet from Arrow format: 100%|██████████| 1/1 [00:01<00:00,  1.32s/ba]\n"
     ]
    },
    {
     "name": "stdout",
     "output_type": "stream",
     "text": [
      "count: 90 x 500 = 45000\n"
     ]
    },
    {
     "name": "stderr",
     "output_type": "stream",
     "text": [
      "Map: 100%|██████████| 450/450 [00:30<00:00, 14.85 examples/s]\n",
      "Map: 100%|██████████| 50/50 [00:03<00:00, 14.60 examples/s]\n",
      "Creating parquet from Arrow format: 100%|██████████| 1/1 [00:11<00:00, 11.07s/ba]\n",
      "Creating parquet from Arrow format: 100%|██████████| 1/1 [00:01<00:00,  1.22s/ba]\n"
     ]
    },
    {
     "name": "stdout",
     "output_type": "stream",
     "text": [
      "count: 91 x 500 = 45500\n"
     ]
    },
    {
     "name": "stderr",
     "output_type": "stream",
     "text": [
      "Map: 100%|██████████| 450/450 [00:35<00:00, 12.62 examples/s]\n",
      "Map: 100%|██████████| 50/50 [00:06<00:00,  8.21 examples/s]\n",
      "Creating parquet from Arrow format: 100%|██████████| 1/1 [00:11<00:00, 11.23s/ba]\n",
      "Creating parquet from Arrow format: 100%|██████████| 1/1 [00:01<00:00,  1.31s/ba]\n"
     ]
    },
    {
     "name": "stdout",
     "output_type": "stream",
     "text": [
      "count: 92 x 500 = 46000\n"
     ]
    },
    {
     "name": "stderr",
     "output_type": "stream",
     "text": [
      "Map: 100%|██████████| 450/450 [00:44<00:00, 10.22 examples/s]\n",
      "Map: 100%|██████████| 50/50 [00:07<00:00,  6.52 examples/s]\n",
      "Creating parquet from Arrow format: 100%|██████████| 1/1 [00:11<00:00, 11.29s/ba]\n",
      "Creating parquet from Arrow format: 100%|██████████| 1/1 [00:01<00:00,  1.41s/ba]\n"
     ]
    },
    {
     "name": "stdout",
     "output_type": "stream",
     "text": [
      "count: 93 x 500 = 46500\n"
     ]
    },
    {
     "name": "stderr",
     "output_type": "stream",
     "text": [
      "Map: 100%|██████████| 450/450 [00:49<00:00,  9.03 examples/s]\n",
      "Map: 100%|██████████| 50/50 [00:02<00:00, 18.96 examples/s]\n",
      "Creating parquet from Arrow format: 100%|██████████| 1/1 [00:11<00:00, 11.57s/ba]\n",
      "Creating parquet from Arrow format: 100%|██████████| 1/1 [00:01<00:00,  1.26s/ba]\n"
     ]
    },
    {
     "name": "stdout",
     "output_type": "stream",
     "text": [
      "count: 94 x 500 = 47000\n"
     ]
    },
    {
     "name": "stderr",
     "output_type": "stream",
     "text": [
      "Map: 100%|██████████| 450/450 [00:27<00:00, 16.50 examples/s]\n",
      "Map: 100%|██████████| 50/50 [00:02<00:00, 19.18 examples/s]\n",
      "Creating parquet from Arrow format: 100%|██████████| 1/1 [00:11<00:00, 11.00s/ba]\n",
      "Creating parquet from Arrow format: 100%|██████████| 1/1 [00:01<00:00,  1.22s/ba]\n"
     ]
    },
    {
     "name": "stdout",
     "output_type": "stream",
     "text": [
      "count: 95 x 500 = 47500\n"
     ]
    },
    {
     "name": "stderr",
     "output_type": "stream",
     "text": [
      "Map: 100%|██████████| 450/450 [00:31<00:00, 14.38 examples/s]\n",
      "Map: 100%|██████████| 50/50 [00:03<00:00, 14.49 examples/s]\n",
      "Creating parquet from Arrow format: 100%|██████████| 1/1 [00:11<00:00, 11.40s/ba]\n",
      "Creating parquet from Arrow format: 100%|██████████| 1/1 [00:01<00:00,  1.24s/ba]\n"
     ]
    },
    {
     "name": "stdout",
     "output_type": "stream",
     "text": [
      "count: 96 x 500 = 48000\n"
     ]
    },
    {
     "name": "stderr",
     "output_type": "stream",
     "text": [
      "Map: 100%|██████████| 450/450 [00:39<00:00, 11.43 examples/s]\n",
      "Map: 100%|██████████| 50/50 [00:04<00:00, 10.11 examples/s]\n",
      "Creating parquet from Arrow format: 100%|██████████| 1/1 [00:11<00:00, 11.39s/ba]\n",
      "Creating parquet from Arrow format: 100%|██████████| 1/1 [00:01<00:00,  1.30s/ba]\n"
     ]
    },
    {
     "name": "stdout",
     "output_type": "stream",
     "text": [
      "count: 97 x 500 = 48500\n"
     ]
    },
    {
     "name": "stderr",
     "output_type": "stream",
     "text": [
      "Map: 100%|██████████| 450/450 [00:28<00:00, 15.66 examples/s]\n",
      "Map: 100%|██████████| 50/50 [00:02<00:00, 18.88 examples/s]\n",
      "Creating parquet from Arrow format: 100%|██████████| 1/1 [00:10<00:00, 10.99s/ba]\n",
      "Creating parquet from Arrow format: 100%|██████████| 1/1 [00:01<00:00,  1.24s/ba]\n"
     ]
    },
    {
     "name": "stdout",
     "output_type": "stream",
     "text": [
      "count: 98 x 500 = 49000\n"
     ]
    },
    {
     "name": "stderr",
     "output_type": "stream",
     "text": [
      "Map: 100%|██████████| 450/450 [00:30<00:00, 14.96 examples/s]\n",
      "Map: 100%|██████████| 50/50 [00:02<00:00, 18.01 examples/s]\n",
      "Creating parquet from Arrow format: 100%|██████████| 1/1 [00:10<00:00, 10.95s/ba]\n",
      "Creating parquet from Arrow format: 100%|██████████| 1/1 [00:01<00:00,  1.26s/ba]\n"
     ]
    },
    {
     "name": "stdout",
     "output_type": "stream",
     "text": [
      "count: 99 x 500 = 49500\n"
     ]
    },
    {
     "name": "stderr",
     "output_type": "stream",
     "text": [
      "Map: 100%|██████████| 450/450 [00:27<00:00, 16.25 examples/s]\n",
      "Map: 100%|██████████| 50/50 [00:03<00:00, 14.36 examples/s]\n",
      "Creating parquet from Arrow format: 100%|██████████| 1/1 [00:10<00:00, 10.99s/ba]\n",
      "Creating parquet from Arrow format: 100%|██████████| 1/1 [00:01<00:00,  1.28s/ba]\n"
     ]
    },
    {
     "name": "stdout",
     "output_type": "stream",
     "text": [
      "count: 100 x 500 = 50000\n"
     ]
    },
    {
     "name": "stderr",
     "output_type": "stream",
     "text": [
      "Map: 100%|██████████| 450/450 [00:32<00:00, 14.06 examples/s]\n",
      "Map: 100%|██████████| 50/50 [00:02<00:00, 20.65 examples/s]\n",
      "Creating parquet from Arrow format: 100%|██████████| 1/1 [00:11<00:00, 11.01s/ba]\n",
      "Creating parquet from Arrow format: 100%|██████████| 1/1 [00:01<00:00,  1.32s/ba]\n"
     ]
    },
    {
     "name": "stdout",
     "output_type": "stream",
     "text": [
      "count: 101 x 500 = 50500\n"
     ]
    },
    {
     "name": "stderr",
     "output_type": "stream",
     "text": [
      "Map: 100%|██████████| 450/450 [00:30<00:00, 14.52 examples/s]\n",
      "Map: 100%|██████████| 50/50 [00:02<00:00, 20.88 examples/s]\n",
      "Creating parquet from Arrow format: 100%|██████████| 1/1 [00:11<00:00, 11.16s/ba]\n",
      "Creating parquet from Arrow format: 100%|██████████| 1/1 [00:01<00:00,  1.21s/ba]\n"
     ]
    },
    {
     "name": "stdout",
     "output_type": "stream",
     "text": [
      "count: 102 x 500 = 51000\n"
     ]
    },
    {
     "name": "stderr",
     "output_type": "stream",
     "text": [
      "Map: 100%|██████████| 450/450 [00:27<00:00, 16.55 examples/s]\n",
      "Map: 100%|██████████| 50/50 [00:02<00:00, 19.80 examples/s]\n",
      "Creating parquet from Arrow format: 100%|██████████| 1/1 [00:11<00:00, 11.25s/ba]\n",
      "Creating parquet from Arrow format: 100%|██████████| 1/1 [00:01<00:00,  1.15s/ba]\n"
     ]
    },
    {
     "name": "stdout",
     "output_type": "stream",
     "text": [
      "count: 103 x 500 = 51500\n"
     ]
    },
    {
     "name": "stderr",
     "output_type": "stream",
     "text": [
      "Map: 100%|██████████| 450/450 [00:27<00:00, 16.59 examples/s]\n",
      "Map: 100%|██████████| 50/50 [00:02<00:00, 20.56 examples/s]\n",
      "Creating parquet from Arrow format: 100%|██████████| 1/1 [00:11<00:00, 11.59s/ba]\n",
      "Creating parquet from Arrow format: 100%|██████████| 1/1 [00:01<00:00,  1.27s/ba]\n"
     ]
    },
    {
     "name": "stdout",
     "output_type": "stream",
     "text": [
      "count: 104 x 500 = 52000\n"
     ]
    },
    {
     "name": "stderr",
     "output_type": "stream",
     "text": [
      "Map: 100%|██████████| 450/450 [00:27<00:00, 16.08 examples/s]\n",
      "Map: 100%|██████████| 50/50 [00:03<00:00, 16.45 examples/s]\n",
      "Creating parquet from Arrow format: 100%|██████████| 1/1 [00:12<00:00, 12.06s/ba]\n",
      "Creating parquet from Arrow format: 100%|██████████| 1/1 [00:01<00:00,  1.28s/ba]\n"
     ]
    },
    {
     "name": "stdout",
     "output_type": "stream",
     "text": [
      "count: 105 x 500 = 52500\n"
     ]
    },
    {
     "name": "stderr",
     "output_type": "stream",
     "text": [
      "Map: 100%|██████████| 450/450 [00:29<00:00, 15.34 examples/s]\n",
      "Map: 100%|██████████| 50/50 [00:02<00:00, 18.60 examples/s]\n",
      "Creating parquet from Arrow format: 100%|██████████| 1/1 [00:10<00:00, 10.97s/ba]\n",
      "Creating parquet from Arrow format: 100%|██████████| 1/1 [00:01<00:00,  1.23s/ba]\n"
     ]
    },
    {
     "name": "stdout",
     "output_type": "stream",
     "text": [
      "count: 106 x 500 = 53000\n"
     ]
    },
    {
     "name": "stderr",
     "output_type": "stream",
     "text": [
      "Map: 100%|██████████| 450/450 [00:30<00:00, 14.79 examples/s]\n",
      "Map: 100%|██████████| 50/50 [00:03<00:00, 14.41 examples/s]\n",
      "Creating parquet from Arrow format: 100%|██████████| 1/1 [00:11<00:00, 11.16s/ba]\n",
      "Creating parquet from Arrow format: 100%|██████████| 1/1 [00:01<00:00,  1.30s/ba]\n"
     ]
    },
    {
     "name": "stdout",
     "output_type": "stream",
     "text": [
      "count: 107 x 500 = 53500\n"
     ]
    },
    {
     "name": "stderr",
     "output_type": "stream",
     "text": [
      "Map: 100%|██████████| 450/450 [00:27<00:00, 16.33 examples/s]\n",
      "Map: 100%|██████████| 50/50 [00:03<00:00, 15.43 examples/s]\n",
      "Creating parquet from Arrow format: 100%|██████████| 1/1 [00:11<00:00, 11.15s/ba]\n",
      "Creating parquet from Arrow format: 100%|██████████| 1/1 [00:01<00:00,  1.23s/ba]\n"
     ]
    },
    {
     "name": "stdout",
     "output_type": "stream",
     "text": [
      "count: 108 x 500 = 54000\n"
     ]
    },
    {
     "name": "stderr",
     "output_type": "stream",
     "text": [
      "Map: 100%|██████████| 450/450 [00:40<00:00, 11.20 examples/s]\n",
      "Map: 100%|██████████| 50/50 [00:02<00:00, 16.79 examples/s]\n",
      "Creating parquet from Arrow format: 100%|██████████| 1/1 [00:11<00:00, 11.21s/ba]\n",
      "Creating parquet from Arrow format: 100%|██████████| 1/1 [00:01<00:00,  1.24s/ba]\n"
     ]
    },
    {
     "name": "stdout",
     "output_type": "stream",
     "text": [
      "count: 109 x 500 = 54500\n"
     ]
    },
    {
     "name": "stderr",
     "output_type": "stream",
     "text": [
      "Map: 100%|██████████| 450/450 [00:29<00:00, 15.36 examples/s]\n",
      "Map: 100%|██████████| 50/50 [00:03<00:00, 16.27 examples/s]\n",
      "Creating parquet from Arrow format: 100%|██████████| 1/1 [00:10<00:00, 10.92s/ba]\n",
      "Creating parquet from Arrow format: 100%|██████████| 1/1 [00:01<00:00,  1.29s/ba]\n"
     ]
    },
    {
     "name": "stdout",
     "output_type": "stream",
     "text": [
      "count: 110 x 500 = 55000\n"
     ]
    },
    {
     "name": "stderr",
     "output_type": "stream",
     "text": [
      "Map: 100%|██████████| 450/450 [00:29<00:00, 15.05 examples/s]\n",
      "Map: 100%|██████████| 50/50 [00:04<00:00, 10.21 examples/s]\n",
      "Creating parquet from Arrow format: 100%|██████████| 1/1 [00:11<00:00, 11.11s/ba]\n",
      "Creating parquet from Arrow format: 100%|██████████| 1/1 [00:01<00:00,  1.34s/ba]\n"
     ]
    },
    {
     "name": "stdout",
     "output_type": "stream",
     "text": [
      "count: 111 x 500 = 55500\n"
     ]
    },
    {
     "name": "stderr",
     "output_type": "stream",
     "text": [
      "Map: 100%|██████████| 450/450 [00:33<00:00, 13.33 examples/s]\n",
      "Map: 100%|██████████| 50/50 [00:03<00:00, 13.53 examples/s]\n",
      "Creating parquet from Arrow format: 100%|██████████| 1/1 [00:11<00:00, 11.50s/ba]\n",
      "Creating parquet from Arrow format: 100%|██████████| 1/1 [00:01<00:00,  1.29s/ba]\n"
     ]
    },
    {
     "name": "stdout",
     "output_type": "stream",
     "text": [
      "count: 112 x 500 = 56000\n"
     ]
    },
    {
     "name": "stderr",
     "output_type": "stream",
     "text": [
      "Map: 100%|██████████| 450/450 [00:32<00:00, 13.84 examples/s]\n",
      "Map: 100%|██████████| 50/50 [00:03<00:00, 15.24 examples/s]\n",
      "Creating parquet from Arrow format: 100%|██████████| 1/1 [00:10<00:00, 10.75s/ba]\n",
      "Creating parquet from Arrow format: 100%|██████████| 1/1 [00:01<00:00,  1.28s/ba]\n"
     ]
    },
    {
     "name": "stdout",
     "output_type": "stream",
     "text": [
      "count: 113 x 500 = 56500\n"
     ]
    },
    {
     "name": "stderr",
     "output_type": "stream",
     "text": [
      "Map: 100%|██████████| 450/450 [00:33<00:00, 13.35 examples/s]\n",
      "Map: 100%|██████████| 50/50 [00:02<00:00, 17.93 examples/s]\n",
      "Creating parquet from Arrow format: 100%|██████████| 1/1 [00:11<00:00, 11.37s/ba]\n",
      "Creating parquet from Arrow format: 100%|██████████| 1/1 [00:01<00:00,  1.35s/ba]\n"
     ]
    },
    {
     "name": "stdout",
     "output_type": "stream",
     "text": [
      "count: 114 x 500 = 57000\n"
     ]
    },
    {
     "name": "stderr",
     "output_type": "stream",
     "text": [
      "Map: 100%|██████████| 450/450 [00:36<00:00, 12.17 examples/s]\n",
      "Map: 100%|██████████| 50/50 [00:07<00:00,  6.41 examples/s]\n",
      "Creating parquet from Arrow format: 100%|██████████| 1/1 [00:11<00:00, 11.51s/ba]\n",
      "Creating parquet from Arrow format: 100%|██████████| 1/1 [00:01<00:00,  1.34s/ba]\n"
     ]
    },
    {
     "name": "stdout",
     "output_type": "stream",
     "text": [
      "count: 115 x 500 = 57500\n"
     ]
    },
    {
     "name": "stderr",
     "output_type": "stream",
     "text": [
      "Map: 100%|██████████| 450/450 [00:30<00:00, 14.75 examples/s]\n",
      "Map: 100%|██████████| 50/50 [00:03<00:00, 13.85 examples/s]\n",
      "Creating parquet from Arrow format: 100%|██████████| 1/1 [00:10<00:00, 10.97s/ba]\n",
      "Creating parquet from Arrow format: 100%|██████████| 1/1 [00:01<00:00,  1.23s/ba]\n"
     ]
    },
    {
     "name": "stdout",
     "output_type": "stream",
     "text": [
      "count: 116 x 500 = 58000\n"
     ]
    },
    {
     "name": "stderr",
     "output_type": "stream",
     "text": [
      "Map: 100%|██████████| 450/450 [00:29<00:00, 15.02 examples/s]\n",
      "Map: 100%|██████████| 50/50 [00:02<00:00, 18.17 examples/s]\n",
      "Creating parquet from Arrow format: 100%|██████████| 1/1 [00:10<00:00, 10.87s/ba]\n",
      "Creating parquet from Arrow format: 100%|██████████| 1/1 [00:01<00:00,  1.25s/ba]\n"
     ]
    },
    {
     "name": "stdout",
     "output_type": "stream",
     "text": [
      "count: 117 x 500 = 58500\n"
     ]
    },
    {
     "name": "stderr",
     "output_type": "stream",
     "text": [
      "Map: 100%|██████████| 450/450 [00:28<00:00, 15.90 examples/s]\n",
      "Map: 100%|██████████| 50/50 [00:02<00:00, 17.82 examples/s]\n",
      "Creating parquet from Arrow format: 100%|██████████| 1/1 [00:11<00:00, 11.30s/ba]\n",
      "Creating parquet from Arrow format: 100%|██████████| 1/1 [00:01<00:00,  1.23s/ba]\n"
     ]
    },
    {
     "name": "stdout",
     "output_type": "stream",
     "text": [
      "count: 118 x 500 = 59000\n"
     ]
    },
    {
     "name": "stderr",
     "output_type": "stream",
     "text": [
      "Map: 100%|██████████| 450/450 [00:34<00:00, 13.09 examples/s]\n",
      "Map: 100%|██████████| 50/50 [00:04<00:00, 11.84 examples/s]\n",
      "Creating parquet from Arrow format: 100%|██████████| 1/1 [00:11<00:00, 11.45s/ba]\n",
      "Creating parquet from Arrow format: 100%|██████████| 1/1 [00:01<00:00,  1.93s/ba]\n"
     ]
    },
    {
     "name": "stdout",
     "output_type": "stream",
     "text": [
      "count: 119 x 500 = 59500\n"
     ]
    },
    {
     "name": "stderr",
     "output_type": "stream",
     "text": [
      "Map: 100%|██████████| 450/450 [00:28<00:00, 15.72 examples/s]\n",
      "Map: 100%|██████████| 50/50 [00:07<00:00,  6.95 examples/s]\n",
      "Creating parquet from Arrow format: 100%|██████████| 1/1 [00:11<00:00, 11.35s/ba]\n",
      "Creating parquet from Arrow format: 100%|██████████| 1/1 [00:01<00:00,  1.29s/ba]\n"
     ]
    },
    {
     "name": "stdout",
     "output_type": "stream",
     "text": [
      "count: 120 x 500 = 60000\n"
     ]
    },
    {
     "name": "stderr",
     "output_type": "stream",
     "text": [
      "Map: 100%|██████████| 450/450 [00:29<00:00, 15.42 examples/s]\n",
      "Map: 100%|██████████| 50/50 [00:03<00:00, 13.82 examples/s]\n",
      "Creating parquet from Arrow format: 100%|██████████| 1/1 [00:10<00:00, 10.75s/ba]\n",
      "Creating parquet from Arrow format: 100%|██████████| 1/1 [00:01<00:00,  1.24s/ba]\n"
     ]
    },
    {
     "name": "stdout",
     "output_type": "stream",
     "text": [
      "count: 121 x 500 = 60500\n"
     ]
    },
    {
     "name": "stderr",
     "output_type": "stream",
     "text": [
      "Map: 100%|██████████| 450/450 [00:30<00:00, 14.61 examples/s]\n",
      "Map: 100%|██████████| 50/50 [00:02<00:00, 21.96 examples/s]\n",
      "Creating parquet from Arrow format: 100%|██████████| 1/1 [00:10<00:00, 10.97s/ba]\n",
      "Creating parquet from Arrow format: 100%|██████████| 1/1 [00:01<00:00,  1.17s/ba]\n"
     ]
    },
    {
     "name": "stdout",
     "output_type": "stream",
     "text": [
      "count: 122 x 500 = 61000\n"
     ]
    },
    {
     "name": "stderr",
     "output_type": "stream",
     "text": [
      "Map: 100%|██████████| 450/450 [00:30<00:00, 14.69 examples/s]\n",
      "Map: 100%|██████████| 50/50 [00:02<00:00, 17.90 examples/s]\n",
      "Creating parquet from Arrow format: 100%|██████████| 1/1 [00:11<00:00, 11.15s/ba]\n",
      "Creating parquet from Arrow format: 100%|██████████| 1/1 [00:01<00:00,  1.26s/ba]\n"
     ]
    },
    {
     "name": "stdout",
     "output_type": "stream",
     "text": [
      "count: 123 x 500 = 61500\n"
     ]
    },
    {
     "name": "stderr",
     "output_type": "stream",
     "text": [
      "Map: 100%|██████████| 450/450 [00:35<00:00, 12.61 examples/s]\n",
      "Map: 100%|██████████| 50/50 [00:08<00:00,  5.77 examples/s]\n",
      "Creating parquet from Arrow format: 100%|██████████| 1/1 [00:11<00:00, 11.48s/ba]\n",
      "Creating parquet from Arrow format: 100%|██████████| 1/1 [00:01<00:00,  1.35s/ba]\n"
     ]
    },
    {
     "name": "stdout",
     "output_type": "stream",
     "text": [
      "count: 124 x 500 = 62000\n"
     ]
    },
    {
     "name": "stderr",
     "output_type": "stream",
     "text": [
      "Map: 100%|██████████| 450/450 [00:33<00:00, 13.42 examples/s]\n",
      "Map: 100%|██████████| 50/50 [00:02<00:00, 20.19 examples/s]\n",
      "Creating parquet from Arrow format: 100%|██████████| 1/1 [00:10<00:00, 10.88s/ba]\n",
      "Creating parquet from Arrow format: 100%|██████████| 1/1 [00:01<00:00,  1.23s/ba]\n"
     ]
    },
    {
     "name": "stdout",
     "output_type": "stream",
     "text": [
      "count: 125 x 500 = 62500\n"
     ]
    },
    {
     "name": "stderr",
     "output_type": "stream",
     "text": [
      "Map: 100%|██████████| 450/450 [00:26<00:00, 16.79 examples/s]\n",
      "Map: 100%|██████████| 50/50 [00:03<00:00, 16.40 examples/s]\n",
      "Creating parquet from Arrow format: 100%|██████████| 1/1 [00:12<00:00, 12.00s/ba]\n",
      "Creating parquet from Arrow format: 100%|██████████| 1/1 [00:01<00:00,  1.34s/ba]\n"
     ]
    },
    {
     "name": "stdout",
     "output_type": "stream",
     "text": [
      "count: 126 x 500 = 63000\n"
     ]
    },
    {
     "name": "stderr",
     "output_type": "stream",
     "text": [
      "Map: 100%|██████████| 450/450 [00:35<00:00, 12.59 examples/s]\n",
      "Map: 100%|██████████| 50/50 [00:03<00:00, 15.81 examples/s]\n",
      "Creating parquet from Arrow format: 100%|██████████| 1/1 [00:11<00:00, 11.47s/ba]\n",
      "Creating parquet from Arrow format: 100%|██████████| 1/1 [00:01<00:00,  1.28s/ba]\n"
     ]
    },
    {
     "name": "stdout",
     "output_type": "stream",
     "text": [
      "count: 127 x 500 = 63500\n"
     ]
    },
    {
     "name": "stderr",
     "output_type": "stream",
     "text": [
      "Map: 100%|██████████| 450/450 [00:27<00:00, 16.58 examples/s]\n",
      "Map: 100%|██████████| 50/50 [00:02<00:00, 17.21 examples/s]\n",
      "Creating parquet from Arrow format: 100%|██████████| 1/1 [00:11<00:00, 11.62s/ba]\n",
      "Creating parquet from Arrow format: 100%|██████████| 1/1 [00:01<00:00,  1.25s/ba]\n"
     ]
    },
    {
     "name": "stdout",
     "output_type": "stream",
     "text": [
      "count: 128 x 500 = 64000\n"
     ]
    },
    {
     "name": "stderr",
     "output_type": "stream",
     "text": [
      "Map: 100%|██████████| 450/450 [00:30<00:00, 14.80 examples/s]\n",
      "Map: 100%|██████████| 50/50 [00:02<00:00, 18.18 examples/s]\n",
      "Creating parquet from Arrow format: 100%|██████████| 1/1 [00:11<00:00, 11.11s/ba]\n",
      "Creating parquet from Arrow format: 100%|██████████| 1/1 [00:01<00:00,  1.21s/ba]\n"
     ]
    },
    {
     "name": "stdout",
     "output_type": "stream",
     "text": [
      "count: 129 x 500 = 64500\n"
     ]
    },
    {
     "name": "stderr",
     "output_type": "stream",
     "text": [
      "Map: 100%|██████████| 450/450 [00:27<00:00, 16.31 examples/s]\n",
      "Map: 100%|██████████| 50/50 [00:02<00:00, 20.69 examples/s]\n",
      "Creating parquet from Arrow format: 100%|██████████| 1/1 [00:10<00:00, 10.62s/ba]\n",
      "Creating parquet from Arrow format: 100%|██████████| 1/1 [00:01<00:00,  1.21s/ba]\n"
     ]
    },
    {
     "name": "stdout",
     "output_type": "stream",
     "text": [
      "count: 130 x 500 = 65000\n"
     ]
    },
    {
     "name": "stderr",
     "output_type": "stream",
     "text": [
      "Map: 100%|██████████| 450/450 [00:26<00:00, 17.08 examples/s]\n",
      "Map: 100%|██████████| 50/50 [00:02<00:00, 21.56 examples/s]\n",
      "Creating parquet from Arrow format: 100%|██████████| 1/1 [00:10<00:00, 11.00s/ba]\n",
      "Creating parquet from Arrow format: 100%|██████████| 1/1 [00:01<00:00,  1.19s/ba]\n"
     ]
    },
    {
     "name": "stdout",
     "output_type": "stream",
     "text": [
      "count: 131 x 500 = 65500\n"
     ]
    },
    {
     "name": "stderr",
     "output_type": "stream",
     "text": [
      "Map: 100%|██████████| 450/450 [00:33<00:00, 13.50 examples/s]\n",
      "Map: 100%|██████████| 50/50 [00:03<00:00, 16.04 examples/s]\n",
      "Creating parquet from Arrow format: 100%|██████████| 1/1 [00:10<00:00, 10.73s/ba]\n",
      "Creating parquet from Arrow format: 100%|██████████| 1/1 [00:01<00:00,  1.23s/ba]\n"
     ]
    },
    {
     "name": "stdout",
     "output_type": "stream",
     "text": [
      "count: 132 x 500 = 66000\n"
     ]
    },
    {
     "name": "stderr",
     "output_type": "stream",
     "text": [
      "Map: 100%|██████████| 450/450 [00:27<00:00, 16.51 examples/s]\n",
      "Map: 100%|██████████| 50/50 [00:04<00:00, 11.46 examples/s]\n",
      "Creating parquet from Arrow format: 100%|██████████| 1/1 [00:11<00:00, 11.09s/ba]\n",
      "Creating parquet from Arrow format: 100%|██████████| 1/1 [00:01<00:00,  1.23s/ba]\n"
     ]
    },
    {
     "name": "stdout",
     "output_type": "stream",
     "text": [
      "count: 133 x 500 = 66500\n"
     ]
    },
    {
     "name": "stderr",
     "output_type": "stream",
     "text": [
      "Map: 100%|██████████| 450/450 [00:24<00:00, 18.73 examples/s]\n",
      "Map: 100%|██████████| 50/50 [00:02<00:00, 21.14 examples/s]\n",
      "Creating parquet from Arrow format: 100%|██████████| 1/1 [00:10<00:00, 10.38s/ba]\n",
      "Creating parquet from Arrow format: 100%|██████████| 1/1 [00:01<00:00,  1.20s/ba]\n"
     ]
    },
    {
     "name": "stdout",
     "output_type": "stream",
     "text": [
      "count: 134 x 500 = 67000\n"
     ]
    },
    {
     "name": "stderr",
     "output_type": "stream",
     "text": [
      "Map: 100%|██████████| 450/450 [00:29<00:00, 15.03 examples/s]\n",
      "Map: 100%|██████████| 50/50 [00:02<00:00, 21.12 examples/s]\n",
      "Creating parquet from Arrow format: 100%|██████████| 1/1 [00:10<00:00, 10.78s/ba]\n",
      "Creating parquet from Arrow format: 100%|██████████| 1/1 [00:01<00:00,  1.22s/ba]\n"
     ]
    },
    {
     "name": "stdout",
     "output_type": "stream",
     "text": [
      "count: 135 x 500 = 67500\n"
     ]
    },
    {
     "name": "stderr",
     "output_type": "stream",
     "text": [
      "Map: 100%|██████████| 450/450 [00:36<00:00, 12.41 examples/s]\n",
      "Map: 100%|██████████| 50/50 [00:04<00:00, 10.55 examples/s]\n",
      "Creating parquet from Arrow format: 100%|██████████| 1/1 [00:11<00:00, 11.10s/ba]\n",
      "Creating parquet from Arrow format: 100%|██████████| 1/1 [00:01<00:00,  1.33s/ba]\n"
     ]
    },
    {
     "name": "stdout",
     "output_type": "stream",
     "text": [
      "count: 136 x 500 = 68000\n"
     ]
    },
    {
     "name": "stderr",
     "output_type": "stream",
     "text": [
      "Map: 100%|██████████| 450/450 [00:36<00:00, 12.40 examples/s]\n",
      "Map: 100%|██████████| 50/50 [00:02<00:00, 20.29 examples/s]\n",
      "Creating parquet from Arrow format: 100%|██████████| 1/1 [00:12<00:00, 12.03s/ba]\n",
      "Creating parquet from Arrow format: 100%|██████████| 1/1 [00:01<00:00,  1.23s/ba]\n"
     ]
    },
    {
     "name": "stdout",
     "output_type": "stream",
     "text": [
      "count: 137 x 500 = 68500\n"
     ]
    },
    {
     "name": "stderr",
     "output_type": "stream",
     "text": [
      "Map: 100%|██████████| 450/450 [00:37<00:00, 12.02 examples/s]\n",
      "Map: 100%|██████████| 50/50 [00:02<00:00, 18.35 examples/s]\n",
      "Creating parquet from Arrow format: 100%|██████████| 1/1 [00:11<00:00, 11.32s/ba]\n",
      "Creating parquet from Arrow format: 100%|██████████| 1/1 [00:01<00:00,  1.22s/ba]\n"
     ]
    },
    {
     "name": "stdout",
     "output_type": "stream",
     "text": [
      "count: 138 x 500 = 69000\n"
     ]
    },
    {
     "name": "stderr",
     "output_type": "stream",
     "text": [
      "Map: 100%|██████████| 450/450 [00:32<00:00, 13.95 examples/s]\n",
      "Map: 100%|██████████| 50/50 [00:02<00:00, 19.96 examples/s]\n",
      "Creating parquet from Arrow format: 100%|██████████| 1/1 [00:11<00:00, 11.59s/ba]\n",
      "Creating parquet from Arrow format: 100%|██████████| 1/1 [00:01<00:00,  1.40s/ba]\n"
     ]
    },
    {
     "name": "stdout",
     "output_type": "stream",
     "text": [
      "count: 139 x 500 = 69500\n"
     ]
    },
    {
     "name": "stderr",
     "output_type": "stream",
     "text": [
      "Map: 100%|██████████| 450/450 [00:25<00:00, 17.82 examples/s]\n",
      "Map: 100%|██████████| 50/50 [00:02<00:00, 20.45 examples/s]\n",
      "Creating parquet from Arrow format: 100%|██████████| 1/1 [00:11<00:00, 11.86s/ba]\n",
      "Creating parquet from Arrow format: 100%|██████████| 1/1 [00:01<00:00,  1.19s/ba]\n"
     ]
    },
    {
     "name": "stdout",
     "output_type": "stream",
     "text": [
      "count: 140 x 500 = 70000\n"
     ]
    },
    {
     "name": "stderr",
     "output_type": "stream",
     "text": [
      "Map: 100%|██████████| 450/450 [00:42<00:00, 10.67 examples/s]\n",
      "Map: 100%|██████████| 50/50 [00:03<00:00, 13.89 examples/s]\n",
      "Creating parquet from Arrow format: 100%|██████████| 1/1 [00:11<00:00, 11.09s/ba]\n",
      "Creating parquet from Arrow format: 100%|██████████| 1/1 [00:01<00:00,  1.26s/ba]\n"
     ]
    },
    {
     "name": "stdout",
     "output_type": "stream",
     "text": [
      "count: 141 x 500 = 70500\n"
     ]
    },
    {
     "name": "stderr",
     "output_type": "stream",
     "text": [
      "Map: 100%|██████████| 450/450 [00:28<00:00, 15.71 examples/s]\n",
      "Map: 100%|██████████| 50/50 [00:02<00:00, 21.62 examples/s]\n",
      "Creating parquet from Arrow format: 100%|██████████| 1/1 [00:10<00:00, 10.65s/ba]\n",
      "Creating parquet from Arrow format: 100%|██████████| 1/1 [00:01<00:00,  1.29s/ba]\n"
     ]
    },
    {
     "name": "stdout",
     "output_type": "stream",
     "text": [
      "count: 142 x 500 = 71000\n"
     ]
    },
    {
     "name": "stderr",
     "output_type": "stream",
     "text": [
      "Map: 100%|██████████| 450/450 [00:27<00:00, 16.54 examples/s]\n",
      "Map: 100%|██████████| 50/50 [00:02<00:00, 20.68 examples/s]\n",
      "Creating parquet from Arrow format: 100%|██████████| 1/1 [00:11<00:00, 11.04s/ba]\n",
      "Creating parquet from Arrow format: 100%|██████████| 1/1 [00:01<00:00,  1.29s/ba]\n"
     ]
    },
    {
     "name": "stdout",
     "output_type": "stream",
     "text": [
      "count: 143 x 500 = 71500\n"
     ]
    },
    {
     "name": "stderr",
     "output_type": "stream",
     "text": [
      "Map: 100%|██████████| 450/450 [00:28<00:00, 15.81 examples/s]\n",
      "Map: 100%|██████████| 50/50 [00:04<00:00, 11.86 examples/s]\n",
      "Creating parquet from Arrow format: 100%|██████████| 1/1 [00:10<00:00, 10.85s/ba]\n",
      "Creating parquet from Arrow format: 100%|██████████| 1/1 [00:01<00:00,  1.25s/ba]\n"
     ]
    },
    {
     "name": "stdout",
     "output_type": "stream",
     "text": [
      "count: 144 x 500 = 72000\n"
     ]
    },
    {
     "name": "stderr",
     "output_type": "stream",
     "text": [
      "Map: 100%|██████████| 450/450 [00:38<00:00, 11.78 examples/s]\n",
      "Map: 100%|██████████| 50/50 [00:03<00:00, 16.22 examples/s]\n",
      "Creating parquet from Arrow format: 100%|██████████| 1/1 [00:11<00:00, 11.88s/ba]\n",
      "Creating parquet from Arrow format: 100%|██████████| 1/1 [00:01<00:00,  1.52s/ba]\n"
     ]
    },
    {
     "name": "stdout",
     "output_type": "stream",
     "text": [
      "count: 145 x 500 = 72500\n"
     ]
    },
    {
     "name": "stderr",
     "output_type": "stream",
     "text": [
      "Map: 100%|██████████| 450/450 [00:33<00:00, 13.27 examples/s]\n",
      "Map: 100%|██████████| 50/50 [00:03<00:00, 15.87 examples/s]\n",
      "Creating parquet from Arrow format: 100%|██████████| 1/1 [00:12<00:00, 12.01s/ba]\n",
      "Creating parquet from Arrow format: 100%|██████████| 1/1 [00:01<00:00,  1.44s/ba]\n"
     ]
    },
    {
     "name": "stdout",
     "output_type": "stream",
     "text": [
      "count: 146 x 500 = 73000\n"
     ]
    },
    {
     "name": "stderr",
     "output_type": "stream",
     "text": [
      "Map: 100%|██████████| 450/450 [00:44<00:00, 10.07 examples/s]\n",
      "Map: 100%|██████████| 50/50 [00:02<00:00, 19.74 examples/s]\n",
      "Creating parquet from Arrow format: 100%|██████████| 1/1 [00:11<00:00, 11.44s/ba]\n",
      "Creating parquet from Arrow format: 100%|██████████| 1/1 [00:01<00:00,  1.23s/ba]\n"
     ]
    },
    {
     "name": "stdout",
     "output_type": "stream",
     "text": [
      "count: 147 x 500 = 73500\n"
     ]
    },
    {
     "name": "stderr",
     "output_type": "stream",
     "text": [
      "Map: 100%|██████████| 450/450 [00:31<00:00, 14.45 examples/s]\n",
      "Map: 100%|██████████| 50/50 [00:03<00:00, 15.51 examples/s]\n",
      "Creating parquet from Arrow format: 100%|██████████| 1/1 [00:11<00:00, 11.89s/ba]\n",
      "Creating parquet from Arrow format: 100%|██████████| 1/1 [00:01<00:00,  1.29s/ba]\n"
     ]
    },
    {
     "name": "stdout",
     "output_type": "stream",
     "text": [
      "count: 148 x 500 = 74000\n"
     ]
    },
    {
     "name": "stderr",
     "output_type": "stream",
     "text": [
      "Map: 100%|██████████| 450/450 [00:31<00:00, 14.10 examples/s]\n",
      "Map: 100%|██████████| 50/50 [00:04<00:00, 10.91 examples/s]\n",
      "Creating parquet from Arrow format: 100%|██████████| 1/1 [00:11<00:00, 11.69s/ba]\n",
      "Creating parquet from Arrow format: 100%|██████████| 1/1 [00:01<00:00,  1.36s/ba]\n"
     ]
    },
    {
     "name": "stdout",
     "output_type": "stream",
     "text": [
      "count: 149 x 500 = 74500\n"
     ]
    },
    {
     "name": "stderr",
     "output_type": "stream",
     "text": [
      "Map: 100%|██████████| 450/450 [00:28<00:00, 15.87 examples/s]\n",
      "Map: 100%|██████████| 50/50 [00:03<00:00, 15.02 examples/s]\n",
      "Creating parquet from Arrow format: 100%|██████████| 1/1 [00:12<00:00, 12.98s/ba]\n",
      "Creating parquet from Arrow format: 100%|██████████| 1/1 [00:01<00:00,  1.35s/ba]\n"
     ]
    },
    {
     "name": "stdout",
     "output_type": "stream",
     "text": [
      "count: 150 x 500 = 75000\n"
     ]
    },
    {
     "name": "stderr",
     "output_type": "stream",
     "text": [
      "Map: 100%|██████████| 450/450 [00:29<00:00, 15.13 examples/s]\n",
      "Map: 100%|██████████| 50/50 [00:02<00:00, 19.14 examples/s]\n",
      "Creating parquet from Arrow format: 100%|██████████| 1/1 [00:11<00:00, 11.87s/ba]\n",
      "Creating parquet from Arrow format: 100%|██████████| 1/1 [00:01<00:00,  1.34s/ba]\n"
     ]
    },
    {
     "name": "stdout",
     "output_type": "stream",
     "text": [
      "count: 151 x 500 = 75500\n"
     ]
    },
    {
     "name": "stderr",
     "output_type": "stream",
     "text": [
      "Map: 100%|██████████| 450/450 [00:40<00:00, 11.19 examples/s]\n",
      "Map: 100%|██████████| 50/50 [00:02<00:00, 20.36 examples/s]\n",
      "Creating parquet from Arrow format: 100%|██████████| 1/1 [00:11<00:00, 11.49s/ba]\n",
      "Creating parquet from Arrow format: 100%|██████████| 1/1 [00:01<00:00,  1.33s/ba]\n"
     ]
    },
    {
     "name": "stdout",
     "output_type": "stream",
     "text": [
      "count: 152 x 500 = 76000\n"
     ]
    },
    {
     "name": "stderr",
     "output_type": "stream",
     "text": [
      "Map: 100%|██████████| 450/450 [00:36<00:00, 12.41 examples/s]\n",
      "Map: 100%|██████████| 50/50 [00:03<00:00, 14.92 examples/s]\n",
      "Creating parquet from Arrow format: 100%|██████████| 1/1 [00:11<00:00, 11.98s/ba]\n",
      "Creating parquet from Arrow format: 100%|██████████| 1/1 [00:01<00:00,  1.30s/ba]\n"
     ]
    },
    {
     "name": "stdout",
     "output_type": "stream",
     "text": [
      "count: 153 x 500 = 76500\n"
     ]
    },
    {
     "name": "stderr",
     "output_type": "stream",
     "text": [
      "Map: 100%|██████████| 450/450 [00:27<00:00, 16.38 examples/s]\n",
      "Map: 100%|██████████| 50/50 [00:02<00:00, 17.58 examples/s]\n",
      "Creating parquet from Arrow format: 100%|██████████| 1/1 [00:11<00:00, 11.48s/ba]\n",
      "Creating parquet from Arrow format: 100%|██████████| 1/1 [00:01<00:00,  1.19s/ba]\n"
     ]
    },
    {
     "name": "stdout",
     "output_type": "stream",
     "text": [
      "count: 154 x 500 = 77000\n"
     ]
    },
    {
     "name": "stderr",
     "output_type": "stream",
     "text": [
      "Map: 100%|██████████| 450/450 [00:36<00:00, 12.44 examples/s]\n",
      "Map: 100%|██████████| 50/50 [00:02<00:00, 20.12 examples/s]\n",
      "Creating parquet from Arrow format: 100%|██████████| 1/1 [00:11<00:00, 11.26s/ba]\n",
      "Creating parquet from Arrow format: 100%|██████████| 1/1 [00:01<00:00,  1.32s/ba]\n"
     ]
    },
    {
     "name": "stdout",
     "output_type": "stream",
     "text": [
      "count: 155 x 500 = 77500\n"
     ]
    },
    {
     "name": "stderr",
     "output_type": "stream",
     "text": [
      "Map: 100%|██████████| 450/450 [00:31<00:00, 14.28 examples/s]\n",
      "Map: 100%|██████████| 50/50 [00:02<00:00, 20.23 examples/s]\n",
      "Creating parquet from Arrow format: 100%|██████████| 1/1 [00:12<00:00, 12.03s/ba]\n",
      "Creating parquet from Arrow format: 100%|██████████| 1/1 [00:01<00:00,  1.28s/ba]\n"
     ]
    },
    {
     "name": "stdout",
     "output_type": "stream",
     "text": [
      "count: 156 x 500 = 78000\n"
     ]
    },
    {
     "name": "stderr",
     "output_type": "stream",
     "text": [
      "Map: 100%|██████████| 450/450 [00:30<00:00, 14.84 examples/s]\n",
      "Map: 100%|██████████| 50/50 [00:02<00:00, 20.48 examples/s]\n",
      "Creating parquet from Arrow format: 100%|██████████| 1/1 [00:11<00:00, 11.04s/ba]\n",
      "Creating parquet from Arrow format: 100%|██████████| 1/1 [00:01<00:00,  1.22s/ba]\n"
     ]
    },
    {
     "name": "stdout",
     "output_type": "stream",
     "text": [
      "count: 157 x 500 = 78500\n"
     ]
    },
    {
     "name": "stderr",
     "output_type": "stream",
     "text": [
      "Map: 100%|██████████| 450/450 [00:32<00:00, 13.82 examples/s]\n",
      "Map: 100%|██████████| 50/50 [00:02<00:00, 20.25 examples/s]\n",
      "Creating parquet from Arrow format: 100%|██████████| 1/1 [00:11<00:00, 11.41s/ba]\n",
      "Creating parquet from Arrow format: 100%|██████████| 1/1 [00:01<00:00,  1.26s/ba]\n"
     ]
    },
    {
     "name": "stdout",
     "output_type": "stream",
     "text": [
      "count: 158 x 500 = 79000\n"
     ]
    },
    {
     "name": "stderr",
     "output_type": "stream",
     "text": [
      "Map: 100%|██████████| 450/450 [00:30<00:00, 14.69 examples/s]\n",
      "Map: 100%|██████████| 50/50 [00:03<00:00, 15.20 examples/s]\n",
      "Creating parquet from Arrow format: 100%|██████████| 1/1 [00:10<00:00, 10.96s/ba]\n",
      "Creating parquet from Arrow format: 100%|██████████| 1/1 [00:01<00:00,  1.26s/ba]\n"
     ]
    },
    {
     "name": "stdout",
     "output_type": "stream",
     "text": [
      "count: 159 x 500 = 79500\n"
     ]
    },
    {
     "name": "stderr",
     "output_type": "stream",
     "text": [
      "Map: 100%|██████████| 450/450 [00:32<00:00, 14.02 examples/s]\n",
      "Map: 100%|██████████| 50/50 [00:05<00:00,  9.86 examples/s]\n",
      "Creating parquet from Arrow format: 100%|██████████| 1/1 [00:10<00:00, 10.55s/ba]\n",
      "Creating parquet from Arrow format: 100%|██████████| 1/1 [00:01<00:00,  1.32s/ba]\n"
     ]
    },
    {
     "name": "stdout",
     "output_type": "stream",
     "text": [
      "count: 160 x 500 = 80000\n"
     ]
    },
    {
     "name": "stderr",
     "output_type": "stream",
     "text": [
      "Map: 100%|██████████| 450/450 [00:30<00:00, 14.58 examples/s]\n",
      "Map: 100%|██████████| 50/50 [00:02<00:00, 19.78 examples/s]\n",
      "Creating parquet from Arrow format: 100%|██████████| 1/1 [00:11<00:00, 11.09s/ba]\n",
      "Creating parquet from Arrow format: 100%|██████████| 1/1 [00:01<00:00,  1.27s/ba]\n"
     ]
    },
    {
     "name": "stdout",
     "output_type": "stream",
     "text": [
      "count: 161 x 500 = 80500\n"
     ]
    },
    {
     "name": "stderr",
     "output_type": "stream",
     "text": [
      "Map: 100%|██████████| 450/450 [00:26<00:00, 16.98 examples/s]\n",
      "Map: 100%|██████████| 50/50 [00:02<00:00, 18.74 examples/s]\n",
      "Creating parquet from Arrow format: 100%|██████████| 1/1 [00:11<00:00, 11.62s/ba]\n",
      "Creating parquet from Arrow format: 100%|██████████| 1/1 [00:01<00:00,  1.07s/ba]\n"
     ]
    },
    {
     "name": "stdout",
     "output_type": "stream",
     "text": [
      "count: 162 x 500 = 81000\n"
     ]
    },
    {
     "name": "stderr",
     "output_type": "stream",
     "text": [
      "Map: 100%|██████████| 450/450 [00:31<00:00, 14.35 examples/s]\n",
      "Map: 100%|██████████| 50/50 [00:06<00:00,  8.11 examples/s]\n",
      "Creating parquet from Arrow format: 100%|██████████| 1/1 [00:10<00:00, 10.63s/ba]\n",
      "Creating parquet from Arrow format: 100%|██████████| 1/1 [00:01<00:00,  1.24s/ba]\n"
     ]
    },
    {
     "name": "stdout",
     "output_type": "stream",
     "text": [
      "count: 163 x 500 = 81500\n"
     ]
    },
    {
     "name": "stderr",
     "output_type": "stream",
     "text": [
      "Map: 100%|██████████| 450/450 [00:35<00:00, 12.82 examples/s]\n",
      "Map: 100%|██████████| 50/50 [00:03<00:00, 15.62 examples/s]\n",
      "Creating parquet from Arrow format: 100%|██████████| 1/1 [00:11<00:00, 11.15s/ba]\n",
      "Creating parquet from Arrow format: 100%|██████████| 1/1 [00:01<00:00,  1.25s/ba]\n"
     ]
    },
    {
     "name": "stdout",
     "output_type": "stream",
     "text": [
      "count: 164 x 500 = 82000\n"
     ]
    },
    {
     "name": "stderr",
     "output_type": "stream",
     "text": [
      "Map: 100%|██████████| 450/450 [00:35<00:00, 12.84 examples/s]\n",
      "Map: 100%|██████████| 50/50 [00:03<00:00, 14.34 examples/s]\n",
      "Creating parquet from Arrow format: 100%|██████████| 1/1 [00:11<00:00, 11.42s/ba]\n",
      "Creating parquet from Arrow format: 100%|██████████| 1/1 [00:01<00:00,  1.83s/ba]\n"
     ]
    },
    {
     "name": "stdout",
     "output_type": "stream",
     "text": [
      "count: 165 x 500 = 82500\n"
     ]
    },
    {
     "name": "stderr",
     "output_type": "stream",
     "text": [
      "Map: 100%|██████████| 450/450 [00:36<00:00, 12.17 examples/s]\n",
      "Map: 100%|██████████| 50/50 [00:03<00:00, 12.53 examples/s]\n",
      "Creating parquet from Arrow format: 100%|██████████| 1/1 [00:17<00:00, 17.20s/ba]\n",
      "Creating parquet from Arrow format: 100%|██████████| 1/1 [00:02<00:00,  2.57s/ba]\n"
     ]
    },
    {
     "name": "stdout",
     "output_type": "stream",
     "text": [
      "count: 166 x 500 = 83000\n"
     ]
    },
    {
     "name": "stderr",
     "output_type": "stream",
     "text": [
      "Map: 100%|██████████| 450/450 [00:40<00:00, 11.24 examples/s]\n",
      "Map: 100%|██████████| 50/50 [00:03<00:00, 15.44 examples/s]\n",
      "Creating parquet from Arrow format: 100%|██████████| 1/1 [00:11<00:00, 11.46s/ba]\n",
      "Creating parquet from Arrow format: 100%|██████████| 1/1 [00:01<00:00,  1.26s/ba]\n"
     ]
    },
    {
     "name": "stdout",
     "output_type": "stream",
     "text": [
      "count: 167 x 500 = 83500\n"
     ]
    },
    {
     "name": "stderr",
     "output_type": "stream",
     "text": [
      "Map: 100%|██████████| 450/450 [00:31<00:00, 14.15 examples/s]\n",
      "Map: 100%|██████████| 50/50 [00:02<00:00, 17.90 examples/s]\n",
      "Creating parquet from Arrow format: 100%|██████████| 1/1 [00:11<00:00, 11.46s/ba]\n",
      "Creating parquet from Arrow format: 100%|██████████| 1/1 [00:01<00:00,  1.25s/ba]\n"
     ]
    },
    {
     "name": "stdout",
     "output_type": "stream",
     "text": [
      "count: 168 x 500 = 84000\n"
     ]
    },
    {
     "name": "stderr",
     "output_type": "stream",
     "text": [
      "Map: 100%|██████████| 450/450 [00:27<00:00, 16.42 examples/s]\n",
      "Map: 100%|██████████| 50/50 [00:04<00:00, 10.97 examples/s]\n",
      "Creating parquet from Arrow format: 100%|██████████| 1/1 [00:11<00:00, 11.34s/ba]\n",
      "Creating parquet from Arrow format: 100%|██████████| 1/1 [00:01<00:00,  1.43s/ba]\n"
     ]
    },
    {
     "name": "stdout",
     "output_type": "stream",
     "text": [
      "count: 169 x 500 = 84500\n"
     ]
    },
    {
     "name": "stderr",
     "output_type": "stream",
     "text": [
      "Map: 100%|██████████| 450/450 [00:30<00:00, 14.94 examples/s]\n",
      "Map: 100%|██████████| 50/50 [00:02<00:00, 18.85 examples/s]\n",
      "Creating parquet from Arrow format: 100%|██████████| 1/1 [00:10<00:00, 10.57s/ba]\n",
      "Creating parquet from Arrow format: 100%|██████████| 1/1 [00:01<00:00,  1.17s/ba]\n"
     ]
    },
    {
     "name": "stdout",
     "output_type": "stream",
     "text": [
      "count: 170 x 500 = 85000\n"
     ]
    },
    {
     "name": "stderr",
     "output_type": "stream",
     "text": [
      "Map: 100%|██████████| 450/450 [00:26<00:00, 17.02 examples/s]\n",
      "Map: 100%|██████████| 50/50 [00:02<00:00, 19.20 examples/s]\n",
      "Creating parquet from Arrow format: 100%|██████████| 1/1 [00:11<00:00, 11.37s/ba]\n",
      "Creating parquet from Arrow format: 100%|██████████| 1/1 [00:01<00:00,  1.25s/ba]\n"
     ]
    },
    {
     "name": "stdout",
     "output_type": "stream",
     "text": [
      "count: 171 x 500 = 85500\n"
     ]
    },
    {
     "name": "stderr",
     "output_type": "stream",
     "text": [
      "Map: 100%|██████████| 450/450 [00:28<00:00, 15.60 examples/s]\n",
      "Map: 100%|██████████| 50/50 [00:03<00:00, 13.25 examples/s]\n",
      "Creating parquet from Arrow format: 100%|██████████| 1/1 [00:11<00:00, 11.22s/ba]\n",
      "Creating parquet from Arrow format: 100%|██████████| 1/1 [00:01<00:00,  1.42s/ba]\n"
     ]
    },
    {
     "name": "stdout",
     "output_type": "stream",
     "text": [
      "count: 172 x 500 = 86000\n"
     ]
    },
    {
     "name": "stderr",
     "output_type": "stream",
     "text": [
      "Map: 100%|██████████| 450/450 [00:30<00:00, 14.56 examples/s]\n",
      "Map: 100%|██████████| 50/50 [00:04<00:00, 11.86 examples/s]\n",
      "Creating parquet from Arrow format: 100%|██████████| 1/1 [00:11<00:00, 11.20s/ba]\n",
      "Creating parquet from Arrow format: 100%|██████████| 1/1 [00:01<00:00,  1.36s/ba]\n"
     ]
    },
    {
     "name": "stdout",
     "output_type": "stream",
     "text": [
      "count: 173 x 500 = 86500\n"
     ]
    },
    {
     "name": "stderr",
     "output_type": "stream",
     "text": [
      "Map: 100%|██████████| 450/450 [00:34<00:00, 13.13 examples/s]\n",
      "Map: 100%|██████████| 50/50 [00:05<00:00,  9.78 examples/s]\n",
      "Creating parquet from Arrow format: 100%|██████████| 1/1 [00:11<00:00, 11.41s/ba]\n",
      "Creating parquet from Arrow format: 100%|██████████| 1/1 [00:01<00:00,  1.37s/ba]\n"
     ]
    },
    {
     "name": "stdout",
     "output_type": "stream",
     "text": [
      "count: 174 x 500 = 87000\n"
     ]
    },
    {
     "name": "stderr",
     "output_type": "stream",
     "text": [
      "Map: 100%|██████████| 450/450 [00:38<00:00, 11.68 examples/s]\n",
      "Map: 100%|██████████| 50/50 [00:02<00:00, 18.34 examples/s]\n",
      "Creating parquet from Arrow format: 100%|██████████| 1/1 [00:11<00:00, 11.77s/ba]\n",
      "Creating parquet from Arrow format: 100%|██████████| 1/1 [00:01<00:00,  1.31s/ba]\n"
     ]
    },
    {
     "name": "stdout",
     "output_type": "stream",
     "text": [
      "count: 175 x 500 = 87500\n"
     ]
    },
    {
     "name": "stderr",
     "output_type": "stream",
     "text": [
      "Map: 100%|██████████| 450/450 [00:27<00:00, 16.28 examples/s]\n",
      "Map: 100%|██████████| 50/50 [00:03<00:00, 13.98 examples/s]\n",
      "Creating parquet from Arrow format: 100%|██████████| 1/1 [00:12<00:00, 12.21s/ba]\n",
      "Creating parquet from Arrow format: 100%|██████████| 1/1 [00:01<00:00,  1.29s/ba]\n"
     ]
    },
    {
     "name": "stdout",
     "output_type": "stream",
     "text": [
      "count: 176 x 500 = 88000\n"
     ]
    },
    {
     "name": "stderr",
     "output_type": "stream",
     "text": [
      "Map: 100%|██████████| 450/450 [00:31<00:00, 14.42 examples/s]\n",
      "Map: 100%|██████████| 50/50 [00:02<00:00, 21.43 examples/s]\n",
      "Creating parquet from Arrow format: 100%|██████████| 1/1 [00:11<00:00, 11.74s/ba]\n",
      "Creating parquet from Arrow format: 100%|██████████| 1/1 [00:01<00:00,  1.21s/ba]\n"
     ]
    },
    {
     "name": "stdout",
     "output_type": "stream",
     "text": [
      "count: 177 x 500 = 88500\n"
     ]
    },
    {
     "name": "stderr",
     "output_type": "stream",
     "text": [
      "Map: 100%|██████████| 450/450 [00:33<00:00, 13.51 examples/s]\n",
      "Map: 100%|██████████| 50/50 [00:03<00:00, 16.51 examples/s]\n",
      "Creating parquet from Arrow format: 100%|██████████| 1/1 [00:11<00:00, 11.59s/ba]\n",
      "Creating parquet from Arrow format: 100%|██████████| 1/1 [00:01<00:00,  1.19s/ba]\n"
     ]
    },
    {
     "name": "stdout",
     "output_type": "stream",
     "text": [
      "count: 178 x 500 = 89000\n"
     ]
    },
    {
     "name": "stderr",
     "output_type": "stream",
     "text": [
      "Map: 100%|██████████| 450/450 [00:31<00:00, 14.22 examples/s]\n",
      "Map: 100%|██████████| 50/50 [00:02<00:00, 17.01 examples/s]\n",
      "Creating parquet from Arrow format: 100%|██████████| 1/1 [00:11<00:00, 11.28s/ba]\n",
      "Creating parquet from Arrow format: 100%|██████████| 1/1 [00:01<00:00,  1.28s/ba]\n"
     ]
    },
    {
     "name": "stdout",
     "output_type": "stream",
     "text": [
      "count: 179 x 500 = 89500\n"
     ]
    },
    {
     "name": "stderr",
     "output_type": "stream",
     "text": [
      "Map: 100%|██████████| 450/450 [00:32<00:00, 13.98 examples/s]\n",
      "Map: 100%|██████████| 50/50 [00:03<00:00, 16.16 examples/s]\n",
      "Creating parquet from Arrow format: 100%|██████████| 1/1 [00:12<00:00, 12.18s/ba]\n",
      "Creating parquet from Arrow format: 100%|██████████| 1/1 [00:01<00:00,  1.24s/ba]\n"
     ]
    },
    {
     "name": "stdout",
     "output_type": "stream",
     "text": [
      "count: 180 x 500 = 90000\n"
     ]
    },
    {
     "name": "stderr",
     "output_type": "stream",
     "text": [
      "Map: 100%|██████████| 450/450 [00:26<00:00, 17.06 examples/s]\n",
      "Map: 100%|██████████| 50/50 [00:02<00:00, 18.94 examples/s]\n",
      "Creating parquet from Arrow format: 100%|██████████| 1/1 [00:12<00:00, 12.21s/ba]\n",
      "Creating parquet from Arrow format: 100%|██████████| 1/1 [00:01<00:00,  1.21s/ba]\n"
     ]
    },
    {
     "name": "stdout",
     "output_type": "stream",
     "text": [
      "count: 181 x 500 = 90500\n"
     ]
    },
    {
     "name": "stderr",
     "output_type": "stream",
     "text": [
      "Map: 100%|██████████| 450/450 [00:36<00:00, 12.17 examples/s]\n",
      "Map: 100%|██████████| 50/50 [00:05<00:00,  8.83 examples/s]\n",
      "Creating parquet from Arrow format: 100%|██████████| 1/1 [00:11<00:00, 11.37s/ba]\n",
      "Creating parquet from Arrow format: 100%|██████████| 1/1 [00:01<00:00,  1.38s/ba]\n"
     ]
    },
    {
     "name": "stdout",
     "output_type": "stream",
     "text": [
      "count: 182 x 500 = 91000\n"
     ]
    },
    {
     "name": "stderr",
     "output_type": "stream",
     "text": [
      "Map: 100%|██████████| 450/450 [00:33<00:00, 13.28 examples/s]\n",
      "Map: 100%|██████████| 50/50 [00:03<00:00, 12.61 examples/s]\n",
      "Creating parquet from Arrow format: 100%|██████████| 1/1 [00:11<00:00, 11.27s/ba]\n",
      "Creating parquet from Arrow format: 100%|██████████| 1/1 [00:01<00:00,  1.28s/ba]\n"
     ]
    },
    {
     "name": "stdout",
     "output_type": "stream",
     "text": [
      "count: 183 x 500 = 91500\n"
     ]
    },
    {
     "name": "stderr",
     "output_type": "stream",
     "text": [
      "Map: 100%|██████████| 450/450 [00:30<00:00, 14.61 examples/s]\n",
      "Map: 100%|██████████| 50/50 [00:02<00:00, 20.25 examples/s]\n",
      "Creating parquet from Arrow format: 100%|██████████| 1/1 [00:11<00:00, 11.44s/ba]\n",
      "Creating parquet from Arrow format: 100%|██████████| 1/1 [00:01<00:00,  1.28s/ba]\n"
     ]
    },
    {
     "name": "stdout",
     "output_type": "stream",
     "text": [
      "count: 184 x 500 = 92000\n"
     ]
    },
    {
     "name": "stderr",
     "output_type": "stream",
     "text": [
      "Map: 100%|██████████| 450/450 [01:08<00:00,  6.54 examples/s]\n",
      "Map: 100%|██████████| 50/50 [00:03<00:00, 15.24 examples/s]\n",
      "Creating parquet from Arrow format: 100%|██████████| 1/1 [00:26<00:00, 26.96s/ba]\n",
      "Creating parquet from Arrow format: 100%|██████████| 1/1 [00:02<00:00,  2.32s/ba]\n"
     ]
    },
    {
     "name": "stdout",
     "output_type": "stream",
     "text": [
      "count: 185 x 500 = 92500\n"
     ]
    },
    {
     "name": "stderr",
     "output_type": "stream",
     "text": [
      "Map: 100%|██████████| 450/450 [00:39<00:00, 11.50 examples/s]\n",
      "Map: 100%|██████████| 50/50 [00:06<00:00,  8.03 examples/s]\n",
      "Creating parquet from Arrow format: 100%|██████████| 1/1 [00:13<00:00, 13.26s/ba]\n",
      "Creating parquet from Arrow format: 100%|██████████| 1/1 [00:01<00:00,  1.48s/ba]\n"
     ]
    },
    {
     "name": "stdout",
     "output_type": "stream",
     "text": [
      "count: 186 x 500 = 93000\n"
     ]
    },
    {
     "name": "stderr",
     "output_type": "stream",
     "text": [
      "Map: 100%|██████████| 450/450 [00:34<00:00, 13.23 examples/s]\n",
      "Map: 100%|██████████| 50/50 [00:04<00:00, 11.00 examples/s]\n",
      "Creating parquet from Arrow format: 100%|██████████| 1/1 [01:39<00:00, 99.84s/ba]\n",
      "Creating parquet from Arrow format: 100%|██████████| 1/1 [00:20<00:00, 20.27s/ba]\n"
     ]
    },
    {
     "name": "stdout",
     "output_type": "stream",
     "text": [
      "count: 187 x 500 = 93500\n"
     ]
    },
    {
     "name": "stderr",
     "output_type": "stream",
     "text": [
      "Map: 100%|██████████| 450/450 [00:45<00:00,  9.94 examples/s]\n",
      "Map: 100%|██████████| 50/50 [00:02<00:00, 17.15 examples/s]\n",
      "Creating parquet from Arrow format: 100%|██████████| 1/1 [00:12<00:00, 12.99s/ba]\n",
      "Creating parquet from Arrow format: 100%|██████████| 1/1 [00:01<00:00,  1.75s/ba]\n"
     ]
    },
    {
     "name": "stdout",
     "output_type": "stream",
     "text": [
      "count: 188 x 500 = 94000\n"
     ]
    },
    {
     "name": "stderr",
     "output_type": "stream",
     "text": [
      "Map: 100%|██████████| 450/450 [00:37<00:00, 11.97 examples/s]\n",
      "Map: 100%|██████████| 50/50 [00:03<00:00, 15.67 examples/s]\n",
      "Creating parquet from Arrow format: 100%|██████████| 1/1 [00:12<00:00, 12.32s/ba]\n",
      "Creating parquet from Arrow format: 100%|██████████| 1/1 [00:01<00:00,  1.34s/ba]\n"
     ]
    },
    {
     "name": "stdout",
     "output_type": "stream",
     "text": [
      "count: 189 x 500 = 94500\n"
     ]
    },
    {
     "name": "stderr",
     "output_type": "stream",
     "text": [
      "Map: 100%|██████████| 450/450 [00:57<00:00,  7.84 examples/s]\n",
      "Map: 100%|██████████| 50/50 [00:05<00:00,  8.55 examples/s]\n",
      "Creating parquet from Arrow format: 100%|██████████| 1/1 [00:14<00:00, 14.28s/ba]\n",
      "Creating parquet from Arrow format: 100%|██████████| 1/1 [00:01<00:00,  1.44s/ba]\n"
     ]
    },
    {
     "name": "stdout",
     "output_type": "stream",
     "text": [
      "count: 190 x 500 = 95000\n"
     ]
    },
    {
     "name": "stderr",
     "output_type": "stream",
     "text": [
      "Map: 100%|██████████| 450/450 [00:36<00:00, 12.23 examples/s]\n",
      "Map: 100%|██████████| 50/50 [00:06<00:00,  8.28 examples/s]\n",
      "Creating parquet from Arrow format: 100%|██████████| 1/1 [00:13<00:00, 13.20s/ba]\n",
      "Creating parquet from Arrow format: 100%|██████████| 1/1 [00:01<00:00,  1.35s/ba]\n"
     ]
    },
    {
     "name": "stdout",
     "output_type": "stream",
     "text": [
      "count: 191 x 500 = 95500\n"
     ]
    },
    {
     "name": "stderr",
     "output_type": "stream",
     "text": [
      "Map: 100%|██████████| 450/450 [00:30<00:00, 14.92 examples/s]\n",
      "Map: 100%|██████████| 50/50 [00:02<00:00, 18.89 examples/s]\n",
      "Creating parquet from Arrow format: 100%|██████████| 1/1 [00:12<00:00, 12.80s/ba]\n",
      "Creating parquet from Arrow format: 100%|██████████| 1/1 [00:01<00:00,  1.25s/ba]\n"
     ]
    },
    {
     "name": "stdout",
     "output_type": "stream",
     "text": [
      "count: 192 x 500 = 96000\n"
     ]
    },
    {
     "name": "stderr",
     "output_type": "stream",
     "text": [
      "Map: 100%|██████████| 450/450 [00:34<00:00, 12.87 examples/s]\n",
      "Map: 100%|██████████| 50/50 [00:05<00:00,  8.37 examples/s]\n",
      "Creating parquet from Arrow format: 100%|██████████| 1/1 [00:28<00:00, 28.74s/ba]\n",
      "Creating parquet from Arrow format: 100%|██████████| 1/1 [00:01<00:00,  1.10s/ba]\n"
     ]
    },
    {
     "name": "stdout",
     "output_type": "stream",
     "text": [
      "count: 193 x 500 = 96500\n"
     ]
    },
    {
     "name": "stderr",
     "output_type": "stream",
     "text": [
      "Map: 100%|██████████| 450/450 [00:35<00:00, 12.62 examples/s]\n",
      "Map: 100%|██████████| 50/50 [00:05<00:00,  8.60 examples/s]\n",
      "Creating parquet from Arrow format: 100%|██████████| 1/1 [00:36<00:00, 36.66s/ba]\n",
      "Creating parquet from Arrow format: 100%|██████████| 1/1 [00:01<00:00,  1.25s/ba]\n"
     ]
    },
    {
     "name": "stdout",
     "output_type": "stream",
     "text": [
      "count: 194 x 500 = 97000\n"
     ]
    },
    {
     "name": "stderr",
     "output_type": "stream",
     "text": [
      "Map: 100%|██████████| 450/450 [00:30<00:00, 14.55 examples/s]\n",
      "Map: 100%|██████████| 50/50 [00:04<00:00, 12.08 examples/s]\n",
      "Creating parquet from Arrow format: 100%|██████████| 1/1 [00:10<00:00, 10.91s/ba]\n",
      "Creating parquet from Arrow format: 100%|██████████| 1/1 [00:01<00:00,  1.22s/ba]\n"
     ]
    },
    {
     "name": "stdout",
     "output_type": "stream",
     "text": [
      "count: 195 x 500 = 97500\n"
     ]
    },
    {
     "name": "stderr",
     "output_type": "stream",
     "text": [
      "Map: 100%|██████████| 450/450 [00:53<00:00,  8.45 examples/s]\n",
      "Map: 100%|██████████| 50/50 [00:03<00:00, 14.43 examples/s]\n",
      "Creating parquet from Arrow format: 100%|██████████| 1/1 [00:11<00:00, 11.56s/ba]\n",
      "Creating parquet from Arrow format: 100%|██████████| 1/1 [00:01<00:00,  1.18s/ba]\n"
     ]
    },
    {
     "name": "stdout",
     "output_type": "stream",
     "text": [
      "count: 196 x 500 = 98000\n"
     ]
    },
    {
     "name": "stderr",
     "output_type": "stream",
     "text": [
      "Map: 100%|██████████| 450/450 [00:28<00:00, 15.96 examples/s]\n",
      "Map: 100%|██████████| 50/50 [00:04<00:00, 11.19 examples/s]\n",
      "Creating parquet from Arrow format: 100%|██████████| 1/1 [00:11<00:00, 11.35s/ba]\n",
      "Creating parquet from Arrow format: 100%|██████████| 1/1 [00:01<00:00,  1.37s/ba]\n"
     ]
    },
    {
     "name": "stdout",
     "output_type": "stream",
     "text": [
      "count: 197 x 500 = 98500\n"
     ]
    },
    {
     "name": "stderr",
     "output_type": "stream",
     "text": [
      "Map: 100%|██████████| 450/450 [00:29<00:00, 15.07 examples/s]\n",
      "Map: 100%|██████████| 50/50 [00:03<00:00, 13.48 examples/s]\n",
      "Creating parquet from Arrow format: 100%|██████████| 1/1 [00:11<00:00, 11.18s/ba]\n",
      "Creating parquet from Arrow format: 100%|██████████| 1/1 [00:01<00:00,  1.32s/ba]\n"
     ]
    },
    {
     "name": "stdout",
     "output_type": "stream",
     "text": [
      "count: 198 x 500 = 99000\n"
     ]
    },
    {
     "name": "stderr",
     "output_type": "stream",
     "text": [
      "Map: 100%|██████████| 450/450 [00:36<00:00, 12.33 examples/s]\n",
      "Map: 100%|██████████| 50/50 [00:03<00:00, 14.14 examples/s]\n",
      "Creating parquet from Arrow format: 100%|██████████| 1/1 [00:11<00:00, 11.27s/ba]\n",
      "Creating parquet from Arrow format: 100%|██████████| 1/1 [00:01<00:00,  1.24s/ba]\n"
     ]
    },
    {
     "name": "stdout",
     "output_type": "stream",
     "text": [
      "count: 199 x 500 = 99500\n"
     ]
    },
    {
     "name": "stderr",
     "output_type": "stream",
     "text": [
      "Map: 100%|██████████| 450/450 [00:28<00:00, 15.53 examples/s]\n",
      "Map: 100%|██████████| 50/50 [00:03<00:00, 13.75 examples/s]\n",
      "Creating parquet from Arrow format: 100%|██████████| 1/1 [00:10<00:00, 10.90s/ba]\n",
      "Creating parquet from Arrow format: 100%|██████████| 1/1 [00:01<00:00,  1.47s/ba]\n"
     ]
    },
    {
     "name": "stdout",
     "output_type": "stream",
     "text": [
      "count: 200 x 500 = 100000\n"
     ]
    },
    {
     "name": "stderr",
     "output_type": "stream",
     "text": [
      "Map: 100%|██████████| 450/450 [00:34<00:00, 13.02 examples/s]\n",
      "Map: 100%|██████████| 50/50 [00:03<00:00, 16.43 examples/s]\n",
      "Creating parquet from Arrow format: 100%|██████████| 1/1 [00:11<00:00, 11.37s/ba]\n",
      "Creating parquet from Arrow format: 100%|██████████| 1/1 [00:01<00:00,  1.31s/ba]\n"
     ]
    },
    {
     "name": "stdout",
     "output_type": "stream",
     "text": [
      "count: 201 x 500 = 100500\n"
     ]
    },
    {
     "name": "stderr",
     "output_type": "stream",
     "text": [
      "Map: 100%|██████████| 450/450 [00:30<00:00, 14.84 examples/s]\n",
      "Map: 100%|██████████| 50/50 [00:02<00:00, 19.76 examples/s]\n",
      "Creating parquet from Arrow format: 100%|██████████| 1/1 [00:11<00:00, 11.17s/ba]\n",
      "Creating parquet from Arrow format: 100%|██████████| 1/1 [00:01<00:00,  1.21s/ba]\n"
     ]
    },
    {
     "name": "stdout",
     "output_type": "stream",
     "text": [
      "count: 202 x 500 = 101000\n"
     ]
    },
    {
     "name": "stderr",
     "output_type": "stream",
     "text": [
      "Map: 100%|██████████| 450/450 [00:29<00:00, 15.36 examples/s]\n",
      "Map: 100%|██████████| 50/50 [00:02<00:00, 19.84 examples/s]\n",
      "Creating parquet from Arrow format: 100%|██████████| 1/1 [00:11<00:00, 11.10s/ba]\n",
      "Creating parquet from Arrow format: 100%|██████████| 1/1 [00:01<00:00,  1.23s/ba]\n"
     ]
    },
    {
     "name": "stdout",
     "output_type": "stream",
     "text": [
      "count: 203 x 500 = 101500\n"
     ]
    },
    {
     "name": "stderr",
     "output_type": "stream",
     "text": [
      "Map: 100%|██████████| 450/450 [00:29<00:00, 15.05 examples/s]\n",
      "Map: 100%|██████████| 50/50 [00:02<00:00, 17.56 examples/s]\n",
      "Creating parquet from Arrow format: 100%|██████████| 1/1 [00:11<00:00, 11.12s/ba]\n",
      "Creating parquet from Arrow format: 100%|██████████| 1/1 [00:01<00:00,  1.21s/ba]\n"
     ]
    },
    {
     "name": "stdout",
     "output_type": "stream",
     "text": [
      "count: 204 x 500 = 102000\n"
     ]
    },
    {
     "name": "stderr",
     "output_type": "stream",
     "text": [
      "Map: 100%|██████████| 450/450 [00:39<00:00, 11.47 examples/s]\n",
      "Map: 100%|██████████| 50/50 [00:04<00:00, 11.74 examples/s]\n",
      "Creating parquet from Arrow format: 100%|██████████| 1/1 [00:11<00:00, 11.22s/ba]\n",
      "Creating parquet from Arrow format: 100%|██████████| 1/1 [00:01<00:00,  1.18s/ba]\n"
     ]
    },
    {
     "name": "stdout",
     "output_type": "stream",
     "text": [
      "count: 205 x 500 = 102500\n"
     ]
    },
    {
     "name": "stderr",
     "output_type": "stream",
     "text": [
      "Map: 100%|██████████| 450/450 [00:30<00:00, 14.61 examples/s]\n",
      "Map: 100%|██████████| 50/50 [00:06<00:00,  8.28 examples/s]\n",
      "Creating parquet from Arrow format: 100%|██████████| 1/1 [00:11<00:00, 11.38s/ba]\n",
      "Creating parquet from Arrow format: 100%|██████████| 1/1 [00:01<00:00,  1.31s/ba]\n"
     ]
    },
    {
     "name": "stdout",
     "output_type": "stream",
     "text": [
      "count: 206 x 500 = 103000\n"
     ]
    },
    {
     "name": "stderr",
     "output_type": "stream",
     "text": [
      "Map: 100%|██████████| 450/450 [00:26<00:00, 16.87 examples/s]\n",
      "Map: 100%|██████████| 50/50 [00:04<00:00, 10.56 examples/s]\n",
      "Creating parquet from Arrow format: 100%|██████████| 1/1 [00:10<00:00, 10.98s/ba]\n",
      "Creating parquet from Arrow format: 100%|██████████| 1/1 [00:01<00:00,  1.24s/ba]\n"
     ]
    },
    {
     "name": "stdout",
     "output_type": "stream",
     "text": [
      "count: 207 x 500 = 103500\n"
     ]
    },
    {
     "name": "stderr",
     "output_type": "stream",
     "text": [
      "Map: 100%|██████████| 450/450 [00:26<00:00, 16.85 examples/s]\n",
      "Map: 100%|██████████| 50/50 [00:06<00:00,  7.24 examples/s]\n",
      "Creating parquet from Arrow format: 100%|██████████| 1/1 [00:11<00:00, 11.54s/ba]\n",
      "Creating parquet from Arrow format: 100%|██████████| 1/1 [00:01<00:00,  1.34s/ba]\n"
     ]
    },
    {
     "name": "stdout",
     "output_type": "stream",
     "text": [
      "count: 208 x 500 = 104000\n"
     ]
    },
    {
     "name": "stderr",
     "output_type": "stream",
     "text": [
      "Map: 100%|██████████| 450/450 [00:29<00:00, 15.49 examples/s]\n",
      "Map: 100%|██████████| 50/50 [00:06<00:00,  7.82 examples/s]\n",
      "Creating parquet from Arrow format: 100%|██████████| 1/1 [00:11<00:00, 11.36s/ba]\n",
      "Creating parquet from Arrow format: 100%|██████████| 1/1 [00:01<00:00,  1.31s/ba]\n"
     ]
    },
    {
     "name": "stdout",
     "output_type": "stream",
     "text": [
      "count: 209 x 500 = 104500\n"
     ]
    },
    {
     "name": "stderr",
     "output_type": "stream",
     "text": [
      "Map: 100%|██████████| 450/450 [00:29<00:00, 15.45 examples/s]\n",
      "Map: 100%|██████████| 50/50 [00:02<00:00, 19.07 examples/s]\n",
      "Creating parquet from Arrow format: 100%|██████████| 1/1 [00:11<00:00, 11.04s/ba]\n",
      "Creating parquet from Arrow format: 100%|██████████| 1/1 [00:01<00:00,  1.19s/ba]\n"
     ]
    },
    {
     "name": "stdout",
     "output_type": "stream",
     "text": [
      "count: 210 x 500 = 105000\n"
     ]
    },
    {
     "name": "stderr",
     "output_type": "stream",
     "text": [
      "Map: 100%|██████████| 450/450 [00:27<00:00, 16.22 examples/s]\n",
      "Map: 100%|██████████| 50/50 [00:02<00:00, 20.90 examples/s]\n",
      "Creating parquet from Arrow format: 100%|██████████| 1/1 [00:11<00:00, 11.15s/ba]\n",
      "Creating parquet from Arrow format: 100%|██████████| 1/1 [00:01<00:00,  1.16s/ba]\n"
     ]
    },
    {
     "name": "stdout",
     "output_type": "stream",
     "text": [
      "count: 211 x 500 = 105500\n"
     ]
    },
    {
     "name": "stderr",
     "output_type": "stream",
     "text": [
      "Map: 100%|██████████| 450/450 [00:27<00:00, 16.09 examples/s]\n",
      "Map: 100%|██████████| 50/50 [00:02<00:00, 21.78 examples/s]\n",
      "Creating parquet from Arrow format: 100%|██████████| 1/1 [00:10<00:00, 10.73s/ba]\n",
      "Creating parquet from Arrow format: 100%|██████████| 1/1 [00:01<00:00,  1.23s/ba]\n"
     ]
    },
    {
     "name": "stdout",
     "output_type": "stream",
     "text": [
      "count: 212 x 500 = 106000\n"
     ]
    },
    {
     "name": "stderr",
     "output_type": "stream",
     "text": [
      "Map: 100%|██████████| 450/450 [00:28<00:00, 15.89 examples/s]\n",
      "Map: 100%|██████████| 50/50 [00:02<00:00, 21.74 examples/s]\n",
      "Creating parquet from Arrow format: 100%|██████████| 1/1 [00:11<00:00, 11.85s/ba]\n",
      "Creating parquet from Arrow format: 100%|██████████| 1/1 [00:01<00:00,  1.38s/ba]\n"
     ]
    },
    {
     "name": "stdout",
     "output_type": "stream",
     "text": [
      "count: 213 x 500 = 106500\n"
     ]
    },
    {
     "name": "stderr",
     "output_type": "stream",
     "text": [
      "Map: 100%|██████████| 450/450 [00:36<00:00, 12.32 examples/s]\n",
      "Map: 100%|██████████| 50/50 [00:02<00:00, 17.69 examples/s]\n",
      "Creating parquet from Arrow format: 100%|██████████| 1/1 [00:18<00:00, 18.53s/ba]\n",
      "Creating parquet from Arrow format: 100%|██████████| 1/1 [00:01<00:00,  1.75s/ba]\n"
     ]
    },
    {
     "name": "stdout",
     "output_type": "stream",
     "text": [
      "count: 214 x 500 = 107000\n"
     ]
    },
    {
     "name": "stderr",
     "output_type": "stream",
     "text": [
      "Map: 100%|██████████| 450/450 [00:34<00:00, 12.96 examples/s]\n",
      "Map: 100%|██████████| 50/50 [00:02<00:00, 21.97 examples/s]\n",
      "Creating parquet from Arrow format: 100%|██████████| 1/1 [00:11<00:00, 11.72s/ba]\n",
      "Creating parquet from Arrow format: 100%|██████████| 1/1 [00:01<00:00,  1.23s/ba]\n"
     ]
    },
    {
     "name": "stdout",
     "output_type": "stream",
     "text": [
      "count: 215 x 500 = 107500\n"
     ]
    },
    {
     "name": "stderr",
     "output_type": "stream",
     "text": [
      "Map: 100%|██████████| 450/450 [00:33<00:00, 13.52 examples/s]\n",
      "Map: 100%|██████████| 50/50 [00:02<00:00, 18.32 examples/s]\n",
      "Creating parquet from Arrow format: 100%|██████████| 1/1 [00:11<00:00, 11.59s/ba]\n",
      "Creating parquet from Arrow format: 100%|██████████| 1/1 [00:01<00:00,  1.19s/ba]\n"
     ]
    },
    {
     "name": "stdout",
     "output_type": "stream",
     "text": [
      "count: 216 x 500 = 108000\n"
     ]
    },
    {
     "name": "stderr",
     "output_type": "stream",
     "text": [
      "Map: 100%|██████████| 450/450 [00:34<00:00, 13.15 examples/s]\n",
      "Map: 100%|██████████| 50/50 [00:04<00:00, 10.51 examples/s]\n",
      "Creating parquet from Arrow format: 100%|██████████| 1/1 [00:11<00:00, 11.92s/ba]\n",
      "Creating parquet from Arrow format: 100%|██████████| 1/1 [00:01<00:00,  1.31s/ba]\n"
     ]
    },
    {
     "name": "stdout",
     "output_type": "stream",
     "text": [
      "count: 217 x 500 = 108500\n"
     ]
    },
    {
     "name": "stderr",
     "output_type": "stream",
     "text": [
      "Map: 100%|██████████| 450/450 [00:33<00:00, 13.27 examples/s]\n",
      "Map: 100%|██████████| 50/50 [00:04<00:00, 10.78 examples/s]\n",
      "Creating parquet from Arrow format: 100%|██████████| 1/1 [00:12<00:00, 12.21s/ba]\n",
      "Creating parquet from Arrow format: 100%|██████████| 1/1 [00:01<00:00,  1.48s/ba]\n"
     ]
    },
    {
     "name": "stdout",
     "output_type": "stream",
     "text": [
      "count: 218 x 500 = 109000\n"
     ]
    },
    {
     "name": "stderr",
     "output_type": "stream",
     "text": [
      "Map: 100%|██████████| 450/450 [00:35<00:00, 12.55 examples/s]\n",
      "Map: 100%|██████████| 50/50 [00:02<00:00, 18.08 examples/s]\n",
      "Creating parquet from Arrow format: 100%|██████████| 1/1 [00:11<00:00, 11.40s/ba]\n",
      "Creating parquet from Arrow format: 100%|██████████| 1/1 [00:01<00:00,  1.29s/ba]\n"
     ]
    },
    {
     "name": "stdout",
     "output_type": "stream",
     "text": [
      "count: 219 x 500 = 109500\n"
     ]
    },
    {
     "name": "stderr",
     "output_type": "stream",
     "text": [
      "Map: 100%|██████████| 450/450 [00:27<00:00, 16.19 examples/s]\n",
      "Map: 100%|██████████| 50/50 [00:04<00:00, 11.38 examples/s]\n",
      "Creating parquet from Arrow format: 100%|██████████| 1/1 [00:11<00:00, 11.72s/ba]\n",
      "Creating parquet from Arrow format: 100%|██████████| 1/1 [00:01<00:00,  1.34s/ba]\n"
     ]
    },
    {
     "name": "stdout",
     "output_type": "stream",
     "text": [
      "count: 220 x 500 = 110000\n"
     ]
    },
    {
     "name": "stderr",
     "output_type": "stream",
     "text": [
      "Map: 100%|██████████| 450/450 [00:25<00:00, 17.79 examples/s]\n",
      "Map: 100%|██████████| 50/50 [00:06<00:00,  7.75 examples/s]\n",
      "Creating parquet from Arrow format: 100%|██████████| 1/1 [00:11<00:00, 11.44s/ba]\n",
      "Creating parquet from Arrow format: 100%|██████████| 1/1 [00:01<00:00,  1.38s/ba]\n"
     ]
    },
    {
     "name": "stdout",
     "output_type": "stream",
     "text": [
      "count: 221 x 500 = 110500\n"
     ]
    },
    {
     "name": "stderr",
     "output_type": "stream",
     "text": [
      "Map: 100%|██████████| 450/450 [00:29<00:00, 15.29 examples/s]\n",
      "Map: 100%|██████████| 50/50 [00:04<00:00, 11.41 examples/s]\n",
      "Creating parquet from Arrow format: 100%|██████████| 1/1 [00:11<00:00, 11.69s/ba]\n",
      "Creating parquet from Arrow format: 100%|██████████| 1/1 [00:01<00:00,  1.24s/ba]\n"
     ]
    },
    {
     "name": "stdout",
     "output_type": "stream",
     "text": [
      "count: 222 x 500 = 111000\n"
     ]
    },
    {
     "name": "stderr",
     "output_type": "stream",
     "text": [
      "Map: 100%|██████████| 450/450 [00:34<00:00, 12.89 examples/s]\n",
      "Map: 100%|██████████| 50/50 [00:03<00:00, 16.51 examples/s]\n",
      "Creating parquet from Arrow format: 100%|██████████| 1/1 [00:11<00:00, 11.68s/ba]\n",
      "Creating parquet from Arrow format: 100%|██████████| 1/1 [00:01<00:00,  1.25s/ba]\n"
     ]
    },
    {
     "name": "stdout",
     "output_type": "stream",
     "text": [
      "count: 223 x 500 = 111500\n"
     ]
    },
    {
     "name": "stderr",
     "output_type": "stream",
     "text": [
      "Map: 100%|██████████| 450/450 [00:29<00:00, 15.24 examples/s]\n",
      "Map: 100%|██████████| 50/50 [00:03<00:00, 13.27 examples/s]\n",
      "Creating parquet from Arrow format: 100%|██████████| 1/1 [00:12<00:00, 12.02s/ba]\n",
      "Creating parquet from Arrow format: 100%|██████████| 1/1 [00:01<00:00,  1.28s/ba]\n"
     ]
    },
    {
     "name": "stdout",
     "output_type": "stream",
     "text": [
      "count: 224 x 500 = 112000\n"
     ]
    },
    {
     "name": "stderr",
     "output_type": "stream",
     "text": [
      "Map: 100%|██████████| 450/450 [00:30<00:00, 14.67 examples/s]\n",
      "Map: 100%|██████████| 50/50 [00:03<00:00, 13.59 examples/s]\n",
      "Creating parquet from Arrow format: 100%|██████████| 1/1 [00:11<00:00, 11.57s/ba]\n",
      "Creating parquet from Arrow format: 100%|██████████| 1/1 [00:01<00:00,  1.96s/ba]\n"
     ]
    },
    {
     "name": "stdout",
     "output_type": "stream",
     "text": [
      "count: 225 x 500 = 112500\n"
     ]
    },
    {
     "name": "stderr",
     "output_type": "stream",
     "text": [
      "Map: 100%|██████████| 450/450 [00:37<00:00, 11.99 examples/s]\n",
      "Map: 100%|██████████| 50/50 [00:02<00:00, 17.81 examples/s]\n",
      "Creating parquet from Arrow format: 100%|██████████| 1/1 [00:11<00:00, 11.30s/ba]\n",
      "Creating parquet from Arrow format: 100%|██████████| 1/1 [00:01<00:00,  1.29s/ba]\n"
     ]
    },
    {
     "name": "stdout",
     "output_type": "stream",
     "text": [
      "count: 226 x 500 = 113000\n"
     ]
    },
    {
     "name": "stderr",
     "output_type": "stream",
     "text": [
      "Map: 100%|██████████| 450/450 [00:26<00:00, 17.26 examples/s]\n",
      "Map: 100%|██████████| 50/50 [00:04<00:00, 10.44 examples/s]\n",
      "Creating parquet from Arrow format: 100%|██████████| 1/1 [00:11<00:00, 11.45s/ba]\n",
      "Creating parquet from Arrow format: 100%|██████████| 1/1 [00:01<00:00,  1.30s/ba]\n"
     ]
    },
    {
     "name": "stdout",
     "output_type": "stream",
     "text": [
      "count: 227 x 500 = 113500\n"
     ]
    },
    {
     "name": "stderr",
     "output_type": "stream",
     "text": [
      "Map: 100%|██████████| 450/450 [00:34<00:00, 13.15 examples/s]\n",
      "Map: 100%|██████████| 50/50 [00:05<00:00,  8.85 examples/s]\n",
      "Creating parquet from Arrow format: 100%|██████████| 1/1 [00:12<00:00, 12.88s/ba]\n",
      "Creating parquet from Arrow format: 100%|██████████| 1/1 [00:01<00:00,  1.34s/ba]\n"
     ]
    },
    {
     "name": "stdout",
     "output_type": "stream",
     "text": [
      "count: 228 x 500 = 114000\n"
     ]
    },
    {
     "name": "stderr",
     "output_type": "stream",
     "text": [
      "Map: 100%|██████████| 450/450 [00:32<00:00, 13.89 examples/s]\n",
      "Map: 100%|██████████| 50/50 [00:03<00:00, 16.41 examples/s]\n",
      "Creating parquet from Arrow format: 100%|██████████| 1/1 [00:11<00:00, 11.99s/ba]\n",
      "Creating parquet from Arrow format: 100%|██████████| 1/1 [00:01<00:00,  1.34s/ba]\n"
     ]
    },
    {
     "name": "stdout",
     "output_type": "stream",
     "text": [
      "count: 229 x 500 = 114500\n"
     ]
    },
    {
     "name": "stderr",
     "output_type": "stream",
     "text": [
      "Map: 100%|██████████| 450/450 [00:25<00:00, 17.49 examples/s]\n",
      "Map: 100%|██████████| 50/50 [00:03<00:00, 13.47 examples/s]\n",
      "Creating parquet from Arrow format: 100%|██████████| 1/1 [00:11<00:00, 11.88s/ba]\n",
      "Creating parquet from Arrow format: 100%|██████████| 1/1 [00:01<00:00,  1.33s/ba]\n"
     ]
    },
    {
     "name": "stdout",
     "output_type": "stream",
     "text": [
      "count: 230 x 500 = 115000\n"
     ]
    },
    {
     "name": "stderr",
     "output_type": "stream",
     "text": [
      "Map: 100%|██████████| 450/450 [00:34<00:00, 12.95 examples/s]\n",
      "Map: 100%|██████████| 50/50 [00:03<00:00, 15.87 examples/s]\n",
      "Creating parquet from Arrow format: 100%|██████████| 1/1 [00:11<00:00, 11.62s/ba]\n",
      "Creating parquet from Arrow format: 100%|██████████| 1/1 [00:01<00:00,  1.28s/ba]\n"
     ]
    },
    {
     "name": "stdout",
     "output_type": "stream",
     "text": [
      "count: 231 x 500 = 115500\n"
     ]
    },
    {
     "name": "stderr",
     "output_type": "stream",
     "text": [
      "Map: 100%|██████████| 450/450 [00:32<00:00, 13.92 examples/s]\n",
      "Map: 100%|██████████| 50/50 [00:02<00:00, 18.88 examples/s]\n",
      "Creating parquet from Arrow format: 100%|██████████| 1/1 [00:11<00:00, 11.46s/ba]\n",
      "Creating parquet from Arrow format: 100%|██████████| 1/1 [00:01<00:00,  1.22s/ba]\n"
     ]
    },
    {
     "name": "stdout",
     "output_type": "stream",
     "text": [
      "count: 232 x 500 = 116000\n"
     ]
    },
    {
     "name": "stderr",
     "output_type": "stream",
     "text": [
      "Map: 100%|██████████| 450/450 [00:27<00:00, 16.09 examples/s]\n",
      "Map: 100%|██████████| 50/50 [00:03<00:00, 15.76 examples/s]\n",
      "Creating parquet from Arrow format: 100%|██████████| 1/1 [00:12<00:00, 12.15s/ba]\n",
      "Creating parquet from Arrow format: 100%|██████████| 1/1 [00:01<00:00,  1.51s/ba]\n"
     ]
    },
    {
     "name": "stdout",
     "output_type": "stream",
     "text": [
      "count: 233 x 500 = 116500\n"
     ]
    },
    {
     "name": "stderr",
     "output_type": "stream",
     "text": [
      "Map: 100%|██████████| 450/450 [00:36<00:00, 12.17 examples/s]\n",
      "Map: 100%|██████████| 50/50 [00:02<00:00, 19.86 examples/s]\n",
      "Creating parquet from Arrow format: 100%|██████████| 1/1 [00:11<00:00, 11.56s/ba]\n",
      "Creating parquet from Arrow format: 100%|██████████| 1/1 [00:01<00:00,  1.24s/ba]\n"
     ]
    },
    {
     "name": "stdout",
     "output_type": "stream",
     "text": [
      "count: 234 x 500 = 117000\n"
     ]
    },
    {
     "name": "stderr",
     "output_type": "stream",
     "text": [
      "Map: 100%|██████████| 450/450 [00:29<00:00, 15.14 examples/s]\n",
      "Map: 100%|██████████| 50/50 [00:02<00:00, 18.16 examples/s]\n",
      "Creating parquet from Arrow format: 100%|██████████| 1/1 [00:11<00:00, 11.39s/ba]\n",
      "Creating parquet from Arrow format: 100%|██████████| 1/1 [00:01<00:00,  1.26s/ba]\n"
     ]
    },
    {
     "name": "stdout",
     "output_type": "stream",
     "text": [
      "count: 235 x 500 = 117500\n"
     ]
    },
    {
     "name": "stderr",
     "output_type": "stream",
     "text": [
      "Map: 100%|██████████| 450/450 [00:35<00:00, 12.72 examples/s]\n",
      "Map: 100%|██████████| 50/50 [00:02<00:00, 18.02 examples/s]\n",
      "Creating parquet from Arrow format: 100%|██████████| 1/1 [00:11<00:00, 11.68s/ba]\n",
      "Creating parquet from Arrow format: 100%|██████████| 1/1 [00:01<00:00,  1.35s/ba]\n"
     ]
    },
    {
     "name": "stdout",
     "output_type": "stream",
     "text": [
      "count: 236 x 500 = 118000\n"
     ]
    },
    {
     "name": "stderr",
     "output_type": "stream",
     "text": [
      "Map: 100%|██████████| 450/450 [00:27<00:00, 16.46 examples/s]\n",
      "Map: 100%|██████████| 50/50 [00:03<00:00, 16.33 examples/s]\n",
      "Creating parquet from Arrow format: 100%|██████████| 1/1 [00:22<00:00, 22.79s/ba]\n",
      "Creating parquet from Arrow format: 100%|██████████| 1/1 [00:02<00:00,  2.44s/ba]\n"
     ]
    },
    {
     "name": "stdout",
     "output_type": "stream",
     "text": [
      "count: 237 x 500 = 118500\n"
     ]
    },
    {
     "name": "stderr",
     "output_type": "stream",
     "text": [
      "Map: 100%|██████████| 450/450 [00:41<00:00, 10.97 examples/s]\n",
      "Map: 100%|██████████| 50/50 [00:03<00:00, 12.75 examples/s]\n",
      "Creating parquet from Arrow format: 100%|██████████| 1/1 [00:18<00:00, 18.84s/ba]\n",
      "Creating parquet from Arrow format: 100%|██████████| 1/1 [00:02<00:00,  2.51s/ba]\n"
     ]
    },
    {
     "name": "stdout",
     "output_type": "stream",
     "text": [
      "count: 238 x 500 = 119000\n"
     ]
    },
    {
     "name": "stderr",
     "output_type": "stream",
     "text": [
      "Map: 100%|██████████| 450/450 [00:37<00:00, 11.96 examples/s]\n",
      "Map: 100%|██████████| 50/50 [00:04<00:00, 11.06 examples/s]\n",
      "Creating parquet from Arrow format: 100%|██████████| 1/1 [00:20<00:00, 20.20s/ba]\n",
      "Creating parquet from Arrow format: 100%|██████████| 1/1 [00:02<00:00,  2.48s/ba]\n"
     ]
    },
    {
     "name": "stdout",
     "output_type": "stream",
     "text": [
      "count: 239 x 500 = 119500\n"
     ]
    },
    {
     "name": "stderr",
     "output_type": "stream",
     "text": [
      "Map: 100%|██████████| 450/450 [00:36<00:00, 12.22 examples/s]\n",
      "Map: 100%|██████████| 50/50 [00:04<00:00, 12.01 examples/s]\n",
      "Creating parquet from Arrow format: 100%|██████████| 1/1 [00:18<00:00, 18.64s/ba]\n",
      "Creating parquet from Arrow format: 100%|██████████| 1/1 [00:01<00:00,  1.66s/ba]\n"
     ]
    },
    {
     "name": "stdout",
     "output_type": "stream",
     "text": [
      "count: 240 x 500 = 120000\n"
     ]
    },
    {
     "name": "stderr",
     "output_type": "stream",
     "text": [
      "Map: 100%|██████████| 450/450 [00:43<00:00, 10.24 examples/s]\n",
      "Map: 100%|██████████| 50/50 [00:04<00:00, 12.18 examples/s]\n",
      "Creating parquet from Arrow format: 100%|██████████| 1/1 [00:19<00:00, 19.01s/ba]\n",
      "Creating parquet from Arrow format: 100%|██████████| 1/1 [00:01<00:00,  1.63s/ba]\n"
     ]
    },
    {
     "name": "stdout",
     "output_type": "stream",
     "text": [
      "count: 241 x 500 = 120500\n"
     ]
    },
    {
     "name": "stderr",
     "output_type": "stream",
     "text": [
      "Map: 100%|██████████| 450/450 [00:36<00:00, 12.20 examples/s]\n",
      "Map: 100%|██████████| 50/50 [00:05<00:00,  8.93 examples/s]\n",
      "Creating parquet from Arrow format: 100%|██████████| 1/1 [00:16<00:00, 16.98s/ba]\n",
      "Creating parquet from Arrow format: 100%|██████████| 1/1 [00:01<00:00,  1.55s/ba]\n"
     ]
    },
    {
     "name": "stdout",
     "output_type": "stream",
     "text": [
      "count: 242 x 500 = 121000\n"
     ]
    },
    {
     "name": "stderr",
     "output_type": "stream",
     "text": [
      "Map: 100%|██████████| 450/450 [00:42<00:00, 10.71 examples/s]\n",
      "Map: 100%|██████████| 50/50 [00:04<00:00, 11.11 examples/s]\n",
      "Creating parquet from Arrow format: 100%|██████████| 1/1 [00:17<00:00, 17.20s/ba]\n",
      "Creating parquet from Arrow format: 100%|██████████| 1/1 [00:01<00:00,  1.39s/ba]\n"
     ]
    },
    {
     "name": "stdout",
     "output_type": "stream",
     "text": [
      "count: 243 x 500 = 121500\n"
     ]
    },
    {
     "name": "stderr",
     "output_type": "stream",
     "text": [
      "Map: 100%|██████████| 450/450 [00:38<00:00, 11.76 examples/s]\n",
      "Map: 100%|██████████| 50/50 [00:04<00:00, 10.30 examples/s]\n",
      "Creating parquet from Arrow format: 100%|██████████| 1/1 [00:18<00:00, 18.46s/ba]\n",
      "Creating parquet from Arrow format: 100%|██████████| 1/1 [00:01<00:00,  1.73s/ba]\n"
     ]
    },
    {
     "name": "stdout",
     "output_type": "stream",
     "text": [
      "count: 244 x 500 = 122000\n"
     ]
    },
    {
     "name": "stderr",
     "output_type": "stream",
     "text": [
      "Map: 100%|██████████| 450/450 [00:33<00:00, 13.41 examples/s]\n",
      "Map: 100%|██████████| 50/50 [00:03<00:00, 12.61 examples/s]\n",
      "Creating parquet from Arrow format: 100%|██████████| 1/1 [00:18<00:00, 18.31s/ba]\n",
      "Creating parquet from Arrow format: 100%|██████████| 1/1 [00:01<00:00,  1.71s/ba]\n"
     ]
    },
    {
     "name": "stdout",
     "output_type": "stream",
     "text": [
      "count: 245 x 500 = 122500\n"
     ]
    },
    {
     "name": "stderr",
     "output_type": "stream",
     "text": [
      "Map: 100%|██████████| 450/450 [00:37<00:00, 12.06 examples/s]\n",
      "Map: 100%|██████████| 50/50 [00:02<00:00, 19.11 examples/s]\n",
      "Creating parquet from Arrow format: 100%|██████████| 1/1 [00:12<00:00, 12.92s/ba]\n",
      "Creating parquet from Arrow format: 100%|██████████| 1/1 [00:01<00:00,  1.39s/ba]\n"
     ]
    },
    {
     "name": "stdout",
     "output_type": "stream",
     "text": [
      "count: 246 x 500 = 123000\n"
     ]
    },
    {
     "name": "stderr",
     "output_type": "stream",
     "text": [
      "Map: 100%|██████████| 450/450 [00:38<00:00, 11.64 examples/s]\n",
      "Map: 100%|██████████| 50/50 [00:06<00:00,  7.30 examples/s]\n",
      "Creating parquet from Arrow format: 100%|██████████| 1/1 [00:11<00:00, 11.61s/ba]\n",
      "Creating parquet from Arrow format: 100%|██████████| 1/1 [00:01<00:00,  1.35s/ba]\n"
     ]
    },
    {
     "name": "stdout",
     "output_type": "stream",
     "text": [
      "count: 247 x 500 = 123500\n"
     ]
    },
    {
     "name": "stderr",
     "output_type": "stream",
     "text": [
      "Map: 100%|██████████| 450/450 [00:28<00:00, 15.99 examples/s]\n",
      "Map: 100%|██████████| 50/50 [00:03<00:00, 16.64 examples/s]\n",
      "Creating parquet from Arrow format: 100%|██████████| 1/1 [00:11<00:00, 11.72s/ba]\n",
      "Creating parquet from Arrow format: 100%|██████████| 1/1 [00:01<00:00,  1.19s/ba]\n"
     ]
    },
    {
     "name": "stdout",
     "output_type": "stream",
     "text": [
      "count: 248 x 500 = 124000\n"
     ]
    },
    {
     "name": "stderr",
     "output_type": "stream",
     "text": [
      "Map: 100%|██████████| 450/450 [00:26<00:00, 16.77 examples/s]\n",
      "Map: 100%|██████████| 50/50 [00:02<00:00, 17.14 examples/s]\n",
      "Creating parquet from Arrow format: 100%|██████████| 1/1 [00:12<00:00, 12.03s/ba]\n",
      "Creating parquet from Arrow format: 100%|██████████| 1/1 [00:01<00:00,  1.26s/ba]\n"
     ]
    },
    {
     "name": "stdout",
     "output_type": "stream",
     "text": [
      "count: 249 x 500 = 124500\n"
     ]
    },
    {
     "name": "stderr",
     "output_type": "stream",
     "text": [
      "Map: 100%|██████████| 450/450 [00:33<00:00, 13.44 examples/s]\n",
      "Map: 100%|██████████| 50/50 [00:03<00:00, 15.55 examples/s]\n",
      "Creating parquet from Arrow format: 100%|██████████| 1/1 [00:43<00:00, 43.70s/ba]\n",
      "Creating parquet from Arrow format: 100%|██████████| 1/1 [00:05<00:00,  5.73s/ba]\n"
     ]
    },
    {
     "name": "stdout",
     "output_type": "stream",
     "text": [
      "count: 250 x 500 = 125000\n"
     ]
    },
    {
     "name": "stderr",
     "output_type": "stream",
     "text": [
      "Map: 100%|██████████| 450/450 [00:56<00:00,  7.93 examples/s]\n",
      "Map: 100%|██████████| 50/50 [00:04<00:00, 10.74 examples/s]\n",
      "Creating parquet from Arrow format: 100%|██████████| 1/1 [00:24<00:00, 24.34s/ba]\n",
      "Creating parquet from Arrow format: 100%|██████████| 1/1 [00:02<00:00,  2.73s/ba]\n"
     ]
    },
    {
     "name": "stdout",
     "output_type": "stream",
     "text": [
      "count: 251 x 500 = 125500\n"
     ]
    },
    {
     "name": "stderr",
     "output_type": "stream",
     "text": [
      "Map: 100%|██████████| 450/450 [00:48<00:00,  9.19 examples/s]\n",
      "Map: 100%|██████████| 50/50 [00:06<00:00,  7.45 examples/s]\n",
      "Creating parquet from Arrow format: 100%|██████████| 1/1 [00:25<00:00, 25.74s/ba]\n",
      "Creating parquet from Arrow format: 100%|██████████| 1/1 [00:02<00:00,  3.00s/ba]\n"
     ]
    },
    {
     "name": "stdout",
     "output_type": "stream",
     "text": [
      "count: 252 x 500 = 126000\n"
     ]
    },
    {
     "name": "stderr",
     "output_type": "stream",
     "text": [
      "Map: 100%|██████████| 450/450 [00:46<00:00,  9.70 examples/s]\n",
      "Map: 100%|██████████| 50/50 [00:06<00:00,  7.56 examples/s]\n",
      "Creating parquet from Arrow format: 100%|██████████| 1/1 [00:24<00:00, 24.18s/ba]\n",
      "Creating parquet from Arrow format: 100%|██████████| 1/1 [00:01<00:00,  1.51s/ba]\n"
     ]
    },
    {
     "name": "stdout",
     "output_type": "stream",
     "text": [
      "count: 253 x 500 = 126500\n"
     ]
    },
    {
     "name": "stderr",
     "output_type": "stream",
     "text": [
      "Map: 100%|██████████| 450/450 [00:30<00:00, 14.80 examples/s]\n",
      "Map: 100%|██████████| 50/50 [00:04<00:00, 11.79 examples/s]\n",
      "Creating parquet from Arrow format: 100%|██████████| 1/1 [00:14<00:00, 14.72s/ba]\n",
      "Creating parquet from Arrow format: 100%|██████████| 1/1 [00:01<00:00,  1.37s/ba]\n"
     ]
    },
    {
     "name": "stdout",
     "output_type": "stream",
     "text": [
      "count: 254 x 500 = 127000\n"
     ]
    },
    {
     "name": "stderr",
     "output_type": "stream",
     "text": [
      "Map: 100%|██████████| 450/450 [00:36<00:00, 12.31 examples/s]\n",
      "Map: 100%|██████████| 50/50 [00:03<00:00, 15.79 examples/s]\n",
      "Creating parquet from Arrow format: 100%|██████████| 1/1 [00:12<00:00, 12.58s/ba]\n",
      "Creating parquet from Arrow format: 100%|██████████| 1/1 [00:01<00:00,  1.34s/ba]\n"
     ]
    },
    {
     "name": "stdout",
     "output_type": "stream",
     "text": [
      "count: 255 x 500 = 127500\n"
     ]
    },
    {
     "name": "stderr",
     "output_type": "stream",
     "text": [
      "Map: 100%|██████████| 450/450 [00:45<00:00,  9.92 examples/s]\n",
      "Map: 100%|██████████| 50/50 [00:04<00:00, 10.89 examples/s]\n",
      "Creating parquet from Arrow format: 100%|██████████| 1/1 [00:12<00:00, 12.59s/ba]\n",
      "Creating parquet from Arrow format: 100%|██████████| 1/1 [00:01<00:00,  1.32s/ba]\n"
     ]
    },
    {
     "name": "stdout",
     "output_type": "stream",
     "text": [
      "count: 256 x 500 = 128000\n"
     ]
    },
    {
     "name": "stderr",
     "output_type": "stream",
     "text": [
      "Map: 100%|██████████| 450/450 [00:45<00:00,  9.90 examples/s]\n",
      "Map: 100%|██████████| 50/50 [00:02<00:00, 17.77 examples/s]\n",
      "Creating parquet from Arrow format: 100%|██████████| 1/1 [00:10<00:00, 10.98s/ba]\n",
      "Creating parquet from Arrow format: 100%|██████████| 1/1 [00:01<00:00,  1.17s/ba]\n"
     ]
    },
    {
     "name": "stdout",
     "output_type": "stream",
     "text": [
      "count: 257 x 500 = 128500\n"
     ]
    },
    {
     "name": "stderr",
     "output_type": "stream",
     "text": [
      "Map: 100%|██████████| 450/450 [00:31<00:00, 14.15 examples/s]\n",
      "Map: 100%|██████████| 50/50 [00:02<00:00, 16.96 examples/s]\n",
      "Creating parquet from Arrow format: 100%|██████████| 1/1 [00:13<00:00, 13.48s/ba]\n",
      "Creating parquet from Arrow format: 100%|██████████| 1/1 [00:01<00:00,  1.29s/ba]\n"
     ]
    },
    {
     "name": "stdout",
     "output_type": "stream",
     "text": [
      "count: 258 x 500 = 129000\n"
     ]
    },
    {
     "name": "stderr",
     "output_type": "stream",
     "text": [
      "Map: 100%|██████████| 450/450 [00:28<00:00, 15.65 examples/s]\n",
      "Map: 100%|██████████| 50/50 [00:03<00:00, 13.59 examples/s]\n",
      "Creating parquet from Arrow format: 100%|██████████| 1/1 [00:11<00:00, 11.49s/ba]\n",
      "Creating parquet from Arrow format: 100%|██████████| 1/1 [00:01<00:00,  1.99s/ba]\n"
     ]
    },
    {
     "name": "stdout",
     "output_type": "stream",
     "text": [
      "count: 259 x 500 = 129500\n"
     ]
    },
    {
     "name": "stderr",
     "output_type": "stream",
     "text": [
      "Map: 100%|██████████| 450/450 [00:31<00:00, 14.19 examples/s]\n",
      "Map: 100%|██████████| 50/50 [00:02<00:00, 17.82 examples/s]\n",
      "Creating parquet from Arrow format: 100%|██████████| 1/1 [00:13<00:00, 13.46s/ba]\n",
      "Creating parquet from Arrow format: 100%|██████████| 1/1 [00:01<00:00,  1.25s/ba]\n"
     ]
    },
    {
     "name": "stdout",
     "output_type": "stream",
     "text": [
      "count: 260 x 500 = 130000\n"
     ]
    },
    {
     "name": "stderr",
     "output_type": "stream",
     "text": [
      "Map: 100%|██████████| 450/450 [00:27<00:00, 16.07 examples/s]\n",
      "Map: 100%|██████████| 50/50 [00:05<00:00,  8.85 examples/s]\n",
      "Creating parquet from Arrow format: 100%|██████████| 1/1 [00:13<00:00, 13.57s/ba]\n",
      "Creating parquet from Arrow format: 100%|██████████| 1/1 [00:01<00:00,  1.19s/ba]\n"
     ]
    },
    {
     "name": "stdout",
     "output_type": "stream",
     "text": [
      "count: 261 x 500 = 130500\n"
     ]
    },
    {
     "name": "stderr",
     "output_type": "stream",
     "text": [
      "Map: 100%|██████████| 450/450 [00:39<00:00, 11.37 examples/s]\n",
      "Map: 100%|██████████| 50/50 [00:07<00:00,  6.40 examples/s]\n",
      "Creating parquet from Arrow format: 100%|██████████| 1/1 [00:11<00:00, 11.43s/ba]\n",
      "Creating parquet from Arrow format: 100%|██████████| 1/1 [00:01<00:00,  1.50s/ba]\n"
     ]
    },
    {
     "name": "stdout",
     "output_type": "stream",
     "text": [
      "count: 262 x 500 = 131000\n"
     ]
    },
    {
     "name": "stderr",
     "output_type": "stream",
     "text": [
      "Map: 100%|██████████| 450/450 [00:40<00:00, 11.19 examples/s]\n",
      "Map: 100%|██████████| 50/50 [00:03<00:00, 13.26 examples/s]\n",
      "Creating parquet from Arrow format: 100%|██████████| 1/1 [00:22<00:00, 22.69s/ba]\n",
      "Creating parquet from Arrow format: 100%|██████████| 1/1 [00:01<00:00,  1.88s/ba]\n"
     ]
    },
    {
     "name": "stdout",
     "output_type": "stream",
     "text": [
      "count: 263 x 500 = 131500\n"
     ]
    },
    {
     "name": "stderr",
     "output_type": "stream",
     "text": [
      "Map: 100%|██████████| 450/450 [00:40<00:00, 11.19 examples/s]\n",
      "Map: 100%|██████████| 50/50 [00:03<00:00, 12.85 examples/s]\n",
      "Creating parquet from Arrow format: 100%|██████████| 1/1 [00:20<00:00, 20.81s/ba]\n",
      "Creating parquet from Arrow format: 100%|██████████| 1/1 [00:01<00:00,  1.88s/ba]\n"
     ]
    },
    {
     "name": "stdout",
     "output_type": "stream",
     "text": [
      "count: 264 x 500 = 132000\n"
     ]
    },
    {
     "name": "stderr",
     "output_type": "stream",
     "text": [
      "Map: 100%|██████████| 450/450 [00:35<00:00, 12.66 examples/s]\n",
      "Map: 100%|██████████| 50/50 [00:04<00:00, 11.32 examples/s]\n",
      "Creating parquet from Arrow format: 100%|██████████| 1/1 [00:12<00:00, 12.49s/ba]\n",
      "Creating parquet from Arrow format: 100%|██████████| 1/1 [00:01<00:00,  1.36s/ba]\n"
     ]
    },
    {
     "name": "stdout",
     "output_type": "stream",
     "text": [
      "count: 265 x 500 = 132500\n"
     ]
    },
    {
     "name": "stderr",
     "output_type": "stream",
     "text": [
      "Map: 100%|██████████| 450/450 [00:32<00:00, 13.66 examples/s]\n",
      "Map: 100%|██████████| 50/50 [00:02<00:00, 16.80 examples/s]\n",
      "Creating parquet from Arrow format: 100%|██████████| 1/1 [00:12<00:00, 12.29s/ba]\n",
      "Creating parquet from Arrow format: 100%|██████████| 1/1 [00:01<00:00,  1.65s/ba]\n"
     ]
    },
    {
     "name": "stdout",
     "output_type": "stream",
     "text": [
      "count: 266 x 500 = 133000\n"
     ]
    },
    {
     "name": "stderr",
     "output_type": "stream",
     "text": [
      "Map: 100%|██████████| 450/450 [00:29<00:00, 15.26 examples/s]\n",
      "Map: 100%|██████████| 50/50 [00:03<00:00, 12.75 examples/s]\n",
      "Creating parquet from Arrow format: 100%|██████████| 1/1 [00:11<00:00, 11.15s/ba]\n",
      "Creating parquet from Arrow format: 100%|██████████| 1/1 [00:01<00:00,  1.34s/ba]\n"
     ]
    },
    {
     "name": "stdout",
     "output_type": "stream",
     "text": [
      "count: 267 x 500 = 133500\n"
     ]
    },
    {
     "name": "stderr",
     "output_type": "stream",
     "text": [
      "Map: 100%|██████████| 450/450 [00:54<00:00,  8.25 examples/s]\n",
      "Map: 100%|██████████| 50/50 [00:02<00:00, 17.29 examples/s]\n",
      "Creating parquet from Arrow format: 100%|██████████| 1/1 [00:12<00:00, 12.08s/ba]\n",
      "Creating parquet from Arrow format: 100%|██████████| 1/1 [00:01<00:00,  1.94s/ba]\n"
     ]
    },
    {
     "name": "stdout",
     "output_type": "stream",
     "text": [
      "count: 268 x 500 = 134000\n"
     ]
    },
    {
     "name": "stderr",
     "output_type": "stream",
     "text": [
      "Map: 100%|██████████| 450/450 [00:45<00:00,  9.93 examples/s]\n",
      "Map: 100%|██████████| 50/50 [00:05<00:00,  8.76 examples/s]\n",
      "Creating parquet from Arrow format: 100%|██████████| 1/1 [00:20<00:00, 20.63s/ba]\n",
      "Creating parquet from Arrow format: 100%|██████████| 1/1 [00:01<00:00,  1.53s/ba]\n"
     ]
    },
    {
     "name": "stdout",
     "output_type": "stream",
     "text": [
      "count: 269 x 500 = 134500\n"
     ]
    },
    {
     "name": "stderr",
     "output_type": "stream",
     "text": [
      "Map: 100%|██████████| 450/450 [00:29<00:00, 15.40 examples/s]\n",
      "Map: 100%|██████████| 50/50 [00:04<00:00, 11.36 examples/s]\n",
      "Creating parquet from Arrow format: 100%|██████████| 1/1 [00:12<00:00, 12.19s/ba]\n",
      "Creating parquet from Arrow format: 100%|██████████| 1/1 [00:01<00:00,  1.23s/ba]\n"
     ]
    },
    {
     "name": "stdout",
     "output_type": "stream",
     "text": [
      "count: 270 x 500 = 135000\n"
     ]
    },
    {
     "name": "stderr",
     "output_type": "stream",
     "text": [
      "Map: 100%|██████████| 450/450 [00:33<00:00, 13.50 examples/s]\n",
      "Map: 100%|██████████| 50/50 [00:03<00:00, 14.75 examples/s]\n",
      "Creating parquet from Arrow format: 100%|██████████| 1/1 [00:11<00:00, 11.64s/ba]\n",
      "Creating parquet from Arrow format: 100%|██████████| 1/1 [00:01<00:00,  1.26s/ba]\n"
     ]
    },
    {
     "name": "stdout",
     "output_type": "stream",
     "text": [
      "count: 271 x 500 = 135500\n"
     ]
    },
    {
     "name": "stderr",
     "output_type": "stream",
     "text": [
      "Map: 100%|██████████| 450/450 [00:29<00:00, 15.31 examples/s]\n",
      "Map: 100%|██████████| 50/50 [00:08<00:00,  6.18 examples/s]\n",
      "Creating parquet from Arrow format: 100%|██████████| 1/1 [00:11<00:00, 11.53s/ba]\n",
      "Creating parquet from Arrow format: 100%|██████████| 1/1 [00:01<00:00,  1.36s/ba]\n"
     ]
    },
    {
     "name": "stdout",
     "output_type": "stream",
     "text": [
      "count: 272 x 500 = 136000\n"
     ]
    },
    {
     "name": "stderr",
     "output_type": "stream",
     "text": [
      "Map: 100%|██████████| 450/450 [00:32<00:00, 13.67 examples/s]\n",
      "Map: 100%|██████████| 50/50 [00:03<00:00, 13.66 examples/s]\n",
      "Creating parquet from Arrow format: 100%|██████████| 1/1 [00:13<00:00, 13.44s/ba]\n",
      "Creating parquet from Arrow format: 100%|██████████| 1/1 [00:01<00:00,  1.32s/ba]\n"
     ]
    },
    {
     "name": "stdout",
     "output_type": "stream",
     "text": [
      "count: 273 x 500 = 136500\n"
     ]
    },
    {
     "name": "stderr",
     "output_type": "stream",
     "text": [
      "Map: 100%|██████████| 450/450 [00:42<00:00, 10.49 examples/s]\n",
      "Map: 100%|██████████| 50/50 [00:03<00:00, 12.93 examples/s]\n",
      "Creating parquet from Arrow format: 100%|██████████| 1/1 [00:12<00:00, 12.94s/ba]\n",
      "Creating parquet from Arrow format: 100%|██████████| 1/1 [00:01<00:00,  1.43s/ba]\n"
     ]
    },
    {
     "name": "stdout",
     "output_type": "stream",
     "text": [
      "count: 274 x 500 = 137000\n"
     ]
    },
    {
     "name": "stderr",
     "output_type": "stream",
     "text": [
      "Map: 100%|██████████| 450/450 [00:44<00:00, 10.16 examples/s]\n",
      "Map: 100%|██████████| 50/50 [00:04<00:00, 12.23 examples/s]\n",
      "Creating parquet from Arrow format: 100%|██████████| 1/1 [00:15<00:00, 15.04s/ba]\n",
      "Creating parquet from Arrow format: 100%|██████████| 1/1 [00:01<00:00,  1.62s/ba]\n"
     ]
    },
    {
     "name": "stdout",
     "output_type": "stream",
     "text": [
      "count: 275 x 500 = 137500\n"
     ]
    },
    {
     "name": "stderr",
     "output_type": "stream",
     "text": [
      "Map: 100%|██████████| 450/450 [00:32<00:00, 13.84 examples/s]\n",
      "Map: 100%|██████████| 50/50 [00:10<00:00,  4.87 examples/s]\n",
      "Creating parquet from Arrow format: 100%|██████████| 1/1 [00:14<00:00, 14.64s/ba]\n",
      "Creating parquet from Arrow format: 100%|██████████| 1/1 [00:01<00:00,  1.71s/ba]\n"
     ]
    },
    {
     "name": "stdout",
     "output_type": "stream",
     "text": [
      "count: 276 x 500 = 138000\n"
     ]
    },
    {
     "name": "stderr",
     "output_type": "stream",
     "text": [
      "Map: 100%|██████████| 450/450 [00:34<00:00, 12.92 examples/s]\n",
      "Map: 100%|██████████| 50/50 [00:04<00:00, 10.36 examples/s]\n",
      "Creating parquet from Arrow format: 100%|██████████| 1/1 [00:13<00:00, 13.03s/ba]\n",
      "Creating parquet from Arrow format: 100%|██████████| 1/1 [00:01<00:00,  1.41s/ba]\n"
     ]
    },
    {
     "name": "stdout",
     "output_type": "stream",
     "text": [
      "count: 277 x 500 = 138500\n"
     ]
    },
    {
     "name": "stderr",
     "output_type": "stream",
     "text": [
      "Map: 100%|██████████| 450/450 [00:36<00:00, 12.28 examples/s]\n",
      "Map: 100%|██████████| 50/50 [00:02<00:00, 17.36 examples/s]\n",
      "Creating parquet from Arrow format: 100%|██████████| 1/1 [00:13<00:00, 13.08s/ba]\n",
      "Creating parquet from Arrow format: 100%|██████████| 1/1 [00:01<00:00,  1.48s/ba]\n"
     ]
    },
    {
     "name": "stdout",
     "output_type": "stream",
     "text": [
      "count: 278 x 500 = 139000\n"
     ]
    },
    {
     "name": "stderr",
     "output_type": "stream",
     "text": [
      "Map: 100%|██████████| 450/450 [00:44<00:00, 10.00 examples/s]\n",
      "Map: 100%|██████████| 50/50 [00:02<00:00, 17.86 examples/s]\n",
      "Creating parquet from Arrow format: 100%|██████████| 1/1 [00:12<00:00, 12.57s/ba]\n",
      "Creating parquet from Arrow format: 100%|██████████| 1/1 [00:01<00:00,  1.51s/ba]\n"
     ]
    },
    {
     "name": "stdout",
     "output_type": "stream",
     "text": [
      "count: 279 x 500 = 139500\n"
     ]
    },
    {
     "name": "stderr",
     "output_type": "stream",
     "text": [
      "Map: 100%|██████████| 450/450 [00:31<00:00, 14.35 examples/s]\n",
      "Map: 100%|██████████| 50/50 [00:04<00:00, 11.52 examples/s]\n",
      "Creating parquet from Arrow format: 100%|██████████| 1/1 [00:12<00:00, 12.09s/ba]\n",
      "Creating parquet from Arrow format: 100%|██████████| 1/1 [00:01<00:00,  1.31s/ba]\n"
     ]
    },
    {
     "name": "stdout",
     "output_type": "stream",
     "text": [
      "count: 280 x 500 = 140000\n"
     ]
    },
    {
     "name": "stderr",
     "output_type": "stream",
     "text": [
      "Map: 100%|██████████| 450/450 [00:33<00:00, 13.33 examples/s]\n",
      "Map: 100%|██████████| 50/50 [00:03<00:00, 15.35 examples/s]\n",
      "Creating parquet from Arrow format: 100%|██████████| 1/1 [00:12<00:00, 12.23s/ba]\n",
      "Creating parquet from Arrow format: 100%|██████████| 1/1 [00:03<00:00,  3.14s/ba]\n"
     ]
    },
    {
     "name": "stdout",
     "output_type": "stream",
     "text": [
      "count: 281 x 500 = 140500\n"
     ]
    },
    {
     "name": "stderr",
     "output_type": "stream",
     "text": [
      "Map: 100%|██████████| 450/450 [00:27<00:00, 16.14 examples/s]\n",
      "Map: 100%|██████████| 50/50 [00:03<00:00, 15.11 examples/s]\n",
      "Creating parquet from Arrow format: 100%|██████████| 1/1 [00:12<00:00, 12.40s/ba]\n",
      "Creating parquet from Arrow format: 100%|██████████| 1/1 [00:01<00:00,  1.37s/ba]\n"
     ]
    },
    {
     "name": "stdout",
     "output_type": "stream",
     "text": [
      "count: 282 x 500 = 141000\n"
     ]
    },
    {
     "name": "stderr",
     "output_type": "stream",
     "text": [
      "Map: 100%|██████████| 450/450 [00:39<00:00, 11.53 examples/s]\n",
      "Map: 100%|██████████| 50/50 [00:04<00:00, 11.82 examples/s]\n",
      "Creating parquet from Arrow format: 100%|██████████| 1/1 [00:12<00:00, 12.26s/ba]\n",
      "Creating parquet from Arrow format: 100%|██████████| 1/1 [00:01<00:00,  1.26s/ba]\n"
     ]
    },
    {
     "name": "stdout",
     "output_type": "stream",
     "text": [
      "count: 283 x 500 = 141500\n"
     ]
    },
    {
     "name": "stderr",
     "output_type": "stream",
     "text": [
      "Map: 100%|██████████| 450/450 [00:38<00:00, 11.77 examples/s]\n",
      "Map: 100%|██████████| 50/50 [00:06<00:00,  7.60 examples/s]\n",
      "Creating parquet from Arrow format: 100%|██████████| 1/1 [00:11<00:00, 11.78s/ba]\n",
      "Creating parquet from Arrow format: 100%|██████████| 1/1 [00:01<00:00,  1.67s/ba]\n"
     ]
    },
    {
     "name": "stdout",
     "output_type": "stream",
     "text": [
      "count: 284 x 500 = 142000\n"
     ]
    },
    {
     "name": "stderr",
     "output_type": "stream",
     "text": [
      "Map: 100%|██████████| 450/450 [00:39<00:00, 11.43 examples/s]\n",
      "Map: 100%|██████████| 50/50 [00:06<00:00,  7.20 examples/s]\n",
      "Creating parquet from Arrow format: 100%|██████████| 1/1 [00:22<00:00, 22.50s/ba]\n",
      "Creating parquet from Arrow format: 100%|██████████| 1/1 [00:01<00:00,  1.86s/ba]\n"
     ]
    },
    {
     "name": "stdout",
     "output_type": "stream",
     "text": [
      "count: 285 x 500 = 142500\n"
     ]
    },
    {
     "name": "stderr",
     "output_type": "stream",
     "text": [
      "Map: 100%|██████████| 450/450 [00:55<00:00,  8.13 examples/s]\n",
      "Map: 100%|██████████| 50/50 [00:04<00:00, 11.98 examples/s]\n",
      "Creating parquet from Arrow format: 100%|██████████| 1/1 [00:25<00:00, 25.94s/ba]\n",
      "Creating parquet from Arrow format: 100%|██████████| 1/1 [00:02<00:00,  2.72s/ba]\n"
     ]
    },
    {
     "name": "stdout",
     "output_type": "stream",
     "text": [
      "count: 286 x 500 = 143000\n"
     ]
    },
    {
     "name": "stderr",
     "output_type": "stream",
     "text": [
      "Map: 100%|██████████| 450/450 [00:37<00:00, 11.95 examples/s]\n",
      "Map: 100%|██████████| 50/50 [00:06<00:00,  8.09 examples/s]\n",
      "Creating parquet from Arrow format: 100%|██████████| 1/1 [00:21<00:00, 21.40s/ba]\n",
      "Creating parquet from Arrow format: 100%|██████████| 1/1 [00:02<00:00,  2.53s/ba]\n"
     ]
    },
    {
     "name": "stdout",
     "output_type": "stream",
     "text": [
      "count: 287 x 500 = 143500\n"
     ]
    },
    {
     "name": "stderr",
     "output_type": "stream",
     "text": [
      "Map: 100%|██████████| 450/450 [00:47<00:00,  9.43 examples/s]\n",
      "Map: 100%|██████████| 50/50 [00:04<00:00, 10.28 examples/s]\n",
      "Creating parquet from Arrow format: 100%|██████████| 1/1 [00:21<00:00, 21.51s/ba]\n",
      "Creating parquet from Arrow format: 100%|██████████| 1/1 [00:02<00:00,  2.06s/ba]\n"
     ]
    },
    {
     "name": "stdout",
     "output_type": "stream",
     "text": [
      "count: 288 x 500 = 144000\n"
     ]
    },
    {
     "name": "stderr",
     "output_type": "stream",
     "text": [
      "Map: 100%|██████████| 450/450 [00:42<00:00, 10.51 examples/s]\n",
      "Map: 100%|██████████| 50/50 [00:05<00:00,  9.16 examples/s]\n",
      "Creating parquet from Arrow format: 100%|██████████| 1/1 [00:20<00:00, 20.83s/ba]\n",
      "Creating parquet from Arrow format: 100%|██████████| 1/1 [00:02<00:00,  2.23s/ba]\n"
     ]
    },
    {
     "name": "stdout",
     "output_type": "stream",
     "text": [
      "count: 289 x 500 = 144500\n"
     ]
    },
    {
     "name": "stderr",
     "output_type": "stream",
     "text": [
      "Map: 100%|██████████| 450/450 [00:38<00:00, 11.69 examples/s]\n",
      "Map: 100%|██████████| 50/50 [00:04<00:00, 11.88 examples/s]\n",
      "Creating parquet from Arrow format: 100%|██████████| 1/1 [00:23<00:00, 23.55s/ba]\n",
      "Creating parquet from Arrow format: 100%|██████████| 1/1 [00:02<00:00,  2.12s/ba]\n"
     ]
    },
    {
     "name": "stdout",
     "output_type": "stream",
     "text": [
      "count: 290 x 500 = 145000\n"
     ]
    },
    {
     "name": "stderr",
     "output_type": "stream",
     "text": [
      "Map: 100%|██████████| 450/450 [00:39<00:00, 11.44 examples/s]\n",
      "Map: 100%|██████████| 50/50 [00:04<00:00, 11.16 examples/s]\n",
      "Creating parquet from Arrow format: 100%|██████████| 1/1 [00:19<00:00, 19.84s/ba]\n",
      "Creating parquet from Arrow format: 100%|██████████| 1/1 [00:02<00:00,  2.41s/ba]\n"
     ]
    },
    {
     "name": "stdout",
     "output_type": "stream",
     "text": [
      "count: 291 x 500 = 145500\n"
     ]
    },
    {
     "name": "stderr",
     "output_type": "stream",
     "text": [
      "Map: 100%|██████████| 450/450 [00:46<00:00,  9.78 examples/s]\n",
      "Map: 100%|██████████| 50/50 [00:08<00:00,  5.82 examples/s]\n",
      "Creating parquet from Arrow format: 100%|██████████| 1/1 [00:20<00:00, 20.83s/ba]\n",
      "Creating parquet from Arrow format: 100%|██████████| 1/1 [00:02<00:00,  2.16s/ba]\n"
     ]
    },
    {
     "name": "stdout",
     "output_type": "stream",
     "text": [
      "count: 292 x 500 = 146000\n"
     ]
    },
    {
     "name": "stderr",
     "output_type": "stream",
     "text": [
      "Map: 100%|██████████| 450/450 [00:35<00:00, 12.61 examples/s]\n",
      "Map: 100%|██████████| 50/50 [00:05<00:00,  9.42 examples/s]\n",
      "Creating parquet from Arrow format: 100%|██████████| 1/1 [00:19<00:00, 19.62s/ba]\n",
      "Creating parquet from Arrow format: 100%|██████████| 1/1 [00:02<00:00,  2.49s/ba]\n"
     ]
    },
    {
     "name": "stdout",
     "output_type": "stream",
     "text": [
      "count: 293 x 500 = 146500\n"
     ]
    },
    {
     "name": "stderr",
     "output_type": "stream",
     "text": [
      "Map: 100%|██████████| 450/450 [00:40<00:00, 10.98 examples/s]\n",
      "Map: 100%|██████████| 50/50 [00:04<00:00, 11.14 examples/s]\n",
      "Creating parquet from Arrow format: 100%|██████████| 1/1 [00:18<00:00, 18.61s/ba]\n",
      "Creating parquet from Arrow format: 100%|██████████| 1/1 [00:02<00:00,  2.18s/ba]\n"
     ]
    },
    {
     "name": "stdout",
     "output_type": "stream",
     "text": [
      "count: 294 x 500 = 147000\n"
     ]
    },
    {
     "name": "stderr",
     "output_type": "stream",
     "text": [
      "Map: 100%|██████████| 450/450 [00:41<00:00, 10.97 examples/s]\n",
      "Map: 100%|██████████| 50/50 [00:07<00:00,  7.04 examples/s]\n",
      "Creating parquet from Arrow format: 100%|██████████| 1/1 [00:19<00:00, 19.60s/ba]\n",
      "Creating parquet from Arrow format: 100%|██████████| 1/1 [00:01<00:00,  1.77s/ba]\n"
     ]
    },
    {
     "name": "stdout",
     "output_type": "stream",
     "text": [
      "count: 295 x 500 = 147500\n"
     ]
    },
    {
     "name": "stderr",
     "output_type": "stream",
     "text": [
      "Map: 100%|██████████| 450/450 [00:36<00:00, 12.17 examples/s]\n",
      "Map: 100%|██████████| 50/50 [00:03<00:00, 14.01 examples/s]\n",
      "Creating parquet from Arrow format: 100%|██████████| 1/1 [00:19<00:00, 19.03s/ba]\n",
      "Creating parquet from Arrow format: 100%|██████████| 1/1 [00:01<00:00,  1.96s/ba]\n"
     ]
    },
    {
     "name": "stdout",
     "output_type": "stream",
     "text": [
      "count: 296 x 500 = 148000\n"
     ]
    },
    {
     "name": "stderr",
     "output_type": "stream",
     "text": [
      "Map: 100%|██████████| 450/450 [00:34<00:00, 12.97 examples/s]\n",
      "Map: 100%|██████████| 50/50 [00:04<00:00, 10.18 examples/s]\n",
      "Creating parquet from Arrow format: 100%|██████████| 1/1 [00:20<00:00, 20.96s/ba]\n",
      "Creating parquet from Arrow format: 100%|██████████| 1/1 [00:01<00:00,  1.72s/ba]\n"
     ]
    },
    {
     "name": "stdout",
     "output_type": "stream",
     "text": [
      "count: 297 x 500 = 148500\n"
     ]
    },
    {
     "name": "stderr",
     "output_type": "stream",
     "text": [
      "Map: 100%|██████████| 450/450 [00:33<00:00, 13.45 examples/s]\n",
      "Map: 100%|██████████| 50/50 [00:05<00:00,  9.01 examples/s]\n",
      "Creating parquet from Arrow format: 100%|██████████| 1/1 [00:20<00:00, 20.10s/ba]\n",
      "Creating parquet from Arrow format: 100%|██████████| 1/1 [00:01<00:00,  1.84s/ba]\n"
     ]
    },
    {
     "name": "stdout",
     "output_type": "stream",
     "text": [
      "count: 298 x 500 = 149000\n"
     ]
    },
    {
     "name": "stderr",
     "output_type": "stream",
     "text": [
      "Map: 100%|██████████| 450/450 [00:38<00:00, 11.83 examples/s]\n",
      "Map: 100%|██████████| 50/50 [00:06<00:00,  7.84 examples/s]\n",
      "Creating parquet from Arrow format: 100%|██████████| 1/1 [00:19<00:00, 19.63s/ba]\n",
      "Creating parquet from Arrow format: 100%|██████████| 1/1 [00:01<00:00,  1.81s/ba]\n"
     ]
    },
    {
     "name": "stdout",
     "output_type": "stream",
     "text": [
      "count: 299 x 500 = 149500\n"
     ]
    },
    {
     "name": "stderr",
     "output_type": "stream",
     "text": [
      "Map: 100%|██████████| 450/450 [00:38<00:00, 11.78 examples/s]\n",
      "Map: 100%|██████████| 50/50 [00:05<00:00,  8.63 examples/s]\n",
      "Creating parquet from Arrow format: 100%|██████████| 1/1 [00:19<00:00, 19.47s/ba]\n",
      "Creating parquet from Arrow format: 100%|██████████| 1/1 [00:02<00:00,  2.39s/ba]\n"
     ]
    },
    {
     "name": "stdout",
     "output_type": "stream",
     "text": [
      "count: 300 x 500 = 150000\n"
     ]
    },
    {
     "name": "stderr",
     "output_type": "stream",
     "text": [
      "Map: 100%|██████████| 450/450 [00:35<00:00, 12.70 examples/s]\n",
      "Map: 100%|██████████| 50/50 [00:06<00:00,  7.43 examples/s]\n",
      "Creating parquet from Arrow format: 100%|██████████| 1/1 [00:17<00:00, 17.99s/ba]\n",
      "Creating parquet from Arrow format: 100%|██████████| 1/1 [00:01<00:00,  1.74s/ba]\n"
     ]
    },
    {
     "name": "stdout",
     "output_type": "stream",
     "text": [
      "count: 301 x 500 = 150500\n"
     ]
    },
    {
     "name": "stderr",
     "output_type": "stream",
     "text": [
      "Map: 100%|██████████| 450/450 [00:40<00:00, 11.22 examples/s]\n",
      "Map: 100%|██████████| 50/50 [00:05<00:00,  9.23 examples/s]\n",
      "Creating parquet from Arrow format: 100%|██████████| 1/1 [00:17<00:00, 17.94s/ba]\n",
      "Creating parquet from Arrow format: 100%|██████████| 1/1 [00:02<00:00,  2.59s/ba]\n"
     ]
    },
    {
     "name": "stdout",
     "output_type": "stream",
     "text": [
      "count: 302 x 500 = 151000\n"
     ]
    },
    {
     "name": "stderr",
     "output_type": "stream",
     "text": [
      "Map: 100%|██████████| 450/450 [00:35<00:00, 12.78 examples/s]\n",
      "Map: 100%|██████████| 50/50 [00:03<00:00, 13.61 examples/s]\n",
      "Creating parquet from Arrow format: 100%|██████████| 1/1 [00:17<00:00, 17.67s/ba]\n",
      "Creating parquet from Arrow format: 100%|██████████| 1/1 [00:01<00:00,  1.68s/ba]\n"
     ]
    },
    {
     "name": "stdout",
     "output_type": "stream",
     "text": [
      "count: 303 x 500 = 151500\n"
     ]
    },
    {
     "name": "stderr",
     "output_type": "stream",
     "text": [
      "Map: 100%|██████████| 450/450 [00:33<00:00, 13.47 examples/s]\n",
      "Map: 100%|██████████| 50/50 [00:04<00:00, 10.53 examples/s]\n",
      "Creating parquet from Arrow format: 100%|██████████| 1/1 [00:18<00:00, 18.87s/ba]\n",
      "Creating parquet from Arrow format: 100%|██████████| 1/1 [00:02<00:00,  2.84s/ba]\n"
     ]
    },
    {
     "name": "stdout",
     "output_type": "stream",
     "text": [
      "count: 304 x 500 = 152000\n"
     ]
    },
    {
     "name": "stderr",
     "output_type": "stream",
     "text": [
      "Map: 100%|██████████| 450/450 [00:34<00:00, 13.14 examples/s]\n",
      "Map: 100%|██████████| 50/50 [00:02<00:00, 19.34 examples/s]\n",
      "Creating parquet from Arrow format: 100%|██████████| 1/1 [00:11<00:00, 11.41s/ba]\n",
      "Creating parquet from Arrow format: 100%|██████████| 1/1 [00:01<00:00,  1.29s/ba]\n"
     ]
    },
    {
     "name": "stdout",
     "output_type": "stream",
     "text": [
      "count: 305 x 500 = 152500\n"
     ]
    },
    {
     "name": "stderr",
     "output_type": "stream",
     "text": [
      "Map: 100%|██████████| 450/450 [00:28<00:00, 15.67 examples/s]\n",
      "Map: 100%|██████████| 50/50 [00:02<00:00, 17.36 examples/s]\n",
      "Creating parquet from Arrow format: 100%|██████████| 1/1 [00:12<00:00, 12.28s/ba]\n",
      "Creating parquet from Arrow format: 100%|██████████| 1/1 [00:01<00:00,  1.24s/ba]\n"
     ]
    },
    {
     "name": "stdout",
     "output_type": "stream",
     "text": [
      "count: 306 x 500 = 153000\n"
     ]
    },
    {
     "name": "stderr",
     "output_type": "stream",
     "text": [
      "Map: 100%|██████████| 450/450 [00:36<00:00, 12.45 examples/s]\n",
      "Map: 100%|██████████| 50/50 [00:02<00:00, 17.74 examples/s]\n",
      "Creating parquet from Arrow format: 100%|██████████| 1/1 [00:11<00:00, 11.51s/ba]\n",
      "Creating parquet from Arrow format: 100%|██████████| 1/1 [00:01<00:00,  1.23s/ba]\n"
     ]
    },
    {
     "name": "stdout",
     "output_type": "stream",
     "text": [
      "count: 307 x 500 = 153500\n"
     ]
    },
    {
     "name": "stderr",
     "output_type": "stream",
     "text": [
      "Map: 100%|██████████| 450/450 [00:32<00:00, 13.91 examples/s]\n",
      "Map: 100%|██████████| 50/50 [00:02<00:00, 17.44 examples/s]\n",
      "Creating parquet from Arrow format: 100%|██████████| 1/1 [00:11<00:00, 11.07s/ba]\n",
      "Creating parquet from Arrow format: 100%|██████████| 1/1 [00:01<00:00,  1.25s/ba]\n"
     ]
    },
    {
     "name": "stdout",
     "output_type": "stream",
     "text": [
      "count: 308 x 500 = 154000\n"
     ]
    },
    {
     "name": "stderr",
     "output_type": "stream",
     "text": [
      "Map: 100%|██████████| 450/450 [00:24<00:00, 18.47 examples/s]\n",
      "Map: 100%|██████████| 50/50 [00:02<00:00, 18.05 examples/s]\n",
      "Creating parquet from Arrow format: 100%|██████████| 1/1 [00:11<00:00, 11.58s/ba]\n",
      "Creating parquet from Arrow format: 100%|██████████| 1/1 [00:01<00:00,  1.30s/ba]\n"
     ]
    },
    {
     "name": "stdout",
     "output_type": "stream",
     "text": [
      "count: 309 x 500 = 154500\n"
     ]
    },
    {
     "name": "stderr",
     "output_type": "stream",
     "text": [
      "Map: 100%|██████████| 450/450 [00:48<00:00,  9.18 examples/s]\n",
      "Map: 100%|██████████| 50/50 [00:03<00:00, 13.42 examples/s]\n",
      "Creating parquet from Arrow format: 100%|██████████| 1/1 [00:11<00:00, 11.55s/ba]\n",
      "Creating parquet from Arrow format: 100%|██████████| 1/1 [00:01<00:00,  1.25s/ba]\n"
     ]
    },
    {
     "name": "stdout",
     "output_type": "stream",
     "text": [
      "count: 310 x 500 = 155000\n"
     ]
    },
    {
     "name": "stderr",
     "output_type": "stream",
     "text": [
      "Map: 100%|██████████| 450/450 [00:29<00:00, 15.37 examples/s]\n",
      "Map: 100%|██████████| 50/50 [00:02<00:00, 16.95 examples/s]\n",
      "Creating parquet from Arrow format: 100%|██████████| 1/1 [00:11<00:00, 11.39s/ba]\n",
      "Creating parquet from Arrow format: 100%|██████████| 1/1 [00:01<00:00,  1.30s/ba]\n"
     ]
    },
    {
     "name": "stdout",
     "output_type": "stream",
     "text": [
      "count: 311 x 500 = 155500\n"
     ]
    },
    {
     "name": "stderr",
     "output_type": "stream",
     "text": [
      "Map: 100%|██████████| 450/450 [00:27<00:00, 16.23 examples/s]\n",
      "Map: 100%|██████████| 50/50 [00:03<00:00, 13.16 examples/s]\n",
      "Creating parquet from Arrow format: 100%|██████████| 1/1 [00:13<00:00, 13.05s/ba]\n",
      "Creating parquet from Arrow format: 100%|██████████| 1/1 [00:01<00:00,  1.19s/ba]\n"
     ]
    },
    {
     "name": "stdout",
     "output_type": "stream",
     "text": [
      "count: 312 x 500 = 156000\n"
     ]
    },
    {
     "name": "stderr",
     "output_type": "stream",
     "text": [
      "Map: 100%|██████████| 450/450 [00:33<00:00, 13.46 examples/s]\n",
      "Map: 100%|██████████| 50/50 [00:02<00:00, 18.46 examples/s]\n",
      "Creating parquet from Arrow format: 100%|██████████| 1/1 [00:12<00:00, 12.68s/ba]\n",
      "Creating parquet from Arrow format: 100%|██████████| 1/1 [00:01<00:00,  1.29s/ba]\n"
     ]
    },
    {
     "name": "stdout",
     "output_type": "stream",
     "text": [
      "count: 313 x 500 = 156500\n"
     ]
    },
    {
     "name": "stderr",
     "output_type": "stream",
     "text": [
      "Map: 100%|██████████| 450/450 [00:35<00:00, 12.79 examples/s]\n",
      "Map: 100%|██████████| 50/50 [00:03<00:00, 15.41 examples/s]\n",
      "Creating parquet from Arrow format: 100%|██████████| 1/1 [00:11<00:00, 11.50s/ba]\n",
      "Creating parquet from Arrow format: 100%|██████████| 1/1 [00:01<00:00,  1.25s/ba]\n"
     ]
    },
    {
     "name": "stdout",
     "output_type": "stream",
     "text": [
      "count: 314 x 500 = 157000\n"
     ]
    },
    {
     "name": "stderr",
     "output_type": "stream",
     "text": [
      "Map: 100%|██████████| 450/450 [00:33<00:00, 13.59 examples/s]\n",
      "Map: 100%|██████████| 50/50 [00:04<00:00, 10.90 examples/s]\n",
      "Creating parquet from Arrow format: 100%|██████████| 1/1 [00:11<00:00, 11.21s/ba]\n",
      "Creating parquet from Arrow format: 100%|██████████| 1/1 [00:01<00:00,  1.28s/ba]\n"
     ]
    },
    {
     "name": "stdout",
     "output_type": "stream",
     "text": [
      "count: 315 x 500 = 157500\n"
     ]
    },
    {
     "name": "stderr",
     "output_type": "stream",
     "text": [
      "Map: 100%|██████████| 450/450 [00:31<00:00, 14.21 examples/s]\n",
      "Map: 100%|██████████| 50/50 [00:03<00:00, 14.69 examples/s]\n",
      "Creating parquet from Arrow format: 100%|██████████| 1/1 [00:11<00:00, 11.34s/ba]\n",
      "Creating parquet from Arrow format: 100%|██████████| 1/1 [00:01<00:00,  1.25s/ba]\n"
     ]
    },
    {
     "name": "stdout",
     "output_type": "stream",
     "text": [
      "count: 316 x 500 = 158000\n"
     ]
    },
    {
     "name": "stderr",
     "output_type": "stream",
     "text": [
      "Map: 100%|██████████| 450/450 [00:35<00:00, 12.52 examples/s]\n",
      "Map: 100%|██████████| 50/50 [00:02<00:00, 18.08 examples/s]\n",
      "Creating parquet from Arrow format: 100%|██████████| 1/1 [00:11<00:00, 11.23s/ba]\n",
      "Creating parquet from Arrow format: 100%|██████████| 1/1 [00:01<00:00,  1.22s/ba]\n"
     ]
    },
    {
     "name": "stdout",
     "output_type": "stream",
     "text": [
      "count: 317 x 500 = 158500\n"
     ]
    },
    {
     "name": "stderr",
     "output_type": "stream",
     "text": [
      "Map: 100%|██████████| 450/450 [00:33<00:00, 13.58 examples/s]\n",
      "Map: 100%|██████████| 50/50 [00:03<00:00, 15.24 examples/s]\n",
      "Creating parquet from Arrow format: 100%|██████████| 1/1 [00:11<00:00, 11.40s/ba]\n",
      "Creating parquet from Arrow format: 100%|██████████| 1/1 [00:01<00:00,  1.26s/ba]\n"
     ]
    },
    {
     "name": "stdout",
     "output_type": "stream",
     "text": [
      "count: 318 x 500 = 159000\n"
     ]
    },
    {
     "name": "stderr",
     "output_type": "stream",
     "text": [
      "Map: 100%|██████████| 450/450 [00:35<00:00, 12.58 examples/s]\n",
      "Map: 100%|██████████| 50/50 [00:02<00:00, 17.44 examples/s]\n",
      "Creating parquet from Arrow format: 100%|██████████| 1/1 [00:11<00:00, 11.22s/ba]\n",
      "Creating parquet from Arrow format: 100%|██████████| 1/1 [00:01<00:00,  1.20s/ba]\n"
     ]
    },
    {
     "name": "stdout",
     "output_type": "stream",
     "text": [
      "count: 319 x 500 = 159500\n"
     ]
    },
    {
     "name": "stderr",
     "output_type": "stream",
     "text": [
      "Map: 100%|██████████| 450/450 [00:32<00:00, 13.79 examples/s]\n",
      "Map: 100%|██████████| 50/50 [00:03<00:00, 16.06 examples/s]\n",
      "Creating parquet from Arrow format: 100%|██████████| 1/1 [00:11<00:00, 11.91s/ba]\n",
      "Creating parquet from Arrow format: 100%|██████████| 1/1 [00:01<00:00,  1.36s/ba]\n"
     ]
    },
    {
     "name": "stdout",
     "output_type": "stream",
     "text": [
      "count: 320 x 500 = 160000\n"
     ]
    },
    {
     "name": "stderr",
     "output_type": "stream",
     "text": [
      "Map: 100%|██████████| 450/450 [00:32<00:00, 13.97 examples/s]\n",
      "Map: 100%|██████████| 50/50 [00:02<00:00, 18.96 examples/s]\n",
      "Creating parquet from Arrow format: 100%|██████████| 1/1 [00:11<00:00, 11.51s/ba]\n",
      "Creating parquet from Arrow format: 100%|██████████| 1/1 [00:01<00:00,  1.21s/ba]\n"
     ]
    },
    {
     "name": "stdout",
     "output_type": "stream",
     "text": [
      "count: 321 x 500 = 160500\n"
     ]
    },
    {
     "name": "stderr",
     "output_type": "stream",
     "text": [
      "Map: 100%|██████████| 450/450 [00:29<00:00, 15.24 examples/s]\n",
      "Map: 100%|██████████| 50/50 [00:05<00:00,  9.88 examples/s]\n",
      "Creating parquet from Arrow format: 100%|██████████| 1/1 [00:11<00:00, 11.53s/ba]\n",
      "Creating parquet from Arrow format: 100%|██████████| 1/1 [00:01<00:00,  1.29s/ba]\n"
     ]
    },
    {
     "name": "stdout",
     "output_type": "stream",
     "text": [
      "count: 322 x 500 = 161000\n"
     ]
    },
    {
     "name": "stderr",
     "output_type": "stream",
     "text": [
      "Map: 100%|██████████| 450/450 [00:34<00:00, 13.13 examples/s]\n",
      "Map: 100%|██████████| 50/50 [00:03<00:00, 16.52 examples/s]\n",
      "Creating parquet from Arrow format: 100%|██████████| 1/1 [00:11<00:00, 11.53s/ba]\n",
      "Creating parquet from Arrow format: 100%|██████████| 1/1 [00:01<00:00,  1.27s/ba]\n"
     ]
    },
    {
     "name": "stdout",
     "output_type": "stream",
     "text": [
      "count: 323 x 500 = 161500\n"
     ]
    },
    {
     "name": "stderr",
     "output_type": "stream",
     "text": [
      "Map: 100%|██████████| 450/450 [00:28<00:00, 15.88 examples/s]\n",
      "Map: 100%|██████████| 50/50 [00:02<00:00, 17.67 examples/s]\n",
      "Creating parquet from Arrow format: 100%|██████████| 1/1 [00:13<00:00, 13.09s/ba]\n",
      "Creating parquet from Arrow format: 100%|██████████| 1/1 [00:01<00:00,  1.23s/ba]\n"
     ]
    },
    {
     "name": "stdout",
     "output_type": "stream",
     "text": [
      "count: 324 x 500 = 162000\n"
     ]
    },
    {
     "name": "stderr",
     "output_type": "stream",
     "text": [
      "Map: 100%|██████████| 450/450 [00:36<00:00, 12.48 examples/s]\n",
      "Map: 100%|██████████| 50/50 [00:02<00:00, 17.56 examples/s]\n",
      "Creating parquet from Arrow format: 100%|██████████| 1/1 [00:11<00:00, 11.24s/ba]\n",
      "Creating parquet from Arrow format: 100%|██████████| 1/1 [00:01<00:00,  1.27s/ba]\n"
     ]
    },
    {
     "name": "stdout",
     "output_type": "stream",
     "text": [
      "count: 325 x 500 = 162500\n"
     ]
    },
    {
     "name": "stderr",
     "output_type": "stream",
     "text": [
      "Map: 100%|██████████| 450/450 [00:25<00:00, 17.35 examples/s]\n",
      "Map: 100%|██████████| 50/50 [00:02<00:00, 18.56 examples/s]\n",
      "Creating parquet from Arrow format: 100%|██████████| 1/1 [00:11<00:00, 11.43s/ba]\n",
      "Creating parquet from Arrow format: 100%|██████████| 1/1 [00:01<00:00,  1.29s/ba]\n"
     ]
    },
    {
     "name": "stdout",
     "output_type": "stream",
     "text": [
      "count: 326 x 500 = 163000\n"
     ]
    },
    {
     "name": "stderr",
     "output_type": "stream",
     "text": [
      "Map: 100%|██████████| 450/450 [00:30<00:00, 14.97 examples/s]\n",
      "Map: 100%|██████████| 50/50 [00:02<00:00, 16.67 examples/s]\n",
      "Creating parquet from Arrow format: 100%|██████████| 1/1 [00:11<00:00, 11.67s/ba]\n",
      "Creating parquet from Arrow format: 100%|██████████| 1/1 [00:01<00:00,  1.26s/ba]\n"
     ]
    },
    {
     "name": "stdout",
     "output_type": "stream",
     "text": [
      "count: 327 x 500 = 163500\n"
     ]
    },
    {
     "name": "stderr",
     "output_type": "stream",
     "text": [
      "Map: 100%|██████████| 450/450 [00:27<00:00, 16.54 examples/s]\n",
      "Map: 100%|██████████| 50/50 [00:02<00:00, 18.42 examples/s]\n",
      "Creating parquet from Arrow format: 100%|██████████| 1/1 [00:11<00:00, 11.96s/ba]\n",
      "Creating parquet from Arrow format: 100%|██████████| 1/1 [00:01<00:00,  1.21s/ba]\n"
     ]
    },
    {
     "name": "stdout",
     "output_type": "stream",
     "text": [
      "count: 328 x 500 = 164000\n"
     ]
    },
    {
     "name": "stderr",
     "output_type": "stream",
     "text": [
      "Map: 100%|██████████| 450/450 [00:39<00:00, 11.32 examples/s]\n",
      "Map: 100%|██████████| 50/50 [00:02<00:00, 19.54 examples/s]\n",
      "Creating parquet from Arrow format: 100%|██████████| 1/1 [00:11<00:00, 11.85s/ba]\n",
      "Creating parquet from Arrow format: 100%|██████████| 1/1 [00:01<00:00,  1.30s/ba]\n"
     ]
    },
    {
     "name": "stdout",
     "output_type": "stream",
     "text": [
      "count: 329 x 500 = 164500\n"
     ]
    },
    {
     "name": "stderr",
     "output_type": "stream",
     "text": [
      "Map: 100%|██████████| 450/450 [00:33<00:00, 13.43 examples/s]\n",
      "Map: 100%|██████████| 50/50 [00:03<00:00, 15.41 examples/s]\n",
      "Creating parquet from Arrow format: 100%|██████████| 1/1 [00:11<00:00, 11.22s/ba]\n",
      "Creating parquet from Arrow format: 100%|██████████| 1/1 [00:01<00:00,  1.30s/ba]\n"
     ]
    },
    {
     "name": "stdout",
     "output_type": "stream",
     "text": [
      "count: 330 x 500 = 165000\n"
     ]
    },
    {
     "name": "stderr",
     "output_type": "stream",
     "text": [
      "Map: 100%|██████████| 450/450 [00:27<00:00, 16.35 examples/s]\n",
      "Map: 100%|██████████| 50/50 [00:02<00:00, 16.87 examples/s]\n",
      "Creating parquet from Arrow format: 100%|██████████| 1/1 [00:12<00:00, 12.04s/ba]\n",
      "Creating parquet from Arrow format: 100%|██████████| 1/1 [00:01<00:00,  1.24s/ba]\n"
     ]
    },
    {
     "name": "stdout",
     "output_type": "stream",
     "text": [
      "count: 331 x 500 = 165500\n"
     ]
    },
    {
     "name": "stderr",
     "output_type": "stream",
     "text": [
      "Map: 100%|██████████| 450/450 [00:32<00:00, 13.69 examples/s]\n",
      "Map: 100%|██████████| 50/50 [00:02<00:00, 18.08 examples/s]\n",
      "Creating parquet from Arrow format: 100%|██████████| 1/1 [00:11<00:00, 11.48s/ba]\n",
      "Creating parquet from Arrow format: 100%|██████████| 1/1 [00:01<00:00,  1.36s/ba]\n"
     ]
    },
    {
     "name": "stdout",
     "output_type": "stream",
     "text": [
      "count: 332 x 500 = 166000\n"
     ]
    },
    {
     "name": "stderr",
     "output_type": "stream",
     "text": [
      "Map: 100%|██████████| 450/450 [00:30<00:00, 14.71 examples/s]\n",
      "Map: 100%|██████████| 50/50 [00:02<00:00, 17.09 examples/s]\n",
      "Creating parquet from Arrow format: 100%|██████████| 1/1 [00:11<00:00, 11.39s/ba]\n",
      "Creating parquet from Arrow format: 100%|██████████| 1/1 [00:01<00:00,  1.25s/ba]\n"
     ]
    },
    {
     "name": "stdout",
     "output_type": "stream",
     "text": [
      "count: 333 x 500 = 166500\n"
     ]
    },
    {
     "name": "stderr",
     "output_type": "stream",
     "text": [
      "Map: 100%|██████████| 450/450 [00:34<00:00, 13.01 examples/s]\n",
      "Map: 100%|██████████| 50/50 [00:03<00:00, 15.61 examples/s]\n",
      "Creating parquet from Arrow format: 100%|██████████| 1/1 [00:11<00:00, 11.38s/ba]\n",
      "Creating parquet from Arrow format: 100%|██████████| 1/1 [00:01<00:00,  1.30s/ba]\n"
     ]
    },
    {
     "name": "stdout",
     "output_type": "stream",
     "text": [
      "count: 334 x 500 = 167000\n"
     ]
    },
    {
     "name": "stderr",
     "output_type": "stream",
     "text": [
      "Map: 100%|██████████| 450/450 [00:41<00:00, 10.83 examples/s]\n",
      "Map: 100%|██████████| 50/50 [00:02<00:00, 17.19 examples/s]\n",
      "Creating parquet from Arrow format: 100%|██████████| 1/1 [00:11<00:00, 11.41s/ba]\n",
      "Creating parquet from Arrow format: 100%|██████████| 1/1 [00:01<00:00,  1.29s/ba]\n"
     ]
    },
    {
     "name": "stdout",
     "output_type": "stream",
     "text": [
      "count: 335 x 500 = 167500\n"
     ]
    },
    {
     "name": "stderr",
     "output_type": "stream",
     "text": [
      "Map: 100%|██████████| 450/450 [00:26<00:00, 16.76 examples/s]\n",
      "Map: 100%|██████████| 50/50 [00:02<00:00, 17.47 examples/s]\n",
      "Creating parquet from Arrow format: 100%|██████████| 1/1 [00:12<00:00, 12.26s/ba]\n",
      "Creating parquet from Arrow format: 100%|██████████| 1/1 [00:01<00:00,  1.25s/ba]\n"
     ]
    },
    {
     "name": "stdout",
     "output_type": "stream",
     "text": [
      "count: 336 x 500 = 168000\n"
     ]
    },
    {
     "name": "stderr",
     "output_type": "stream",
     "text": [
      "Map: 100%|██████████| 450/450 [00:32<00:00, 13.72 examples/s]\n",
      "Map: 100%|██████████| 50/50 [00:06<00:00,  7.70 examples/s]\n",
      "Creating parquet from Arrow format: 100%|██████████| 1/1 [00:11<00:00, 11.92s/ba]\n",
      "Creating parquet from Arrow format: 100%|██████████| 1/1 [00:01<00:00,  1.28s/ba]\n"
     ]
    },
    {
     "name": "stdout",
     "output_type": "stream",
     "text": [
      "count: 337 x 500 = 168500\n"
     ]
    },
    {
     "name": "stderr",
     "output_type": "stream",
     "text": [
      "Map: 100%|██████████| 450/450 [00:36<00:00, 12.42 examples/s]\n",
      "Map: 100%|██████████| 50/50 [00:02<00:00, 17.69 examples/s]\n",
      "Creating parquet from Arrow format: 100%|██████████| 1/1 [00:11<00:00, 11.71s/ba]\n",
      "Creating parquet from Arrow format: 100%|██████████| 1/1 [00:01<00:00,  1.25s/ba]\n"
     ]
    },
    {
     "name": "stdout",
     "output_type": "stream",
     "text": [
      "count: 338 x 500 = 169000\n"
     ]
    },
    {
     "name": "stderr",
     "output_type": "stream",
     "text": [
      "Map: 100%|██████████| 450/450 [00:28<00:00, 15.85 examples/s]\n",
      "Map: 100%|██████████| 50/50 [00:03<00:00, 15.27 examples/s]\n",
      "Creating parquet from Arrow format: 100%|██████████| 1/1 [00:11<00:00, 11.58s/ba]\n",
      "Creating parquet from Arrow format: 100%|██████████| 1/1 [00:01<00:00,  1.26s/ba]\n"
     ]
    },
    {
     "name": "stdout",
     "output_type": "stream",
     "text": [
      "count: 339 x 500 = 169500\n"
     ]
    },
    {
     "name": "stderr",
     "output_type": "stream",
     "text": [
      "Map: 100%|██████████| 450/450 [00:30<00:00, 14.55 examples/s]\n",
      "Map: 100%|██████████| 50/50 [00:02<00:00, 18.15 examples/s]\n",
      "Creating parquet from Arrow format: 100%|██████████| 1/1 [00:11<00:00, 11.10s/ba]\n",
      "Creating parquet from Arrow format: 100%|██████████| 1/1 [00:01<00:00,  1.21s/ba]\n"
     ]
    },
    {
     "name": "stdout",
     "output_type": "stream",
     "text": [
      "count: 340 x 500 = 170000\n"
     ]
    },
    {
     "name": "stderr",
     "output_type": "stream",
     "text": [
      "Map: 100%|██████████| 450/450 [00:32<00:00, 14.00 examples/s]\n",
      "Map: 100%|██████████| 50/50 [00:03<00:00, 13.77 examples/s]\n",
      "Creating parquet from Arrow format: 100%|██████████| 1/1 [00:11<00:00, 11.29s/ba]\n",
      "Creating parquet from Arrow format: 100%|██████████| 1/1 [00:01<00:00,  1.26s/ba]\n"
     ]
    },
    {
     "name": "stdout",
     "output_type": "stream",
     "text": [
      "count: 341 x 500 = 170500\n"
     ]
    },
    {
     "name": "stderr",
     "output_type": "stream",
     "text": [
      "Map: 100%|██████████| 450/450 [00:30<00:00, 14.92 examples/s]\n",
      "Map: 100%|██████████| 50/50 [00:02<00:00, 17.93 examples/s]\n",
      "Creating parquet from Arrow format: 100%|██████████| 1/1 [00:12<00:00, 12.10s/ba]\n",
      "Creating parquet from Arrow format: 100%|██████████| 1/1 [00:01<00:00,  1.27s/ba]\n"
     ]
    },
    {
     "name": "stdout",
     "output_type": "stream",
     "text": [
      "count: 342 x 500 = 171000\n"
     ]
    },
    {
     "name": "stderr",
     "output_type": "stream",
     "text": [
      "Map: 100%|██████████| 450/450 [00:37<00:00, 12.02 examples/s]\n",
      "Map: 100%|██████████| 50/50 [00:02<00:00, 18.40 examples/s]\n",
      "Creating parquet from Arrow format: 100%|██████████| 1/1 [00:11<00:00, 11.61s/ba]\n",
      "Creating parquet from Arrow format: 100%|██████████| 1/1 [00:01<00:00,  1.39s/ba]\n"
     ]
    },
    {
     "name": "stdout",
     "output_type": "stream",
     "text": [
      "count: 343 x 500 = 171500\n"
     ]
    },
    {
     "name": "stderr",
     "output_type": "stream",
     "text": [
      "Map: 100%|██████████| 450/450 [00:26<00:00, 16.91 examples/s]\n",
      "Map: 100%|██████████| 50/50 [00:02<00:00, 18.37 examples/s]\n",
      "Creating parquet from Arrow format: 100%|██████████| 1/1 [00:11<00:00, 11.94s/ba]\n",
      "Creating parquet from Arrow format: 100%|██████████| 1/1 [00:01<00:00,  1.20s/ba]\n"
     ]
    },
    {
     "name": "stdout",
     "output_type": "stream",
     "text": [
      "count: 344 x 500 = 172000\n"
     ]
    },
    {
     "name": "stderr",
     "output_type": "stream",
     "text": [
      "Map: 100%|██████████| 450/450 [00:30<00:00, 14.89 examples/s]\n",
      "Map: 100%|██████████| 50/50 [00:04<00:00, 12.48 examples/s]\n",
      "Creating parquet from Arrow format: 100%|██████████| 1/1 [00:11<00:00, 11.58s/ba]\n",
      "Creating parquet from Arrow format: 100%|██████████| 1/1 [00:01<00:00,  1.27s/ba]\n"
     ]
    },
    {
     "name": "stdout",
     "output_type": "stream",
     "text": [
      "count: 345 x 500 = 172500\n"
     ]
    },
    {
     "name": "stderr",
     "output_type": "stream",
     "text": [
      "Map: 100%|██████████| 450/450 [00:31<00:00, 14.46 examples/s]\n",
      "Map: 100%|██████████| 50/50 [00:02<00:00, 17.45 examples/s]\n",
      "Creating parquet from Arrow format: 100%|██████████| 1/1 [00:11<00:00, 11.64s/ba]\n",
      "Creating parquet from Arrow format: 100%|██████████| 1/1 [00:01<00:00,  1.29s/ba]\n"
     ]
    },
    {
     "name": "stdout",
     "output_type": "stream",
     "text": [
      "count: 346 x 500 = 173000\n"
     ]
    },
    {
     "name": "stderr",
     "output_type": "stream",
     "text": [
      "Map: 100%|██████████| 450/450 [00:35<00:00, 12.62 examples/s]\n",
      "Map: 100%|██████████| 50/50 [00:04<00:00, 12.07 examples/s]\n",
      "Creating parquet from Arrow format: 100%|██████████| 1/1 [00:11<00:00, 11.78s/ba]\n",
      "Creating parquet from Arrow format: 100%|██████████| 1/1 [00:01<00:00,  1.30s/ba]\n"
     ]
    },
    {
     "name": "stdout",
     "output_type": "stream",
     "text": [
      "count: 347 x 500 = 173500\n"
     ]
    },
    {
     "name": "stderr",
     "output_type": "stream",
     "text": [
      "Map: 100%|██████████| 450/450 [00:28<00:00, 15.67 examples/s]\n",
      "Map: 100%|██████████| 50/50 [00:04<00:00, 10.91 examples/s]\n",
      "Creating parquet from Arrow format: 100%|██████████| 1/1 [00:11<00:00, 11.98s/ba]\n",
      "Creating parquet from Arrow format: 100%|██████████| 1/1 [00:01<00:00,  1.26s/ba]\n"
     ]
    },
    {
     "name": "stdout",
     "output_type": "stream",
     "text": [
      "count: 348 x 500 = 174000\n"
     ]
    },
    {
     "name": "stderr",
     "output_type": "stream",
     "text": [
      "Map: 100%|██████████| 450/450 [00:27<00:00, 16.58 examples/s]\n",
      "Map: 100%|██████████| 50/50 [00:02<00:00, 19.01 examples/s]\n",
      "Creating parquet from Arrow format: 100%|██████████| 1/1 [00:11<00:00, 11.56s/ba]\n",
      "Creating parquet from Arrow format: 100%|██████████| 1/1 [00:01<00:00,  1.21s/ba]\n"
     ]
    },
    {
     "name": "stdout",
     "output_type": "stream",
     "text": [
      "count: 349 x 500 = 174500\n"
     ]
    },
    {
     "name": "stderr",
     "output_type": "stream",
     "text": [
      "Map: 100%|██████████| 450/450 [00:32<00:00, 13.96 examples/s]\n",
      "Map: 100%|██████████| 50/50 [00:02<00:00, 19.27 examples/s]\n",
      "Creating parquet from Arrow format: 100%|██████████| 1/1 [00:12<00:00, 12.38s/ba]\n",
      "Creating parquet from Arrow format: 100%|██████████| 1/1 [00:01<00:00,  1.24s/ba]\n"
     ]
    },
    {
     "name": "stdout",
     "output_type": "stream",
     "text": [
      "count: 350 x 500 = 175000\n"
     ]
    },
    {
     "name": "stderr",
     "output_type": "stream",
     "text": [
      "Map: 100%|██████████| 450/450 [00:33<00:00, 13.27 examples/s]\n",
      "Map: 100%|██████████| 50/50 [00:02<00:00, 18.08 examples/s]\n",
      "Creating parquet from Arrow format: 100%|██████████| 1/1 [00:11<00:00, 11.75s/ba]\n",
      "Creating parquet from Arrow format: 100%|██████████| 1/1 [00:01<00:00,  1.32s/ba]\n"
     ]
    },
    {
     "name": "stdout",
     "output_type": "stream",
     "text": [
      "count: 351 x 500 = 175500\n"
     ]
    },
    {
     "name": "stderr",
     "output_type": "stream",
     "text": [
      "Map: 100%|██████████| 450/450 [00:29<00:00, 15.27 examples/s]\n",
      "Map: 100%|██████████| 50/50 [00:03<00:00, 13.29 examples/s]\n",
      "Creating parquet from Arrow format: 100%|██████████| 1/1 [00:11<00:00, 11.73s/ba]\n",
      "Creating parquet from Arrow format: 100%|██████████| 1/1 [00:01<00:00,  1.24s/ba]\n"
     ]
    },
    {
     "name": "stdout",
     "output_type": "stream",
     "text": [
      "count: 352 x 500 = 176000\n"
     ]
    },
    {
     "name": "stderr",
     "output_type": "stream",
     "text": [
      "Map: 100%|██████████| 450/450 [00:30<00:00, 14.75 examples/s]\n",
      "Map: 100%|██████████| 50/50 [00:04<00:00, 10.73 examples/s]\n",
      "Creating parquet from Arrow format: 100%|██████████| 1/1 [00:12<00:00, 12.84s/ba]\n",
      "Creating parquet from Arrow format: 100%|██████████| 1/1 [00:01<00:00,  1.28s/ba]\n"
     ]
    },
    {
     "name": "stdout",
     "output_type": "stream",
     "text": [
      "count: 353 x 500 = 176500\n"
     ]
    },
    {
     "name": "stderr",
     "output_type": "stream",
     "text": [
      "Map: 100%|██████████| 450/450 [00:39<00:00, 11.25 examples/s]\n",
      "Map: 100%|██████████| 50/50 [00:03<00:00, 12.52 examples/s]\n",
      "Creating parquet from Arrow format: 100%|██████████| 1/1 [00:11<00:00, 11.67s/ba]\n",
      "Creating parquet from Arrow format: 100%|██████████| 1/1 [00:01<00:00,  1.30s/ba]\n"
     ]
    },
    {
     "name": "stdout",
     "output_type": "stream",
     "text": [
      "count: 354 x 500 = 177000\n"
     ]
    },
    {
     "name": "stderr",
     "output_type": "stream",
     "text": [
      "Map: 100%|██████████| 450/450 [00:29<00:00, 15.46 examples/s]\n",
      "Map: 100%|██████████| 50/50 [00:03<00:00, 15.01 examples/s]\n",
      "Creating parquet from Arrow format: 100%|██████████| 1/1 [00:11<00:00, 11.48s/ba]\n",
      "Creating parquet from Arrow format: 100%|██████████| 1/1 [00:01<00:00,  1.23s/ba]\n"
     ]
    },
    {
     "name": "stdout",
     "output_type": "stream",
     "text": [
      "count: 355 x 500 = 177500\n"
     ]
    },
    {
     "name": "stderr",
     "output_type": "stream",
     "text": [
      "Map: 100%|██████████| 450/450 [00:34<00:00, 12.88 examples/s]\n",
      "Map: 100%|██████████| 50/50 [00:03<00:00, 13.09 examples/s]\n",
      "Creating parquet from Arrow format: 100%|██████████| 1/1 [00:11<00:00, 11.22s/ba]\n",
      "Creating parquet from Arrow format: 100%|██████████| 1/1 [00:01<00:00,  1.27s/ba]\n"
     ]
    },
    {
     "name": "stdout",
     "output_type": "stream",
     "text": [
      "count: 356 x 500 = 178000\n"
     ]
    },
    {
     "name": "stderr",
     "output_type": "stream",
     "text": [
      "Map: 100%|██████████| 450/450 [00:26<00:00, 16.87 examples/s]\n",
      "Map: 100%|██████████| 50/50 [00:03<00:00, 15.60 examples/s]\n",
      "Creating parquet from Arrow format: 100%|██████████| 1/1 [00:11<00:00, 11.33s/ba]\n",
      "Creating parquet from Arrow format: 100%|██████████| 1/1 [00:01<00:00,  1.24s/ba]\n"
     ]
    },
    {
     "name": "stdout",
     "output_type": "stream",
     "text": [
      "count: 357 x 500 = 178500\n"
     ]
    },
    {
     "name": "stderr",
     "output_type": "stream",
     "text": [
      "Map: 100%|██████████| 450/450 [00:33<00:00, 13.49 examples/s]\n",
      "Map: 100%|██████████| 50/50 [00:03<00:00, 12.52 examples/s]\n",
      "Creating parquet from Arrow format: 100%|██████████| 1/1 [00:11<00:00, 11.09s/ba]\n",
      "Creating parquet from Arrow format: 100%|██████████| 1/1 [00:01<00:00,  1.25s/ba]\n"
     ]
    },
    {
     "name": "stdout",
     "output_type": "stream",
     "text": [
      "count: 358 x 500 = 179000\n"
     ]
    },
    {
     "name": "stderr",
     "output_type": "stream",
     "text": [
      "Map: 100%|██████████| 450/450 [00:32<00:00, 13.88 examples/s]\n",
      "Map: 100%|██████████| 50/50 [00:02<00:00, 19.21 examples/s]\n",
      "Creating parquet from Arrow format: 100%|██████████| 1/1 [00:11<00:00, 11.42s/ba]\n",
      "Creating parquet from Arrow format: 100%|██████████| 1/1 [00:01<00:00,  1.28s/ba]\n"
     ]
    },
    {
     "name": "stdout",
     "output_type": "stream",
     "text": [
      "count: 359 x 500 = 179500\n"
     ]
    },
    {
     "name": "stderr",
     "output_type": "stream",
     "text": [
      "Map: 100%|██████████| 450/450 [00:29<00:00, 15.04 examples/s]\n",
      "Map: 100%|██████████| 50/50 [00:03<00:00, 12.76 examples/s]\n",
      "Creating parquet from Arrow format: 100%|██████████| 1/1 [00:11<00:00, 11.79s/ba]\n",
      "Creating parquet from Arrow format: 100%|██████████| 1/1 [00:01<00:00,  1.86s/ba]\n"
     ]
    },
    {
     "name": "stdout",
     "output_type": "stream",
     "text": [
      "count: 360 x 500 = 180000\n"
     ]
    },
    {
     "name": "stderr",
     "output_type": "stream",
     "text": [
      "Map: 100%|██████████| 450/450 [00:31<00:00, 14.13 examples/s]\n",
      "Map: 100%|██████████| 50/50 [00:03<00:00, 13.94 examples/s]\n",
      "Creating parquet from Arrow format: 100%|██████████| 1/1 [00:12<00:00, 12.55s/ba]\n",
      "Creating parquet from Arrow format: 100%|██████████| 1/1 [00:01<00:00,  1.30s/ba]\n"
     ]
    },
    {
     "name": "stdout",
     "output_type": "stream",
     "text": [
      "count: 361 x 500 = 180500\n"
     ]
    },
    {
     "name": "stderr",
     "output_type": "stream",
     "text": [
      "Map: 100%|██████████| 450/450 [00:27<00:00, 16.37 examples/s]\n",
      "Map: 100%|██████████| 50/50 [00:02<00:00, 18.08 examples/s]\n",
      "Creating parquet from Arrow format: 100%|██████████| 1/1 [00:10<00:00, 10.93s/ba]\n",
      "Creating parquet from Arrow format: 100%|██████████| 1/1 [00:02<00:00,  2.32s/ba]\n"
     ]
    },
    {
     "name": "stdout",
     "output_type": "stream",
     "text": [
      "count: 362 x 500 = 181000\n"
     ]
    },
    {
     "name": "stderr",
     "output_type": "stream",
     "text": [
      "Map: 100%|██████████| 450/450 [00:30<00:00, 14.96 examples/s]\n",
      "Map: 100%|██████████| 50/50 [00:05<00:00,  9.16 examples/s]\n",
      "Creating parquet from Arrow format: 100%|██████████| 1/1 [00:11<00:00, 11.08s/ba]\n",
      "Creating parquet from Arrow format: 100%|██████████| 1/1 [00:01<00:00,  1.30s/ba]\n"
     ]
    },
    {
     "name": "stdout",
     "output_type": "stream",
     "text": [
      "count: 363 x 500 = 181500\n"
     ]
    },
    {
     "name": "stderr",
     "output_type": "stream",
     "text": [
      "Map: 100%|██████████| 450/450 [00:34<00:00, 12.87 examples/s]\n",
      "Map: 100%|██████████| 50/50 [00:02<00:00, 16.90 examples/s]\n",
      "Creating parquet from Arrow format: 100%|██████████| 1/1 [00:11<00:00, 11.43s/ba]\n",
      "Creating parquet from Arrow format: 100%|██████████| 1/1 [00:01<00:00,  1.21s/ba]\n"
     ]
    },
    {
     "name": "stdout",
     "output_type": "stream",
     "text": [
      "count: 364 x 500 = 182000\n"
     ]
    },
    {
     "name": "stderr",
     "output_type": "stream",
     "text": [
      "Map: 100%|██████████| 450/450 [01:00<00:00,  7.43 examples/s]\n",
      "Map: 100%|██████████| 50/50 [00:04<00:00, 11.53 examples/s]\n",
      "Creating parquet from Arrow format: 100%|██████████| 1/1 [00:20<00:00, 20.44s/ba]\n",
      "Creating parquet from Arrow format: 100%|██████████| 1/1 [00:01<00:00,  1.72s/ba]\n"
     ]
    },
    {
     "name": "stdout",
     "output_type": "stream",
     "text": [
      "count: 365 x 500 = 182500\n"
     ]
    },
    {
     "name": "stderr",
     "output_type": "stream",
     "text": [
      "Map: 100%|██████████| 450/450 [00:36<00:00, 12.19 examples/s]\n",
      "Map: 100%|██████████| 50/50 [00:03<00:00, 13.84 examples/s]\n",
      "Creating parquet from Arrow format: 100%|██████████| 1/1 [00:18<00:00, 18.38s/ba]\n",
      "Creating parquet from Arrow format: 100%|██████████| 1/1 [00:02<00:00,  2.60s/ba]\n"
     ]
    },
    {
     "name": "stdout",
     "output_type": "stream",
     "text": [
      "count: 366 x 500 = 183000\n"
     ]
    },
    {
     "name": "stderr",
     "output_type": "stream",
     "text": [
      "Map: 100%|██████████| 450/450 [00:36<00:00, 12.37 examples/s]\n",
      "Map: 100%|██████████| 50/50 [00:04<00:00, 12.32 examples/s]\n",
      "Creating parquet from Arrow format: 100%|██████████| 1/1 [00:18<00:00, 18.25s/ba]\n",
      "Creating parquet from Arrow format: 100%|██████████| 1/1 [00:01<00:00,  1.66s/ba]\n"
     ]
    },
    {
     "name": "stdout",
     "output_type": "stream",
     "text": [
      "count: 367 x 500 = 183500\n"
     ]
    },
    {
     "name": "stderr",
     "output_type": "stream",
     "text": [
      "Map: 100%|██████████| 450/450 [00:35<00:00, 12.76 examples/s]\n",
      "Map: 100%|██████████| 50/50 [00:05<00:00,  9.79 examples/s]\n",
      "Creating parquet from Arrow format: 100%|██████████| 1/1 [00:19<00:00, 19.63s/ba]\n",
      "Creating parquet from Arrow format: 100%|██████████| 1/1 [00:02<00:00,  2.64s/ba]\n"
     ]
    },
    {
     "name": "stdout",
     "output_type": "stream",
     "text": [
      "count: 368 x 500 = 184000\n"
     ]
    },
    {
     "name": "stderr",
     "output_type": "stream",
     "text": [
      "Map: 100%|██████████| 450/450 [00:37<00:00, 12.02 examples/s]\n",
      "Map: 100%|██████████| 50/50 [00:03<00:00, 14.02 examples/s]\n",
      "Creating parquet from Arrow format: 100%|██████████| 1/1 [00:21<00:00, 21.64s/ba]\n",
      "Creating parquet from Arrow format: 100%|██████████| 1/1 [00:02<00:00,  2.78s/ba]\n"
     ]
    },
    {
     "name": "stdout",
     "output_type": "stream",
     "text": [
      "count: 369 x 500 = 184500\n"
     ]
    },
    {
     "name": "stderr",
     "output_type": "stream",
     "text": [
      "Map: 100%|██████████| 450/450 [00:36<00:00, 12.40 examples/s]\n",
      "Map: 100%|██████████| 50/50 [00:05<00:00,  8.57 examples/s]\n",
      "Creating parquet from Arrow format: 100%|██████████| 1/1 [00:11<00:00, 11.33s/ba]\n",
      "Creating parquet from Arrow format: 100%|██████████| 1/1 [00:01<00:00,  1.58s/ba]\n"
     ]
    },
    {
     "name": "stdout",
     "output_type": "stream",
     "text": [
      "count: 370 x 500 = 185000\n"
     ]
    },
    {
     "name": "stderr",
     "output_type": "stream",
     "text": [
      "Map: 100%|██████████| 450/450 [00:38<00:00, 11.62 examples/s]\n",
      "Map: 100%|██████████| 50/50 [00:04<00:00, 12.38 examples/s]\n",
      "Creating parquet from Arrow format: 100%|██████████| 1/1 [00:12<00:00, 12.22s/ba]\n",
      "Creating parquet from Arrow format: 100%|██████████| 1/1 [00:01<00:00,  1.25s/ba]\n"
     ]
    },
    {
     "name": "stdout",
     "output_type": "stream",
     "text": [
      "count: 371 x 500 = 185500\n"
     ]
    },
    {
     "name": "stderr",
     "output_type": "stream",
     "text": [
      "Map: 100%|██████████| 450/450 [00:42<00:00, 10.60 examples/s]\n",
      "Map: 100%|██████████| 50/50 [00:06<00:00,  7.89 examples/s]\n",
      "Creating parquet from Arrow format: 100%|██████████| 1/1 [00:12<00:00, 12.22s/ba]\n",
      "Creating parquet from Arrow format: 100%|██████████| 1/1 [00:01<00:00,  1.31s/ba]\n"
     ]
    },
    {
     "name": "stdout",
     "output_type": "stream",
     "text": [
      "count: 372 x 500 = 186000\n"
     ]
    },
    {
     "name": "stderr",
     "output_type": "stream",
     "text": [
      "Map: 100%|██████████| 450/450 [00:36<00:00, 12.34 examples/s]\n",
      "Map: 100%|██████████| 50/50 [00:04<00:00, 12.32 examples/s]\n",
      "Creating parquet from Arrow format: 100%|██████████| 1/1 [00:12<00:00, 12.77s/ba]\n",
      "Creating parquet from Arrow format: 100%|██████████| 1/1 [00:01<00:00,  1.24s/ba]\n"
     ]
    },
    {
     "name": "stdout",
     "output_type": "stream",
     "text": [
      "count: 373 x 500 = 186500\n"
     ]
    },
    {
     "name": "stderr",
     "output_type": "stream",
     "text": [
      "Map: 100%|██████████| 450/450 [00:40<00:00, 11.21 examples/s]\n",
      "Map: 100%|██████████| 50/50 [00:04<00:00, 12.13 examples/s]\n",
      "Creating parquet from Arrow format: 100%|██████████| 1/1 [00:12<00:00, 12.00s/ba]\n",
      "Creating parquet from Arrow format: 100%|██████████| 1/1 [00:01<00:00,  1.24s/ba]\n"
     ]
    },
    {
     "name": "stdout",
     "output_type": "stream",
     "text": [
      "count: 374 x 500 = 187000\n"
     ]
    },
    {
     "name": "stderr",
     "output_type": "stream",
     "text": [
      "Map: 100%|██████████| 450/450 [00:35<00:00, 12.62 examples/s]\n",
      "Map: 100%|██████████| 50/50 [00:03<00:00, 12.89 examples/s]\n",
      "Creating parquet from Arrow format: 100%|██████████| 1/1 [00:12<00:00, 12.11s/ba]\n",
      "Creating parquet from Arrow format: 100%|██████████| 1/1 [00:01<00:00,  1.23s/ba]\n"
     ]
    },
    {
     "name": "stdout",
     "output_type": "stream",
     "text": [
      "count: 375 x 500 = 187500\n"
     ]
    },
    {
     "name": "stderr",
     "output_type": "stream",
     "text": [
      "Map: 100%|██████████| 450/450 [00:35<00:00, 12.63 examples/s]\n",
      "Map: 100%|██████████| 50/50 [00:04<00:00, 10.76 examples/s]\n",
      "Creating parquet from Arrow format: 100%|██████████| 1/1 [00:13<00:00, 13.19s/ba]\n",
      "Creating parquet from Arrow format: 100%|██████████| 1/1 [00:01<00:00,  1.26s/ba]\n"
     ]
    },
    {
     "name": "stdout",
     "output_type": "stream",
     "text": [
      "count: 376 x 500 = 188000\n"
     ]
    },
    {
     "name": "stderr",
     "output_type": "stream",
     "text": [
      "Map: 100%|██████████| 450/450 [00:34<00:00, 12.90 examples/s]\n",
      "Map: 100%|██████████| 50/50 [00:05<00:00,  9.16 examples/s]\n",
      "Creating parquet from Arrow format: 100%|██████████| 1/1 [00:13<00:00, 13.10s/ba]\n",
      "Creating parquet from Arrow format: 100%|██████████| 1/1 [00:01<00:00,  1.27s/ba]\n"
     ]
    },
    {
     "name": "stdout",
     "output_type": "stream",
     "text": [
      "count: 377 x 500 = 188500\n"
     ]
    },
    {
     "name": "stderr",
     "output_type": "stream",
     "text": [
      "Map: 100%|██████████| 450/450 [00:36<00:00, 12.34 examples/s]\n",
      "Map: 100%|██████████| 50/50 [00:04<00:00, 11.07 examples/s]\n",
      "Creating parquet from Arrow format: 100%|██████████| 1/1 [00:12<00:00, 12.63s/ba]\n",
      "Creating parquet from Arrow format: 100%|██████████| 1/1 [00:01<00:00,  1.56s/ba]\n"
     ]
    },
    {
     "name": "stdout",
     "output_type": "stream",
     "text": [
      "count: 378 x 500 = 189000\n"
     ]
    },
    {
     "name": "stderr",
     "output_type": "stream",
     "text": [
      "Map: 100%|██████████| 450/450 [00:50<00:00,  8.90 examples/s]\n",
      "Map: 100%|██████████| 50/50 [00:04<00:00, 12.36 examples/s]\n",
      "Creating parquet from Arrow format: 100%|██████████| 1/1 [00:12<00:00, 12.78s/ba]\n",
      "Creating parquet from Arrow format: 100%|██████████| 1/1 [00:01<00:00,  1.32s/ba]\n"
     ]
    },
    {
     "name": "stdout",
     "output_type": "stream",
     "text": [
      "count: 379 x 500 = 189500\n"
     ]
    },
    {
     "name": "stderr",
     "output_type": "stream",
     "text": [
      "Map: 100%|██████████| 450/450 [00:39<00:00, 11.46 examples/s]\n",
      "Map: 100%|██████████| 50/50 [00:08<00:00,  5.59 examples/s]\n",
      "Creating parquet from Arrow format: 100%|██████████| 1/1 [00:12<00:00, 12.33s/ba]\n",
      "Creating parquet from Arrow format: 100%|██████████| 1/1 [00:02<00:00,  2.08s/ba]\n"
     ]
    },
    {
     "name": "stdout",
     "output_type": "stream",
     "text": [
      "count: 380 x 500 = 190000\n"
     ]
    },
    {
     "name": "stderr",
     "output_type": "stream",
     "text": [
      "Map: 100%|██████████| 450/450 [00:40<00:00, 11.21 examples/s]\n",
      "Map: 100%|██████████| 50/50 [00:05<00:00,  9.68 examples/s]\n",
      "Creating parquet from Arrow format: 100%|██████████| 1/1 [00:12<00:00, 12.74s/ba]\n",
      "Creating parquet from Arrow format: 100%|██████████| 1/1 [00:01<00:00,  1.22s/ba]\n"
     ]
    },
    {
     "name": "stdout",
     "output_type": "stream",
     "text": [
      "count: 381 x 500 = 190500\n"
     ]
    },
    {
     "name": "stderr",
     "output_type": "stream",
     "text": [
      "Map: 100%|██████████| 450/450 [00:38<00:00, 11.78 examples/s]\n",
      "Map: 100%|██████████| 50/50 [00:04<00:00, 10.77 examples/s]\n",
      "Creating parquet from Arrow format: 100%|██████████| 1/1 [00:13<00:00, 13.85s/ba]\n",
      "Creating parquet from Arrow format: 100%|██████████| 1/1 [00:02<00:00,  2.28s/ba]\n"
     ]
    },
    {
     "name": "stdout",
     "output_type": "stream",
     "text": [
      "count: 382 x 500 = 191000\n"
     ]
    },
    {
     "name": "stderr",
     "output_type": "stream",
     "text": [
      "Map: 100%|██████████| 450/450 [00:42<00:00, 10.53 examples/s]\n",
      "Map: 100%|██████████| 50/50 [00:05<00:00,  8.54 examples/s]\n",
      "Creating parquet from Arrow format: 100%|██████████| 1/1 [00:12<00:00, 12.89s/ba]\n",
      "Creating parquet from Arrow format: 100%|██████████| 1/1 [00:01<00:00,  1.32s/ba]\n"
     ]
    },
    {
     "name": "stdout",
     "output_type": "stream",
     "text": [
      "count: 383 x 500 = 191500\n"
     ]
    },
    {
     "name": "stderr",
     "output_type": "stream",
     "text": [
      "Map: 100%|██████████| 450/450 [00:51<00:00,  8.77 examples/s]\n",
      "Map: 100%|██████████| 50/50 [00:04<00:00, 11.57 examples/s]\n",
      "Creating parquet from Arrow format: 100%|██████████| 1/1 [00:13<00:00, 13.88s/ba]\n",
      "Creating parquet from Arrow format: 100%|██████████| 1/1 [00:01<00:00,  1.29s/ba]\n"
     ]
    },
    {
     "name": "stdout",
     "output_type": "stream",
     "text": [
      "count: 384 x 500 = 192000\n"
     ]
    },
    {
     "name": "stderr",
     "output_type": "stream",
     "text": [
      "Map: 100%|██████████| 450/450 [00:48<00:00,  9.34 examples/s]\n",
      "Map: 100%|██████████| 50/50 [00:04<00:00, 11.32 examples/s]\n",
      "Creating parquet from Arrow format: 100%|██████████| 1/1 [00:13<00:00, 13.50s/ba]\n",
      "Creating parquet from Arrow format: 100%|██████████| 1/1 [00:02<00:00,  2.17s/ba]\n"
     ]
    },
    {
     "name": "stdout",
     "output_type": "stream",
     "text": [
      "count: 385 x 500 = 192500\n"
     ]
    },
    {
     "name": "stderr",
     "output_type": "stream",
     "text": [
      "Map: 100%|██████████| 450/450 [00:34<00:00, 13.10 examples/s]\n",
      "Map: 100%|██████████| 50/50 [00:05<00:00,  9.97 examples/s]\n",
      "Creating parquet from Arrow format: 100%|██████████| 1/1 [00:11<00:00, 11.28s/ba]\n",
      "Creating parquet from Arrow format: 100%|██████████| 1/1 [00:01<00:00,  1.30s/ba]\n"
     ]
    },
    {
     "name": "stdout",
     "output_type": "stream",
     "text": [
      "count: 386 x 500 = 193000\n"
     ]
    },
    {
     "name": "stderr",
     "output_type": "stream",
     "text": [
      "Map: 100%|██████████| 450/450 [00:35<00:00, 12.64 examples/s]\n",
      "Map: 100%|██████████| 50/50 [00:02<00:00, 18.03 examples/s]\n",
      "Creating parquet from Arrow format: 100%|██████████| 1/1 [00:11<00:00, 11.18s/ba]\n",
      "Creating parquet from Arrow format: 100%|██████████| 1/1 [00:01<00:00,  1.14s/ba]\n"
     ]
    },
    {
     "name": "stdout",
     "output_type": "stream",
     "text": [
      "count: 387 x 500 = 193500\n"
     ]
    },
    {
     "name": "stderr",
     "output_type": "stream",
     "text": [
      "Map: 100%|██████████| 450/450 [00:43<00:00, 10.23 examples/s]\n",
      "Map: 100%|██████████| 50/50 [00:06<00:00,  8.29 examples/s]\n",
      "Creating parquet from Arrow format: 100%|██████████| 1/1 [00:12<00:00, 12.95s/ba]\n",
      "Creating parquet from Arrow format: 100%|██████████| 1/1 [00:01<00:00,  1.32s/ba]\n"
     ]
    },
    {
     "name": "stdout",
     "output_type": "stream",
     "text": [
      "count: 388 x 500 = 194000\n"
     ]
    },
    {
     "name": "stderr",
     "output_type": "stream",
     "text": [
      "Map: 100%|██████████| 450/450 [00:32<00:00, 14.06 examples/s]\n",
      "Map: 100%|██████████| 50/50 [00:04<00:00, 10.61 examples/s]\n",
      "Creating parquet from Arrow format: 100%|██████████| 1/1 [00:11<00:00, 11.30s/ba]\n",
      "Creating parquet from Arrow format: 100%|██████████| 1/1 [00:01<00:00,  1.34s/ba]\n"
     ]
    },
    {
     "name": "stdout",
     "output_type": "stream",
     "text": [
      "count: 389 x 500 = 194500\n"
     ]
    },
    {
     "name": "stderr",
     "output_type": "stream",
     "text": [
      "Map: 100%|██████████| 450/450 [00:32<00:00, 13.67 examples/s]\n",
      "Map: 100%|██████████| 50/50 [00:03<00:00, 15.12 examples/s]\n",
      "Creating parquet from Arrow format: 100%|██████████| 1/1 [00:12<00:00, 12.10s/ba]\n",
      "Creating parquet from Arrow format: 100%|██████████| 1/1 [00:01<00:00,  1.25s/ba]\n"
     ]
    },
    {
     "name": "stdout",
     "output_type": "stream",
     "text": [
      "count: 390 x 500 = 195000\n"
     ]
    },
    {
     "name": "stderr",
     "output_type": "stream",
     "text": [
      "Map: 100%|██████████| 450/450 [00:42<00:00, 10.53 examples/s]\n",
      "Map: 100%|██████████| 50/50 [00:07<00:00,  6.32 examples/s]\n",
      "Creating parquet from Arrow format: 100%|██████████| 1/1 [00:12<00:00, 12.11s/ba]\n",
      "Creating parquet from Arrow format: 100%|██████████| 1/1 [00:01<00:00,  1.42s/ba]\n"
     ]
    },
    {
     "name": "stdout",
     "output_type": "stream",
     "text": [
      "count: 391 x 500 = 195500\n"
     ]
    },
    {
     "name": "stderr",
     "output_type": "stream",
     "text": [
      "Map: 100%|██████████| 450/450 [00:35<00:00, 12.51 examples/s]\n",
      "Map: 100%|██████████| 50/50 [00:02<00:00, 16.92 examples/s]\n",
      "Creating parquet from Arrow format: 100%|██████████| 1/1 [00:12<00:00, 12.20s/ba]\n",
      "Creating parquet from Arrow format: 100%|██████████| 1/1 [00:01<00:00,  1.26s/ba]\n"
     ]
    },
    {
     "name": "stdout",
     "output_type": "stream",
     "text": [
      "count: 392 x 500 = 196000\n"
     ]
    },
    {
     "name": "stderr",
     "output_type": "stream",
     "text": [
      "Map: 100%|██████████| 450/450 [00:38<00:00, 11.81 examples/s]\n",
      "Map: 100%|██████████| 50/50 [00:03<00:00, 14.56 examples/s]\n",
      "Creating parquet from Arrow format: 100%|██████████| 1/1 [00:11<00:00, 11.42s/ba]\n",
      "Creating parquet from Arrow format: 100%|██████████| 1/1 [00:01<00:00,  1.25s/ba]\n"
     ]
    },
    {
     "name": "stdout",
     "output_type": "stream",
     "text": [
      "count: 393 x 500 = 196500\n"
     ]
    },
    {
     "name": "stderr",
     "output_type": "stream",
     "text": [
      "Map: 100%|██████████| 450/450 [00:39<00:00, 11.40 examples/s]\n",
      "Map: 100%|██████████| 50/50 [00:02<00:00, 17.82 examples/s]\n",
      "Creating parquet from Arrow format: 100%|██████████| 1/1 [00:11<00:00, 11.42s/ba]\n",
      "Creating parquet from Arrow format: 100%|██████████| 1/1 [00:01<00:00,  1.29s/ba]\n"
     ]
    },
    {
     "name": "stdout",
     "output_type": "stream",
     "text": [
      "count: 394 x 500 = 197000\n"
     ]
    },
    {
     "name": "stderr",
     "output_type": "stream",
     "text": [
      "Map: 100%|██████████| 450/450 [00:33<00:00, 13.36 examples/s]\n",
      "Map: 100%|██████████| 50/50 [00:03<00:00, 14.77 examples/s]\n",
      "Creating parquet from Arrow format: 100%|██████████| 1/1 [00:12<00:00, 12.11s/ba]\n",
      "Creating parquet from Arrow format: 100%|██████████| 1/1 [00:01<00:00,  1.24s/ba]\n"
     ]
    },
    {
     "name": "stdout",
     "output_type": "stream",
     "text": [
      "count: 395 x 500 = 197500\n"
     ]
    },
    {
     "name": "stderr",
     "output_type": "stream",
     "text": [
      "Map: 100%|██████████| 450/450 [00:32<00:00, 13.81 examples/s]\n",
      "Map: 100%|██████████| 50/50 [00:02<00:00, 18.76 examples/s]\n",
      "Creating parquet from Arrow format: 100%|██████████| 1/1 [00:11<00:00, 11.82s/ba]\n",
      "Creating parquet from Arrow format: 100%|██████████| 1/1 [00:01<00:00,  1.29s/ba]\n"
     ]
    },
    {
     "name": "stdout",
     "output_type": "stream",
     "text": [
      "count: 396 x 500 = 198000\n"
     ]
    },
    {
     "name": "stderr",
     "output_type": "stream",
     "text": [
      "Map: 100%|██████████| 450/450 [00:28<00:00, 15.52 examples/s]\n",
      "Map: 100%|██████████| 50/50 [00:08<00:00,  5.98 examples/s]\n",
      "Creating parquet from Arrow format: 100%|██████████| 1/1 [00:12<00:00, 12.77s/ba]\n",
      "Creating parquet from Arrow format: 100%|██████████| 1/1 [00:01<00:00,  1.30s/ba]\n"
     ]
    },
    {
     "name": "stdout",
     "output_type": "stream",
     "text": [
      "count: 397 x 500 = 198500\n"
     ]
    },
    {
     "name": "stderr",
     "output_type": "stream",
     "text": [
      "Map: 100%|██████████| 450/450 [00:32<00:00, 13.95 examples/s]\n",
      "Map: 100%|██████████| 50/50 [00:03<00:00, 14.78 examples/s]\n",
      "Creating parquet from Arrow format: 100%|██████████| 1/1 [00:11<00:00, 11.34s/ba]\n",
      "Creating parquet from Arrow format: 100%|██████████| 1/1 [00:01<00:00,  1.31s/ba]\n"
     ]
    },
    {
     "name": "stdout",
     "output_type": "stream",
     "text": [
      "count: 398 x 500 = 199000\n"
     ]
    },
    {
     "name": "stderr",
     "output_type": "stream",
     "text": [
      "Map: 100%|██████████| 450/450 [00:36<00:00, 12.39 examples/s]\n",
      "Map: 100%|██████████| 50/50 [00:02<00:00, 18.72 examples/s]\n",
      "Creating parquet from Arrow format: 100%|██████████| 1/1 [00:11<00:00, 11.50s/ba]\n",
      "Creating parquet from Arrow format: 100%|██████████| 1/1 [00:01<00:00,  1.46s/ba]\n"
     ]
    },
    {
     "name": "stdout",
     "output_type": "stream",
     "text": [
      "count: 399 x 500 = 199500\n"
     ]
    },
    {
     "name": "stderr",
     "output_type": "stream",
     "text": [
      "Map: 100%|██████████| 450/450 [00:32<00:00, 13.80 examples/s]\n",
      "Map: 100%|██████████| 50/50 [00:03<00:00, 13.82 examples/s]\n",
      "Creating parquet from Arrow format: 100%|██████████| 1/1 [00:11<00:00, 11.38s/ba]\n",
      "Creating parquet from Arrow format: 100%|██████████| 1/1 [00:01<00:00,  1.25s/ba]\n"
     ]
    },
    {
     "name": "stdout",
     "output_type": "stream",
     "text": [
      "count: 400 x 500 = 200000\n"
     ]
    },
    {
     "name": "stderr",
     "output_type": "stream",
     "text": [
      "Map: 100%|██████████| 450/450 [00:37<00:00, 11.89 examples/s]\n",
      "Map: 100%|██████████| 50/50 [00:02<00:00, 17.03 examples/s]\n",
      "Creating parquet from Arrow format: 100%|██████████| 1/1 [00:12<00:00, 12.49s/ba]\n",
      "Creating parquet from Arrow format: 100%|██████████| 1/1 [00:01<00:00,  1.32s/ba]\n"
     ]
    },
    {
     "name": "stdout",
     "output_type": "stream",
     "text": [
      "count: 401 x 500 = 200500\n"
     ]
    },
    {
     "name": "stderr",
     "output_type": "stream",
     "text": [
      "Map: 100%|██████████| 450/450 [00:30<00:00, 14.95 examples/s]\n",
      "Map: 100%|██████████| 50/50 [00:04<00:00, 12.19 examples/s]\n",
      "Creating parquet from Arrow format: 100%|██████████| 1/1 [00:11<00:00, 11.49s/ba]\n",
      "Creating parquet from Arrow format: 100%|██████████| 1/1 [00:01<00:00,  1.27s/ba]\n"
     ]
    },
    {
     "name": "stdout",
     "output_type": "stream",
     "text": [
      "count: 402 x 500 = 201000\n"
     ]
    },
    {
     "name": "stderr",
     "output_type": "stream",
     "text": [
      "Map: 100%|██████████| 450/450 [00:31<00:00, 14.22 examples/s]\n",
      "Map: 100%|██████████| 50/50 [00:05<00:00,  8.78 examples/s]\n",
      "Creating parquet from Arrow format: 100%|██████████| 1/1 [00:11<00:00, 11.27s/ba]\n",
      "Creating parquet from Arrow format: 100%|██████████| 1/1 [00:01<00:00,  1.28s/ba]\n"
     ]
    },
    {
     "name": "stdout",
     "output_type": "stream",
     "text": [
      "count: 403 x 500 = 201500\n"
     ]
    },
    {
     "name": "stderr",
     "output_type": "stream",
     "text": [
      "Map: 100%|██████████| 450/450 [00:49<00:00,  9.18 examples/s]\n",
      "Map: 100%|██████████| 50/50 [00:03<00:00, 13.75 examples/s]\n",
      "Creating parquet from Arrow format: 100%|██████████| 1/1 [00:12<00:00, 12.03s/ba]\n",
      "Creating parquet from Arrow format: 100%|██████████| 1/1 [00:01<00:00,  1.37s/ba]\n"
     ]
    },
    {
     "name": "stdout",
     "output_type": "stream",
     "text": [
      "count: 404 x 500 = 202000\n"
     ]
    },
    {
     "name": "stderr",
     "output_type": "stream",
     "text": [
      "Map: 100%|██████████| 450/450 [00:26<00:00, 17.17 examples/s]\n",
      "Map: 100%|██████████| 50/50 [00:02<00:00, 19.63 examples/s]\n",
      "Creating parquet from Arrow format: 100%|██████████| 1/1 [00:11<00:00, 11.45s/ba]\n",
      "Creating parquet from Arrow format: 100%|██████████| 1/1 [00:01<00:00,  1.28s/ba]\n"
     ]
    },
    {
     "name": "stdout",
     "output_type": "stream",
     "text": [
      "count: 405 x 500 = 202500\n"
     ]
    },
    {
     "name": "stderr",
     "output_type": "stream",
     "text": [
      "Map: 100%|██████████| 450/450 [00:28<00:00, 15.65 examples/s]\n",
      "Map: 100%|██████████| 50/50 [00:03<00:00, 13.05 examples/s]\n",
      "Creating parquet from Arrow format: 100%|██████████| 1/1 [00:11<00:00, 11.55s/ba]\n",
      "Creating parquet from Arrow format: 100%|██████████| 1/1 [00:01<00:00,  1.28s/ba]\n"
     ]
    },
    {
     "name": "stdout",
     "output_type": "stream",
     "text": [
      "count: 406 x 500 = 203000\n"
     ]
    },
    {
     "name": "stderr",
     "output_type": "stream",
     "text": [
      "Map: 100%|██████████| 450/450 [00:37<00:00, 12.09 examples/s]\n",
      "Map: 100%|██████████| 50/50 [00:02<00:00, 18.46 examples/s]\n",
      "Creating parquet from Arrow format: 100%|██████████| 1/1 [00:11<00:00, 11.57s/ba]\n",
      "Creating parquet from Arrow format: 100%|██████████| 1/1 [00:01<00:00,  1.29s/ba]\n"
     ]
    },
    {
     "name": "stdout",
     "output_type": "stream",
     "text": [
      "count: 407 x 500 = 203500\n"
     ]
    },
    {
     "name": "stderr",
     "output_type": "stream",
     "text": [
      "Map: 100%|██████████| 450/450 [00:29<00:00, 15.10 examples/s]\n",
      "Map: 100%|██████████| 50/50 [00:02<00:00, 18.80 examples/s]\n",
      "Creating parquet from Arrow format: 100%|██████████| 1/1 [00:11<00:00, 11.34s/ba]\n",
      "Creating parquet from Arrow format: 100%|██████████| 1/1 [00:01<00:00,  1.85s/ba]\n"
     ]
    },
    {
     "name": "stdout",
     "output_type": "stream",
     "text": [
      "count: 408 x 500 = 204000\n"
     ]
    },
    {
     "name": "stderr",
     "output_type": "stream",
     "text": [
      "Map: 100%|██████████| 450/450 [00:26<00:00, 17.09 examples/s]\n",
      "Map: 100%|██████████| 50/50 [00:02<00:00, 19.80 examples/s]\n",
      "Creating parquet from Arrow format: 100%|██████████| 1/1 [00:11<00:00, 11.24s/ba]\n",
      "Creating parquet from Arrow format: 100%|██████████| 1/1 [00:01<00:00,  1.20s/ba]\n"
     ]
    },
    {
     "name": "stdout",
     "output_type": "stream",
     "text": [
      "count: 409 x 500 = 204500\n"
     ]
    },
    {
     "name": "stderr",
     "output_type": "stream",
     "text": [
      "Map: 100%|██████████| 450/450 [00:32<00:00, 13.94 examples/s]\n",
      "Map: 100%|██████████| 50/50 [00:02<00:00, 17.50 examples/s]\n",
      "Creating parquet from Arrow format: 100%|██████████| 1/1 [00:12<00:00, 12.73s/ba]\n",
      "Creating parquet from Arrow format: 100%|██████████| 1/1 [00:01<00:00,  1.22s/ba]\n"
     ]
    },
    {
     "name": "stdout",
     "output_type": "stream",
     "text": [
      "count: 410 x 500 = 205000\n"
     ]
    },
    {
     "name": "stderr",
     "output_type": "stream",
     "text": [
      "Map: 100%|██████████| 450/450 [00:28<00:00, 15.53 examples/s]\n",
      "Map: 100%|██████████| 50/50 [00:02<00:00, 19.31 examples/s]\n",
      "Creating parquet from Arrow format: 100%|██████████| 1/1 [00:10<00:00, 10.97s/ba]\n",
      "Creating parquet from Arrow format: 100%|██████████| 1/1 [00:01<00:00,  1.38s/ba]\n"
     ]
    },
    {
     "name": "stdout",
     "output_type": "stream",
     "text": [
      "count: 411 x 500 = 205500\n"
     ]
    },
    {
     "name": "stderr",
     "output_type": "stream",
     "text": [
      "Map: 100%|██████████| 450/450 [00:27<00:00, 16.49 examples/s]\n",
      "Map: 100%|██████████| 50/50 [00:03<00:00, 14.48 examples/s]\n",
      "Creating parquet from Arrow format: 100%|██████████| 1/1 [00:11<00:00, 11.91s/ba]\n",
      "Creating parquet from Arrow format: 100%|██████████| 1/1 [00:01<00:00,  1.23s/ba]\n"
     ]
    },
    {
     "name": "stdout",
     "output_type": "stream",
     "text": [
      "count: 412 x 500 = 206000\n"
     ]
    },
    {
     "name": "stderr",
     "output_type": "stream",
     "text": [
      "Map: 100%|██████████| 450/450 [00:28<00:00, 16.07 examples/s]\n",
      "Map: 100%|██████████| 50/50 [00:03<00:00, 15.88 examples/s]\n",
      "Creating parquet from Arrow format: 100%|██████████| 1/1 [00:11<00:00, 11.14s/ba]\n",
      "Creating parquet from Arrow format: 100%|██████████| 1/1 [00:01<00:00,  1.22s/ba]\n"
     ]
    },
    {
     "name": "stdout",
     "output_type": "stream",
     "text": [
      "count: 413 x 500 = 206500\n"
     ]
    },
    {
     "name": "stderr",
     "output_type": "stream",
     "text": [
      "Map: 100%|██████████| 450/450 [00:40<00:00, 11.16 examples/s]\n",
      "Map: 100%|██████████| 50/50 [00:03<00:00, 15.24 examples/s]\n",
      "Creating parquet from Arrow format: 100%|██████████| 1/1 [00:11<00:00, 11.91s/ba]\n",
      "Creating parquet from Arrow format: 100%|██████████| 1/1 [00:01<00:00,  1.28s/ba]\n"
     ]
    },
    {
     "name": "stdout",
     "output_type": "stream",
     "text": [
      "count: 414 x 500 = 207000\n"
     ]
    },
    {
     "name": "stderr",
     "output_type": "stream",
     "text": [
      "Map: 100%|██████████| 450/450 [00:31<00:00, 14.25 examples/s]\n",
      "Map: 100%|██████████| 50/50 [00:04<00:00, 11.68 examples/s]\n",
      "Creating parquet from Arrow format: 100%|██████████| 1/1 [00:10<00:00, 10.93s/ba]\n",
      "Creating parquet from Arrow format: 100%|██████████| 1/1 [00:01<00:00,  1.31s/ba]\n"
     ]
    },
    {
     "name": "stdout",
     "output_type": "stream",
     "text": [
      "count: 415 x 500 = 207500\n"
     ]
    },
    {
     "name": "stderr",
     "output_type": "stream",
     "text": [
      "Map: 100%|██████████| 450/450 [00:36<00:00, 12.49 examples/s]\n",
      "Map: 100%|██████████| 50/50 [00:03<00:00, 16.04 examples/s]\n",
      "Creating parquet from Arrow format: 100%|██████████| 1/1 [00:11<00:00, 11.39s/ba]\n",
      "Creating parquet from Arrow format: 100%|██████████| 1/1 [00:01<00:00,  1.22s/ba]\n"
     ]
    },
    {
     "name": "stdout",
     "output_type": "stream",
     "text": [
      "count: 416 x 500 = 208000\n"
     ]
    },
    {
     "name": "stderr",
     "output_type": "stream",
     "text": [
      "Map: 100%|██████████| 450/450 [00:26<00:00, 16.78 examples/s]\n",
      "Map: 100%|██████████| 50/50 [00:04<00:00, 11.39 examples/s]\n",
      "Creating parquet from Arrow format: 100%|██████████| 1/1 [00:11<00:00, 11.30s/ba]\n",
      "Creating parquet from Arrow format: 100%|██████████| 1/1 [00:01<00:00,  1.25s/ba]\n"
     ]
    },
    {
     "name": "stdout",
     "output_type": "stream",
     "text": [
      "count: 417 x 500 = 208500\n"
     ]
    },
    {
     "name": "stderr",
     "output_type": "stream",
     "text": [
      "Map: 100%|██████████| 450/450 [00:32<00:00, 13.79 examples/s]\n",
      "Map: 100%|██████████| 50/50 [00:02<00:00, 18.46 examples/s]\n",
      "Creating parquet from Arrow format: 100%|██████████| 1/1 [00:11<00:00, 11.66s/ba]\n",
      "Creating parquet from Arrow format: 100%|██████████| 1/1 [00:01<00:00,  1.21s/ba]\n"
     ]
    },
    {
     "name": "stdout",
     "output_type": "stream",
     "text": [
      "count: 418 x 500 = 209000\n"
     ]
    },
    {
     "name": "stderr",
     "output_type": "stream",
     "text": [
      "Map: 100%|██████████| 450/450 [00:44<00:00, 10.03 examples/s]\n",
      "Map: 100%|██████████| 50/50 [00:02<00:00, 18.71 examples/s]\n",
      "Creating parquet from Arrow format: 100%|██████████| 1/1 [00:12<00:00, 12.00s/ba]\n",
      "Creating parquet from Arrow format: 100%|██████████| 1/1 [00:01<00:00,  1.31s/ba]\n"
     ]
    },
    {
     "name": "stdout",
     "output_type": "stream",
     "text": [
      "count: 419 x 500 = 209500\n"
     ]
    },
    {
     "name": "stderr",
     "output_type": "stream",
     "text": [
      "Map: 100%|██████████| 450/450 [00:27<00:00, 16.64 examples/s]\n",
      "Map: 100%|██████████| 50/50 [00:03<00:00, 15.44 examples/s]\n",
      "Creating parquet from Arrow format: 100%|██████████| 1/1 [00:11<00:00, 11.23s/ba]\n",
      "Creating parquet from Arrow format: 100%|██████████| 1/1 [00:01<00:00,  1.26s/ba]\n"
     ]
    },
    {
     "name": "stdout",
     "output_type": "stream",
     "text": [
      "count: 420 x 500 = 210000\n"
     ]
    },
    {
     "name": "stderr",
     "output_type": "stream",
     "text": [
      "Map: 100%|██████████| 450/450 [00:34<00:00, 13.13 examples/s]\n",
      "Map: 100%|██████████| 50/50 [00:03<00:00, 16.24 examples/s]\n",
      "Creating parquet from Arrow format: 100%|██████████| 1/1 [00:11<00:00, 11.33s/ba]\n",
      "Creating parquet from Arrow format: 100%|██████████| 1/1 [00:01<00:00,  1.30s/ba]\n"
     ]
    },
    {
     "name": "stdout",
     "output_type": "stream",
     "text": [
      "count: 421 x 500 = 210500\n"
     ]
    },
    {
     "name": "stderr",
     "output_type": "stream",
     "text": [
      "Map: 100%|██████████| 450/450 [00:29<00:00, 15.14 examples/s]\n",
      "Map: 100%|██████████| 50/50 [00:03<00:00, 16.45 examples/s]\n",
      "Creating parquet from Arrow format: 100%|██████████| 1/1 [00:11<00:00, 11.77s/ba]\n",
      "Creating parquet from Arrow format: 100%|██████████| 1/1 [00:01<00:00,  1.34s/ba]\n"
     ]
    },
    {
     "name": "stdout",
     "output_type": "stream",
     "text": [
      "count: 422 x 500 = 211000\n"
     ]
    },
    {
     "name": "stderr",
     "output_type": "stream",
     "text": [
      "Map: 100%|██████████| 450/450 [00:30<00:00, 14.97 examples/s]\n",
      "Map: 100%|██████████| 50/50 [00:03<00:00, 15.91 examples/s]\n",
      "Creating parquet from Arrow format: 100%|██████████| 1/1 [00:11<00:00, 11.34s/ba]\n",
      "Creating parquet from Arrow format: 100%|██████████| 1/1 [00:01<00:00,  1.21s/ba]\n"
     ]
    },
    {
     "name": "stdout",
     "output_type": "stream",
     "text": [
      "count: 423 x 500 = 211500\n"
     ]
    },
    {
     "name": "stderr",
     "output_type": "stream",
     "text": [
      "Map: 100%|██████████| 450/450 [00:30<00:00, 14.59 examples/s]\n",
      "Map: 100%|██████████| 50/50 [00:08<00:00,  5.79 examples/s]\n",
      "Creating parquet from Arrow format: 100%|██████████| 1/1 [00:10<00:00, 10.98s/ba]\n",
      "Creating parquet from Arrow format: 100%|██████████| 1/1 [00:01<00:00,  1.83s/ba]\n"
     ]
    },
    {
     "name": "stdout",
     "output_type": "stream",
     "text": [
      "count: 424 x 500 = 212000\n"
     ]
    },
    {
     "name": "stderr",
     "output_type": "stream",
     "text": [
      "Map: 100%|██████████| 450/450 [00:31<00:00, 14.30 examples/s]\n",
      "Map: 100%|██████████| 50/50 [00:03<00:00, 15.81 examples/s]\n",
      "Creating parquet from Arrow format: 100%|██████████| 1/1 [00:12<00:00, 12.29s/ba]\n",
      "Creating parquet from Arrow format: 100%|██████████| 1/1 [00:01<00:00,  1.26s/ba]\n"
     ]
    },
    {
     "name": "stdout",
     "output_type": "stream",
     "text": [
      "count: 425 x 500 = 212500\n"
     ]
    },
    {
     "name": "stderr",
     "output_type": "stream",
     "text": [
      "Map: 100%|██████████| 450/450 [00:32<00:00, 13.83 examples/s]\n",
      "Map: 100%|██████████| 50/50 [00:03<00:00, 16.27 examples/s]\n",
      "Creating parquet from Arrow format: 100%|██████████| 1/1 [00:12<00:00, 12.15s/ba]\n",
      "Creating parquet from Arrow format: 100%|██████████| 1/1 [00:01<00:00,  1.28s/ba]\n"
     ]
    },
    {
     "name": "stdout",
     "output_type": "stream",
     "text": [
      "count: 426 x 500 = 213000\n"
     ]
    },
    {
     "name": "stderr",
     "output_type": "stream",
     "text": [
      "Map: 100%|██████████| 450/450 [00:28<00:00, 15.53 examples/s]\n",
      "Map: 100%|██████████| 50/50 [00:02<00:00, 18.77 examples/s]\n",
      "Creating parquet from Arrow format: 100%|██████████| 1/1 [00:10<00:00, 10.96s/ba]\n",
      "Creating parquet from Arrow format: 100%|██████████| 1/1 [00:01<00:00,  1.25s/ba]\n"
     ]
    },
    {
     "name": "stdout",
     "output_type": "stream",
     "text": [
      "count: 427 x 500 = 213500\n"
     ]
    },
    {
     "name": "stderr",
     "output_type": "stream",
     "text": [
      "Map: 100%|██████████| 450/450 [00:47<00:00,  9.50 examples/s]\n",
      "Map: 100%|██████████| 50/50 [00:04<00:00, 12.39 examples/s]\n",
      "Creating parquet from Arrow format: 100%|██████████| 1/1 [00:12<00:00, 12.64s/ba]\n",
      "Creating parquet from Arrow format: 100%|██████████| 1/1 [00:01<00:00,  1.53s/ba]\n"
     ]
    },
    {
     "name": "stdout",
     "output_type": "stream",
     "text": [
      "count: 428 x 500 = 214000\n"
     ]
    },
    {
     "name": "stderr",
     "output_type": "stream",
     "text": [
      "Map: 100%|██████████| 450/450 [00:57<00:00,  7.86 examples/s]\n",
      "Map: 100%|██████████| 50/50 [00:10<00:00,  4.92 examples/s]\n",
      "Creating parquet from Arrow format: 100%|██████████| 1/1 [00:13<00:00, 13.66s/ba]\n",
      "Creating parquet from Arrow format: 100%|██████████| 1/1 [00:01<00:00,  1.52s/ba]\n"
     ]
    },
    {
     "name": "stdout",
     "output_type": "stream",
     "text": [
      "count: 429 x 500 = 214500\n"
     ]
    },
    {
     "name": "stderr",
     "output_type": "stream",
     "text": [
      "Map: 100%|██████████| 450/450 [00:40<00:00, 10.99 examples/s]\n",
      "Map: 100%|██████████| 50/50 [00:04<00:00, 10.60 examples/s]\n",
      "Creating parquet from Arrow format: 100%|██████████| 1/1 [00:14<00:00, 14.35s/ba]\n",
      "Creating parquet from Arrow format: 100%|██████████| 1/1 [00:01<00:00,  1.82s/ba]\n"
     ]
    },
    {
     "name": "stdout",
     "output_type": "stream",
     "text": [
      "count: 430 x 500 = 215000\n"
     ]
    },
    {
     "name": "stderr",
     "output_type": "stream",
     "text": [
      "Map: 100%|██████████| 450/450 [00:49<00:00,  9.03 examples/s]\n",
      "Map: 100%|██████████| 50/50 [00:04<00:00, 10.16 examples/s]\n",
      "Creating parquet from Arrow format: 100%|██████████| 1/1 [00:12<00:00, 12.76s/ba]\n",
      "Creating parquet from Arrow format: 100%|██████████| 1/1 [00:01<00:00,  1.57s/ba]\n"
     ]
    },
    {
     "name": "stdout",
     "output_type": "stream",
     "text": [
      "count: 431 x 500 = 215500\n"
     ]
    },
    {
     "name": "stderr",
     "output_type": "stream",
     "text": [
      "Map: 100%|██████████| 450/450 [00:42<00:00, 10.62 examples/s]\n",
      "Map: 100%|██████████| 50/50 [00:07<00:00,  6.60 examples/s]\n",
      "Creating parquet from Arrow format: 100%|██████████| 1/1 [00:11<00:00, 11.87s/ba]\n",
      "Creating parquet from Arrow format: 100%|██████████| 1/1 [00:01<00:00,  1.39s/ba]\n"
     ]
    },
    {
     "name": "stdout",
     "output_type": "stream",
     "text": [
      "count: 432 x 500 = 216000\n"
     ]
    },
    {
     "name": "stderr",
     "output_type": "stream",
     "text": [
      "Map: 100%|██████████| 450/450 [00:32<00:00, 13.71 examples/s]\n",
      "Map: 100%|██████████| 50/50 [00:04<00:00, 10.08 examples/s]\n",
      "Creating parquet from Arrow format: 100%|██████████| 1/1 [00:12<00:00, 12.24s/ba]\n",
      "Creating parquet from Arrow format: 100%|██████████| 1/1 [00:01<00:00,  1.20s/ba]\n"
     ]
    },
    {
     "name": "stdout",
     "output_type": "stream",
     "text": [
      "count: 433 x 500 = 216500\n"
     ]
    },
    {
     "name": "stderr",
     "output_type": "stream",
     "text": [
      "Map: 100%|██████████| 450/450 [00:30<00:00, 14.95 examples/s]\n",
      "Map: 100%|██████████| 50/50 [00:06<00:00,  7.66 examples/s]\n",
      "Creating parquet from Arrow format: 100%|██████████| 1/1 [00:12<00:00, 12.04s/ba]\n",
      "Creating parquet from Arrow format: 100%|██████████| 1/1 [00:02<00:00,  2.58s/ba]\n"
     ]
    },
    {
     "name": "stdout",
     "output_type": "stream",
     "text": [
      "count: 434 x 500 = 217000\n"
     ]
    },
    {
     "name": "stderr",
     "output_type": "stream",
     "text": [
      "Map: 100%|██████████| 450/450 [00:38<00:00, 11.65 examples/s]\n",
      "Map: 100%|██████████| 50/50 [00:03<00:00, 14.87 examples/s]\n",
      "Creating parquet from Arrow format: 100%|██████████| 1/1 [00:12<00:00, 12.24s/ba]\n",
      "Creating parquet from Arrow format: 100%|██████████| 1/1 [00:01<00:00,  1.33s/ba]\n"
     ]
    },
    {
     "name": "stdout",
     "output_type": "stream",
     "text": [
      "count: 435 x 500 = 217500\n"
     ]
    },
    {
     "name": "stderr",
     "output_type": "stream",
     "text": [
      "Map: 100%|██████████| 450/450 [00:32<00:00, 13.89 examples/s]\n",
      "Map: 100%|██████████| 50/50 [00:03<00:00, 15.96 examples/s]\n",
      "Creating parquet from Arrow format: 100%|██████████| 1/1 [00:12<00:00, 12.34s/ba]\n",
      "Creating parquet from Arrow format: 100%|██████████| 1/1 [00:01<00:00,  1.24s/ba]\n"
     ]
    },
    {
     "name": "stdout",
     "output_type": "stream",
     "text": [
      "count: 436 x 500 = 218000\n"
     ]
    },
    {
     "name": "stderr",
     "output_type": "stream",
     "text": [
      "Map: 100%|██████████| 450/450 [00:39<00:00, 11.28 examples/s]\n",
      "Map: 100%|██████████| 50/50 [00:03<00:00, 15.63 examples/s]\n",
      "Creating parquet from Arrow format: 100%|██████████| 1/1 [00:12<00:00, 12.66s/ba]\n",
      "Creating parquet from Arrow format: 100%|██████████| 1/1 [00:01<00:00,  1.28s/ba]\n"
     ]
    },
    {
     "name": "stdout",
     "output_type": "stream",
     "text": [
      "count: 437 x 500 = 218500\n"
     ]
    },
    {
     "name": "stderr",
     "output_type": "stream",
     "text": [
      "Map: 100%|██████████| 450/450 [01:16<00:00,  5.89 examples/s]\n",
      "Map: 100%|██████████| 50/50 [00:08<00:00,  5.78 examples/s]\n",
      "Creating parquet from Arrow format: 100%|██████████| 1/1 [00:15<00:00, 15.40s/ba]\n",
      "Creating parquet from Arrow format: 100%|██████████| 1/1 [00:01<00:00,  1.43s/ba]\n"
     ]
    },
    {
     "name": "stdout",
     "output_type": "stream",
     "text": [
      "count: 438 x 500 = 219000\n"
     ]
    },
    {
     "name": "stderr",
     "output_type": "stream",
     "text": [
      "Map: 100%|██████████| 450/450 [01:32<00:00,  4.88 examples/s]\n",
      "Map: 100%|██████████| 50/50 [00:05<00:00,  8.37 examples/s]\n",
      "Creating parquet from Arrow format: 100%|██████████| 1/1 [00:18<00:00, 18.69s/ba]\n",
      "Creating parquet from Arrow format: 100%|██████████| 1/1 [00:02<00:00,  2.01s/ba]\n"
     ]
    },
    {
     "name": "stdout",
     "output_type": "stream",
     "text": [
      "count: 439 x 500 = 219500\n"
     ]
    },
    {
     "name": "stderr",
     "output_type": "stream",
     "text": [
      "Map: 100%|██████████| 450/450 [00:29<00:00, 15.25 examples/s]\n",
      "Map: 100%|██████████| 50/50 [00:03<00:00, 15.72 examples/s]\n",
      "Creating parquet from Arrow format: 100%|██████████| 1/1 [00:11<00:00, 11.53s/ba]\n",
      "Creating parquet from Arrow format: 100%|██████████| 1/1 [00:01<00:00,  1.27s/ba]\n"
     ]
    },
    {
     "name": "stdout",
     "output_type": "stream",
     "text": [
      "count: 440 x 500 = 220000\n"
     ]
    },
    {
     "name": "stderr",
     "output_type": "stream",
     "text": [
      "Map: 100%|██████████| 450/450 [00:30<00:00, 14.55 examples/s]\n",
      "Map: 100%|██████████| 50/50 [00:05<00:00,  8.98 examples/s]\n",
      "Creating parquet from Arrow format: 100%|██████████| 1/1 [00:10<00:00, 10.66s/ba]\n",
      "Creating parquet from Arrow format: 100%|██████████| 1/1 [00:01<00:00,  1.39s/ba]\n"
     ]
    },
    {
     "name": "stdout",
     "output_type": "stream",
     "text": [
      "count: 441 x 500 = 220500\n"
     ]
    },
    {
     "name": "stderr",
     "output_type": "stream",
     "text": [
      "Map: 100%|██████████| 450/450 [00:45<00:00,  9.82 examples/s]\n",
      "Map: 100%|██████████| 50/50 [00:02<00:00, 17.79 examples/s]\n",
      "Creating parquet from Arrow format: 100%|██████████| 1/1 [00:11<00:00, 11.59s/ba]\n",
      "Creating parquet from Arrow format: 100%|██████████| 1/1 [00:01<00:00,  1.27s/ba]\n"
     ]
    },
    {
     "name": "stdout",
     "output_type": "stream",
     "text": [
      "count: 442 x 500 = 221000\n"
     ]
    },
    {
     "name": "stderr",
     "output_type": "stream",
     "text": [
      "Map: 100%|██████████| 450/450 [00:35<00:00, 12.72 examples/s]\n",
      "Map: 100%|██████████| 50/50 [00:04<00:00, 11.19 examples/s]\n",
      "Creating parquet from Arrow format: 100%|██████████| 1/1 [00:12<00:00, 12.01s/ba]\n",
      "Creating parquet from Arrow format: 100%|██████████| 1/1 [00:01<00:00,  1.24s/ba]\n"
     ]
    },
    {
     "name": "stdout",
     "output_type": "stream",
     "text": [
      "count: 443 x 500 = 221500\n"
     ]
    },
    {
     "name": "stderr",
     "output_type": "stream",
     "text": [
      "Map: 100%|██████████| 450/450 [00:38<00:00, 11.74 examples/s]\n",
      "Map: 100%|██████████| 50/50 [00:03<00:00, 15.92 examples/s]\n",
      "Creating parquet from Arrow format: 100%|██████████| 1/1 [00:11<00:00, 11.52s/ba]\n",
      "Creating parquet from Arrow format: 100%|██████████| 1/1 [00:01<00:00,  1.23s/ba]\n"
     ]
    },
    {
     "name": "stdout",
     "output_type": "stream",
     "text": [
      "count: 444 x 500 = 222000\n"
     ]
    },
    {
     "name": "stderr",
     "output_type": "stream",
     "text": [
      "Map: 100%|██████████| 450/450 [00:29<00:00, 15.14 examples/s]\n",
      "Map: 100%|██████████| 50/50 [00:03<00:00, 16.38 examples/s]\n",
      "Creating parquet from Arrow format: 100%|██████████| 1/1 [00:12<00:00, 12.08s/ba]\n",
      "Creating parquet from Arrow format: 100%|██████████| 1/1 [00:01<00:00,  1.71s/ba]\n"
     ]
    },
    {
     "name": "stdout",
     "output_type": "stream",
     "text": [
      "count: 445 x 500 = 222500\n"
     ]
    },
    {
     "name": "stderr",
     "output_type": "stream",
     "text": [
      "Map: 100%|██████████| 450/450 [00:32<00:00, 13.93 examples/s]\n",
      "Map: 100%|██████████| 50/50 [00:02<00:00, 17.93 examples/s]\n",
      "Creating parquet from Arrow format: 100%|██████████| 1/1 [00:11<00:00, 11.36s/ba]\n",
      "Creating parquet from Arrow format: 100%|██████████| 1/1 [00:01<00:00,  1.64s/ba]\n"
     ]
    },
    {
     "name": "stdout",
     "output_type": "stream",
     "text": [
      "count: 446 x 500 = 223000\n"
     ]
    },
    {
     "name": "stderr",
     "output_type": "stream",
     "text": [
      "Map: 100%|██████████| 450/450 [00:30<00:00, 14.88 examples/s]\n",
      "Map: 100%|██████████| 50/50 [00:04<00:00, 10.78 examples/s]\n",
      "Creating parquet from Arrow format: 100%|██████████| 1/1 [00:12<00:00, 12.73s/ba]\n",
      "Creating parquet from Arrow format: 100%|██████████| 1/1 [00:01<00:00,  1.31s/ba]\n"
     ]
    },
    {
     "name": "stdout",
     "output_type": "stream",
     "text": [
      "count: 447 x 500 = 223500\n"
     ]
    },
    {
     "name": "stderr",
     "output_type": "stream",
     "text": [
      "Map: 100%|██████████| 450/450 [00:38<00:00, 11.68 examples/s]\n",
      "Map: 100%|██████████| 50/50 [00:03<00:00, 14.73 examples/s]\n",
      "Creating parquet from Arrow format: 100%|██████████| 1/1 [00:11<00:00, 11.02s/ba]\n",
      "Creating parquet from Arrow format: 100%|██████████| 1/1 [00:01<00:00,  1.21s/ba]\n"
     ]
    },
    {
     "name": "stdout",
     "output_type": "stream",
     "text": [
      "count: 448 x 500 = 224000\n"
     ]
    },
    {
     "name": "stderr",
     "output_type": "stream",
     "text": [
      "Map: 100%|██████████| 450/450 [00:31<00:00, 14.50 examples/s]\n",
      "Map: 100%|██████████| 50/50 [00:02<00:00, 17.56 examples/s]\n",
      "Creating parquet from Arrow format: 100%|██████████| 1/1 [00:12<00:00, 12.23s/ba]\n",
      "Creating parquet from Arrow format: 100%|██████████| 1/1 [00:01<00:00,  1.31s/ba]\n"
     ]
    },
    {
     "name": "stdout",
     "output_type": "stream",
     "text": [
      "count: 449 x 500 = 224500\n"
     ]
    },
    {
     "name": "stderr",
     "output_type": "stream",
     "text": [
      "Map: 100%|██████████| 450/450 [00:30<00:00, 14.76 examples/s]\n",
      "Map: 100%|██████████| 50/50 [00:02<00:00, 20.90 examples/s]\n",
      "Creating parquet from Arrow format: 100%|██████████| 1/1 [00:11<00:00, 11.59s/ba]\n",
      "Creating parquet from Arrow format: 100%|██████████| 1/1 [00:01<00:00,  1.63s/ba]\n"
     ]
    },
    {
     "name": "stdout",
     "output_type": "stream",
     "text": [
      "count: 450 x 500 = 225000\n"
     ]
    },
    {
     "name": "stderr",
     "output_type": "stream",
     "text": [
      "Map: 100%|██████████| 450/450 [00:40<00:00, 11.11 examples/s]\n",
      "Map: 100%|██████████| 50/50 [00:02<00:00, 20.04 examples/s]\n",
      "Creating parquet from Arrow format: 100%|██████████| 1/1 [00:11<00:00, 11.95s/ba]\n",
      "Creating parquet from Arrow format: 100%|██████████| 1/1 [00:01<00:00,  1.29s/ba]\n"
     ]
    },
    {
     "name": "stdout",
     "output_type": "stream",
     "text": [
      "count: 451 x 500 = 225500\n"
     ]
    },
    {
     "name": "stderr",
     "output_type": "stream",
     "text": [
      "Map: 100%|██████████| 450/450 [00:44<00:00, 10.11 examples/s]\n",
      "Map: 100%|██████████| 50/50 [00:04<00:00, 10.64 examples/s]\n",
      "Creating parquet from Arrow format: 100%|██████████| 1/1 [00:11<00:00, 11.37s/ba]\n",
      "Creating parquet from Arrow format: 100%|██████████| 1/1 [00:01<00:00,  1.32s/ba]\n"
     ]
    },
    {
     "name": "stdout",
     "output_type": "stream",
     "text": [
      "count: 452 x 500 = 226000\n"
     ]
    },
    {
     "name": "stderr",
     "output_type": "stream",
     "text": [
      "Map: 100%|██████████| 450/450 [00:26<00:00, 17.23 examples/s]\n",
      "Map: 100%|██████████| 50/50 [00:02<00:00, 20.64 examples/s]\n",
      "Creating parquet from Arrow format: 100%|██████████| 1/1 [00:11<00:00, 11.88s/ba]\n",
      "Creating parquet from Arrow format: 100%|██████████| 1/1 [00:01<00:00,  1.29s/ba]\n"
     ]
    },
    {
     "name": "stdout",
     "output_type": "stream",
     "text": [
      "count: 453 x 500 = 226500\n"
     ]
    },
    {
     "name": "stderr",
     "output_type": "stream",
     "text": [
      "Map: 100%|██████████| 450/450 [00:36<00:00, 12.49 examples/s]\n",
      "Map: 100%|██████████| 50/50 [00:03<00:00, 16.53 examples/s]\n",
      "Creating parquet from Arrow format: 100%|██████████| 1/1 [00:11<00:00, 11.24s/ba]\n",
      "Creating parquet from Arrow format: 100%|██████████| 1/1 [00:01<00:00,  1.22s/ba]\n"
     ]
    },
    {
     "name": "stdout",
     "output_type": "stream",
     "text": [
      "count: 454 x 500 = 227000\n"
     ]
    },
    {
     "name": "stderr",
     "output_type": "stream",
     "text": [
      "Map: 100%|██████████| 450/450 [00:30<00:00, 14.73 examples/s]\n",
      "Map: 100%|██████████| 50/50 [00:03<00:00, 16.41 examples/s]\n",
      "Creating parquet from Arrow format: 100%|██████████| 1/1 [00:12<00:00, 12.22s/ba]\n",
      "Creating parquet from Arrow format: 100%|██████████| 1/1 [00:01<00:00,  1.21s/ba]\n"
     ]
    },
    {
     "name": "stdout",
     "output_type": "stream",
     "text": [
      "count: 455 x 500 = 227500\n"
     ]
    },
    {
     "name": "stderr",
     "output_type": "stream",
     "text": [
      "Map: 100%|██████████| 450/450 [00:41<00:00, 10.92 examples/s]\n",
      "Map: 100%|██████████| 50/50 [00:02<00:00, 19.36 examples/s]\n",
      "Creating parquet from Arrow format: 100%|██████████| 1/1 [00:11<00:00, 11.37s/ba]\n",
      "Creating parquet from Arrow format: 100%|██████████| 1/1 [00:01<00:00,  1.23s/ba]\n"
     ]
    },
    {
     "name": "stdout",
     "output_type": "stream",
     "text": [
      "count: 456 x 500 = 228000\n"
     ]
    },
    {
     "name": "stderr",
     "output_type": "stream",
     "text": [
      "Map: 100%|██████████| 450/450 [00:36<00:00, 12.25 examples/s]\n",
      "Map: 100%|██████████| 50/50 [00:02<00:00, 20.68 examples/s]\n",
      "Creating parquet from Arrow format: 100%|██████████| 1/1 [00:11<00:00, 11.85s/ba]\n",
      "Creating parquet from Arrow format: 100%|██████████| 1/1 [00:01<00:00,  1.29s/ba]\n"
     ]
    },
    {
     "name": "stdout",
     "output_type": "stream",
     "text": [
      "count: 457 x 500 = 228500\n"
     ]
    },
    {
     "name": "stderr",
     "output_type": "stream",
     "text": [
      "Map: 100%|██████████| 450/450 [00:37<00:00, 12.15 examples/s]\n",
      "Map: 100%|██████████| 50/50 [00:03<00:00, 16.64 examples/s]\n",
      "Creating parquet from Arrow format: 100%|██████████| 1/1 [00:11<00:00, 11.09s/ba]\n",
      "Creating parquet from Arrow format: 100%|██████████| 1/1 [00:01<00:00,  1.24s/ba]\n"
     ]
    },
    {
     "name": "stdout",
     "output_type": "stream",
     "text": [
      "count: 458 x 500 = 229000\n"
     ]
    },
    {
     "name": "stderr",
     "output_type": "stream",
     "text": [
      "Map: 100%|██████████| 450/450 [00:30<00:00, 14.86 examples/s]\n",
      "Map: 100%|██████████| 50/50 [00:04<00:00, 11.49 examples/s]\n",
      "Creating parquet from Arrow format: 100%|██████████| 1/1 [00:11<00:00, 11.35s/ba]\n",
      "Creating parquet from Arrow format: 100%|██████████| 1/1 [00:01<00:00,  1.22s/ba]\n"
     ]
    },
    {
     "name": "stdout",
     "output_type": "stream",
     "text": [
      "count: 459 x 500 = 229500\n"
     ]
    },
    {
     "name": "stderr",
     "output_type": "stream",
     "text": [
      "Map: 100%|██████████| 450/450 [00:27<00:00, 16.13 examples/s]\n",
      "Map: 100%|██████████| 50/50 [00:03<00:00, 13.12 examples/s]\n",
      "Creating parquet from Arrow format: 100%|██████████| 1/1 [00:12<00:00, 12.74s/ba]\n",
      "Creating parquet from Arrow format: 100%|██████████| 1/1 [00:01<00:00,  1.43s/ba]\n"
     ]
    },
    {
     "name": "stdout",
     "output_type": "stream",
     "text": [
      "count: 460 x 500 = 230000\n"
     ]
    },
    {
     "name": "stderr",
     "output_type": "stream",
     "text": [
      "Map: 100%|██████████| 450/450 [00:27<00:00, 16.27 examples/s]\n",
      "Map: 100%|██████████| 50/50 [00:03<00:00, 14.92 examples/s]\n",
      "Creating parquet from Arrow format: 100%|██████████| 1/1 [00:11<00:00, 11.26s/ba]\n",
      "Creating parquet from Arrow format: 100%|██████████| 1/1 [00:01<00:00,  1.23s/ba]\n"
     ]
    },
    {
     "name": "stdout",
     "output_type": "stream",
     "text": [
      "count: 461 x 500 = 230500\n"
     ]
    },
    {
     "name": "stderr",
     "output_type": "stream",
     "text": [
      "Map: 100%|██████████| 450/450 [00:32<00:00, 13.86 examples/s]\n",
      "Map: 100%|██████████| 50/50 [00:03<00:00, 13.02 examples/s]\n",
      "Creating parquet from Arrow format: 100%|██████████| 1/1 [00:11<00:00, 11.57s/ba]\n",
      "Creating parquet from Arrow format: 100%|██████████| 1/1 [00:01<00:00,  1.20s/ba]\n"
     ]
    },
    {
     "name": "stdout",
     "output_type": "stream",
     "text": [
      "count: 462 x 500 = 231000\n"
     ]
    },
    {
     "name": "stderr",
     "output_type": "stream",
     "text": [
      "Map: 100%|██████████| 450/450 [00:37<00:00, 12.15 examples/s]\n",
      "Map: 100%|██████████| 50/50 [00:07<00:00,  6.61 examples/s]\n",
      "Creating parquet from Arrow format: 100%|██████████| 1/1 [00:11<00:00, 11.64s/ba]\n",
      "Creating parquet from Arrow format: 100%|██████████| 1/1 [00:01<00:00,  1.32s/ba]\n"
     ]
    },
    {
     "name": "stdout",
     "output_type": "stream",
     "text": [
      "count: 463 x 500 = 231500\n"
     ]
    },
    {
     "name": "stderr",
     "output_type": "stream",
     "text": [
      "Map: 100%|██████████| 450/450 [00:27<00:00, 16.10 examples/s]\n",
      "Map: 100%|██████████| 50/50 [00:03<00:00, 12.58 examples/s]\n",
      "Creating parquet from Arrow format: 100%|██████████| 1/1 [00:11<00:00, 11.30s/ba]\n",
      "Creating parquet from Arrow format: 100%|██████████| 1/1 [00:01<00:00,  1.24s/ba]\n"
     ]
    },
    {
     "name": "stdout",
     "output_type": "stream",
     "text": [
      "count: 464 x 500 = 232000\n"
     ]
    },
    {
     "name": "stderr",
     "output_type": "stream",
     "text": [
      "Map: 100%|██████████| 450/450 [00:29<00:00, 15.37 examples/s]\n",
      "Map: 100%|██████████| 50/50 [00:03<00:00, 15.45 examples/s]\n",
      "Creating parquet from Arrow format: 100%|██████████| 1/1 [00:11<00:00, 11.38s/ba]\n",
      "Creating parquet from Arrow format: 100%|██████████| 1/1 [00:01<00:00,  1.29s/ba]\n"
     ]
    },
    {
     "name": "stdout",
     "output_type": "stream",
     "text": [
      "count: 465 x 500 = 232500\n"
     ]
    },
    {
     "name": "stderr",
     "output_type": "stream",
     "text": [
      "Map: 100%|██████████| 450/450 [00:38<00:00, 11.77 examples/s]\n",
      "Map: 100%|██████████| 50/50 [00:03<00:00, 15.37 examples/s]\n",
      "Creating parquet from Arrow format: 100%|██████████| 1/1 [00:11<00:00, 11.59s/ba]\n",
      "Creating parquet from Arrow format: 100%|██████████| 1/1 [00:01<00:00,  1.30s/ba]\n"
     ]
    },
    {
     "name": "stdout",
     "output_type": "stream",
     "text": [
      "count: 466 x 500 = 233000\n"
     ]
    },
    {
     "name": "stderr",
     "output_type": "stream",
     "text": [
      "Map: 100%|██████████| 450/450 [00:31<00:00, 14.27 examples/s]\n",
      "Map: 100%|██████████| 50/50 [00:03<00:00, 15.34 examples/s]\n",
      "Creating parquet from Arrow format: 100%|██████████| 1/1 [00:12<00:00, 12.56s/ba]\n",
      "Creating parquet from Arrow format: 100%|██████████| 1/1 [00:01<00:00,  1.28s/ba]\n"
     ]
    },
    {
     "name": "stdout",
     "output_type": "stream",
     "text": [
      "count: 467 x 500 = 233500\n"
     ]
    },
    {
     "name": "stderr",
     "output_type": "stream",
     "text": [
      "Map: 100%|██████████| 450/450 [00:32<00:00, 13.92 examples/s]\n",
      "Map: 100%|██████████| 50/50 [00:05<00:00,  8.85 examples/s]\n",
      "Creating parquet from Arrow format: 100%|██████████| 1/1 [00:11<00:00, 11.43s/ba]\n",
      "Creating parquet from Arrow format: 100%|██████████| 1/1 [00:01<00:00,  1.29s/ba]\n"
     ]
    },
    {
     "name": "stdout",
     "output_type": "stream",
     "text": [
      "count: 468 x 500 = 234000\n"
     ]
    },
    {
     "name": "stderr",
     "output_type": "stream",
     "text": [
      "Map: 100%|██████████| 450/450 [00:32<00:00, 13.90 examples/s]\n",
      "Map: 100%|██████████| 50/50 [00:03<00:00, 13.30 examples/s]\n",
      "Creating parquet from Arrow format: 100%|██████████| 1/1 [00:11<00:00, 11.47s/ba]\n",
      "Creating parquet from Arrow format: 100%|██████████| 1/1 [00:01<00:00,  1.22s/ba]\n"
     ]
    },
    {
     "name": "stdout",
     "output_type": "stream",
     "text": [
      "count: 469 x 500 = 234500\n"
     ]
    },
    {
     "name": "stderr",
     "output_type": "stream",
     "text": [
      "Map: 100%|██████████| 450/450 [00:38<00:00, 11.81 examples/s]\n",
      "Map: 100%|██████████| 50/50 [00:03<00:00, 16.66 examples/s]\n",
      "Creating parquet from Arrow format: 100%|██████████| 1/1 [00:11<00:00, 11.46s/ba]\n",
      "Creating parquet from Arrow format: 100%|██████████| 1/1 [00:01<00:00,  1.28s/ba]\n"
     ]
    },
    {
     "name": "stdout",
     "output_type": "stream",
     "text": [
      "count: 470 x 500 = 235000\n"
     ]
    },
    {
     "name": "stderr",
     "output_type": "stream",
     "text": [
      "Map: 100%|██████████| 450/450 [00:35<00:00, 12.70 examples/s]\n",
      "Map: 100%|██████████| 50/50 [00:06<00:00,  8.05 examples/s]\n",
      "Creating parquet from Arrow format: 100%|██████████| 1/1 [00:11<00:00, 11.35s/ba]\n",
      "Creating parquet from Arrow format: 100%|██████████| 1/1 [00:01<00:00,  1.28s/ba]\n"
     ]
    },
    {
     "name": "stdout",
     "output_type": "stream",
     "text": [
      "count: 471 x 500 = 235500\n"
     ]
    },
    {
     "name": "stderr",
     "output_type": "stream",
     "text": [
      "Map: 100%|██████████| 450/450 [00:34<00:00, 12.89 examples/s]\n",
      "Map: 100%|██████████| 50/50 [00:03<00:00, 15.06 examples/s]\n",
      "Creating parquet from Arrow format: 100%|██████████| 1/1 [00:12<00:00, 12.47s/ba]\n",
      "Creating parquet from Arrow format: 100%|██████████| 1/1 [00:01<00:00,  1.28s/ba]\n"
     ]
    },
    {
     "name": "stdout",
     "output_type": "stream",
     "text": [
      "count: 472 x 500 = 236000\n"
     ]
    },
    {
     "name": "stderr",
     "output_type": "stream",
     "text": [
      "Map: 100%|██████████| 450/450 [00:32<00:00, 13.83 examples/s]\n",
      "Map: 100%|██████████| 50/50 [00:04<00:00, 10.93 examples/s]\n",
      "Creating parquet from Arrow format: 100%|██████████| 1/1 [00:12<00:00, 12.91s/ba]\n",
      "Creating parquet from Arrow format: 100%|██████████| 1/1 [00:01<00:00,  1.25s/ba]\n"
     ]
    },
    {
     "name": "stdout",
     "output_type": "stream",
     "text": [
      "count: 473 x 500 = 236500\n"
     ]
    },
    {
     "name": "stderr",
     "output_type": "stream",
     "text": [
      "Map: 100%|██████████| 450/450 [00:31<00:00, 14.51 examples/s]\n",
      "Map: 100%|██████████| 50/50 [00:02<00:00, 18.24 examples/s]\n",
      "Creating parquet from Arrow format: 100%|██████████| 1/1 [00:11<00:00, 11.33s/ba]\n",
      "Creating parquet from Arrow format: 100%|██████████| 1/1 [00:01<00:00,  1.23s/ba]\n"
     ]
    },
    {
     "name": "stdout",
     "output_type": "stream",
     "text": [
      "count: 474 x 500 = 237000\n"
     ]
    },
    {
     "name": "stderr",
     "output_type": "stream",
     "text": [
      "Map: 100%|██████████| 450/450 [00:39<00:00, 11.42 examples/s]\n",
      "Map: 100%|██████████| 50/50 [00:05<00:00,  9.71 examples/s]\n",
      "Creating parquet from Arrow format: 100%|██████████| 1/1 [00:11<00:00, 11.70s/ba]\n",
      "Creating parquet from Arrow format: 100%|██████████| 1/1 [00:01<00:00,  1.31s/ba]\n"
     ]
    },
    {
     "name": "stdout",
     "output_type": "stream",
     "text": [
      "count: 475 x 500 = 237500\n"
     ]
    },
    {
     "name": "stderr",
     "output_type": "stream",
     "text": [
      "Map: 100%|██████████| 450/450 [00:25<00:00, 17.39 examples/s]\n",
      "Map: 100%|██████████| 50/50 [00:02<00:00, 17.12 examples/s]\n",
      "Creating parquet from Arrow format: 100%|██████████| 1/1 [00:11<00:00, 11.11s/ba]\n",
      "Creating parquet from Arrow format: 100%|██████████| 1/1 [00:01<00:00,  1.25s/ba]\n"
     ]
    },
    {
     "name": "stdout",
     "output_type": "stream",
     "text": [
      "count: 476 x 500 = 238000\n"
     ]
    },
    {
     "name": "stderr",
     "output_type": "stream",
     "text": [
      "Map: 100%|██████████| 450/450 [00:30<00:00, 14.72 examples/s]\n",
      "Map: 100%|██████████| 50/50 [00:02<00:00, 16.81 examples/s]\n",
      "Creating parquet from Arrow format: 100%|██████████| 1/1 [00:11<00:00, 11.54s/ba]\n",
      "Creating parquet from Arrow format: 100%|██████████| 1/1 [00:01<00:00,  1.31s/ba]\n"
     ]
    },
    {
     "name": "stdout",
     "output_type": "stream",
     "text": [
      "count: 477 x 500 = 238500\n"
     ]
    },
    {
     "name": "stderr",
     "output_type": "stream",
     "text": [
      "Map: 100%|██████████| 450/450 [00:39<00:00, 11.31 examples/s]\n",
      "Map: 100%|██████████| 50/50 [00:03<00:00, 14.38 examples/s]\n",
      "Creating parquet from Arrow format: 100%|██████████| 1/1 [00:12<00:00, 12.50s/ba]\n",
      "Creating parquet from Arrow format: 100%|██████████| 1/1 [00:01<00:00,  1.29s/ba]\n"
     ]
    },
    {
     "name": "stdout",
     "output_type": "stream",
     "text": [
      "count: 478 x 500 = 239000\n"
     ]
    },
    {
     "name": "stderr",
     "output_type": "stream",
     "text": [
      "Map: 100%|██████████| 450/450 [00:38<00:00, 11.60 examples/s]\n",
      "Map: 100%|██████████| 50/50 [00:05<00:00,  8.47 examples/s]\n",
      "Creating parquet from Arrow format: 100%|██████████| 1/1 [00:12<00:00, 12.63s/ba]\n",
      "Creating parquet from Arrow format: 100%|██████████| 1/1 [00:01<00:00,  1.35s/ba]\n"
     ]
    },
    {
     "name": "stdout",
     "output_type": "stream",
     "text": [
      "count: 479 x 500 = 239500\n"
     ]
    },
    {
     "name": "stderr",
     "output_type": "stream",
     "text": [
      "Map: 100%|██████████| 450/450 [00:27<00:00, 16.60 examples/s]\n",
      "Map: 100%|██████████| 50/50 [00:02<00:00, 17.19 examples/s]\n",
      "Creating parquet from Arrow format: 100%|██████████| 1/1 [00:11<00:00, 11.98s/ba]\n",
      "Creating parquet from Arrow format: 100%|██████████| 1/1 [00:01<00:00,  1.21s/ba]\n"
     ]
    },
    {
     "name": "stdout",
     "output_type": "stream",
     "text": [
      "count: 480 x 500 = 240000\n"
     ]
    },
    {
     "name": "stderr",
     "output_type": "stream",
     "text": [
      "Map: 100%|██████████| 450/450 [00:26<00:00, 17.17 examples/s]\n",
      "Map: 100%|██████████| 50/50 [00:07<00:00,  7.13 examples/s]\n",
      "Creating parquet from Arrow format: 100%|██████████| 1/1 [00:11<00:00, 11.86s/ba]\n",
      "Creating parquet from Arrow format: 100%|██████████| 1/1 [00:01<00:00,  1.29s/ba]\n"
     ]
    },
    {
     "name": "stdout",
     "output_type": "stream",
     "text": [
      "count: 481 x 500 = 240500\n"
     ]
    },
    {
     "name": "stderr",
     "output_type": "stream",
     "text": [
      "Map: 100%|██████████| 450/450 [00:29<00:00, 15.14 examples/s]\n",
      "Map: 100%|██████████| 50/50 [00:04<00:00, 11.78 examples/s]\n",
      "Creating parquet from Arrow format: 100%|██████████| 1/1 [00:11<00:00, 11.23s/ba]\n",
      "Creating parquet from Arrow format: 100%|██████████| 1/1 [00:01<00:00,  1.23s/ba]\n"
     ]
    },
    {
     "name": "stdout",
     "output_type": "stream",
     "text": [
      "count: 482 x 500 = 241000\n"
     ]
    },
    {
     "name": "stderr",
     "output_type": "stream",
     "text": [
      "Map: 100%|██████████| 450/450 [00:34<00:00, 13.10 examples/s]\n",
      "Map: 100%|██████████| 50/50 [00:03<00:00, 13.78 examples/s]\n",
      "Creating parquet from Arrow format: 100%|██████████| 1/1 [00:11<00:00, 11.16s/ba]\n",
      "Creating parquet from Arrow format: 100%|██████████| 1/1 [00:01<00:00,  1.29s/ba]\n"
     ]
    },
    {
     "name": "stdout",
     "output_type": "stream",
     "text": [
      "count: 483 x 500 = 241500\n"
     ]
    },
    {
     "name": "stderr",
     "output_type": "stream",
     "text": [
      "Map: 100%|██████████| 450/450 [00:34<00:00, 12.99 examples/s]\n",
      "Map: 100%|██████████| 50/50 [00:03<00:00, 13.97 examples/s]\n",
      "Creating parquet from Arrow format: 100%|██████████| 1/1 [00:11<00:00, 11.46s/ba]\n",
      "Creating parquet from Arrow format: 100%|██████████| 1/1 [00:01<00:00,  1.28s/ba]\n"
     ]
    },
    {
     "name": "stdout",
     "output_type": "stream",
     "text": [
      "count: 484 x 500 = 242000\n"
     ]
    },
    {
     "name": "stderr",
     "output_type": "stream",
     "text": [
      "Map: 100%|██████████| 450/450 [00:35<00:00, 12.66 examples/s]\n",
      "Map: 100%|██████████| 50/50 [00:02<00:00, 17.36 examples/s]\n",
      "Creating parquet from Arrow format: 100%|██████████| 1/1 [00:11<00:00, 11.98s/ba]\n",
      "Creating parquet from Arrow format: 100%|██████████| 1/1 [00:01<00:00,  1.29s/ba]\n"
     ]
    },
    {
     "name": "stdout",
     "output_type": "stream",
     "text": [
      "count: 485 x 500 = 242500\n"
     ]
    },
    {
     "name": "stderr",
     "output_type": "stream",
     "text": [
      "Map: 100%|██████████| 450/450 [00:38<00:00, 11.81 examples/s]\n",
      "Map: 100%|██████████| 50/50 [00:03<00:00, 14.13 examples/s]\n",
      "Creating parquet from Arrow format: 100%|██████████| 1/1 [00:11<00:00, 11.09s/ba]\n",
      "Creating parquet from Arrow format: 100%|██████████| 1/1 [00:01<00:00,  1.22s/ba]\n"
     ]
    },
    {
     "name": "stdout",
     "output_type": "stream",
     "text": [
      "count: 486 x 500 = 243000\n"
     ]
    },
    {
     "name": "stderr",
     "output_type": "stream",
     "text": [
      "Map: 100%|██████████| 450/450 [00:29<00:00, 15.44 examples/s]\n",
      "Map: 100%|██████████| 50/50 [00:02<00:00, 18.20 examples/s]\n",
      "Creating parquet from Arrow format: 100%|██████████| 1/1 [00:12<00:00, 12.14s/ba]\n",
      "Creating parquet from Arrow format: 100%|██████████| 1/1 [00:01<00:00,  1.21s/ba]\n"
     ]
    },
    {
     "name": "stdout",
     "output_type": "stream",
     "text": [
      "count: 487 x 500 = 243500\n"
     ]
    },
    {
     "name": "stderr",
     "output_type": "stream",
     "text": [
      "Map: 100%|██████████| 450/450 [00:35<00:00, 12.77 examples/s]\n",
      "Map: 100%|██████████| 50/50 [00:03<00:00, 14.40 examples/s]\n",
      "Creating parquet from Arrow format: 100%|██████████| 1/1 [00:12<00:00, 12.11s/ba]\n",
      "Creating parquet from Arrow format: 100%|██████████| 1/1 [00:01<00:00,  1.36s/ba]\n"
     ]
    },
    {
     "name": "stdout",
     "output_type": "stream",
     "text": [
      "count: 488 x 500 = 244000\n"
     ]
    },
    {
     "name": "stderr",
     "output_type": "stream",
     "text": [
      "Map: 100%|██████████| 450/450 [00:27<00:00, 16.42 examples/s]\n",
      "Map: 100%|██████████| 50/50 [00:04<00:00, 10.97 examples/s]\n",
      "Creating parquet from Arrow format: 100%|██████████| 1/1 [00:11<00:00, 11.38s/ba]\n",
      "Creating parquet from Arrow format: 100%|██████████| 1/1 [00:01<00:00,  1.30s/ba]\n"
     ]
    },
    {
     "name": "stdout",
     "output_type": "stream",
     "text": [
      "count: 489 x 500 = 244500\n"
     ]
    },
    {
     "name": "stderr",
     "output_type": "stream",
     "text": [
      "Map: 100%|██████████| 450/450 [00:31<00:00, 14.48 examples/s]\n",
      "Map: 100%|██████████| 50/50 [00:03<00:00, 14.64 examples/s]\n",
      "Creating parquet from Arrow format: 100%|██████████| 1/1 [00:12<00:00, 12.41s/ba]\n",
      "Creating parquet from Arrow format: 100%|██████████| 1/1 [00:01<00:00,  1.24s/ba]\n"
     ]
    },
    {
     "name": "stdout",
     "output_type": "stream",
     "text": [
      "count: 490 x 500 = 245000\n"
     ]
    },
    {
     "name": "stderr",
     "output_type": "stream",
     "text": [
      "Map: 100%|██████████| 450/450 [00:32<00:00, 14.04 examples/s]\n",
      "Map: 100%|██████████| 50/50 [00:03<00:00, 12.56 examples/s]\n",
      "Creating parquet from Arrow format: 100%|██████████| 1/1 [00:12<00:00, 12.08s/ba]\n",
      "Creating parquet from Arrow format: 100%|██████████| 1/1 [00:01<00:00,  1.49s/ba]\n"
     ]
    },
    {
     "name": "stdout",
     "output_type": "stream",
     "text": [
      "count: 491 x 500 = 245500\n"
     ]
    },
    {
     "name": "stderr",
     "output_type": "stream",
     "text": [
      "Map: 100%|██████████| 450/450 [00:34<00:00, 13.19 examples/s]\n",
      "Map: 100%|██████████| 50/50 [00:03<00:00, 16.25 examples/s]\n",
      "Creating parquet from Arrow format: 100%|██████████| 1/1 [00:13<00:00, 13.29s/ba]\n",
      "Creating parquet from Arrow format: 100%|██████████| 1/1 [00:01<00:00,  1.25s/ba]\n"
     ]
    },
    {
     "name": "stdout",
     "output_type": "stream",
     "text": [
      "count: 492 x 500 = 246000\n"
     ]
    },
    {
     "name": "stderr",
     "output_type": "stream",
     "text": [
      "Map: 100%|██████████| 450/450 [00:27<00:00, 16.07 examples/s]\n",
      "Map: 100%|██████████| 50/50 [00:04<00:00, 12.15 examples/s]\n",
      "Creating parquet from Arrow format: 100%|██████████| 1/1 [00:14<00:00, 14.21s/ba]\n",
      "Creating parquet from Arrow format: 100%|██████████| 1/1 [00:01<00:00,  1.28s/ba]\n"
     ]
    },
    {
     "name": "stdout",
     "output_type": "stream",
     "text": [
      "count: 493 x 500 = 246500\n"
     ]
    },
    {
     "name": "stderr",
     "output_type": "stream",
     "text": [
      "Map: 100%|██████████| 450/450 [00:31<00:00, 14.27 examples/s]\n",
      "Map: 100%|██████████| 50/50 [00:03<00:00, 15.80 examples/s]\n",
      "Creating parquet from Arrow format: 100%|██████████| 1/1 [00:11<00:00, 11.37s/ba]\n",
      "Creating parquet from Arrow format: 100%|██████████| 1/1 [00:01<00:00,  1.28s/ba]\n"
     ]
    },
    {
     "name": "stdout",
     "output_type": "stream",
     "text": [
      "count: 494 x 500 = 247000\n"
     ]
    },
    {
     "name": "stderr",
     "output_type": "stream",
     "text": [
      "Map: 100%|██████████| 450/450 [00:35<00:00, 12.72 examples/s]\n",
      "Map: 100%|██████████| 50/50 [00:03<00:00, 13.29 examples/s]\n",
      "Creating parquet from Arrow format: 100%|██████████| 1/1 [00:12<00:00, 12.67s/ba]\n",
      "Creating parquet from Arrow format: 100%|██████████| 1/1 [00:01<00:00,  1.46s/ba]\n"
     ]
    },
    {
     "name": "stdout",
     "output_type": "stream",
     "text": [
      "count: 495 x 500 = 247500\n"
     ]
    },
    {
     "name": "stderr",
     "output_type": "stream",
     "text": [
      "Map: 100%|██████████| 450/450 [00:33<00:00, 13.29 examples/s]\n",
      "Map: 100%|██████████| 50/50 [00:03<00:00, 13.71 examples/s]\n",
      "Creating parquet from Arrow format: 100%|██████████| 1/1 [00:11<00:00, 11.77s/ba]\n",
      "Creating parquet from Arrow format: 100%|██████████| 1/1 [00:01<00:00,  1.26s/ba]\n"
     ]
    },
    {
     "name": "stdout",
     "output_type": "stream",
     "text": [
      "count: 496 x 500 = 248000\n"
     ]
    },
    {
     "name": "stderr",
     "output_type": "stream",
     "text": [
      "Map: 100%|██████████| 450/450 [00:29<00:00, 15.06 examples/s]\n",
      "Map: 100%|██████████| 50/50 [00:03<00:00, 16.50 examples/s]\n",
      "Creating parquet from Arrow format: 100%|██████████| 1/1 [00:11<00:00, 11.11s/ba]\n",
      "Creating parquet from Arrow format: 100%|██████████| 1/1 [00:01<00:00,  1.28s/ba]\n"
     ]
    },
    {
     "name": "stdout",
     "output_type": "stream",
     "text": [
      "count: 497 x 500 = 248500\n"
     ]
    },
    {
     "name": "stderr",
     "output_type": "stream",
     "text": [
      "Map: 100%|██████████| 450/450 [00:31<00:00, 14.42 examples/s]\n",
      "Map: 100%|██████████| 50/50 [00:06<00:00,  7.81 examples/s]\n",
      "Creating parquet from Arrow format: 100%|██████████| 1/1 [00:11<00:00, 11.70s/ba]\n",
      "Creating parquet from Arrow format: 100%|██████████| 1/1 [00:01<00:00,  1.33s/ba]\n"
     ]
    },
    {
     "name": "stdout",
     "output_type": "stream",
     "text": [
      "count: 498 x 500 = 249000\n"
     ]
    },
    {
     "name": "stderr",
     "output_type": "stream",
     "text": [
      "Map: 100%|██████████| 450/450 [00:31<00:00, 14.14 examples/s]\n",
      "Map: 100%|██████████| 50/50 [00:03<00:00, 14.27 examples/s]\n",
      "Creating parquet from Arrow format: 100%|██████████| 1/1 [00:11<00:00, 11.18s/ba]\n",
      "Creating parquet from Arrow format: 100%|██████████| 1/1 [00:01<00:00,  1.27s/ba]\n"
     ]
    },
    {
     "name": "stdout",
     "output_type": "stream",
     "text": [
      "count: 499 x 500 = 249500\n"
     ]
    },
    {
     "name": "stderr",
     "output_type": "stream",
     "text": [
      "Map: 100%|██████████| 450/450 [00:31<00:00, 14.38 examples/s]\n",
      "Map: 100%|██████████| 50/50 [00:02<00:00, 18.65 examples/s]\n",
      "Creating parquet from Arrow format: 100%|██████████| 1/1 [00:11<00:00, 11.65s/ba]\n",
      "Creating parquet from Arrow format: 100%|██████████| 1/1 [00:01<00:00,  1.26s/ba]\n"
     ]
    },
    {
     "name": "stdout",
     "output_type": "stream",
     "text": [
      "count: 500 x 500 = 250000\n"
     ]
    },
    {
     "name": "stderr",
     "output_type": "stream",
     "text": [
      "Map: 100%|██████████| 450/450 [00:29<00:00, 15.15 examples/s]\n",
      "Map: 100%|██████████| 50/50 [00:03<00:00, 15.92 examples/s]\n",
      "Creating parquet from Arrow format: 100%|██████████| 1/1 [00:11<00:00, 11.64s/ba]\n",
      "Creating parquet from Arrow format: 100%|██████████| 1/1 [00:01<00:00,  1.26s/ba]\n"
     ]
    },
    {
     "name": "stdout",
     "output_type": "stream",
     "text": [
      "count: 501 x 500 = 250500\n"
     ]
    },
    {
     "name": "stderr",
     "output_type": "stream",
     "text": [
      "Map: 100%|██████████| 450/450 [00:45<00:00,  9.81 examples/s]\n",
      "Map: 100%|██████████| 50/50 [00:05<00:00,  9.63 examples/s]\n",
      "Creating parquet from Arrow format: 100%|██████████| 1/1 [00:12<00:00, 12.27s/ba]\n",
      "Creating parquet from Arrow format: 100%|██████████| 1/1 [00:01<00:00,  1.41s/ba]\n"
     ]
    },
    {
     "name": "stdout",
     "output_type": "stream",
     "text": [
      "count: 502 x 500 = 251000\n"
     ]
    },
    {
     "name": "stderr",
     "output_type": "stream",
     "text": [
      "Map: 100%|██████████| 450/450 [00:34<00:00, 12.91 examples/s]\n",
      "Map: 100%|██████████| 50/50 [00:03<00:00, 16.60 examples/s]\n",
      "Creating parquet from Arrow format: 100%|██████████| 1/1 [00:12<00:00, 12.44s/ba]\n",
      "Creating parquet from Arrow format: 100%|██████████| 1/1 [00:01<00:00,  1.38s/ba]\n"
     ]
    },
    {
     "name": "stdout",
     "output_type": "stream",
     "text": [
      "count: 503 x 500 = 251500\n"
     ]
    },
    {
     "name": "stderr",
     "output_type": "stream",
     "text": [
      "Map: 100%|██████████| 450/450 [00:36<00:00, 12.29 examples/s]\n",
      "Map: 100%|██████████| 50/50 [00:05<00:00,  8.52 examples/s]\n",
      "Creating parquet from Arrow format: 100%|██████████| 1/1 [00:11<00:00, 11.54s/ba]\n",
      "Creating parquet from Arrow format: 100%|██████████| 1/1 [00:01<00:00,  1.30s/ba]\n"
     ]
    },
    {
     "name": "stdout",
     "output_type": "stream",
     "text": [
      "count: 504 x 500 = 252000\n"
     ]
    },
    {
     "name": "stderr",
     "output_type": "stream",
     "text": [
      "Map: 100%|██████████| 450/450 [00:34<00:00, 13.19 examples/s]\n",
      "Map: 100%|██████████| 50/50 [00:03<00:00, 13.61 examples/s]\n",
      "Creating parquet from Arrow format: 100%|██████████| 1/1 [00:11<00:00, 11.57s/ba]\n",
      "Creating parquet from Arrow format: 100%|██████████| 1/1 [00:01<00:00,  1.30s/ba]\n"
     ]
    },
    {
     "name": "stdout",
     "output_type": "stream",
     "text": [
      "count: 505 x 500 = 252500\n"
     ]
    },
    {
     "name": "stderr",
     "output_type": "stream",
     "text": [
      "Map: 100%|██████████| 450/450 [00:36<00:00, 12.17 examples/s]\n",
      "Map: 100%|██████████| 50/50 [00:03<00:00, 14.62 examples/s]\n",
      "Creating parquet from Arrow format: 100%|██████████| 1/1 [00:12<00:00, 12.47s/ba]\n",
      "Creating parquet from Arrow format: 100%|██████████| 1/1 [00:01<00:00,  1.22s/ba]\n"
     ]
    },
    {
     "name": "stdout",
     "output_type": "stream",
     "text": [
      "count: 506 x 500 = 253000\n"
     ]
    },
    {
     "name": "stderr",
     "output_type": "stream",
     "text": [
      "Map: 100%|██████████| 450/450 [00:39<00:00, 11.41 examples/s]\n",
      "Map: 100%|██████████| 50/50 [00:04<00:00, 12.39 examples/s]\n",
      "Creating parquet from Arrow format: 100%|██████████| 1/1 [00:13<00:00, 13.61s/ba]\n",
      "Creating parquet from Arrow format: 100%|██████████| 1/1 [00:01<00:00,  1.28s/ba]\n"
     ]
    },
    {
     "name": "stdout",
     "output_type": "stream",
     "text": [
      "count: 507 x 500 = 253500\n"
     ]
    },
    {
     "name": "stderr",
     "output_type": "stream",
     "text": [
      "Map: 100%|██████████| 450/450 [00:30<00:00, 14.68 examples/s]\n",
      "Map: 100%|██████████| 50/50 [00:05<00:00,  9.71 examples/s]\n",
      "Creating parquet from Arrow format: 100%|██████████| 1/1 [00:11<00:00, 11.31s/ba]\n",
      "Creating parquet from Arrow format: 100%|██████████| 1/1 [00:01<00:00,  1.32s/ba]\n"
     ]
    },
    {
     "name": "stdout",
     "output_type": "stream",
     "text": [
      "count: 508 x 500 = 254000\n"
     ]
    },
    {
     "name": "stderr",
     "output_type": "stream",
     "text": [
      "Map: 100%|██████████| 450/450 [00:32<00:00, 13.93 examples/s]\n",
      "Map: 100%|██████████| 50/50 [00:02<00:00, 16.68 examples/s]\n",
      "Creating parquet from Arrow format: 100%|██████████| 1/1 [00:13<00:00, 13.70s/ba]\n",
      "Creating parquet from Arrow format: 100%|██████████| 1/1 [00:01<00:00,  1.23s/ba]\n"
     ]
    },
    {
     "name": "stdout",
     "output_type": "stream",
     "text": [
      "count: 509 x 500 = 254500\n"
     ]
    },
    {
     "name": "stderr",
     "output_type": "stream",
     "text": [
      "Map: 100%|██████████| 450/450 [00:36<00:00, 12.20 examples/s]\n",
      "Map: 100%|██████████| 50/50 [00:04<00:00, 12.29 examples/s]\n",
      "Creating parquet from Arrow format: 100%|██████████| 1/1 [00:11<00:00, 11.58s/ba]\n",
      "Creating parquet from Arrow format: 100%|██████████| 1/1 [00:01<00:00,  1.29s/ba]\n"
     ]
    },
    {
     "name": "stdout",
     "output_type": "stream",
     "text": [
      "count: 510 x 500 = 255000\n"
     ]
    },
    {
     "name": "stderr",
     "output_type": "stream",
     "text": [
      "Map: 100%|██████████| 450/450 [00:36<00:00, 12.41 examples/s]\n",
      "Map: 100%|██████████| 50/50 [00:02<00:00, 18.44 examples/s]\n",
      "Creating parquet from Arrow format: 100%|██████████| 1/1 [00:11<00:00, 11.49s/ba]\n",
      "Creating parquet from Arrow format: 100%|██████████| 1/1 [00:01<00:00,  1.24s/ba]\n"
     ]
    },
    {
     "name": "stdout",
     "output_type": "stream",
     "text": [
      "count: 511 x 500 = 255500\n"
     ]
    },
    {
     "name": "stderr",
     "output_type": "stream",
     "text": [
      "Map: 100%|██████████| 450/450 [00:35<00:00, 12.81 examples/s]\n",
      "Map: 100%|██████████| 50/50 [00:05<00:00,  9.93 examples/s]\n",
      "Creating parquet from Arrow format: 100%|██████████| 1/1 [00:11<00:00, 11.60s/ba]\n",
      "Creating parquet from Arrow format: 100%|██████████| 1/1 [00:01<00:00,  1.30s/ba]\n"
     ]
    },
    {
     "name": "stdout",
     "output_type": "stream",
     "text": [
      "count: 512 x 500 = 256000\n"
     ]
    },
    {
     "name": "stderr",
     "output_type": "stream",
     "text": [
      "Map: 100%|██████████| 450/450 [00:31<00:00, 14.37 examples/s]\n",
      "Map: 100%|██████████| 50/50 [00:05<00:00,  9.59 examples/s]\n",
      "Creating parquet from Arrow format: 100%|██████████| 1/1 [00:11<00:00, 11.43s/ba]\n",
      "Creating parquet from Arrow format: 100%|██████████| 1/1 [00:01<00:00,  1.37s/ba]\n"
     ]
    },
    {
     "name": "stdout",
     "output_type": "stream",
     "text": [
      "count: 513 x 500 = 256500\n"
     ]
    },
    {
     "name": "stderr",
     "output_type": "stream",
     "text": [
      "Map: 100%|██████████| 450/450 [00:34<00:00, 13.18 examples/s]\n",
      "Map: 100%|██████████| 50/50 [00:03<00:00, 13.25 examples/s]\n",
      "Creating parquet from Arrow format: 100%|██████████| 1/1 [00:11<00:00, 11.26s/ba]\n",
      "Creating parquet from Arrow format: 100%|██████████| 1/1 [00:01<00:00,  1.25s/ba]\n"
     ]
    },
    {
     "name": "stdout",
     "output_type": "stream",
     "text": [
      "count: 514 x 500 = 257000\n"
     ]
    },
    {
     "name": "stderr",
     "output_type": "stream",
     "text": [
      "Map: 100%|██████████| 450/450 [00:34<00:00, 13.19 examples/s]\n",
      "Map: 100%|██████████| 50/50 [00:02<00:00, 17.63 examples/s]\n",
      "Creating parquet from Arrow format: 100%|██████████| 1/1 [00:11<00:00, 11.96s/ba]\n",
      "Creating parquet from Arrow format: 100%|██████████| 1/1 [00:01<00:00,  1.37s/ba]\n"
     ]
    },
    {
     "name": "stdout",
     "output_type": "stream",
     "text": [
      "count: 515 x 500 = 257500\n"
     ]
    },
    {
     "name": "stderr",
     "output_type": "stream",
     "text": [
      "Map: 100%|██████████| 450/450 [00:42<00:00, 10.68 examples/s]\n",
      "Map: 100%|██████████| 50/50 [00:07<00:00,  6.88 examples/s]\n",
      "Creating parquet from Arrow format: 100%|██████████| 1/1 [00:12<00:00, 12.77s/ba]\n",
      "Creating parquet from Arrow format: 100%|██████████| 1/1 [00:01<00:00,  1.45s/ba]\n"
     ]
    },
    {
     "name": "stdout",
     "output_type": "stream",
     "text": [
      "count: 516 x 500 = 258000\n"
     ]
    },
    {
     "name": "stderr",
     "output_type": "stream",
     "text": [
      "Map: 100%|██████████| 450/450 [00:27<00:00, 16.17 examples/s]\n",
      "Map: 100%|██████████| 50/50 [00:06<00:00,  7.79 examples/s]\n",
      "Creating parquet from Arrow format: 100%|██████████| 1/1 [00:11<00:00, 11.62s/ba]\n",
      "Creating parquet from Arrow format: 100%|██████████| 1/1 [00:01<00:00,  1.34s/ba]\n"
     ]
    },
    {
     "name": "stdout",
     "output_type": "stream",
     "text": [
      "count: 517 x 500 = 258500\n"
     ]
    },
    {
     "name": "stderr",
     "output_type": "stream",
     "text": [
      "Map: 100%|██████████| 450/450 [00:33<00:00, 13.33 examples/s]\n",
      "Map: 100%|██████████| 50/50 [00:03<00:00, 15.95 examples/s]\n",
      "Creating parquet from Arrow format: 100%|██████████| 1/1 [00:11<00:00, 11.10s/ba]\n",
      "Creating parquet from Arrow format: 100%|██████████| 1/1 [00:01<00:00,  1.25s/ba]\n"
     ]
    },
    {
     "name": "stdout",
     "output_type": "stream",
     "text": [
      "count: 518 x 500 = 259000\n"
     ]
    },
    {
     "name": "stderr",
     "output_type": "stream",
     "text": [
      "Map: 100%|██████████| 450/450 [00:27<00:00, 16.45 examples/s]\n",
      "Map: 100%|██████████| 50/50 [00:03<00:00, 14.14 examples/s]\n",
      "Creating parquet from Arrow format: 100%|██████████| 1/1 [00:11<00:00, 11.57s/ba]\n",
      "Creating parquet from Arrow format: 100%|██████████| 1/1 [00:01<00:00,  1.23s/ba]\n"
     ]
    },
    {
     "name": "stdout",
     "output_type": "stream",
     "text": [
      "count: 519 x 500 = 259500\n"
     ]
    },
    {
     "name": "stderr",
     "output_type": "stream",
     "text": [
      "Map: 100%|██████████| 450/450 [00:31<00:00, 14.39 examples/s]\n",
      "Map: 100%|██████████| 50/50 [00:05<00:00,  9.91 examples/s]\n",
      "Creating parquet from Arrow format: 100%|██████████| 1/1 [00:11<00:00, 11.48s/ba]\n",
      "Creating parquet from Arrow format: 100%|██████████| 1/1 [00:01<00:00,  1.31s/ba]\n"
     ]
    },
    {
     "name": "stdout",
     "output_type": "stream",
     "text": [
      "count: 520 x 500 = 260000\n"
     ]
    },
    {
     "name": "stderr",
     "output_type": "stream",
     "text": [
      "Map: 100%|██████████| 450/450 [00:30<00:00, 14.68 examples/s]\n",
      "Map: 100%|██████████| 50/50 [00:04<00:00, 11.96 examples/s]\n",
      "Creating parquet from Arrow format: 100%|██████████| 1/1 [00:11<00:00, 11.45s/ba]\n",
      "Creating parquet from Arrow format: 100%|██████████| 1/1 [00:01<00:00,  1.29s/ba]\n"
     ]
    },
    {
     "name": "stdout",
     "output_type": "stream",
     "text": [
      "count: 521 x 500 = 260500\n"
     ]
    },
    {
     "name": "stderr",
     "output_type": "stream",
     "text": [
      "Map: 100%|██████████| 450/450 [00:37<00:00, 11.87 examples/s]\n",
      "Map: 100%|██████████| 50/50 [00:04<00:00, 11.91 examples/s]\n",
      "Creating parquet from Arrow format: 100%|██████████| 1/1 [00:11<00:00, 11.23s/ba]\n",
      "Creating parquet from Arrow format: 100%|██████████| 1/1 [00:01<00:00,  1.23s/ba]\n"
     ]
    },
    {
     "name": "stdout",
     "output_type": "stream",
     "text": [
      "count: 522 x 500 = 261000\n"
     ]
    },
    {
     "name": "stderr",
     "output_type": "stream",
     "text": [
      "Map: 100%|██████████| 450/450 [00:41<00:00, 10.76 examples/s]\n",
      "Map: 100%|██████████| 50/50 [00:08<00:00,  5.91 examples/s]\n",
      "Creating parquet from Arrow format: 100%|██████████| 1/1 [00:12<00:00, 12.49s/ba]\n",
      "Creating parquet from Arrow format: 100%|██████████| 1/1 [00:01<00:00,  1.35s/ba]\n"
     ]
    },
    {
     "name": "stdout",
     "output_type": "stream",
     "text": [
      "count: 523 x 500 = 261500\n"
     ]
    },
    {
     "name": "stderr",
     "output_type": "stream",
     "text": [
      "Map: 100%|██████████| 450/450 [01:13<00:00,  6.10 examples/s]\n",
      "Map: 100%|██████████| 50/50 [00:03<00:00, 13.62 examples/s]\n",
      "Creating parquet from Arrow format: 100%|██████████| 1/1 [00:14<00:00, 14.06s/ba]\n",
      "Creating parquet from Arrow format: 100%|██████████| 1/1 [00:01<00:00,  1.33s/ba]\n"
     ]
    },
    {
     "name": "stdout",
     "output_type": "stream",
     "text": [
      "count: 524 x 500 = 262000\n"
     ]
    },
    {
     "name": "stderr",
     "output_type": "stream",
     "text": [
      "Map: 100%|██████████| 450/450 [00:29<00:00, 15.19 examples/s]\n",
      "Map: 100%|██████████| 50/50 [00:06<00:00,  7.55 examples/s]\n",
      "Creating parquet from Arrow format: 100%|██████████| 1/1 [00:13<00:00, 13.22s/ba]\n",
      "Creating parquet from Arrow format: 100%|██████████| 1/1 [00:01<00:00,  1.38s/ba]\n"
     ]
    },
    {
     "name": "stdout",
     "output_type": "stream",
     "text": [
      "count: 525 x 500 = 262500\n"
     ]
    },
    {
     "name": "stderr",
     "output_type": "stream",
     "text": [
      "Map: 100%|██████████| 450/450 [00:31<00:00, 14.28 examples/s]\n",
      "Map: 100%|██████████| 50/50 [00:03<00:00, 13.07 examples/s]\n",
      "Creating parquet from Arrow format: 100%|██████████| 1/1 [00:12<00:00, 12.20s/ba]\n",
      "Creating parquet from Arrow format: 100%|██████████| 1/1 [00:01<00:00,  1.29s/ba]\n"
     ]
    },
    {
     "name": "stdout",
     "output_type": "stream",
     "text": [
      "count: 526 x 500 = 263000\n"
     ]
    },
    {
     "name": "stderr",
     "output_type": "stream",
     "text": [
      "Map: 100%|██████████| 450/450 [00:30<00:00, 14.91 examples/s]\n",
      "Map: 100%|██████████| 50/50 [00:08<00:00,  5.66 examples/s]\n",
      "Creating parquet from Arrow format: 100%|██████████| 1/1 [00:11<00:00, 11.48s/ba]\n",
      "Creating parquet from Arrow format: 100%|██████████| 1/1 [00:01<00:00,  1.32s/ba]\n"
     ]
    },
    {
     "name": "stdout",
     "output_type": "stream",
     "text": [
      "count: 527 x 500 = 263500\n"
     ]
    },
    {
     "name": "stderr",
     "output_type": "stream",
     "text": [
      "Map: 100%|██████████| 450/450 [00:34<00:00, 12.88 examples/s]\n",
      "Map: 100%|██████████| 50/50 [00:03<00:00, 12.96 examples/s]\n",
      "Creating parquet from Arrow format: 100%|██████████| 1/1 [00:10<00:00, 10.99s/ba]\n",
      "Creating parquet from Arrow format: 100%|██████████| 1/1 [00:01<00:00,  1.23s/ba]\n"
     ]
    },
    {
     "name": "stdout",
     "output_type": "stream",
     "text": [
      "count: 528 x 500 = 264000\n"
     ]
    },
    {
     "name": "stderr",
     "output_type": "stream",
     "text": [
      "Map: 100%|██████████| 450/450 [00:36<00:00, 12.47 examples/s]\n",
      "Map: 100%|██████████| 50/50 [00:02<00:00, 17.16 examples/s]\n",
      "Creating parquet from Arrow format: 100%|██████████| 1/1 [00:11<00:00, 11.81s/ba]\n",
      "Creating parquet from Arrow format: 100%|██████████| 1/1 [00:01<00:00,  1.19s/ba]\n"
     ]
    },
    {
     "name": "stdout",
     "output_type": "stream",
     "text": [
      "count: 529 x 500 = 264500\n"
     ]
    },
    {
     "name": "stderr",
     "output_type": "stream",
     "text": [
      "Map: 100%|██████████| 450/450 [00:33<00:00, 13.48 examples/s]\n",
      "Map: 100%|██████████| 50/50 [00:03<00:00, 15.94 examples/s]\n",
      "Creating parquet from Arrow format: 100%|██████████| 1/1 [00:11<00:00, 11.38s/ba]\n",
      "Creating parquet from Arrow format: 100%|██████████| 1/1 [00:01<00:00,  1.26s/ba]\n"
     ]
    },
    {
     "name": "stdout",
     "output_type": "stream",
     "text": [
      "count: 530 x 500 = 265000\n"
     ]
    },
    {
     "name": "stderr",
     "output_type": "stream",
     "text": [
      "Map: 100%|██████████| 450/450 [00:30<00:00, 14.77 examples/s]\n",
      "Map: 100%|██████████| 50/50 [00:03<00:00, 15.77 examples/s]\n",
      "Creating parquet from Arrow format: 100%|██████████| 1/1 [00:12<00:00, 12.47s/ba]\n",
      "Creating parquet from Arrow format: 100%|██████████| 1/1 [00:01<00:00,  1.22s/ba]\n"
     ]
    },
    {
     "name": "stdout",
     "output_type": "stream",
     "text": [
      "count: 531 x 500 = 265500\n"
     ]
    },
    {
     "name": "stderr",
     "output_type": "stream",
     "text": [
      "Map: 100%|██████████| 450/450 [00:30<00:00, 14.64 examples/s]\n",
      "Map: 100%|██████████| 50/50 [00:02<00:00, 17.93 examples/s]\n",
      "Creating parquet from Arrow format: 100%|██████████| 1/1 [00:11<00:00, 11.26s/ba]\n",
      "Creating parquet from Arrow format: 100%|██████████| 1/1 [00:01<00:00,  1.30s/ba]\n"
     ]
    },
    {
     "name": "stdout",
     "output_type": "stream",
     "text": [
      "count: 532 x 500 = 266000\n"
     ]
    },
    {
     "name": "stderr",
     "output_type": "stream",
     "text": [
      "Map: 100%|██████████| 450/450 [00:35<00:00, 12.65 examples/s]\n",
      "Map: 100%|██████████| 50/50 [00:06<00:00,  7.27 examples/s]\n",
      "Creating parquet from Arrow format: 100%|██████████| 1/1 [00:11<00:00, 11.41s/ba]\n",
      "Creating parquet from Arrow format: 100%|██████████| 1/1 [00:01<00:00,  1.33s/ba]\n"
     ]
    },
    {
     "name": "stdout",
     "output_type": "stream",
     "text": [
      "count: 533 x 500 = 266500\n"
     ]
    },
    {
     "name": "stderr",
     "output_type": "stream",
     "text": [
      "Map: 100%|██████████| 450/450 [00:31<00:00, 14.06 examples/s]\n",
      "Map: 100%|██████████| 50/50 [00:05<00:00,  8.39 examples/s]\n",
      "Creating parquet from Arrow format: 100%|██████████| 1/1 [00:11<00:00, 11.27s/ba]\n",
      "Creating parquet from Arrow format: 100%|██████████| 1/1 [00:01<00:00,  1.26s/ba]\n"
     ]
    },
    {
     "name": "stdout",
     "output_type": "stream",
     "text": [
      "count: 534 x 500 = 267000\n"
     ]
    },
    {
     "name": "stderr",
     "output_type": "stream",
     "text": [
      "Map: 100%|██████████| 450/450 [00:33<00:00, 13.24 examples/s]\n",
      "Map: 100%|██████████| 50/50 [00:02<00:00, 19.16 examples/s]\n",
      "Creating parquet from Arrow format: 100%|██████████| 1/1 [00:12<00:00, 12.96s/ba]\n",
      "Creating parquet from Arrow format: 100%|██████████| 1/1 [00:01<00:00,  1.30s/ba]\n"
     ]
    },
    {
     "name": "stdout",
     "output_type": "stream",
     "text": [
      "count: 535 x 500 = 267500\n"
     ]
    },
    {
     "name": "stderr",
     "output_type": "stream",
     "text": [
      "Map: 100%|██████████| 450/450 [00:40<00:00, 11.22 examples/s]\n",
      "Map: 100%|██████████| 50/50 [00:03<00:00, 15.91 examples/s]\n",
      "Creating parquet from Arrow format: 100%|██████████| 1/1 [00:11<00:00, 11.62s/ba]\n",
      "Creating parquet from Arrow format: 100%|██████████| 1/1 [00:01<00:00,  1.21s/ba]\n"
     ]
    },
    {
     "name": "stdout",
     "output_type": "stream",
     "text": [
      "count: 536 x 500 = 268000\n"
     ]
    },
    {
     "name": "stderr",
     "output_type": "stream",
     "text": [
      "Map: 100%|██████████| 450/450 [00:33<00:00, 13.36 examples/s]\n",
      "Map: 100%|██████████| 50/50 [00:03<00:00, 14.49 examples/s]\n",
      "Creating parquet from Arrow format: 100%|██████████| 1/1 [00:11<00:00, 11.41s/ba]\n",
      "Creating parquet from Arrow format: 100%|██████████| 1/1 [00:01<00:00,  1.28s/ba]\n"
     ]
    },
    {
     "name": "stdout",
     "output_type": "stream",
     "text": [
      "count: 537 x 500 = 268500\n"
     ]
    },
    {
     "name": "stderr",
     "output_type": "stream",
     "text": [
      "Map: 100%|██████████| 450/450 [00:35<00:00, 12.60 examples/s]\n",
      "Map: 100%|██████████| 50/50 [00:02<00:00, 16.81 examples/s]\n",
      "Creating parquet from Arrow format: 100%|██████████| 1/1 [00:11<00:00, 11.67s/ba]\n",
      "Creating parquet from Arrow format: 100%|██████████| 1/1 [00:01<00:00,  1.28s/ba]\n"
     ]
    },
    {
     "name": "stdout",
     "output_type": "stream",
     "text": [
      "count: 538 x 500 = 269000\n"
     ]
    },
    {
     "name": "stderr",
     "output_type": "stream",
     "text": [
      "Map: 100%|██████████| 450/450 [00:30<00:00, 14.68 examples/s]\n",
      "Map: 100%|██████████| 50/50 [00:03<00:00, 13.52 examples/s]\n",
      "Creating parquet from Arrow format: 100%|██████████| 1/1 [00:13<00:00, 13.20s/ba]\n",
      "Creating parquet from Arrow format: 100%|██████████| 1/1 [00:02<00:00,  2.39s/ba]\n"
     ]
    },
    {
     "name": "stdout",
     "output_type": "stream",
     "text": [
      "count: 539 x 500 = 269500\n"
     ]
    },
    {
     "name": "stderr",
     "output_type": "stream",
     "text": [
      "Map: 100%|██████████| 450/450 [00:32<00:00, 13.64 examples/s]\n",
      "Map: 100%|██████████| 50/50 [00:03<00:00, 14.62 examples/s]\n",
      "Creating parquet from Arrow format: 100%|██████████| 1/1 [00:11<00:00, 11.78s/ba]\n",
      "Creating parquet from Arrow format: 100%|██████████| 1/1 [00:01<00:00,  1.26s/ba]\n"
     ]
    },
    {
     "name": "stdout",
     "output_type": "stream",
     "text": [
      "count: 540 x 500 = 270000\n"
     ]
    },
    {
     "name": "stderr",
     "output_type": "stream",
     "text": [
      "Map: 100%|██████████| 450/450 [00:30<00:00, 14.59 examples/s]\n",
      "Map: 100%|██████████| 50/50 [00:03<00:00, 14.94 examples/s]\n",
      "Creating parquet from Arrow format: 100%|██████████| 1/1 [00:12<00:00, 12.86s/ba]\n",
      "Creating parquet from Arrow format: 100%|██████████| 1/1 [00:01<00:00,  1.25s/ba]\n"
     ]
    },
    {
     "name": "stdout",
     "output_type": "stream",
     "text": [
      "count: 541 x 500 = 270500\n"
     ]
    },
    {
     "name": "stderr",
     "output_type": "stream",
     "text": [
      "Map: 100%|██████████| 450/450 [00:29<00:00, 15.07 examples/s]\n",
      "Map: 100%|██████████| 50/50 [00:03<00:00, 13.39 examples/s]\n",
      "Creating parquet from Arrow format: 100%|██████████| 1/1 [00:12<00:00, 12.65s/ba]\n",
      "Creating parquet from Arrow format: 100%|██████████| 1/1 [00:01<00:00,  1.34s/ba]\n"
     ]
    },
    {
     "name": "stdout",
     "output_type": "stream",
     "text": [
      "count: 542 x 500 = 271000\n"
     ]
    },
    {
     "name": "stderr",
     "output_type": "stream",
     "text": [
      "Map: 100%|██████████| 450/450 [00:32<00:00, 13.78 examples/s]\n",
      "Map: 100%|██████████| 50/50 [00:05<00:00,  9.99 examples/s]\n",
      "Creating parquet from Arrow format: 100%|██████████| 1/1 [00:11<00:00, 11.48s/ba]\n",
      "Creating parquet from Arrow format: 100%|██████████| 1/1 [00:01<00:00,  1.26s/ba]\n"
     ]
    },
    {
     "name": "stdout",
     "output_type": "stream",
     "text": [
      "count: 543 x 500 = 271500\n"
     ]
    },
    {
     "name": "stderr",
     "output_type": "stream",
     "text": [
      "Map: 100%|██████████| 450/450 [00:37<00:00, 11.95 examples/s]\n",
      "Map: 100%|██████████| 50/50 [00:03<00:00, 13.34 examples/s]\n",
      "Creating parquet from Arrow format: 100%|██████████| 1/1 [00:12<00:00, 12.53s/ba]\n",
      "Creating parquet from Arrow format: 100%|██████████| 1/1 [00:01<00:00,  1.46s/ba]\n"
     ]
    },
    {
     "name": "stdout",
     "output_type": "stream",
     "text": [
      "count: 544 x 500 = 272000\n"
     ]
    },
    {
     "name": "stderr",
     "output_type": "stream",
     "text": [
      "Map: 100%|██████████| 450/450 [00:29<00:00, 15.31 examples/s]\n",
      "Map: 100%|██████████| 50/50 [00:03<00:00, 14.48 examples/s]\n",
      "Creating parquet from Arrow format: 100%|██████████| 1/1 [00:12<00:00, 12.23s/ba]\n",
      "Creating parquet from Arrow format: 100%|██████████| 1/1 [00:01<00:00,  1.28s/ba]\n"
     ]
    },
    {
     "name": "stdout",
     "output_type": "stream",
     "text": [
      "count: 545 x 500 = 272500\n"
     ]
    },
    {
     "name": "stderr",
     "output_type": "stream",
     "text": [
      "Map: 100%|██████████| 450/450 [00:31<00:00, 14.12 examples/s]\n",
      "Map: 100%|██████████| 50/50 [00:03<00:00, 14.49 examples/s]\n",
      "Creating parquet from Arrow format: 100%|██████████| 1/1 [00:11<00:00, 11.97s/ba]\n",
      "Creating parquet from Arrow format: 100%|██████████| 1/1 [00:01<00:00,  1.28s/ba]\n"
     ]
    },
    {
     "name": "stdout",
     "output_type": "stream",
     "text": [
      "count: 546 x 500 = 273000\n"
     ]
    },
    {
     "name": "stderr",
     "output_type": "stream",
     "text": [
      "Map: 100%|██████████| 450/450 [00:35<00:00, 12.60 examples/s]\n",
      "Map: 100%|██████████| 50/50 [00:03<00:00, 13.53 examples/s]\n",
      "Creating parquet from Arrow format: 100%|██████████| 1/1 [00:11<00:00, 11.60s/ba]\n",
      "Creating parquet from Arrow format: 100%|██████████| 1/1 [00:01<00:00,  1.27s/ba]\n"
     ]
    },
    {
     "name": "stdout",
     "output_type": "stream",
     "text": [
      "count: 547 x 500 = 273500\n"
     ]
    },
    {
     "name": "stderr",
     "output_type": "stream",
     "text": [
      "Map: 100%|██████████| 450/450 [00:32<00:00, 13.78 examples/s]\n",
      "Map: 100%|██████████| 50/50 [00:03<00:00, 13.01 examples/s]\n",
      "Creating parquet from Arrow format: 100%|██████████| 1/1 [00:11<00:00, 11.34s/ba]\n",
      "Creating parquet from Arrow format: 100%|██████████| 1/1 [00:01<00:00,  1.30s/ba]\n"
     ]
    },
    {
     "name": "stdout",
     "output_type": "stream",
     "text": [
      "count: 548 x 500 = 274000\n"
     ]
    },
    {
     "name": "stderr",
     "output_type": "stream",
     "text": [
      "Map: 100%|██████████| 450/450 [00:29<00:00, 15.18 examples/s]\n",
      "Map: 100%|██████████| 50/50 [00:05<00:00,  9.69 examples/s]\n",
      "Creating parquet from Arrow format: 100%|██████████| 1/1 [00:13<00:00, 13.17s/ba]\n",
      "Creating parquet from Arrow format: 100%|██████████| 1/1 [00:01<00:00,  1.40s/ba]\n"
     ]
    },
    {
     "name": "stdout",
     "output_type": "stream",
     "text": [
      "count: 549 x 500 = 274500\n"
     ]
    },
    {
     "name": "stderr",
     "output_type": "stream",
     "text": [
      "Map: 100%|██████████| 450/450 [00:32<00:00, 14.03 examples/s]\n",
      "Map: 100%|██████████| 50/50 [00:02<00:00, 17.42 examples/s]\n",
      "Creating parquet from Arrow format: 100%|██████████| 1/1 [00:11<00:00, 11.65s/ba]\n",
      "Creating parquet from Arrow format: 100%|██████████| 1/1 [00:01<00:00,  1.22s/ba]\n"
     ]
    },
    {
     "name": "stdout",
     "output_type": "stream",
     "text": [
      "count: 550 x 500 = 275000\n"
     ]
    },
    {
     "name": "stderr",
     "output_type": "stream",
     "text": [
      "Map: 100%|██████████| 450/450 [00:33<00:00, 13.48 examples/s]\n",
      "Map: 100%|██████████| 50/50 [00:02<00:00, 18.72 examples/s]\n",
      "Creating parquet from Arrow format: 100%|██████████| 1/1 [00:12<00:00, 12.16s/ba]\n",
      "Creating parquet from Arrow format: 100%|██████████| 1/1 [00:01<00:00,  1.26s/ba]\n"
     ]
    },
    {
     "name": "stdout",
     "output_type": "stream",
     "text": [
      "count: 551 x 500 = 275500\n"
     ]
    },
    {
     "name": "stderr",
     "output_type": "stream",
     "text": [
      "Map: 100%|██████████| 450/450 [00:39<00:00, 11.37 examples/s]\n",
      "Map: 100%|██████████| 50/50 [00:03<00:00, 14.60 examples/s]\n",
      "Creating parquet from Arrow format: 100%|██████████| 1/1 [00:12<00:00, 12.96s/ba]\n",
      "Creating parquet from Arrow format: 100%|██████████| 1/1 [00:01<00:00,  1.25s/ba]\n"
     ]
    },
    {
     "name": "stdout",
     "output_type": "stream",
     "text": [
      "count: 552 x 500 = 276000\n"
     ]
    },
    {
     "name": "stderr",
     "output_type": "stream",
     "text": [
      "Map: 100%|██████████| 450/450 [00:28<00:00, 15.83 examples/s]\n",
      "Map: 100%|██████████| 50/50 [00:04<00:00, 11.78 examples/s]\n",
      "Creating parquet from Arrow format: 100%|██████████| 1/1 [00:11<00:00, 11.81s/ba]\n",
      "Creating parquet from Arrow format: 100%|██████████| 1/1 [00:01<00:00,  1.51s/ba]\n"
     ]
    },
    {
     "name": "stdout",
     "output_type": "stream",
     "text": [
      "count: 553 x 500 = 276500\n"
     ]
    },
    {
     "name": "stderr",
     "output_type": "stream",
     "text": [
      "Map: 100%|██████████| 450/450 [00:33<00:00, 13.64 examples/s]\n",
      "Map: 100%|██████████| 50/50 [00:03<00:00, 12.75 examples/s]\n",
      "Creating parquet from Arrow format: 100%|██████████| 1/1 [00:11<00:00, 11.34s/ba]\n",
      "Creating parquet from Arrow format: 100%|██████████| 1/1 [00:01<00:00,  1.34s/ba]\n"
     ]
    },
    {
     "name": "stdout",
     "output_type": "stream",
     "text": [
      "count: 554 x 500 = 277000\n"
     ]
    },
    {
     "name": "stderr",
     "output_type": "stream",
     "text": [
      "Map: 100%|██████████| 450/450 [00:35<00:00, 12.63 examples/s]\n",
      "Map: 100%|██████████| 50/50 [00:05<00:00,  8.89 examples/s]\n",
      "Creating parquet from Arrow format: 100%|██████████| 1/1 [00:11<00:00, 11.58s/ba]\n",
      "Creating parquet from Arrow format: 100%|██████████| 1/1 [00:01<00:00,  1.25s/ba]\n"
     ]
    },
    {
     "name": "stdout",
     "output_type": "stream",
     "text": [
      "count: 555 x 500 = 277500\n"
     ]
    },
    {
     "name": "stderr",
     "output_type": "stream",
     "text": [
      "Map: 100%|██████████| 450/450 [00:34<00:00, 12.88 examples/s]\n",
      "Map: 100%|██████████| 50/50 [00:05<00:00,  8.60 examples/s]\n",
      "Creating parquet from Arrow format: 100%|██████████| 1/1 [00:11<00:00, 11.96s/ba]\n",
      "Creating parquet from Arrow format: 100%|██████████| 1/1 [00:01<00:00,  1.27s/ba]\n"
     ]
    },
    {
     "name": "stdout",
     "output_type": "stream",
     "text": [
      "count: 556 x 500 = 278000\n"
     ]
    },
    {
     "name": "stderr",
     "output_type": "stream",
     "text": [
      "Map: 100%|██████████| 450/450 [00:34<00:00, 13.07 examples/s]\n",
      "Map: 100%|██████████| 50/50 [00:03<00:00, 13.57 examples/s]\n",
      "Creating parquet from Arrow format: 100%|██████████| 1/1 [00:11<00:00, 11.30s/ba]\n",
      "Creating parquet from Arrow format: 100%|██████████| 1/1 [00:01<00:00,  1.26s/ba]\n"
     ]
    },
    {
     "name": "stdout",
     "output_type": "stream",
     "text": [
      "count: 557 x 500 = 278500\n"
     ]
    },
    {
     "name": "stderr",
     "output_type": "stream",
     "text": [
      "Map: 100%|██████████| 450/450 [00:31<00:00, 14.33 examples/s]\n",
      "Map: 100%|██████████| 50/50 [00:03<00:00, 13.36 examples/s]\n",
      "Creating parquet from Arrow format: 100%|██████████| 1/1 [00:11<00:00, 11.20s/ba]\n",
      "Creating parquet from Arrow format: 100%|██████████| 1/1 [00:01<00:00,  1.25s/ba]\n"
     ]
    },
    {
     "name": "stdout",
     "output_type": "stream",
     "text": [
      "count: 558 x 500 = 279000\n"
     ]
    },
    {
     "name": "stderr",
     "output_type": "stream",
     "text": [
      "Map: 100%|██████████| 450/450 [00:32<00:00, 13.84 examples/s]\n",
      "Map: 100%|██████████| 50/50 [00:08<00:00,  5.99 examples/s]\n",
      "Creating parquet from Arrow format: 100%|██████████| 1/1 [00:12<00:00, 12.32s/ba]\n",
      "Creating parquet from Arrow format: 100%|██████████| 1/1 [00:01<00:00,  1.31s/ba]\n"
     ]
    },
    {
     "name": "stdout",
     "output_type": "stream",
     "text": [
      "count: 559 x 500 = 279500\n"
     ]
    },
    {
     "name": "stderr",
     "output_type": "stream",
     "text": [
      "Map: 100%|██████████| 450/450 [00:51<00:00,  8.66 examples/s]\n",
      "Map: 100%|██████████| 50/50 [00:03<00:00, 13.04 examples/s]\n",
      "Creating parquet from Arrow format: 100%|██████████| 1/1 [00:12<00:00, 12.35s/ba]\n",
      "Creating parquet from Arrow format: 100%|██████████| 1/1 [00:01<00:00,  1.29s/ba]\n"
     ]
    },
    {
     "name": "stdout",
     "output_type": "stream",
     "text": [
      "count: 560 x 500 = 280000\n"
     ]
    },
    {
     "name": "stderr",
     "output_type": "stream",
     "text": [
      "Map: 100%|██████████| 450/450 [00:34<00:00, 13.03 examples/s]\n",
      "Map: 100%|██████████| 50/50 [00:02<00:00, 19.04 examples/s]\n",
      "Creating parquet from Arrow format: 100%|██████████| 1/1 [00:11<00:00, 11.48s/ba]\n",
      "Creating parquet from Arrow format: 100%|██████████| 1/1 [00:01<00:00,  1.33s/ba]\n"
     ]
    },
    {
     "name": "stdout",
     "output_type": "stream",
     "text": [
      "count: 561 x 500 = 280500\n"
     ]
    },
    {
     "name": "stderr",
     "output_type": "stream",
     "text": [
      "Map: 100%|██████████| 450/450 [00:32<00:00, 13.93 examples/s]\n",
      "Map: 100%|██████████| 50/50 [00:05<00:00,  9.22 examples/s]\n",
      "Creating parquet from Arrow format: 100%|██████████| 1/1 [00:11<00:00, 11.19s/ba]\n",
      "Creating parquet from Arrow format: 100%|██████████| 1/1 [00:01<00:00,  1.26s/ba]\n"
     ]
    },
    {
     "name": "stdout",
     "output_type": "stream",
     "text": [
      "count: 562 x 500 = 281000\n"
     ]
    },
    {
     "name": "stderr",
     "output_type": "stream",
     "text": [
      "Map: 100%|██████████| 450/450 [00:43<00:00, 10.33 examples/s]\n",
      "Map: 100%|██████████| 50/50 [00:02<00:00, 19.51 examples/s]\n",
      "Creating parquet from Arrow format: 100%|██████████| 1/1 [00:11<00:00, 11.78s/ba]\n",
      "Creating parquet from Arrow format: 100%|██████████| 1/1 [00:01<00:00,  1.34s/ba]\n"
     ]
    },
    {
     "name": "stdout",
     "output_type": "stream",
     "text": [
      "count: 563 x 500 = 281500\n"
     ]
    },
    {
     "name": "stderr",
     "output_type": "stream",
     "text": [
      "Map: 100%|██████████| 450/450 [00:34<00:00, 12.89 examples/s]\n",
      "Map: 100%|██████████| 50/50 [00:06<00:00,  7.84 examples/s]\n",
      "Creating parquet from Arrow format: 100%|██████████| 1/1 [00:11<00:00, 11.26s/ba]\n",
      "Creating parquet from Arrow format: 100%|██████████| 1/1 [00:01<00:00,  1.33s/ba]\n"
     ]
    },
    {
     "name": "stdout",
     "output_type": "stream",
     "text": [
      "count: 564 x 500 = 282000\n"
     ]
    },
    {
     "name": "stderr",
     "output_type": "stream",
     "text": [
      "Map: 100%|██████████| 450/450 [00:39<00:00, 11.52 examples/s]\n",
      "Map: 100%|██████████| 50/50 [00:03<00:00, 13.38 examples/s]\n",
      "Creating parquet from Arrow format: 100%|██████████| 1/1 [00:11<00:00, 11.31s/ba]\n",
      "Creating parquet from Arrow format: 100%|██████████| 1/1 [00:01<00:00,  1.25s/ba]\n"
     ]
    },
    {
     "name": "stdout",
     "output_type": "stream",
     "text": [
      "count: 565 x 500 = 282500\n"
     ]
    },
    {
     "name": "stderr",
     "output_type": "stream",
     "text": [
      "Map: 100%|██████████| 450/450 [00:34<00:00, 12.92 examples/s]\n",
      "Map: 100%|██████████| 50/50 [00:02<00:00, 18.39 examples/s]\n",
      "Creating parquet from Arrow format: 100%|██████████| 1/1 [00:11<00:00, 11.43s/ba]\n",
      "Creating parquet from Arrow format: 100%|██████████| 1/1 [00:01<00:00,  1.28s/ba]\n"
     ]
    },
    {
     "name": "stdout",
     "output_type": "stream",
     "text": [
      "count: 566 x 500 = 283000\n"
     ]
    },
    {
     "name": "stderr",
     "output_type": "stream",
     "text": [
      "Map: 100%|██████████| 450/450 [00:33<00:00, 13.29 examples/s]\n",
      "Map: 100%|██████████| 50/50 [00:02<00:00, 18.01 examples/s]\n",
      "Creating parquet from Arrow format: 100%|██████████| 1/1 [00:11<00:00, 11.20s/ba]\n",
      "Creating parquet from Arrow format: 100%|██████████| 1/1 [00:01<00:00,  1.28s/ba]\n"
     ]
    },
    {
     "name": "stdout",
     "output_type": "stream",
     "text": [
      "count: 567 x 500 = 283500\n"
     ]
    },
    {
     "name": "stderr",
     "output_type": "stream",
     "text": [
      "Map: 100%|██████████| 450/450 [00:27<00:00, 16.53 examples/s]\n",
      "Map: 100%|██████████| 50/50 [00:02<00:00, 17.45 examples/s]\n",
      "Creating parquet from Arrow format: 100%|██████████| 1/1 [00:11<00:00, 11.27s/ba]\n",
      "Creating parquet from Arrow format: 100%|██████████| 1/1 [00:01<00:00,  1.24s/ba]\n"
     ]
    },
    {
     "name": "stdout",
     "output_type": "stream",
     "text": [
      "count: 568 x 500 = 284000\n"
     ]
    },
    {
     "name": "stderr",
     "output_type": "stream",
     "text": [
      "Map: 100%|██████████| 450/450 [00:32<00:00, 13.64 examples/s]\n",
      "Map: 100%|██████████| 50/50 [00:02<00:00, 18.26 examples/s]\n",
      "Creating parquet from Arrow format: 100%|██████████| 1/1 [00:11<00:00, 11.39s/ba]\n",
      "Creating parquet from Arrow format: 100%|██████████| 1/1 [00:01<00:00,  1.27s/ba]\n"
     ]
    },
    {
     "name": "stdout",
     "output_type": "stream",
     "text": [
      "count: 569 x 500 = 284500\n"
     ]
    },
    {
     "name": "stderr",
     "output_type": "stream",
     "text": [
      "Map: 100%|██████████| 450/450 [00:32<00:00, 13.95 examples/s]\n",
      "Map: 100%|██████████| 50/50 [00:02<00:00, 17.69 examples/s]\n",
      "Creating parquet from Arrow format: 100%|██████████| 1/1 [00:12<00:00, 12.42s/ba]\n",
      "Creating parquet from Arrow format: 100%|██████████| 1/1 [00:01<00:00,  1.42s/ba]\n"
     ]
    },
    {
     "name": "stdout",
     "output_type": "stream",
     "text": [
      "count: 570 x 500 = 285000\n"
     ]
    },
    {
     "name": "stderr",
     "output_type": "stream",
     "text": [
      "Map: 100%|██████████| 450/450 [00:27<00:00, 16.35 examples/s]\n",
      "Map: 100%|██████████| 50/50 [00:03<00:00, 15.27 examples/s]\n",
      "Creating parquet from Arrow format: 100%|██████████| 1/1 [00:11<00:00, 11.43s/ba]\n",
      "Creating parquet from Arrow format: 100%|██████████| 1/1 [00:01<00:00,  1.29s/ba]\n"
     ]
    },
    {
     "name": "stdout",
     "output_type": "stream",
     "text": [
      "count: 571 x 500 = 285500\n"
     ]
    },
    {
     "name": "stderr",
     "output_type": "stream",
     "text": [
      "Map: 100%|██████████| 450/450 [00:34<00:00, 13.09 examples/s]\n",
      "Map: 100%|██████████| 50/50 [00:02<00:00, 17.14 examples/s]\n",
      "Creating parquet from Arrow format: 100%|██████████| 1/1 [00:11<00:00, 11.95s/ba]\n",
      "Creating parquet from Arrow format: 100%|██████████| 1/1 [00:01<00:00,  1.45s/ba]\n"
     ]
    },
    {
     "name": "stdout",
     "output_type": "stream",
     "text": [
      "count: 572 x 500 = 286000\n"
     ]
    },
    {
     "name": "stderr",
     "output_type": "stream",
     "text": [
      "Map: 100%|██████████| 450/450 [00:30<00:00, 14.76 examples/s]\n",
      "Map: 100%|██████████| 50/50 [00:02<00:00, 19.47 examples/s]\n",
      "Creating parquet from Arrow format: 100%|██████████| 1/1 [00:11<00:00, 11.07s/ba]\n",
      "Creating parquet from Arrow format: 100%|██████████| 1/1 [00:01<00:00,  1.26s/ba]\n"
     ]
    },
    {
     "name": "stdout",
     "output_type": "stream",
     "text": [
      "count: 573 x 500 = 286500\n"
     ]
    },
    {
     "name": "stderr",
     "output_type": "stream",
     "text": [
      "Map: 100%|██████████| 450/450 [00:46<00:00,  9.70 examples/s]\n",
      "Map: 100%|██████████| 50/50 [00:07<00:00,  7.04 examples/s]\n",
      "Creating parquet from Arrow format: 100%|██████████| 1/1 [00:11<00:00, 11.87s/ba]\n",
      "Creating parquet from Arrow format: 100%|██████████| 1/1 [00:01<00:00,  1.38s/ba]\n"
     ]
    },
    {
     "name": "stdout",
     "output_type": "stream",
     "text": [
      "count: 574 x 500 = 287000\n"
     ]
    },
    {
     "name": "stderr",
     "output_type": "stream",
     "text": [
      "Map: 100%|██████████| 450/450 [00:27<00:00, 16.22 examples/s]\n",
      "Map: 100%|██████████| 50/50 [00:03<00:00, 16.16 examples/s]\n",
      "Creating parquet from Arrow format: 100%|██████████| 1/1 [00:11<00:00, 11.40s/ba]\n",
      "Creating parquet from Arrow format: 100%|██████████| 1/1 [00:01<00:00,  1.27s/ba]\n"
     ]
    },
    {
     "name": "stdout",
     "output_type": "stream",
     "text": [
      "count: 575 x 500 = 287500\n"
     ]
    },
    {
     "name": "stderr",
     "output_type": "stream",
     "text": [
      "Map: 100%|██████████| 450/450 [00:35<00:00, 12.55 examples/s]\n",
      "Map: 100%|██████████| 50/50 [00:03<00:00, 14.07 examples/s]\n",
      "Creating parquet from Arrow format: 100%|██████████| 1/1 [00:11<00:00, 11.84s/ba]\n",
      "Creating parquet from Arrow format: 100%|██████████| 1/1 [00:01<00:00,  1.26s/ba]\n"
     ]
    },
    {
     "name": "stdout",
     "output_type": "stream",
     "text": [
      "count: 576 x 500 = 288000\n"
     ]
    },
    {
     "name": "stderr",
     "output_type": "stream",
     "text": [
      "Map: 100%|██████████| 450/450 [00:33<00:00, 13.56 examples/s]\n",
      "Map: 100%|██████████| 50/50 [00:05<00:00,  9.56 examples/s]\n",
      "Creating parquet from Arrow format: 100%|██████████| 1/1 [00:11<00:00, 11.27s/ba]\n",
      "Creating parquet from Arrow format: 100%|██████████| 1/1 [00:01<00:00,  1.26s/ba]\n"
     ]
    },
    {
     "name": "stdout",
     "output_type": "stream",
     "text": [
      "count: 577 x 500 = 288500\n"
     ]
    },
    {
     "name": "stderr",
     "output_type": "stream",
     "text": [
      "Map: 100%|██████████| 450/450 [00:29<00:00, 15.29 examples/s]\n",
      "Map: 100%|██████████| 50/50 [00:02<00:00, 17.04 examples/s]\n",
      "Creating parquet from Arrow format: 100%|██████████| 1/1 [00:10<00:00, 11.00s/ba]\n",
      "Creating parquet from Arrow format: 100%|██████████| 1/1 [00:01<00:00,  1.26s/ba]\n"
     ]
    },
    {
     "name": "stdout",
     "output_type": "stream",
     "text": [
      "count: 578 x 500 = 289000\n"
     ]
    },
    {
     "name": "stderr",
     "output_type": "stream",
     "text": [
      "Map: 100%|██████████| 450/450 [00:29<00:00, 15.08 examples/s]\n",
      "Map: 100%|██████████| 50/50 [00:02<00:00, 19.58 examples/s]\n",
      "Creating parquet from Arrow format: 100%|██████████| 1/1 [00:11<00:00, 11.13s/ba]\n",
      "Creating parquet from Arrow format: 100%|██████████| 1/1 [00:01<00:00,  1.29s/ba]\n"
     ]
    },
    {
     "name": "stdout",
     "output_type": "stream",
     "text": [
      "count: 579 x 500 = 289500\n"
     ]
    },
    {
     "name": "stderr",
     "output_type": "stream",
     "text": [
      "Map: 100%|██████████| 450/450 [00:32<00:00, 13.92 examples/s]\n",
      "Map: 100%|██████████| 50/50 [00:02<00:00, 20.99 examples/s]\n",
      "Creating parquet from Arrow format: 100%|██████████| 1/1 [00:11<00:00, 11.28s/ba]\n",
      "Creating parquet from Arrow format: 100%|██████████| 1/1 [00:01<00:00,  1.29s/ba]\n"
     ]
    },
    {
     "name": "stdout",
     "output_type": "stream",
     "text": [
      "count: 580 x 500 = 290000\n"
     ]
    },
    {
     "name": "stderr",
     "output_type": "stream",
     "text": [
      "Map: 100%|██████████| 450/450 [00:31<00:00, 14.51 examples/s]\n",
      "Map: 100%|██████████| 50/50 [00:04<00:00, 10.37 examples/s]\n",
      "Creating parquet from Arrow format: 100%|██████████| 1/1 [00:11<00:00, 11.67s/ba]\n",
      "Creating parquet from Arrow format: 100%|██████████| 1/1 [00:01<00:00,  1.36s/ba]\n"
     ]
    },
    {
     "name": "stdout",
     "output_type": "stream",
     "text": [
      "count: 581 x 500 = 290500\n"
     ]
    },
    {
     "name": "stderr",
     "output_type": "stream",
     "text": [
      "Map: 100%|██████████| 450/450 [00:34<00:00, 12.96 examples/s]\n",
      "Map: 100%|██████████| 50/50 [00:02<00:00, 18.96 examples/s]\n",
      "Creating parquet from Arrow format: 100%|██████████| 1/1 [00:11<00:00, 11.35s/ba]\n",
      "Creating parquet from Arrow format: 100%|██████████| 1/1 [00:01<00:00,  1.32s/ba]\n"
     ]
    },
    {
     "name": "stdout",
     "output_type": "stream",
     "text": [
      "count: 582 x 500 = 291000\n"
     ]
    },
    {
     "name": "stderr",
     "output_type": "stream",
     "text": [
      "Map: 100%|██████████| 450/450 [00:27<00:00, 16.10 examples/s]\n",
      "Map: 100%|██████████| 50/50 [00:02<00:00, 18.67 examples/s]\n",
      "Creating parquet from Arrow format: 100%|██████████| 1/1 [00:10<00:00, 10.72s/ba]\n",
      "Creating parquet from Arrow format: 100%|██████████| 1/1 [00:01<00:00,  1.32s/ba]\n"
     ]
    },
    {
     "name": "stdout",
     "output_type": "stream",
     "text": [
      "count: 583 x 500 = 291500\n"
     ]
    },
    {
     "name": "stderr",
     "output_type": "stream",
     "text": [
      "Map: 100%|██████████| 450/450 [00:34<00:00, 12.98 examples/s]\n",
      "Map: 100%|██████████| 50/50 [00:03<00:00, 15.24 examples/s]\n",
      "Creating parquet from Arrow format: 100%|██████████| 1/1 [00:11<00:00, 11.84s/ba]\n",
      "Creating parquet from Arrow format: 100%|██████████| 1/1 [00:01<00:00,  1.65s/ba]\n"
     ]
    },
    {
     "name": "stdout",
     "output_type": "stream",
     "text": [
      "count: 584 x 500 = 292000\n"
     ]
    },
    {
     "name": "stderr",
     "output_type": "stream",
     "text": [
      "Map: 100%|██████████| 450/450 [00:43<00:00, 10.39 examples/s]\n",
      "Map: 100%|██████████| 50/50 [00:02<00:00, 19.21 examples/s]\n",
      "Creating parquet from Arrow format: 100%|██████████| 1/1 [00:11<00:00, 11.87s/ba]\n",
      "Creating parquet from Arrow format: 100%|██████████| 1/1 [00:01<00:00,  1.23s/ba]\n"
     ]
    },
    {
     "name": "stdout",
     "output_type": "stream",
     "text": [
      "count: 585 x 500 = 292500\n"
     ]
    },
    {
     "name": "stderr",
     "output_type": "stream",
     "text": [
      "Map: 100%|██████████| 450/450 [00:40<00:00, 11.15 examples/s]\n",
      "Map: 100%|██████████| 50/50 [00:03<00:00, 13.59 examples/s]\n",
      "Creating parquet from Arrow format: 100%|██████████| 1/1 [00:11<00:00, 11.50s/ba]\n",
      "Creating parquet from Arrow format: 100%|██████████| 1/1 [00:01<00:00,  1.31s/ba]\n"
     ]
    },
    {
     "name": "stdout",
     "output_type": "stream",
     "text": [
      "count: 586 x 500 = 293000\n"
     ]
    },
    {
     "name": "stderr",
     "output_type": "stream",
     "text": [
      "Map: 100%|██████████| 450/450 [00:34<00:00, 12.97 examples/s]\n",
      "Map: 100%|██████████| 50/50 [00:02<00:00, 19.10 examples/s]\n",
      "Creating parquet from Arrow format: 100%|██████████| 1/1 [00:10<00:00, 10.90s/ba]\n",
      "Creating parquet from Arrow format: 100%|██████████| 1/1 [00:01<00:00,  1.23s/ba]\n"
     ]
    },
    {
     "name": "stdout",
     "output_type": "stream",
     "text": [
      "count: 587 x 500 = 293500\n"
     ]
    },
    {
     "name": "stderr",
     "output_type": "stream",
     "text": [
      "Map: 100%|██████████| 450/450 [00:36<00:00, 12.40 examples/s]\n",
      "Map: 100%|██████████| 50/50 [00:02<00:00, 18.98 examples/s]\n",
      "Creating parquet from Arrow format: 100%|██████████| 1/1 [00:11<00:00, 11.40s/ba]\n",
      "Creating parquet from Arrow format: 100%|██████████| 1/1 [00:01<00:00,  1.29s/ba]\n"
     ]
    },
    {
     "name": "stdout",
     "output_type": "stream",
     "text": [
      "count: 588 x 500 = 294000\n"
     ]
    },
    {
     "name": "stderr",
     "output_type": "stream",
     "text": [
      "Map: 100%|██████████| 450/450 [00:31<00:00, 14.33 examples/s]\n",
      "Map: 100%|██████████| 50/50 [00:03<00:00, 14.19 examples/s]\n",
      "Creating parquet from Arrow format: 100%|██████████| 1/1 [00:11<00:00, 11.90s/ba]\n",
      "Creating parquet from Arrow format: 100%|██████████| 1/1 [00:01<00:00,  1.35s/ba]\n"
     ]
    },
    {
     "name": "stdout",
     "output_type": "stream",
     "text": [
      "count: 589 x 500 = 294500\n"
     ]
    },
    {
     "name": "stderr",
     "output_type": "stream",
     "text": [
      "Map: 100%|██████████| 450/450 [00:33<00:00, 13.38 examples/s]\n",
      "Map: 100%|██████████| 50/50 [00:04<00:00, 10.54 examples/s]\n",
      "Creating parquet from Arrow format: 100%|██████████| 1/1 [00:11<00:00, 11.36s/ba]\n",
      "Creating parquet from Arrow format: 100%|██████████| 1/1 [00:01<00:00,  1.28s/ba]\n"
     ]
    },
    {
     "name": "stdout",
     "output_type": "stream",
     "text": [
      "count: 590 x 500 = 295000\n"
     ]
    },
    {
     "name": "stderr",
     "output_type": "stream",
     "text": [
      "Map: 100%|██████████| 450/450 [00:31<00:00, 14.48 examples/s]\n",
      "Map: 100%|██████████| 50/50 [00:02<00:00, 17.22 examples/s]\n",
      "Creating parquet from Arrow format: 100%|██████████| 1/1 [00:11<00:00, 11.54s/ba]\n",
      "Creating parquet from Arrow format: 100%|██████████| 1/1 [00:01<00:00,  1.26s/ba]\n"
     ]
    },
    {
     "name": "stdout",
     "output_type": "stream",
     "text": [
      "count: 591 x 500 = 295500\n"
     ]
    },
    {
     "name": "stderr",
     "output_type": "stream",
     "text": [
      "Map: 100%|██████████| 450/450 [00:27<00:00, 16.16 examples/s]\n",
      "Map: 100%|██████████| 50/50 [00:03<00:00, 15.76 examples/s]\n",
      "Creating parquet from Arrow format: 100%|██████████| 1/1 [00:11<00:00, 11.33s/ba]\n",
      "Creating parquet from Arrow format: 100%|██████████| 1/1 [00:01<00:00,  1.25s/ba]\n"
     ]
    },
    {
     "name": "stdout",
     "output_type": "stream",
     "text": [
      "count: 592 x 500 = 296000\n"
     ]
    },
    {
     "name": "stderr",
     "output_type": "stream",
     "text": [
      "Map: 100%|██████████| 450/450 [00:27<00:00, 16.64 examples/s]\n",
      "Map: 100%|██████████| 50/50 [00:02<00:00, 18.47 examples/s]\n",
      "Creating parquet from Arrow format: 100%|██████████| 1/1 [00:11<00:00, 11.41s/ba]\n",
      "Creating parquet from Arrow format: 100%|██████████| 1/1 [00:01<00:00,  1.21s/ba]\n"
     ]
    },
    {
     "name": "stdout",
     "output_type": "stream",
     "text": [
      "count: 593 x 500 = 296500\n"
     ]
    },
    {
     "name": "stderr",
     "output_type": "stream",
     "text": [
      "Map: 100%|██████████| 450/450 [00:27<00:00, 16.64 examples/s]\n",
      "Map: 100%|██████████| 50/50 [00:02<00:00, 21.00 examples/s]\n",
      "Creating parquet from Arrow format: 100%|██████████| 1/1 [00:11<00:00, 11.42s/ba]\n",
      "Creating parquet from Arrow format: 100%|██████████| 1/1 [00:01<00:00,  1.22s/ba]\n"
     ]
    },
    {
     "name": "stdout",
     "output_type": "stream",
     "text": [
      "count: 594 x 500 = 297000\n"
     ]
    },
    {
     "name": "stderr",
     "output_type": "stream",
     "text": [
      "Map: 100%|██████████| 450/450 [00:28<00:00, 15.53 examples/s]\n",
      "Map: 100%|██████████| 50/50 [00:02<00:00, 19.47 examples/s]\n",
      "Creating parquet from Arrow format: 100%|██████████| 1/1 [00:11<00:00, 11.34s/ba]\n",
      "Creating parquet from Arrow format: 100%|██████████| 1/1 [00:01<00:00,  1.26s/ba]\n"
     ]
    },
    {
     "name": "stdout",
     "output_type": "stream",
     "text": [
      "count: 595 x 500 = 297500\n"
     ]
    },
    {
     "name": "stderr",
     "output_type": "stream",
     "text": [
      "Map: 100%|██████████| 450/450 [00:29<00:00, 15.34 examples/s]\n",
      "Map: 100%|██████████| 50/50 [00:03<00:00, 13.41 examples/s]\n",
      "Creating parquet from Arrow format: 100%|██████████| 1/1 [00:11<00:00, 11.15s/ba]\n",
      "Creating parquet from Arrow format: 100%|██████████| 1/1 [00:01<00:00,  1.27s/ba]\n"
     ]
    },
    {
     "name": "stdout",
     "output_type": "stream",
     "text": [
      "count: 596 x 500 = 298000\n"
     ]
    },
    {
     "name": "stderr",
     "output_type": "stream",
     "text": [
      "Map: 100%|██████████| 450/450 [00:31<00:00, 14.42 examples/s]\n",
      "Map: 100%|██████████| 50/50 [00:02<00:00, 18.88 examples/s]\n",
      "Creating parquet from Arrow format: 100%|██████████| 1/1 [00:11<00:00, 11.33s/ba]\n",
      "Creating parquet from Arrow format: 100%|██████████| 1/1 [00:01<00:00,  1.23s/ba]\n"
     ]
    },
    {
     "name": "stdout",
     "output_type": "stream",
     "text": [
      "count: 597 x 500 = 298500\n"
     ]
    },
    {
     "name": "stderr",
     "output_type": "stream",
     "text": [
      "Map: 100%|██████████| 450/450 [00:35<00:00, 12.68 examples/s]\n",
      "Map: 100%|██████████| 50/50 [00:03<00:00, 14.56 examples/s]\n",
      "Creating parquet from Arrow format: 100%|██████████| 1/1 [00:11<00:00, 11.59s/ba]\n",
      "Creating parquet from Arrow format: 100%|██████████| 1/1 [00:01<00:00,  1.17s/ba]\n"
     ]
    },
    {
     "name": "stdout",
     "output_type": "stream",
     "text": [
      "count: 598 x 500 = 299000\n"
     ]
    },
    {
     "name": "stderr",
     "output_type": "stream",
     "text": [
      "Map: 100%|██████████| 450/450 [00:31<00:00, 14.09 examples/s]\n",
      "Map: 100%|██████████| 50/50 [00:02<00:00, 18.46 examples/s]\n",
      "Creating parquet from Arrow format: 100%|██████████| 1/1 [00:12<00:00, 12.55s/ba]\n",
      "Creating parquet from Arrow format: 100%|██████████| 1/1 [00:01<00:00,  1.28s/ba]\n"
     ]
    },
    {
     "name": "stdout",
     "output_type": "stream",
     "text": [
      "count: 599 x 500 = 299500\n"
     ]
    },
    {
     "name": "stderr",
     "output_type": "stream",
     "text": [
      "Map: 100%|██████████| 450/450 [00:31<00:00, 14.19 examples/s]\n",
      "Map: 100%|██████████| 50/50 [00:02<00:00, 20.94 examples/s]\n",
      "Creating parquet from Arrow format: 100%|██████████| 1/1 [00:11<00:00, 11.38s/ba]\n",
      "Creating parquet from Arrow format: 100%|██████████| 1/1 [00:01<00:00,  1.29s/ba]\n"
     ]
    },
    {
     "name": "stdout",
     "output_type": "stream",
     "text": [
      "count: 600 x 500 = 300000\n"
     ]
    },
    {
     "name": "stderr",
     "output_type": "stream",
     "text": [
      "Map: 100%|██████████| 450/450 [00:30<00:00, 14.98 examples/s]\n",
      "Map: 100%|██████████| 50/50 [00:05<00:00,  9.62 examples/s]\n",
      "Creating parquet from Arrow format: 100%|██████████| 1/1 [00:11<00:00, 11.11s/ba]\n",
      "Creating parquet from Arrow format: 100%|██████████| 1/1 [00:01<00:00,  1.28s/ba]\n"
     ]
    },
    {
     "name": "stdout",
     "output_type": "stream",
     "text": [
      "count: 601 x 500 = 300500\n"
     ]
    },
    {
     "name": "stderr",
     "output_type": "stream",
     "text": [
      "Map: 100%|██████████| 168/168 [00:14<00:00, 11.55 examples/s]\n",
      "Map: 100%|██████████| 19/19 [00:01<00:00, 17.29 examples/s]\n",
      "Creating parquet from Arrow format: 100%|██████████| 1/1 [00:04<00:00,  4.21s/ba]\n",
      "Creating parquet from Arrow format: 100%|██████████| 1/1 [00:00<00:00,  1.99ba/s]\n"
     ]
    },
    {
     "name": "stdout",
     "output_type": "stream",
     "text": [
      "count: 1 x 500 = 500\n"
     ]
    },
    {
     "name": "stderr",
     "output_type": "stream",
     "text": [
      "Map: 100%|██████████| 500/500 [01:28<00:00,  5.68 examples/s]\n",
      "Creating parquet from Arrow format: 100%|██████████| 1/1 [00:13<00:00, 13.76s/ba]\n"
     ]
    },
    {
     "name": "stdout",
     "output_type": "stream",
     "text": [
      "count: 2 x 500 = 1000\n"
     ]
    },
    {
     "name": "stderr",
     "output_type": "stream",
     "text": [
      "Map: 100%|██████████| 500/500 [01:22<00:00,  6.08 examples/s]\n",
      "Creating parquet from Arrow format: 100%|██████████| 1/1 [00:14<00:00, 14.47s/ba]\n"
     ]
    },
    {
     "name": "stdout",
     "output_type": "stream",
     "text": [
      "count: 3 x 500 = 1500\n"
     ]
    },
    {
     "name": "stderr",
     "output_type": "stream",
     "text": [
      "Map: 100%|██████████| 500/500 [01:25<00:00,  5.86 examples/s]\n",
      "Creating parquet from Arrow format: 100%|██████████| 1/1 [00:14<00:00, 14.70s/ba]\n"
     ]
    },
    {
     "name": "stdout",
     "output_type": "stream",
     "text": [
      "count: 4 x 500 = 2000\n"
     ]
    },
    {
     "name": "stderr",
     "output_type": "stream",
     "text": [
      "Map: 100%|██████████| 408/408 [01:10<00:00,  5.78 examples/s]\n",
      "Creating parquet from Arrow format: 100%|██████████| 1/1 [00:11<00:00, 11.41s/ba]\n"
     ]
    }
   ],
   "source": [
    "gen2 = dataset_generator_v2(test=False)\n",
    "idx = 1\n",
    "for batch in gen2:\n",
    "    batch[\"train\"].to_parquet(os.path.join(train_dataset_save_path, \"train_{}.parquet\".format(idx)))\n",
    "    batch[\"valid\"].to_parquet(os.path.join(valid_dataset_save_path, \"valid_{}.parquet\".format(idx)))\n",
    "    idx += 1\n",
    "\n",
    "gen2 = dataset_generator_v2(test=True)\n",
    "idx = 1\n",
    "for batch in gen2:\n",
    "    batch[\"test\"].to_parquet(os.path.join(test_dataset_save_path, \"test_{}.parquet\".format(idx)))\n",
    "    idx += 1\n"
   ]
  },
  {
   "cell_type": "markdown",
   "metadata": {},
   "source": [
    "300000 samples in train/validation dataset  \n",
    "2000 samples in test dataset"
   ]
  },
  {
   "cell_type": "code",
   "execution_count": 48,
   "metadata": {},
   "outputs": [
    {
     "data": {
      "text/plain": [
       "'\\ntmp_tokenizer = WhisperTokenizer.from_pretrained(\"openai/\" + whisper_model_string, language=\"Slovenian\", task=\"transcribe\", predict_timestamps=True)\\nlabels = tmp_tokenizer(\"Dober dan.\"+to_timestamp_token(32.0)).input_ids\\nprint(labels)\\n'"
      ]
     },
     "execution_count": 48,
     "metadata": {},
     "output_type": "execute_result"
    }
   ],
   "source": [
    "\"\"\"\n",
    "tmp_tokenizer = WhisperTokenizer.from_pretrained(\"openai/\" + whisper_model_string, language=\"Slovenian\", task=\"transcribe\", predict_timestamps=True)\n",
    "labels = tmp_tokenizer(\"Dober dan.\"+to_timestamp_token(32.0)).input_ids\n",
    "print(labels)\n",
    "\"\"\""
   ]
  }
 ],
 "metadata": {
  "kernelspec": {
   "display_name": "pt",
   "language": "python",
   "name": "python3"
  },
  "language_info": {
   "codemirror_mode": {
    "name": "ipython",
    "version": 3
   },
   "file_extension": ".py",
   "mimetype": "text/x-python",
   "name": "python",
   "nbconvert_exporter": "python",
   "pygments_lexer": "ipython3",
   "version": "3.11.5"
  }
 },
 "nbformat": 4,
 "nbformat_minor": 2
}
